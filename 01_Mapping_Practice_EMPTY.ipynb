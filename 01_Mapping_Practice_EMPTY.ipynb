{
 "cells": [
  {
   "cell_type": "markdown",
   "metadata": {
    "tags": []
   },
   "source": [
    "# __How to chech raw fastq quality and to map reads against a reference genome ?__ \n",
    "\n",
    "Created by C. Tranchant (DIADE-IRD), J. Orjuela (DIADE-IRD), F. Sabot (DIADE-IRD) and A. Dereeper (PHIM-IRD)\n",
    "\n",
    "***\n",
    "\n",
    "# <span style=\"color: #006E7F\">Table of contents</span>\n",
    "<a class=\"anchor\" id=\"home\"></a>\n",
    "\n",
    "[PRACTICE I - Getting dataset used during this training](#data)\n",
    "\n",
    "[PRACTICE II - checking the reads quality](#quality) \n",
    "\n",
    "[PRACTICE III - Mapping](#mapping) \n",
    "  \n",
    "   * [ Reference indexation](#refindex)\n",
    "   * [Run the mapping with `bwa mem`](#bwamem2-cmd)\n",
    "   * [Calculate stats from mapping `samtools flagstat`](#flagstats)\n",
    "   * [Convert sam into bam `samtools view`](#samtoolsview)\n",
    "   * [Generate a bam file that contains only the reads correctly paired mapped `samtools view`](#corrmap)\n",
    "   * [Indexing bam fil](#indexbam) \n",
    "   * [EXERCICE : MAP ALL SR WITH BWAMEM2](#mapallmem)\n",
    "\n",
    "</span>\n",
    "\n",
    "***\n"
   ]
  },
  {
   "cell_type": "markdown",
   "metadata": {},
   "source": [
    "# <span style=\"color:#006E7F\">PRACTICE I - Getting dataset used during this training<a class=\"anchor\" id=\"data\"></span>  \n",
    "\n",
    "### <span style=\"color: #4CACBC;\"> First go to your home directory and list the content of this directory</span>  \n"
   ]
  },
  {
   "cell_type": "code",
   "execution_count": null,
   "metadata": {},
   "outputs": [],
   "source": [
    "# go to work your home and list the directory\n",
    "cd /home/jovyan/\n",
    "ls"
   ]
  },
  {
   "cell_type": "markdown",
   "metadata": {},
   "source": [
    "To analyze sequencing data, we usually use a lot of bioinformatics softwares generating a lot of data. It's very important to manage and organize your data. We propose to organize our files and directories in this following way :\n",
    "\n",
    "PUT IMAGE\n",
    "\n",
    "Firstly, we are going to download data we use in this training.\n",
    "\n",
    "### <span style=\"color: #4CACBC;\"> Download sequencing data and the reference genome <a class=\"anchor\" id=\"download\"> - `wget` </span>  \n",
    "\n",
    "Data are available at the following url : https://itrop.ird.fr/sv-training/SV_DATA.tar.gz. \n"
   ]
  },
  {
   "cell_type": "code",
   "execution_count": null,
   "metadata": {
    "tags": []
   },
   "outputs": [],
   "source": [
    "# download available compressed DATA \n",
    "wget --no-check-certificat -rm -nH --cut-dirs=1 --reject=\"index.html*\" https://itrop.ird.fr/sv-training/SV_DATA.tar.gz\n",
    "# decompress data\n",
    "tar zxvf SV_DATA.tar.gz\n",
    "rm SV_DATA.tar.gz"
   ]
  },
  {
   "cell_type": "markdown",
   "metadata": {},
   "source": [
    "### <span style=\"color: #4CACBC;\"> List the content of your home directory and check that the directory SV_DATA have been created</span>  - `ls` \n"
   ]
  },
  {
   "cell_type": "code",
   "execution_count": null,
   "metadata": {
    "tags": []
   },
   "outputs": [],
   "source": [
    "ls /home/jovyan"
   ]
  },
  {
   "cell_type": "markdown",
   "metadata": {},
   "source": [
    "### <span style=\"color: #4CACBC;\"> List the content of the directory SV_DATA</span>  - `ls`"
   ]
  },
  {
   "cell_type": "code",
   "execution_count": null,
   "metadata": {
    "tags": []
   },
   "outputs": [],
   "source": [
    "ls /home/jovyan/SV_DATA"
   ]
  },
  {
   "cell_type": "markdown",
   "metadata": {
    "tags": []
   },
   "source": [
    "### <span style=\"color: #4CACBC;\"> Use the linux command `tree` on the directory SV_DATA</span>  \n",
    "\n",
    "`tree <PUT THE PATH OF THE DIRECTORY>`"
   ]
  },
  {
   "cell_type": "code",
   "execution_count": null,
   "metadata": {},
   "outputs": [],
   "source": [
    "tree /home/jovyan/SV_DATA"
   ]
  },
  {
   "cell_type": "markdown",
   "metadata": {
    "tags": []
   },
   "source": [
    "### <span style=\"color: #4CACBC;\"> List the content of the directory REF</span>  - `ls`"
   ]
  },
  {
   "cell_type": "code",
   "execution_count": null,
   "metadata": {},
   "outputs": [],
   "source": [
    "ls /home/jovyan/SV_DATA/REF"
   ]
  },
  {
   "cell_type": "markdown",
   "metadata": {},
   "source": [
    "What is the format of the file present in this directory ? What do you think this file contains?\n",
    "<br>\n",
    "How many sequences does this file contain? `grep`"
   ]
  },
  {
   "cell_type": "code",
   "execution_count": null,
   "metadata": {},
   "outputs": [],
   "source": []
  },
  {
   "cell_type": "markdown",
   "metadata": {
    "tags": []
   },
   "source": [
    "# <span style=\"color:#006E7F\"> PRACTICE II - Checking the reads quality <a class=\"anchor\" id=\"quality\"></span>  "
   ]
  },
  {
   "cell_type": "markdown",
   "metadata": {},
   "source": [
    "### <span style=\"color: #4CACBC;\"> Go into the directory SV_DATA/SHORT_READS and list the content of this directory - `cd` `ls`</span>  \n",
    "How many files does it contain ? What is the format ?"
   ]
  },
  {
   "cell_type": "code",
   "execution_count": null,
   "metadata": {},
   "outputs": [],
   "source": []
  },
  {
   "cell_type": "code",
   "execution_count": null,
   "metadata": {},
   "outputs": [],
   "source": []
  },
  {
   "cell_type": "markdown",
   "metadata": {},
   "source": [
    "\n",
    "### <span style=\"color: #4CACBC;\"> List the 10 first lines of one file</span>  - `head` `zcat` "
   ]
  },
  {
   "cell_type": "code",
   "execution_count": null,
   "metadata": {},
   "outputs": [],
   "source": []
  },
  {
   "cell_type": "markdown",
   "metadata": {
    "tags": []
   },
   "source": [
    "### <span style=\"color: #4CACBC;\"> Go into your home directory and create the directory 1-FASTQC</span>  "
   ]
  },
  {
   "cell_type": "code",
   "execution_count": null,
   "metadata": {},
   "outputs": [],
   "source": []
  },
  {
   "cell_type": "markdown",
   "metadata": {
    "tags": []
   },
   "source": [
    "### <span style=\"color: #4CACBC;\"> Run `fastqc` on all raw fastq</span>  "
   ]
  },
  {
   "cell_type": "code",
   "execution_count": null,
   "metadata": {},
   "outputs": [],
   "source": []
  },
  {
   "cell_type": "markdown",
   "metadata": {
    "tags": []
   },
   "source": [
    "### <span style=\"color: #4CACBC;\"> Run `MultiQC`</span>  \n",
    "\n",
    "* go into the directory 1-FASTQC\n",
    "* run MultiQC into this directory"
   ]
  },
  {
   "cell_type": "code",
   "execution_count": null,
   "metadata": {},
   "outputs": [],
   "source": []
  },
  {
   "cell_type": "markdown",
   "metadata": {
    "tags": []
   },
   "source": []
  },
  {
   "cell_type": "markdown",
   "metadata": {
    "tags": []
   },
   "source": [
    "* transfer the directory `1-FASTQC` on your laptop\n",
    "* let's have a look at the files generated by these two last tools :\n",
    "> only two html reports of fastqc  \n",
    "> the multiQC report\n",
    "\n",
    "# <span style=\"color:#006E7F\">__PRACTICE III -  MAPPING__ <a class=\"anchor\" id=\"mapping\"></span>  "
   ]
  },
  {
   "cell_type": "markdown",
   "metadata": {},
   "source": [
    "In this practice, we are going to map short reads against a reference. We will use reference.fasta as reference genome and ILLUMINA READS from your favorite CLONE.\n",
    "\n",
    "2 steps are required : \n",
    "- **Reference indexing**: `bwa index reference`\n",
    "- **Mapping in itself**: `bwa mem  -R READGROUP [options] reference fastq1 fastq2 > out.sam`"
   ]
  },
  {
   "cell_type": "markdown",
   "metadata": {},
   "source": [
    "## <span style=\"color: #4CACBC;\"> Reference indexation  <a class=\"anchor\" id=\"refindex\"></span>  "
   ]
  },
  {
   "cell_type": "markdown",
   "metadata": {},
   "source": [
    "Before mapping we need index reference file! Check bwa-mem2 index command line."
   ]
  },
  {
   "cell_type": "code",
   "execution_count": null,
   "metadata": {},
   "outputs": [],
   "source": [
    "cd ~/SV_DATA/REF"
   ]
  },
  {
   "cell_type": "code",
   "execution_count": null,
   "metadata": {
    "tags": []
   },
   "outputs": [],
   "source": [
    "bwa-mem2 index reference.fasta"
   ]
  },
  {
   "cell_type": "markdown",
   "metadata": {},
   "source": [
    "### <span style=\"color: #4CACBC;\">Check that the indexes have been created </span>  "
   ]
  },
  {
   "cell_type": "code",
   "execution_count": null,
   "metadata": {
    "tags": []
   },
   "outputs": [],
   "source": [
    "ls -lrt /home/jovyan"
   ]
  },
  {
   "cell_type": "markdown",
   "metadata": {},
   "source": [
    "### <span style=\"color: #4CACBC;\"> Create the `2-MAPPING` directory that will contain files generated by bwa-mem2 to perform mapping</span>  "
   ]
  },
  {
   "cell_type": "code",
   "execution_count": null,
   "metadata": {},
   "outputs": [],
   "source": [
    "mkdir -p ~/2-MAPPING"
   ]
  },
  {
   "cell_type": "markdown",
   "metadata": {},
   "source": [
    "## <span style=\"color: #4CACBC;\"> Let's map now but only WITH READS FROM ONLY ONE CLONE </span>  \n",
    "\n",
    "* Go into the directory 2-MAPPING"
   ]
  },
  {
   "cell_type": "code",
   "execution_count": null,
   "metadata": {
    "tags": []
   },
   "outputs": [],
   "source": [
    "cd ~/2-MAPPING"
   ]
  },
  {
   "cell_type": "markdown",
   "metadata": {},
   "source": [
    "## <span style=\"color: #4CACBC;\"> Run the mapping with `bwa mem2` <a class=\"anchor\" id=\"bwamem2-cmd\"></span>  "
   ]
  },
  {
   "cell_type": "code",
   "execution_count": null,
   "metadata": {
    "tags": []
   },
   "outputs": [],
   "source": [
    "bwa-mem2 mem -M -t 8 -R '@RG\\tID:clone_10\\tSM:clone_10\\tPL:Illumina'  ../SV_DATA/REF/reference.fasta ../SV_DATA/SHORT_READS/Clone10_R1.fastq.gz ../SV_DATA/SHORT_READS/Clone10_R2.fastq.gz -o Clone10.sam"
   ]
  },
  {
   "cell_type": "markdown",
   "metadata": {
    "tags": []
   },
   "source": [
    "### <span style=\"color: #4CACBC;\">Check that the file `.sam` have been created by `bwa mem` </span>  \n"
   ]
  },
  {
   "cell_type": "code",
   "execution_count": null,
   "metadata": {
    "tags": []
   },
   "outputs": [],
   "source": []
  },
  {
   "cell_type": "markdown",
   "metadata": {},
   "source": [
    "### <span style=\"color: #4CACBC;\">Display the first and the end of the sam file just created </span>  "
   ]
  },
  {
   "cell_type": "code",
   "execution_count": null,
   "metadata": {
    "tags": []
   },
   "outputs": [],
   "source": []
  },
  {
   "cell_type": "code",
   "execution_count": null,
   "metadata": {
    "tags": []
   },
   "outputs": [],
   "source": []
  },
  {
   "cell_type": "markdown",
   "metadata": {},
   "source": [
    "## <span style=\"color: #4CACBC;\"> Convert sam into bam `samtools view` <a class=\"anchor\" id=\"samtoolsview\"></span>  \n"
   ]
  },
  {
   "cell_type": "code",
   "execution_count": null,
   "metadata": {
    "tags": []
   },
   "outputs": [],
   "source": [
    "samtools view -h -b -S Clone10.sam  -o Clone10.bam"
   ]
  },
  {
   "cell_type": "markdown",
   "metadata": {},
   "source": [
    "#### Check that the bam file have been created \n",
    "\n",
    "* Have a look at the filesize of the sam and bam files.\n",
    "* Remove the sam file "
   ]
  },
  {
   "cell_type": "code",
   "execution_count": null,
   "metadata": {
    "tags": []
   },
   "outputs": [],
   "source": [
    "ls -lh\n",
    "rm Clone$i.sam"
   ]
  },
  {
   "cell_type": "markdown",
   "metadata": {},
   "source": [
    "## <span style=\"color: #4CACBC;\"> Calculate stats from mapping `samtools flagstat`<a class=\"anchor\" id=\"flagstats\"></span>   "
   ]
  },
  {
   "cell_type": "code",
   "execution_count": null,
   "metadata": {},
   "outputs": [],
   "source": [
    "samtools flagstat Clone10.bam"
   ]
  },
  {
   "cell_type": "markdown",
   "metadata": {},
   "source": [
    "### <span style=\"color: #4CACBC;\"> Display the content of the flagstat file</span>  \n"
   ]
  },
  {
   "cell_type": "code",
   "execution_count": null,
   "metadata": {
    "tags": []
   },
   "outputs": [],
   "source": []
  },
  {
   "cell_type": "markdown",
   "metadata": {},
   "source": [
    "## <span style=\"color: #4CACBC;\"> Generate a bam file that contains only the reads correctly paired mapped `samtools view`<a class=\"anchor\" id=\"corrmap\"></span>   \n",
    "\n",
    "https://broadinstitute.github.io/picard/explain-flags.html"
   ]
  },
  {
   "cell_type": "code",
   "execution_count": null,
   "metadata": {},
   "outputs": [],
   "source": [
    "samtools view -h -b -f2 Clone10.bam -o Clone10.f2.paired.bam"
   ]
  },
  {
   "cell_type": "markdown",
   "metadata": {
    "tags": []
   },
   "source": [
    "## <span style=\"color: #4CACBC;\"> Sorting final bam </span>  \n",
    "\n",
    "* Generate the bam file ordered\n",
    "* Check that the new bam file have been created\n",
    "* Remove the bam file previously created (Clone$i.mappedpaired.bam)"
   ]
  },
  {
   "cell_type": "code",
   "execution_count": null,
   "metadata": {},
   "outputs": [],
   "source": [
    "samtools sort  Clone10.f2.paired.bam  -o Clone10.f2.paired.sorted.bam"
   ]
  },
  {
   "cell_type": "code",
   "execution_count": null,
   "metadata": {},
   "outputs": [],
   "source": []
  },
  {
   "cell_type": "code",
   "execution_count": null,
   "metadata": {},
   "outputs": [],
   "source": []
  },
  {
   "cell_type": "markdown",
   "metadata": {
    "tags": []
   },
   "source": [
    "## <span style=\"color: #4CACBC;\"> Indexing bam file<a class=\"anchor\" id=\"indexbam\"></span>   "
   ]
  },
  {
   "cell_type": "code",
   "execution_count": null,
   "metadata": {},
   "outputs": [],
   "source": [
    "samtools index Clone$i.paired.sorted.bam"
   ]
  },
  {
   "cell_type": "code",
   "execution_count": null,
   "metadata": {
    "tags": []
   },
   "outputs": [],
   "source": [
    "ls -lrt"
   ]
  },
  {
   "cell_type": "markdown",
   "metadata": {
    "tags": []
   },
   "source": [
    "## <span style=\"color: #4CACBC;\"> => Let's map with data from all clones using a loop for mapping, with a single folder per sample<a class=\"anchor\" id=\"mapallminimap\"></span>   "
   ]
  },
  {
   "cell_type": "code",
   "execution_count": null,
   "metadata": {
    "tags": []
   },
   "outputs": [],
   "source": []
  },
  {
   "cell_type": "markdown",
   "metadata": {
    "tags": []
   },
   "source": [
    "### <span style=\"color: #4CACBC;\"> Declare important variables</span>  \n",
    "\n",
    "We are going to set up bash variables with the path to our data.We set a bash variable like this : `var=\"value\"`\n",
    "and call it as: `echo $var`\n"
   ]
  },
  {
   "cell_type": "code",
   "execution_count": null,
   "metadata": {},
   "outputs": [],
   "source": [
    "cd \n",
    "\n",
    "for i in {1..10}; \n",
    " do \n",
    "\n",
    " bwa-mem2 mem  -M -t 8 -R \"@RG\\tID:clone_${i}\\tSM:clone_${i}\\tPL:Illumina\"  ../SV_DATA/REF/reference.fasta ../SV_DATA/SHORT_READS/Clone${i}_R1.fastq.gz ../SV_DATA/SHORT_READS/Clone${i}_R2.fastq.gz -o  Clone${i}.sam\n",
    " samtools view -h -b -S -@6 Clone${i}.sam  -o Clone${i}.bam\n",
    " rm Clone${i}.sam\n",
    " samtools flagstat Clone${i}.bam > Clone${i}.flagstat\n",
    " samtools view -h -f2 -b -@6 Clone${i}.bam -o Clone${i}.f2.paired.bam\n",
    " samtools sort  Clone${i}.f2.paired.bam -o Clone${i}.f2.paired.sorted.bam\n",
    " rm Clone${i}.f2.paired.bam\n",
    " samtools index Clone${i}.f2.paired.sorted.bam\n",
    " done;\n"
   ]
  }
 ],
 "metadata": {
  "kernelspec": {
   "display_name": "Bash",
   "language": "bash",
   "name": "bash"
  },
  "language_info": {
   "codemirror_mode": "shell",
   "file_extension": ".sh",
   "mimetype": "text/x-sh",
   "name": "bash"
  }
 },
 "nbformat": 4,
 "nbformat_minor": 4
}
