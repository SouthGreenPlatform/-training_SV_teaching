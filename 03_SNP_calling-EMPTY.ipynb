{
 "cells": [
  {
   "cell_type": "markdown",
   "id": "6be1a832-ced2-4cfa-94bf-f23eb6558982",
   "metadata": {},
   "source": [
    "# SNP calling\n",
    "\n",
    "Created by C. Tranchant (DIADE-IRD), J. Orjuela (DIADE-IRD), F. Sabot (DIADE-IRD) and A. Dereeper (PHIM-IRD)\n",
    "\n",
    "\n",
    "***\n",
    "\n",
    "# <span style=\"color: #006E7F\">Table of contents</span>\n",
    "<a class=\"anchor\" id=\"home\"></a>\n",
    "\n",
    "[I - Preparing data](#data)\n",
    "\n",
    "[II - SNP CALLING USING `GATK`](#gatk) \n",
    "   * [Count the number of variants with `bcftools stat`  ](#bcftools)\n",
    " \n",
    "\n",
    "***"
   ]
  },
  {
   "cell_type": "markdown",
   "id": "895bacef-5993-46e5-ba43-86797d5a1ea0",
   "metadata": {
    "tags": []
   },
   "source": [
    "# <span style=\"color:#006E7F\">__I - Preparing data__ <a class=\"anchor\" id=\"data\"></span>  \n",
    "\n",
    "### <span style=\"color: #4CACBC;\"> Create the directory `3-SNP` into your home directory </span>  \n"
   ]
  },
  {
   "cell_type": "code",
   "execution_count": 2,
   "id": "fceac7fa-6c14-41f3-bccc-492edca10f06",
   "metadata": {},
   "outputs": [
    {
     "name": "stdout",
     "output_type": "stream",
     "text": [
      "/home/christine/Documents/Formation/training_SV_teaching\n"
     ]
    }
   ],
   "source": [
    "# create the directory \n",
    "mkdir -P /home/jovyan/3-SNP"
   ]
  },
  {
   "cell_type": "markdown",
   "id": "d2124619-f74b-4518-8617-77970392ffdd",
   "metadata": {
    "tags": []
   },
   "source": [
    "### <span style=\"color: #4CACBC;\"> Go into the directory `3-SNP`  </span>  \n"
   ]
  },
  {
   "cell_type": "code",
   "execution_count": 4,
   "id": "b3d54ee9-36b7-42c3-be33-dcb48a6cd2a6",
   "metadata": {},
   "outputs": [
    {
     "name": "stdout",
     "output_type": "stream",
     "text": [
      "bash: cd: /home/christine/3-SNP: Aucun fichier ou dossier de ce type\n"
     ]
    },
    {
     "ename": "",
     "evalue": "1",
     "output_type": "error",
     "traceback": []
    }
   ],
   "source": [
    "cd ~/3-SNP"
   ]
  },
  {
   "cell_type": "markdown",
   "id": "b7861d8a-56af-4ed9-8b46-3d5583931a6b",
   "metadata": {},
   "source": [
    "# <span style=\"color:#006E7F\"> II - SNP CALLING USING `bcftools` <a class=\"anchor\" id=\"gatk\"></span>  \n",
    "    \n",
    "We test SNP calling protocol only with two clones before running on all samples !"
   ]
  },
  {
   "cell_type": "code",
   "execution_count": null,
   "id": "a1d88e71-2d24-46c0-8247-f78152605bbf",
   "metadata": {},
   "outputs": [],
   "source": [
    "#https://wikis.utexas.edu/display/bioiteam/Single+Nucleotide+Variant+%28SNV%29+calling+Tutorial+GVA2021\n"
   ]
  },
  {
   "cell_type": "markdown",
   "id": "8836759d-5737-4dba-ae5f-cf81a1485a8b",
   "metadata": {
    "tags": []
   },
   "source": [
    "## <span style=\"color:#006E7F\">Indexing reference with `samtools faidx`  <a class=\"anchor\" id=\"indexref\"></span>  "
   ]
  },
  {
   "cell_type": "code",
   "execution_count": null,
   "id": "9a944e78-53d4-44ea-93b8-9fc19b99219f",
   "metadata": {
    "tags": []
   },
   "outputs": [],
   "source": [
    "samtools faidx /home/jovyan/SV_DATA/REF/reference.fasta"
   ]
  },
  {
   "cell_type": "markdown",
   "id": "85dd67e1-6696-4c37-af1e-ca381a34fc68",
   "metadata": {
    "tags": []
   },
   "source": [
    "###  <span style=\"color:#006E7F\">Generate a bcf file (BCF format) `using bcftools mpileup` from only two bam to start </span>  "
   ]
  },
  {
   "cell_type": "code",
   "execution_count": null,
   "id": "a3f2f15f-a724-4e68-9eff-29d6a9995648",
   "metadata": {},
   "outputs": [],
   "source": [
    "bcftools mpileup --threads 6 -O u -f ../SV_DATA/REF/reference.fasta ../2-MAPPING/Clone8.f2.paired.sorted.bam ../2-MAPPING/Clone10.f2.paired.sorted.bam -o clone8-10.bcf"
   ]
  },
  {
   "cell_type": "markdown",
   "id": "70abf86f-0f30-4a37-b25f-b97e546de89e",
   "metadata": {
    "tags": []
   },
   "source": [
    "###  <span style=\"color:#006E7F\">Perform the calling  using `bcftools call` for only two clones to start </span>  "
   ]
  },
  {
   "cell_type": "code",
   "execution_count": null,
   "id": "8649629c-f364-4b95-80aa-b473fc06e6e5",
   "metadata": {},
   "outputs": [],
   "source": [
    "bcftools call --threads 6 -v -c ./clone8-10.bcf -o clone8-10.vcf"
   ]
  },
  {
   "cell_type": "markdown",
   "id": "07a52085-ad7b-4833-b8c4-845085a2ff23",
   "metadata": {
    "tags": []
   },
   "source": [
    "## <span style=\"color:#006E7F\">`for loop`<a class=\"anchor\" id=\"combine\"></span>  "
   ]
  },
  {
   "cell_type": "code",
   "execution_count": null,
   "id": "6afa0781-11db-4c1a-ad29-5d8c4dbe1efd",
   "metadata": {
    "tags": []
   },
   "outputs": [],
   "source": [
    "BAM_ILL=\"/home/jovyan/2-MAPPING\"\n",
    "VCF_DIR=\"/home/jovyan/3-SNP\"\n",
    "REF=\"/home/jovyan/SV_DATA/REF/reference.fasta\"\n",
    "\n",
    "# change of work directory\n",
    "cd $VCF_DIR\n",
    "# Loop to inflate the --variant option\n",
    "OPTION=\"\"\n",
    "for i in {1..10}\n",
    "do\n",
    "    OPTION=\"${OPTION} ${BAM_ILL}/Clone${i}.f2.paired.sorted.bam\"\n",
    "done\n",
    "echo bcftools mpileup --threads 6 -O u -f $REF $OPTION -o ${VCF_DIR}/clone1-10.bcf\n",
    "bcftools mpileup --threads 6 -O u -f $REF $OPTION -o ${VCF_DIR}/clone1-10.bcf\n",
    "bcftools call --threads 6 -v -c ${VCF_DIR}/clone1-10.bcf -o ${VCF_DIR}/clone1-10.vcf"
   ]
  },
  {
   "cell_type": "markdown",
   "id": "71d2f82d-dfc9-45ef-bca4-c186c356b4fe",
   "metadata": {},
   "source": [
    "### <span style=\"color:#006E7F\">Have a Look to the vcf created <a class=\"anchor\" id=\"combine\"></span> "
   ]
  },
  {
   "cell_type": "code",
   "execution_count": null,
   "id": "9dbd61ee-0e7d-4bda-bc26-bfeb0830193f",
   "metadata": {
    "tags": []
   },
   "outputs": [],
   "source": [
    "head clone1-10.vcf"
   ]
  },
  {
   "cell_type": "code",
   "execution_count": null,
   "id": "9fa3f19b-024b-41ad-a311-2f0bd8755dd3",
   "metadata": {},
   "outputs": [],
   "source": [
    "tail clone1-10.vcf"
   ]
  }
 ],
 "metadata": {
  "kernelspec": {
   "display_name": "Bash",
   "language": "bash",
   "name": "bash"
  },
  "language_info": {
   "codemirror_mode": "shell",
   "file_extension": ".sh",
   "mimetype": "text/x-sh",
   "name": "bash"
  }
 },
 "nbformat": 4,
 "nbformat_minor": 5
}
