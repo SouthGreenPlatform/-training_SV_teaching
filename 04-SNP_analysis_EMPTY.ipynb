{
 "cells": [
  {
   "cell_type": "markdown",
   "id": "d015209b-0d23-4c85-994c-79b3535c75a3",
   "metadata": {},
   "source": [
    "# <span style=\"color:#006E7F\">  <center> __DAY 2 : How to analyze vcf results ?__ </center> </span>\n",
    "\n",
    "Created by C. Tranchant (DIADE-IRD), J. Orjuela (DIADE-IRD), F. Sabot (DIADE-IRD) and A. Dereeper (PHIM-IRD)\n",
    "\n",
    "***\n",
    "\n",
    "# <span style=\"color: #006E7F\">Table of contents</span>\n",
    "<a class=\"anchor\" id=\"home\"></a>\n",
    "\n",
    "[I - Get some basic stats from vcf files](#statvcf)\n",
    "\n",
    "[II - FILTERING VCF](#vcffiltering)\n",
    "\n",
    "</span>\n",
    "\n",
    "***\n",
    "\n"
   ]
  },
  {
   "cell_type": "markdown",
   "id": "18a5bfca-2b96-49b1-bdc0-4d174f9f7c3e",
   "metadata": {},
   "source": [
    "## <span style=\"color:#006E7F\">__I. Get some basic stats from vcf files__ <a class=\"anchor\" id=\"statvcf\"></a></span> \n",
    "\n",
    "In this exercise, we are going to work with the whole vcf generated from the 20 clones.\n",
    "\n",
    "#### Firstly, download the directory that contains the vcf into your home directory  `work` and decompress it\n",
    "link : https://itrop.ird.fr/sv-training/VCF_CLONES.tar.gz"
   ]
  },
  {
   "cell_type": "code",
   "execution_count": null,
   "id": "d4120b59-c2e5-4c54-8787-a8f755fbbb70",
   "metadata": {},
   "outputs": [],
   "source": [
    "%%bash\n",
    "cd /home/jovyan/work/\n",
    "..."
   ]
  },
  {
   "cell_type": "markdown",
   "id": "304d9ab0-294c-4307-8cb7-a14154fb10cb",
   "metadata": {},
   "source": [
    "### <span style=\"color: #4CACBC;\">First go into the directory that containsthe  vcf file to analyze  </span> \n",
    "\n",
    "* then list the content of this directory\n"
   ]
  },
  {
   "cell_type": "code",
   "execution_count": null,
   "id": "d0c0a6de-6fc7-48bf-ab3a-278590402d1c",
   "metadata": {},
   "outputs": [],
   "source": []
  },
  {
   "cell_type": "code",
   "execution_count": null,
   "id": "33b3039d-ef19-4766-af89-8e831266fca1",
   "metadata": {},
   "outputs": [],
   "source": []
  },
  {
   "cell_type": "markdown",
   "id": "aa5e1b2b-82f7-4710-b84f-06545badbfa9",
   "metadata": {},
   "source": [
    "### <span style=\"color: #4CACBC;\">Count the number of variants with `bcftools stat`<a class=\"anchor\" id=\"bcftools\"></a></span> \n",
    "\n",
    "* run the bcftools stats on the vcf file and save the result into the file `output.vcf.stat`\n",
    "* check that the file have been correctly created and display the 35 first lines of this file\n",
    "* How many samples were used for this SNP analysis ?\n",
    "* How many SNPs were detected ?"
   ]
  },
  {
   "cell_type": "code",
   "execution_count": null,
   "id": "e005df0c-3ac1-4c29-930e-8c4cda3036a4",
   "metadata": {},
   "outputs": [],
   "source": [
    "%%bash\n",
    "bcftools ..."
   ]
  },
  {
   "cell_type": "markdown",
   "id": "b94fd74a-8af5-4e13-a1b2-55efac3e3626",
   "metadata": {},
   "source": [
    "#### Display the first lines of the stat file"
   ]
  },
  {
   "cell_type": "code",
   "execution_count": null,
   "id": "6350543e-0c09-42fa-a4ac-9bb93d03f711",
   "metadata": {},
   "outputs": [],
   "source": [
    "%%bash\n",
    "head -n 35 output.vcf.stat"
   ]
  },
  {
   "cell_type": "markdown",
   "id": "74b53089-03fd-4d0a-a710-712acb2c8268",
   "metadata": {},
   "source": [
    "### <span style=\"color: #4CACBC;\">Generating statistics from a VCF to determine how to set filters on it<a class=\"anchor\" id=\"vcffilters\"></a></span> `vcftools`\n",
    "\n",
    "We will generate more statistics from a VCF using vcftools (LINK MANUAL), a very useful and fast program for handling vcf files \n",
    "to easily calculate these statistics in order to better define filters we will apply and to get an idea of how to set such filtering thresholds. \n",
    "\n",
    "The main information we will consider are:\n",
    "* Depth: Usually, we filter SNP with a minimum and maximum depth. We use a minimum depth cutoffs to remove false positive calls and to keep higher quality calls too. \n",
    "A maximum cut off allow to remove regions with very, very high read depths such as repetitive regions.\n",
    "* Quality Genotype quality : With this filter, we should not trust any genotype with a Phred score below 20 which suggests a less than 99% accuracy.\n",
    "* Minor allele frequency MAF can cause big problems with SNP calls - and also inflate statistical estimates downstream. Ideally you want an idea of the distribution of your \n",
    "allelic frequencies but 0.05 to 0.10 is a reasonable cut-off. You should keep in mind however that some analyses, particularly demographic inference can be biased by MAF thresholds.\n",
    "* Missing data How much missing data are you willing to tolerate? It will depend on the study but typically any site with >25% missing data should be dropped.\n",
    "* biallelic, heterozygosity...\n",
    "\n",
    "In this training, we will just display quality and depth distribution... but you should do on each value filterd.\n",
    "\n",
    "#### <span style=\"color: #4CACBC;\">Mean depth per individual and per site<a class=\"anchor\" id=\"depthvcf\"></a></span> `--depth, --site-mean-depth`\n",
    "\n",
    "* run vcftool with the correct options\n",
    "* check that the files have been created and display the first lines"
   ]
  },
  {
   "cell_type": "code",
   "execution_count": null,
   "id": "f421cbdc-d195-4050-9b7e-a4dbb4b357ad",
   "metadata": {},
   "outputs": [],
   "source": [
    "%%bash\n",
    "vcftools --vcf output.vcf --depth --out depthi\n",
    "vcftools --vcf output.vcf --site-mean-depth --out depths"
   ]
  },
  {
   "cell_type": "markdown",
   "id": "63e60db6-d747-4a44-a17c-d4f2ddffe9f1",
   "metadata": {},
   "source": [
    "#### Display the first lines of the files just created by vcftools"
   ]
  },
  {
   "cell_type": "code",
   "execution_count": null,
   "id": "fbaae264-89ce-4f6d-ac2c-d304521f9447",
   "metadata": {},
   "outputs": [],
   "source": [
    "%%bash\n"
   ]
  },
  {
   "cell_type": "markdown",
   "id": "a9641f84-af45-4137-8f60-6016edd56596",
   "metadata": {},
   "source": [
    "#### <span style=\"color: #4CACBC;\">Extracting quality per site<a class=\"anchor\" id=\"depthvcf\"></a></span>  `--site-quality`\n",
    "\n",
    "* run vcftool with the correct options\n",
    "* check that the files have been created and display the first lines"
   ]
  },
  {
   "cell_type": "code",
   "execution_count": null,
   "id": "d16f68ef-956a-4385-917b-ad8285965021",
   "metadata": {},
   "outputs": [],
   "source": [
    "%%bash\n",
    "vcftools ..."
   ]
  },
  {
   "cell_type": "markdown",
   "id": "7e0584c8-e0be-429f-a495-a795d115853c",
   "metadata": {},
   "source": [
    "#### Display the first lines of the file just created by vcftools"
   ]
  },
  {
   "cell_type": "code",
   "execution_count": null,
   "id": "861692d3-23ed-4848-893a-77981a00fef2",
   "metadata": {},
   "outputs": [],
   "source": [
    "%%bash\n"
   ]
  },
  {
   "cell_type": "markdown",
   "id": "4064a0bf-ccae-4764-984e-7402fe080f7e",
   "metadata": {},
   "source": [
    "#### Display the first lines of the two files just created by vcftools"
   ]
  },
  {
   "cell_type": "code",
   "execution_count": null,
   "id": "b8ce2174-8791-4588-b91b-1a1d83c09d21",
   "metadata": {},
   "outputs": [],
   "source": [
    "%%bash\n"
   ]
  },
  {
   "cell_type": "markdown",
   "id": "2de89286-b5c4-4c32-964e-45aca7ae12bc",
   "metadata": {},
   "source": [
    "### <span style=\"color: #4CACBC;\">Generating density plot QUAL & DEPTH<a class=\"anchor\" id=\"vcfplot\"></a></span> \n",
    "\n",
    "#### <span style=\"color: #4CACBC;\">Plotting quality per site<a class=\"anchor\" id=\"qualplot\"></a></span> "
   ]
  },
  {
   "cell_type": "code",
   "execution_count": null,
   "id": "307877db-c85c-47de-a16f-6c38ab9e3e70",
   "metadata": {},
   "outputs": [],
   "source": [
    "import os\n",
    "import pandas as pd\n",
    "\n",
    "qual_file=\"qual.lqual\"\n",
    "\n",
    "# import the file with pandas \n",
    "PUT CODE LINE HERE\n",
    "\n",
    "# print the dataframe \n",
    "PUT CODE LINE HERE\n",
    "\n",
    "# print some stats about the QUAL column\n",
    "PUT CODE LINE HERE"
   ]
  },
  {
   "cell_type": "code",
   "execution_count": null,
   "id": "c3dc4b15-7c35-4b40-acb7-30aeeece268b",
   "metadata": {},
   "outputs": [],
   "source": [
    "# Plot with seaborn\n",
    "import matplotlib.pyplot as plt\n",
    "import seaborn as sns\n",
    "\n",
    "sns.kdeplot(x=\"QUAL\", data=df_qual)"
   ]
  },
  {
   "cell_type": "code",
   "execution_count": null,
   "id": "2fed282d-9cc3-403b-b627-1f73e6047d4c",
   "metadata": {},
   "outputs": [],
   "source": [
    "# Plot with seaborn\n",
    "import matplotlib.pyplot as plt\n",
    "import seaborn as sns\n",
    "\n",
    "\n",
    "plt.figure(figsize = (15,8))\n",
    "ax=sns.kdeplot(x=\"QUAL\", data=df_qual[df_qual.QUAL<10000])\n",
    "ax.set_title(\"PUT A TITLE\")\n",
    "ax.set_xlabel(\"PUT A X-AXIS LABEL\")\n",
    "ax.set_ylabel(\"PUT A Y-AXIS LABEL\")"
   ]
  },
  {
   "cell_type": "markdown",
   "id": "ad84b027-b453-44d8-8f26-22bf372e1e53",
   "metadata": {},
   "source": [
    "#### <span style=\"color: #4CACBC;\">Plotting Mean depth per site<a class=\"anchor\" id=\"depthplot\"></a></span> "
   ]
  },
  {
   "cell_type": "code",
   "execution_count": null,
   "id": "f4c5181c-f1fb-42b3-86a2-ddfc93218cbe",
   "metadata": {},
   "outputs": [],
   "source": [
    "depth_file=\"depths.ldepth.mean\"\n",
    "# import the file with pandas \n",
    "PUT CODE LINE HERE\n",
    "\n",
    "# print the dataframe \n",
    "PUT CODE LINE HERE\n",
    "\n",
    "# print some stats about all the columns\n",
    "PUT CODE LINE HERE"
   ]
  },
  {
   "cell_type": "code",
   "execution_count": null,
   "id": "2aacd4ac-01d3-4d99-b64e-c9a68754211c",
   "metadata": {},
   "outputs": [],
   "source": [
    "# Plot with seaborn\n",
    "import matplotlib.pyplot as plt\n",
    "import seaborn as sns\n",
    "\n",
    "# Density plot of the column MEAN_DEPTH\n"
   ]
  },
  {
   "cell_type": "code",
   "execution_count": null,
   "id": "5ddfc616-e990-4fce-a0bb-2d534445e8e8",
   "metadata": {},
   "outputs": [],
   "source": [
    "# Plot with seaborn\n",
    "import matplotlib.pyplot as plt\n",
    "import seaborn as sns\n",
    "\n",
    "# Density plot of the column MEAN_DEPTH WITH VALUE < 50"
   ]
  },
  {
   "cell_type": "markdown",
   "id": "788df901-4e83-4102-95c5-c097e6d72171",
   "metadata": {},
   "source": [
    "### <span style=\"color: #4CACBC;\">III - FILTERING VCF <a class=\"anchor\" id=\"vcffiltering\"></a></span> \n"
   ]
  },
  {
   "cell_type": "markdown",
   "id": "0ab0fde3-23e2-46c9-a54a-cd84c6960fc5",
   "metadata": {},
   "source": [
    "#### Which filters ?\n",
    "\n",
    "Here, we will apply on the vcf the following filters :\n",
    "\n",
    "* QUAL > 300\n",
    "* DP > 30 and DP < 400\n",
    "* Less than 3 SNPs into a window of 10pb\n",
    "\n",
    "The threshodl of each filter depends on the SNP analysis (sample number, sequencing depth).\n",
    "\n",
    "In a second step, according the following analysys (eg: population genomics), usually, we will apply other filters such as :\n",
    "* removing missing data\n",
    "* keeping only biallellic\n",
    "* heterozygosity\n",
    "    \n",
    "#### Select only the SNPs (and remove the INDELs) - `gatk variantFiltration`\n",
    "* Filter vcf to keep only SNPs\n",
    "* Check that the new vcf has been created\n",
    "* Get the number of polymorphisms in the new vcf file "
   ]
  },
  {
   "cell_type": "code",
   "execution_count": null,
   "id": "e0c297d1-12f7-425a-8f80-6d36f823924d",
   "metadata": {},
   "outputs": [],
   "source": [
    "%%bash\n",
    "gatk SelectVariants --java-options \"-Xmx8G -Xms8G\" -R /home/jovyan/work/SV_DATA/REF/reference.fasta -V output.vcf -select-type SNP -O output.onlySNP.vcf"
   ]
  },
  {
   "cell_type": "markdown",
   "id": "b960a693-4dd3-4662-9405-c192f9a2cbc5",
   "metadata": {},
   "source": [
    "#### Get the SNP count of this new vcf file"
   ]
  },
  {
   "cell_type": "code",
   "execution_count": null,
   "id": "a91a9c9e-6069-4543-afff-df4fdb07a0a9",
   "metadata": {},
   "outputs": [],
   "source": [
    "%%bash\n",
    "ls -lrth\n",
    "bcftools ..."
   ]
  },
  {
   "cell_type": "markdown",
   "id": "90e77c6a-3d4c-4d6e-bf30-60bfbe237765",
   "metadata": {},
   "source": [
    "#### Compress the vcf and generate the index of the compressed vcf - `tabix -p vcf vcf_file`"
   ]
  },
  {
   "cell_type": "code",
   "execution_count": null,
   "id": "a2af6a39-3eac-40cc-bc0d-cff8cfa5f35f",
   "metadata": {},
   "outputs": [],
   "source": [
    "%%bash\n",
    "bgzip output.onlySNP.vcf\n",
    "ls -lrth"
   ]
  },
  {
   "cell_type": "code",
   "execution_count": null,
   "id": "57232bd3-aa17-44d5-839f-380cc1e653b5",
   "metadata": {},
   "outputs": [],
   "source": [
    "%%bash\n",
    "tabix -f -p vcf output.onlySNP.vcf.gz\n",
    "ls -lrth"
   ]
  },
  {
   "cell_type": "markdown",
   "id": "67d62c00-4c7d-47d2-8334-69c78d78bbb3",
   "metadata": {},
   "source": [
    "#### Applying filters on QUAL, DEPTH and CLUSTER SNPsSelect only the SNPs (and remove the INDELs) - `gatk variantFiltration`\n",
    "\n",
    "Be careful, it miss one filter in the following command"
   ]
  },
  {
   "cell_type": "code",
   "execution_count": null,
   "id": "c360b424-da46-4580-8e06-d5dccf988025",
   "metadata": {},
   "outputs": [],
   "source": [
    "%%bash\n",
    "gatk VariantFiltration --java-options \"-Xmx12G -Xms12G\" -R /home/jovyan/work/SV_DATA/REF/reference.fasta  -V output.onlySNP.vcf.gz --filter-expression \"QUAL<200\" --filter-name \"LOW_QUAL\" --filter-expression \"DP<30\" --filter-name \"LOW_DP\"     --cluster-size 3 --cluster-window-size 10  -O output.filteredSNP.vcf"
   ]
  },
  {
   "cell_type": "markdown",
   "id": "6a467825-99d6-4b98-88c0-bf8e15488238",
   "metadata": {},
   "source": [
    "#### List the content of the directory to check tht the new vcf has been correctly created"
   ]
  },
  {
   "cell_type": "code",
   "execution_count": 26,
   "id": "1f399782-0233-4222-92f3-88eaef3c1ade",
   "metadata": {},
   "outputs": [
    {
     "name": "stdout",
     "output_type": "stream",
     "text": [
      "total 1.4G\n",
      "-rw-r----- 1 jovyan users 149K Jun 17 09:46 output.vcf.idx\n",
      "-rw-r----- 1 jovyan users 756M Jun 17 09:49 rawSNP.vcf\n",
      "-rw-r----- 1 jovyan users   19 Jun 17 09:49 genome.txt\n",
      "-rw-r----- 1 jovyan users 234K Jun 17 09:49 rawSNP.vcf.idx\n",
      "-rw-r----- 1 jovyan users 475M Jun 17 09:51 output.vcf\n",
      "-rw-r--r-- 1 jovyan users  40K Jun 20 20:35 output.vcf.stat\n",
      "-rw-r--r-- 1 jovyan users  473 Jun 20 20:39 depthi.idepth\n",
      "-rw-r--r-- 1 jovyan users  17M Jun 20 20:39 depths.ldepth.mean\n",
      "-rw-r--r-- 1 jovyan users  14M Jun 20 20:39 qual.lqual\n",
      "-rw-r--r-- 1 jovyan users  17M Jun 20 20:40 AF.frq\n",
      "-rw-r--r-- 1 jovyan users  15M Jun 20 20:40 AF2.frq\n",
      "-rw-r--r-- 1 jovyan users 147K Jun 20 20:46 output.onlySNP.vcf.idx\n",
      "-rw-r--r-- 1 jovyan users  50M Jun 20 20:46 output.onlySNP.vcf.gz\n",
      "-rw-r--r-- 1 jovyan users  830 Jun 20 21:23 output.onlySNP.vcf.gz.tbi\n",
      "-rw-r--r-- 1 jovyan users  57M Jun 20 21:27 output.filteredSNP.vcf\n"
     ]
    }
   ],
   "source": [
    "..."
   ]
  },
  {
   "cell_type": "markdown",
   "id": "63bd0c2e-8f0a-4557-83a4-d79df71d9d21",
   "metadata": {},
   "source": [
    "#### Compress and index the new vcf file"
   ]
  },
  {
   "cell_type": "code",
   "execution_count": null,
   "id": "631e487c-9397-46ec-8022-f5a8cca2518a",
   "metadata": {},
   "outputs": [],
   "source": [
    "%%bash\n"
   ]
  },
  {
   "cell_type": "markdown",
   "id": "4a47f525-1020-480f-ab47-555fbb8caf8f",
   "metadata": {},
   "source": [
    "#### How many SNPs are kept after applying these filters ?"
   ]
  },
  {
   "cell_type": "code",
   "execution_count": null,
   "id": "6d3ce9eb-10ee-4f88-a402-4289f137c98c",
   "metadata": {},
   "outputs": [],
   "source": [
    "%%bash\n"
   ]
  },
  {
   "cell_type": "markdown",
   "id": "850f66c5-a78a-448d-bbc2-12a485c3d1bc",
   "metadata": {},
   "source": [
    "#### _Commands to apply other filters_\n",
    "\n",
    "##### remove missing data if more than 5% of missing data at a site (12 samples over 228 samples) `vcftools`\n",
    "\n",
    "`vcftools --vcf input.vcf --max-missing-count 12 --remove-filtered-all --recode --recode-INFO-all  --out ouput.onlySNP.12na`\n",
    "\n",
    "##### keep SNPs with only 90% homzygous (222 samples)\n",
    "\n",
    "`cat input.vcf | java -jar SnpSift.jar filter \" (countHom( )> 222) \" > output.onlySNP.12na.recode.222homoz.vcf`\n",
    "\n",
    "##### keep only biallelic sites\n",
    "`vcftools --vcf input.vcf --min-alleles 2 --max-alleles 2 --remove-filtered-all --recode --recode-INFO-all --out output.onlySNP.filteredPASS.na.225.Homoz.biallelic`"
   ]
  },
  {
   "cell_type": "markdown",
   "id": "7490a24d-ce4b-416e-8c52-579893bf0029",
   "metadata": {
    "tags": []
   },
   "source": [
    "## <span style=\"color:#006E7F\">V - Compute the SNP density along the chromosomes<a class=\"anchor\" id=\"density\"></span>  "
   ]
  },
  {
   "cell_type": "code",
   "execution_count": null,
   "id": "57505229-54d7-42b0-b470-4be5b11e420c",
   "metadata": {},
   "outputs": [],
   "source": [
    "echo -e \"Reference\\t1000000\\n\" > genome.txt\n",
    "bedtools genomecov -bga -split -i output.vcf -g genome.txt > density.csv"
   ]
  },
  {
   "cell_type": "code",
   "execution_count": null,
   "id": "a00fc838-fd28-4f12-9871-c1b4c89cdcbc",
   "metadata": {
    "tags": []
   },
   "outputs": [],
   "source": [
    "head density.csv"
   ]
  }
 ],
 "metadata": {
  "kernelspec": {
   "display_name": "Python 3 (ipykernel)",
   "language": "python",
   "name": "python3"
  },
  "language_info": {
   "codemirror_mode": {
    "name": "ipython",
    "version": 3
   },
   "file_extension": ".py",
   "mimetype": "text/x-python",
   "name": "python",
   "nbconvert_exporter": "python",
   "pygments_lexer": "ipython3",
   "version": "3.8.5"
  }
 },
 "nbformat": 4,
 "nbformat_minor": 5
}
