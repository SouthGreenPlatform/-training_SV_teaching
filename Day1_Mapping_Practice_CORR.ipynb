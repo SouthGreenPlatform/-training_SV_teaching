{
 "cells": [
  {
   "cell_type": "markdown",
   "metadata": {},
   "source": [
    "# <span style=\"color:green\">Formation South Green 2022</span> - Structural Variants Detection by using short and long reads \n",
    "\n",
    "# __DAY 1 : How to map reads against a reference genome ?__ \n",
    "\n",
    "Created by C. Tranchant (DIADE-IRD), J. Orjuela (DIADE-IRD), F. Sabot (DIADE-IRD) and A. Dereeper (PHIM-IRD)\n",
    "\n",
    "## __1. Preparing the working environment__ \n",
    "\n",
    "### First create a dedicated folder to work \n"
   ]
  },
  {
   "cell_type": "code",
   "execution_count": 115,
   "metadata": {},
   "outputs": [],
   "source": [
    "# make a directory to DATA\n",
    "mkdir -p /home/jovyan/work/DATA\n",
    "cd /home/jovyan/work/DATA\n",
    "ls"
   ]
  },
  {
   "cell_type": "markdown",
   "metadata": {},
   "source": [
    "## Download sequencing data (SR & LR) for Simulated clones\n",
    "\n",
    "Before starting, please download special data created for this practical training. Data are available on the from I-Trop server.\n",
    "\n",
    "Each participant will analyse a Clone, results will be complete in this shared file\n",
    "\n",
    "To generate Clone data, a 1Mb contig was extracted from chromosome 1 of rice.\n",
    "\n",
    "20 levels of variation were generated and long reads were simulated for each.\n",
    "\n",
    "We have introduced different variations (SNP, indel, indel+translocations) and also some contaminations."
   ]
  },
  {
   "cell_type": "code",
   "execution_count": 116,
   "metadata": {
    "tags": []
   },
   "outputs": [
    {
     "name": "stdout",
     "output_type": "stream",
     "text": [
      "\n",
      "Downloading Clone1 data\n",
      "\n",
      "--2022-06-16 08:38:45--  https://itrop.ird.fr/ont-training/Clone1.tar.gz\n",
      "Resolving itrop.ird.fr (itrop.ird.fr)... 91.203.35.184\n",
      "Connecting to itrop.ird.fr (itrop.ird.fr)|91.203.35.184|:443... connected.\n",
      "HTTP request sent, awaiting response... 200 OK\n",
      "Length: 179981963 (172M) [application/x-gzip]\n",
      "Saving to: ‘Clone1.tar.gz’\n",
      "\n",
      "Clone1.tar.gz       100%[===================>] 171.64M  49.2MB/s    in 3.5s    \n",
      "\n",
      "2022-06-16 08:38:48 (48.8 MB/s) - ‘Clone1.tar.gz’ saved [179981963/179981963]\n",
      "\n",
      "FINISHED --2022-06-16 08:38:48--\n",
      "Total wall clock time: 3.6s\n",
      "Downloaded: 1 files, 172M in 3.5s (48.8 MB/s)\n",
      "Clone1/\n",
      "Clone1/ILL/\n",
      "Clone1/ILL/Clone1_R2.fastq.gz\n",
      "Clone1/ILL/Clone1_R1.fastq.gz\n",
      "Clone1/reference.fasta\n",
      "Clone1/ONT/\n",
      "Clone1/ONT/Clone1.fastq.gz\n",
      "Clone1/ONT/Clone1_DeepSimu_sequencing_summary.txt\n",
      "\n",
      "Downloading Clone2 data\n",
      "\n",
      "--2022-06-16 08:38:50--  https://itrop.ird.fr/ont-training/Clone2.tar.gz\n",
      "Resolving itrop.ird.fr (itrop.ird.fr)... 91.203.35.184\n",
      "Connecting to itrop.ird.fr (itrop.ird.fr)|91.203.35.184|:443... connected.\n",
      "HTTP request sent, awaiting response... 200 OK\n",
      "Length: 180070503 (172M) [application/x-gzip]\n",
      "Saving to: ‘Clone2.tar.gz’\n",
      "\n",
      "Clone2.tar.gz       100%[===================>] 171.73M  42.4MB/s    in 4.5s    \n",
      "\n",
      "2022-06-16 08:38:54 (38.3 MB/s) - ‘Clone2.tar.gz’ saved [180070503/180070503]\n",
      "\n",
      "FINISHED --2022-06-16 08:38:54--\n",
      "Total wall clock time: 4.5s\n",
      "Downloaded: 1 files, 172M in 4.5s (38.3 MB/s)\n",
      "Clone2/\n",
      "Clone2/ILL/\n",
      "Clone2/ILL/Clone2_R1.fastq.gz\n",
      "Clone2/ILL/Clone2_R2.fastq.gz\n",
      "Clone2/reference.fasta\n",
      "Clone2/ONT/\n",
      "Clone2/ONT/Clone2.fastq.gz\n",
      "Clone2/ONT/Clone2_DeepSimu_sequencing_summary.txt\n",
      "\n",
      "Downloading Clone3 data\n",
      "\n",
      "--2022-06-16 08:38:56--  https://itrop.ird.fr/ont-training/Clone3.tar.gz\n",
      "Resolving itrop.ird.fr (itrop.ird.fr)... 91.203.35.184\n",
      "Connecting to itrop.ird.fr (itrop.ird.fr)|91.203.35.184|:443... connected.\n",
      "HTTP request sent, awaiting response... 200 OK\n",
      "Length: 180307278 (172M) [application/x-gzip]\n",
      "Saving to: ‘Clone3.tar.gz’\n",
      "\n",
      "Clone3.tar.gz       100%[===================>] 171.95M  49.7MB/s    in 3.5s    \n",
      "\n",
      "2022-06-16 08:38:59 (49.1 MB/s) - ‘Clone3.tar.gz’ saved [180307278/180307278]\n",
      "\n",
      "FINISHED --2022-06-16 08:38:59--\n",
      "Total wall clock time: 3.5s\n",
      "Downloaded: 1 files, 172M in 3.5s (49.1 MB/s)\n",
      "Clone3/\n",
      "Clone3/ILL/\n",
      "Clone3/ILL/Clone3_R2.fastq.gz\n",
      "Clone3/ILL/Clone3_R1.fastq.gz\n",
      "Clone3/reference.fasta\n",
      "Clone3/ONT/\n",
      "Clone3/ONT/Clone3.fastq.gz\n",
      "Clone3/ONT/Clone3_DeepSimu_sequencing_summary.txt\n",
      "\n",
      "Downloading Clone4 data\n",
      "\n",
      "--2022-06-16 08:39:00--  https://itrop.ird.fr/ont-training/Clone4.tar.gz\n",
      "Resolving itrop.ird.fr (itrop.ird.fr)... 91.203.35.184\n",
      "Connecting to itrop.ird.fr (itrop.ird.fr)|91.203.35.184|:443... connected.\n",
      "HTTP request sent, awaiting response... 200 OK\n",
      "Length: 180559870 (172M) [application/x-gzip]\n",
      "Saving to: ‘Clone4.tar.gz’\n",
      "\n",
      "Clone4.tar.gz       100%[===================>] 172.19M  44.1MB/s    in 4.2s    \n",
      "\n",
      "2022-06-16 08:39:05 (40.6 MB/s) - ‘Clone4.tar.gz’ saved [180559870/180559870]\n",
      "\n",
      "FINISHED --2022-06-16 08:39:05--\n",
      "Total wall clock time: 4.3s\n",
      "Downloaded: 1 files, 172M in 4.2s (40.6 MB/s)\n",
      "Clone4/\n",
      "Clone4/ILL/\n",
      "Clone4/ILL/Clone4_R2.fastq.gz\n",
      "Clone4/ILL/Clone4_R1.fastq.gz\n",
      "Clone4/reference.fasta\n",
      "Clone4/ONT/\n",
      "Clone4/ONT/Clone4.fastq.gz\n",
      "Clone4/ONT/Clone4_DeepSimu_sequencing_summary.txt\n",
      "\n",
      "Downloading Clone5 data\n",
      "\n",
      "--2022-06-16 08:39:06--  https://itrop.ird.fr/ont-training/Clone5.tar.gz\n",
      "Resolving itrop.ird.fr (itrop.ird.fr)... 91.203.35.184\n",
      "Connecting to itrop.ird.fr (itrop.ird.fr)|91.203.35.184|:443... connected.\n",
      "HTTP request sent, awaiting response... 200 OK\n",
      "Length: 199795807 (191M) [application/x-gzip]\n",
      "Saving to: ‘Clone5.tar.gz’\n",
      "\n",
      "Clone5.tar.gz       100%[===================>] 190.54M  47.8MB/s    in 4.0s    \n",
      "\n",
      "2022-06-16 08:39:10 (47.3 MB/s) - ‘Clone5.tar.gz’ saved [199795807/199795807]\n",
      "\n",
      "FINISHED --2022-06-16 08:39:10--\n",
      "Total wall clock time: 4.1s\n",
      "Downloaded: 1 files, 191M in 4.0s (47.3 MB/s)\n",
      "Clone5/\n",
      "Clone5/ILL/\n",
      "Clone5/ILL/Clone5_R1.fastq.gz\n",
      "Clone5/ILL/Clone5_R2.fastq.gz\n",
      "Clone5/reference.fasta\n",
      "Clone5/ONT/\n",
      "Clone5/ONT/Clone5.fastq.gz\n",
      "Clone5/ONT/Clone5_DeepSimu_sequencing_summary.txt\n",
      "\n",
      "Downloading Clone6 data\n",
      "\n",
      "--2022-06-16 08:39:12--  https://itrop.ird.fr/ont-training/Clone6.tar.gz\n",
      "Resolving itrop.ird.fr (itrop.ird.fr)... 91.203.35.184\n",
      "Connecting to itrop.ird.fr (itrop.ird.fr)|91.203.35.184|:443... connected.\n",
      "HTTP request sent, awaiting response... 200 OK\n",
      "Length: 207057974 (197M) [application/x-gzip]\n",
      "Saving to: ‘Clone6.tar.gz’\n",
      "\n",
      "Clone6.tar.gz       100%[===================>] 197.47M  47.1MB/s    in 4.4s    \n",
      "\n",
      "2022-06-16 08:39:16 (45.4 MB/s) - ‘Clone6.tar.gz’ saved [207057974/207057974]\n",
      "\n",
      "FINISHED --2022-06-16 08:39:16--\n",
      "Total wall clock time: 4.4s\n",
      "Downloaded: 1 files, 197M in 4.4s (45.4 MB/s)\n",
      "Clone6/\n",
      "Clone6/ILL/\n",
      "Clone6/ILL/Clone6_R1.fastq.gz\n",
      "Clone6/ILL/Clone6_R2.fastq.gz\n",
      "Clone6/reference.fasta\n",
      "Clone6/ONT/\n",
      "Clone6/ONT/Clone6_DeepSimu_sequencing_summary.txt\n",
      "Clone6/ONT/Clone6.fastq.gz\n",
      "\n",
      "Downloading Clone7 data\n",
      "\n",
      "--2022-06-16 08:39:18--  https://itrop.ird.fr/ont-training/Clone7.tar.gz\n",
      "Resolving itrop.ird.fr (itrop.ird.fr)... 91.203.35.184\n",
      "Connecting to itrop.ird.fr (itrop.ird.fr)|91.203.35.184|:443... connected.\n",
      "HTTP request sent, awaiting response... 200 OK\n",
      "Length: 266944430 (255M) [application/x-gzip]\n",
      "Saving to: ‘Clone7.tar.gz’\n",
      "\n",
      "Clone7.tar.gz       100%[===================>] 254.58M  48.3MB/s    in 5.3s    \n",
      "\n",
      "2022-06-16 08:39:23 (48.1 MB/s) - ‘Clone7.tar.gz’ saved [266944430/266944430]\n",
      "\n",
      "FINISHED --2022-06-16 08:39:23--\n",
      "Total wall clock time: 5.3s\n",
      "Downloaded: 1 files, 255M in 5.3s (48.1 MB/s)\n",
      "Clone7/\n",
      "Clone7/ILL/\n",
      "Clone7/ILL/Clone7_R1.fastq.gz\n",
      "Clone7/ILL/Clone7_R2.fastq.gz\n",
      "Clone7/reference.fasta\n",
      "Clone7/ONT/\n",
      "Clone7/ONT/Clone7_DeepSimu_sequencing_summary.txt\n",
      "Clone7/ONT/Clone7.fastq.gz\n",
      "\n",
      "Downloading Clone8 data\n",
      "\n",
      "--2022-06-16 08:39:26--  https://itrop.ird.fr/ont-training/Clone8.tar.gz\n",
      "Resolving itrop.ird.fr (itrop.ird.fr)... 91.203.35.184\n",
      "Connecting to itrop.ird.fr (itrop.ird.fr)|91.203.35.184|:443... connected.\n",
      "HTTP request sent, awaiting response... 200 OK\n",
      "Length: 350605620 (334M) [application/x-gzip]\n",
      "Saving to: ‘Clone8.tar.gz’\n",
      "\n",
      "Clone8.tar.gz       100%[===================>] 334.36M  56.1MB/s    in 6.5s    \n",
      "\n",
      "2022-06-16 08:39:32 (51.5 MB/s) - ‘Clone8.tar.gz’ saved [350605620/350605620]\n",
      "\n",
      "FINISHED --2022-06-16 08:39:32--\n",
      "Total wall clock time: 6.5s\n",
      "Downloaded: 1 files, 334M in 6.5s (51.5 MB/s)\n",
      "Clone8/\n",
      "Clone8/ILL/\n",
      "Clone8/ILL/Clone8_R2.fastq.gz\n",
      "Clone8/ILL/Clone8_R1.fastq.gz\n",
      "Clone8/reference.fasta\n",
      "Clone8/ONT/\n",
      "Clone8/ONT/Clone8.fastq.gz\n",
      "Clone8/ONT/Clone8_DeepSimu_sequencing_summary.txt\n",
      "\n",
      "Downloading Clone9 data\n",
      "\n",
      "--2022-06-16 08:39:35--  https://itrop.ird.fr/ont-training/Clone9.tar.gz\n",
      "Resolving itrop.ird.fr (itrop.ird.fr)... 91.203.35.184\n",
      "Connecting to itrop.ird.fr (itrop.ird.fr)|91.203.35.184|:443... connected.\n",
      "HTTP request sent, awaiting response... 200 OK\n",
      "Length: 209488462 (200M) [application/x-gzip]\n",
      "Saving to: ‘Clone9.tar.gz’\n",
      "\n",
      "Clone9.tar.gz       100%[===================>] 199.78M  45.0MB/s    in 4.7s    \n",
      "\n",
      "2022-06-16 08:39:40 (42.2 MB/s) - ‘Clone9.tar.gz’ saved [209488462/209488462]\n",
      "\n",
      "FINISHED --2022-06-16 08:39:40--\n",
      "Total wall clock time: 4.8s\n",
      "Downloaded: 1 files, 200M in 4.7s (42.2 MB/s)\n",
      "Clone9/\n",
      "Clone9/ILL/\n",
      "Clone9/ILL/Clone9_R2.fastq.gz\n",
      "Clone9/ILL/Clone9_R1.fastq.gz\n",
      "Clone9/reference.fasta\n",
      "Clone9/ONT/\n",
      "Clone9/ONT/Clone9_DeepSimu_sequencing_summary.txt\n",
      "Clone9/ONT/Clone9.fastq.gz\n",
      "\n",
      "Downloading Clone10 data\n",
      "\n",
      "--2022-06-16 08:39:41--  https://itrop.ird.fr/ont-training/Clone10.tar.gz\n",
      "Resolving itrop.ird.fr (itrop.ird.fr)... 91.203.35.184\n",
      "Connecting to itrop.ird.fr (itrop.ird.fr)|91.203.35.184|:443... connected.\n",
      "HTTP request sent, awaiting response... 200 OK\n",
      "Length: 197949883 (189M) [application/x-gzip]\n",
      "Saving to: ‘Clone10.tar.gz’\n",
      "\n",
      "Clone10.tar.gz      100%[===================>] 188.78M  46.0MB/s    in 5.0s    \n",
      "\n",
      "2022-06-16 08:39:46 (37.4 MB/s) - ‘Clone10.tar.gz’ saved [197949883/197949883]\n",
      "\n",
      "FINISHED --2022-06-16 08:39:46--\n",
      "Total wall clock time: 5.1s\n",
      "Downloaded: 1 files, 189M in 5.0s (37.4 MB/s)\n",
      "Clone10/\n",
      "Clone10/ILL/\n",
      "Clone10/ILL/Clone10_R1.fastq.gz\n",
      "Clone10/ILL/Clone10_R2.fastq.gz\n",
      "Clone10/reference.fasta\n",
      "Clone10/ONT/\n",
      "Clone10/ONT/Clone10.fastq.gz\n",
      "Clone10/ONT/Clone10_DeepSimu_sequencing_summary.txt\n"
     ]
    }
   ],
   "source": [
    "# download your compressed CloneX \n",
    "for i in {1..10}\n",
    "    do\n",
    "        echo -e \"\\nDownloading Clone$i data\\n\"\n",
    "        CLONE=\"Clone$i\"\n",
    "        wget --no-check-certificat -rm -nH --cut-dirs=1 --reject=\"index.html*\" https://itrop.ird.fr/ont-training/${CLONE}.tar.gz\n",
    "        #decompress file\n",
    "        tar zxvf ${CLONE}.tar.gz\n",
    "        rm ${CLONE}.tar.gz\n",
    "    done"
   ]
  },
  {
   "cell_type": "code",
   "execution_count": null,
   "metadata": {
    "tags": []
   },
   "outputs": [],
   "source": [
    "# check data \n",
    "ls -l Clone*"
   ]
  },
  {
   "cell_type": "markdown",
   "metadata": {},
   "source": [
    "-----------------------\n",
    "# 2. MAPPING PRACTICE"
   ]
  },
  {
   "cell_type": "markdown",
   "metadata": {},
   "source": [
    "Read congruency is an important measure in determining assembly accuracy.\n",
    "\n",
    "Clusters of read pairs or single long reads that align incorrectly are strong indicators of mis-assembly.\n",
    "\n",
    "Reads mapping is usually the firt step before SNP or Variant calling."
   ]
  },
  {
   "cell_type": "markdown",
   "metadata": {},
   "source": [
    "### 2.1 Make a folder for your results"
   ]
  },
  {
   "cell_type": "code",
   "execution_count": 117,
   "metadata": {},
   "outputs": [],
   "source": [
    "mkdir -p ~/work/MAPPING-ILL\n",
    "cd ~/work/MAPPING-ILL"
   ]
  },
  {
   "cell_type": "markdown",
   "metadata": {},
   "source": [
    "### 2.2 Declare important variables"
   ]
  },
  {
   "cell_type": "code",
   "execution_count": 128,
   "metadata": {},
   "outputs": [],
   "source": [
    "i=10\n",
    "REF_DIR=\"/home/jovyan/work/DATA/Clone${i}/\"\n",
    "REF=\"/home/jovyan/work/DATA/Clone${i}/reference.fasta\"\n",
    "ONT=\"/home/jovyan/work/DATA/Clone${i}/ONT/Clone${i}.fastq.gz\"\n",
    "ILL_R1=\"/home/jovyan/work/DATA/Clone${i}/ILL/Clone${i}_R1.fastq.gz\"\n",
    "ILL_R2=\"/home/jovyan/work/DATA/Clone${i}/ILL/Clone${i}_R2.fastq.gz\""
   ]
  },
  {
   "cell_type": "code",
   "execution_count": 129,
   "metadata": {},
   "outputs": [
    {
     "name": "stdout",
     "output_type": "stream",
     "text": [
      "Clone10 /home/jovyan/work/DATA/Clone10/reference.fasta\n",
      "/home/jovyan/work/DATA/Clone10/ILL/Clone10_R1.fastq.gz /home/jovyan/work/DATA/Clone10/ILL/Clone10_R2.fastq.gz\n"
     ]
    }
   ],
   "source": [
    "echo \"Clone${i} $REF\" \n",
    "echo $ILL_R1 $ILL_R2"
   ]
  },
  {
   "cell_type": "markdown",
   "metadata": {
    "tags": []
   },
   "source": [
    "## 2.1 Mapping short reads vs a reference with `bwa mem`"
   ]
  },
  {
   "cell_type": "markdown",
   "metadata": {},
   "source": [
    "In this practice, we are going to map short reads against a reference. To know, how well do the reads align back to the reference, we use bwa-mem2 and samtools to assess the basic alignment statistics.\n",
    "\n",
    "In this exercise, we will use reference.fasta assembly as well ILLUMINA READS from your favorite CLONE.\n",
    "\n",
    "The tool bwa needs 2 steps: \n",
    "- **Reference indexing**: `bwa index reference`\n",
    "- **Mapping in itself**: `bwa mem  -R READGROUP [options] reference fastq1 fastq2 > out.sam`"
   ]
  },
  {
   "cell_type": "markdown",
   "metadata": {},
   "source": [
    "## Reference indexation "
   ]
  },
  {
   "cell_type": "markdown",
   "metadata": {},
   "source": [
    "Before mapping we need index reference file! Check bwa-mem2 index command line."
   ]
  },
  {
   "cell_type": "code",
   "execution_count": 130,
   "metadata": {},
   "outputs": [],
   "source": [
    "cd $REF_DIR"
   ]
  },
  {
   "cell_type": "code",
   "execution_count": 131,
   "metadata": {},
   "outputs": [],
   "source": [
    "seqtk seq $REF > referenceCorrect.fasta\n",
    "REF=\"/home/jovyan/work/DATA/Clone${i}/referenceCorrect.fasta\""
   ]
  },
  {
   "cell_type": "code",
   "execution_count": 132,
   "metadata": {},
   "outputs": [
    {
     "name": "stdout",
     "output_type": "stream",
     "text": [
      "\n",
      "Indexing reference /home/jovyan/work/DATA/Clone10/referenceCorrect.fasta\n",
      "\n",
      "[bwa_index] Pack FASTA... 0.01 sec\n",
      "init ticks = 95687071\n",
      "ref seq len = 2040002\n",
      "binary seq ticks = 45918765\n",
      "build index ticks = 545680122\n",
      "ref_seq_len = 2040002\n",
      "count = 0, 576483, 1020001, 1463519, 2040002\n",
      "BWT[1932441] = 4\n",
      "CP_SHIFT = 5, CP_MASK = 31\n",
      "sizeof CP_OCC = 64\n",
      "max_occ_ind = 63750\n",
      "ref_seq_len = 2040002\n",
      "count = 0, 576483, 1020001, 1463519, 2040002\n",
      "BWT[1932441] = 4\n",
      "CP_SHIFT = 6, CP_MASK = 63\n",
      "sizeof CP_OCC = 64\n",
      "max_occ_ind = 31875\n"
     ]
    }
   ],
   "source": [
    "echo -e \"\\nIndexing reference $REF\\n\"\n",
    "bwa-mem2 index $REF"
   ]
  },
  {
   "cell_type": "code",
   "execution_count": 91,
   "metadata": {},
   "outputs": [
    {
     "name": "stdout",
     "output_type": "stream",
     "text": [
      "/home/jovyan/work/MAPPING-ILL/dirClone10\n"
     ]
    }
   ],
   "source": [
    "pwd"
   ]
  },
  {
   "cell_type": "code",
   "execution_count": 123,
   "metadata": {},
   "outputs": [
    {
     "name": "stdout",
     "output_type": "stream",
     "text": [
      "ILL             reference.amb          reference.bwt.8bit.32   reference.pac\n",
      "ONT             reference.ann          referenceCorrect.fasta\n",
      "reference.0123  reference.bwt.2bit.64  reference.fasta\n"
     ]
    }
   ],
   "source": [
    "ls"
   ]
  },
  {
   "cell_type": "markdown",
   "metadata": {},
   "source": [
    "##  let's map now but only WITH READS FROM ONLY ONE CLONE"
   ]
  },
  {
   "cell_type": "code",
   "execution_count": 133,
   "metadata": {},
   "outputs": [
    {
     "name": "stdout",
     "output_type": "stream",
     "text": [
      "\n",
      "Creation directory for Clone10\n",
      "\n",
      "Clone10\n"
     ]
    }
   ],
   "source": [
    "cd ~/work/MAPPING-ILL\n",
    "echo -e \"\\nCreation directory for Clone$i\\n\"\n",
    "echo Clone$i\n",
    "mkdir -p dirClone$i\n",
    "cd dirClone$i"
   ]
  },
  {
   "cell_type": "code",
   "execution_count": 159,
   "metadata": {
    "tags": []
   },
   "outputs": [
    {
     "name": "stdout",
     "output_type": "stream",
     "text": [
      "\n",
      "Mapping Clone10\n",
      "\n",
      "-----------------------------\n",
      "Executing in AVX2 mode!!\n",
      "-----------------------------\n",
      "Ref file: /home/jovyan/work/DATA/Clone10/referenceCorrect.fasta\n",
      "Entering FMI_search\n",
      "reference seq len = 2040003\n",
      "count\n",
      "0,\t1\n",
      "1,\t576484\n",
      "2,\t1020002\n",
      "3,\t1463520\n",
      "4,\t2040003\n",
      "\n",
      "Reading other elements of the index from files /home/jovyan/work/DATA/Clone10/referenceCorrect.fasta\n",
      "prefix: /home/jovyan/work/DATA/Clone10/referenceCorrect.fasta\n",
      "[M::bwa_idx_load_ele] read 0 ALT contigs\n",
      "Done reading Index!!\n",
      "Reading reference genome..\n",
      "Binary seq file = /home/jovyan/work/DATA/Clone10/referenceCorrect.fasta.0123\n",
      "Reference genome size: 2040002 bp\n",
      "Done readng reference genome !!\n",
      "\n",
      "[0000] 1: Calling process()\n",
      "\n",
      "Threads used (compute): 4\n",
      "Info: projected #read in a task: 264910\n",
      "------------------------------------------\n",
      "Memory pre-allocation for chaining: 557.3706 MB\n",
      "Memory pre-allocation for BSW: 958.4681 MB\n",
      "Memory pre-allocation for BWT: 309.2567 MB\n",
      "------------------------------------------\n",
      "No. of pipeline threads: 2\n",
      "[0000] read_chunk: 40000000, work_chunk_size: 40000200, nseq: 266668\n",
      "\t[0000][ M::kt_pipeline] read 266668 sequences (40000200 bp)...\n",
      "Reallocating initial memory allocations!!\n",
      "[0000] 2. Calling mem_process_seqs.., task: 0\n",
      "[0000] 3. Calling kt_for - worker_bwt\n",
      "[0000] read_chunk: 40000000, work_chunk_size: 4363800, nseq: 29092\n",
      "\t[0000][ M::kt_pipeline] read 29092 sequences (4363800 bp)...\n",
      "[0000] 3. Calling kt_for - worker_aln\n",
      "Inferring insert size distribution from data, l_pac: 1020001, n: 266668\n",
      "[M::mem_pestat] # candidate unique pairs for (FF, FR, RF, RR): (0, 81468, 1, 0)\n",
      "[M::mem_pestat] skip orientation FF as there are not enough pairs\n",
      "[M::mem_pestat] analyzing insert size distribution for orientation FR...\n",
      "[M::mem_pestat] (25, 50, 75) percentile: (380, 398, 415)\n",
      "[M::mem_pestat] low and high boundaries for computing mean and std.dev: (310, 485)\n",
      "[M::mem_pestat] mean and std.dev: (397.35, 25.38)\n",
      "[M::mem_pestat] low and high boundaries for proper pairs: (275, 520)\n",
      "[M::mem_pestat] skip orientation RF as there are not enough pairs\n",
      "[M::mem_pestat] skip orientation RR as there are not enough pairs\n",
      "[0000] 10. Calling kt_for - worker_sam\n",
      "\t[0000][ M::mem_process_seqs] Processed 266668 reads in 36.255 CPU sec, 9.145 real sec\n",
      "[0000] 2. Calling mem_process_seqs.., task: 1\n",
      "[0000] 3. Calling kt_for - worker_bwt\n",
      "[0000] 3. Calling kt_for - worker_aln\n",
      "[0000] read_chunk: 40000000, work_chunk_size: 0, nseq: 0\n",
      "Inferring insert size distribution from data, l_pac: 1020001, n: 29092\n",
      "[M::mem_pestat] # candidate unique pairs for (FF, FR, RF, RR): (0, 8981, 0, 0)\n",
      "[M::mem_pestat] skip orientation FF as there are not enough pairs\n",
      "[M::mem_pestat] analyzing insert size distribution for orientation FR...\n",
      "[M::mem_pestat] (25, 50, 75) percentile: (380, 397, 414)\n",
      "[M::mem_pestat] low and high boundaries for computing mean and std.dev: (312, 482)\n",
      "[M::mem_pestat] mean and std.dev: (396.79, 25.24)\n",
      "[M::mem_pestat] low and high boundaries for proper pairs: (278, 516)\n",
      "[M::mem_pestat] skip orientation RF as there are not enough pairs\n",
      "[M::mem_pestat] skip orientation RR as there are not enough pairs\n",
      "[0000] 10. Calling kt_for - worker_sam\n",
      "\t[0000][ M::mem_process_seqs] Processed 29092 reads in 4.582 CPU sec, 1.057 real sec\n",
      "[0000] read_chunk: 40000000, work_chunk_size: 0, nseq: 0\n",
      "[0000] Computation ends..\n",
      "No. of OMP threads: 4\n",
      "Processor is runnig @2295.102276 MHz\n",
      "Runtime profile:\n",
      "\n",
      "\t Time taken for main_mem function: 11.17 Sec\n",
      "\n",
      "\tIO times (sec) :\n",
      "\tReading IO time (reads) avg: 0.96, (0.96, 0.96)\n",
      "\tWriting IO time (SAM) avg: 0.52, (0.52, 0.52)\n",
      "\tReading IO time (Reference Genome) avg: 0.00, (0.00, 0.00)\n",
      "\tIndex read time avg: 0.03, (0.03, 0.03)\n",
      "\n",
      "\tOverall time (sec) (Excluding Index reading time):\n",
      "\tPROCESS() (Total compute time + (read + SAM) IO time) : 11.14\n",
      "\tMEM_PROCESS_SEQ() (Total compute time (Kernel + SAM)), avg: 10.20, (10.20, 10.20)\n",
      "\n",
      "\t SAM Processing time (sec):\n",
      "\t--WORKER_SAM avg: 3.47, (3.47, 3.47)\n",
      "\n",
      "\tKernels' compute time (sec):\n",
      "\tTotal kernel (smem+sal+bsw) time avg: 6.70, (6.70, 6.70)\n",
      "\t\tSMEM compute avg: 2.71, (2.75, 2.64)\n",
      "\t\tSAL compute avg: 0.18, (0.25, 0.14)\n",
      "\t\tBSW time, avg: 3.70, (3.71, 3.68)\n",
      "\n",
      "\tTotal allocs: 294450 = 294450 out total requests: 343778, Rate: 0.86\n",
      "\n",
      "Important parameter settings: \n",
      "\tBATCH_SIZE: 512\n",
      "\tMAX_SEQ_LEN_REF: 256\n",
      "\tMAX_SEQ_LEN_QER: 128\n",
      "\tMAX_SEQ_LEN8: 128\n",
      "\tSEEDS_PER_READ: 500\n",
      "\tSIMD_WIDTH8 X: 32\n",
      "\tSIMD_WIDTH16 X: 16\n",
      "\tAVG_SEEDS_PER_READ: 64\n"
     ]
    }
   ],
   "source": [
    "echo -e \"\\nMapping Clone$i\\n\"\n",
    "bwa-mem2 mem -M -t 4 -R \"@RG\\tID:Clone${i}\\tSM:Clone${i}\" $REF $ILL_R1 $ILL_R2 > Clone$i.sam"
   ]
  },
  {
   "cell_type": "code",
   "execution_count": 160,
   "metadata": {},
   "outputs": [
    {
     "name": "stdout",
     "output_type": "stream",
     "text": [
      "Clone10.bam  Clone10.mappedpaired.bam  Clone10.sam  Clone10.SORTED.bam\n"
     ]
    }
   ],
   "source": [
    "ls "
   ]
  },
  {
   "cell_type": "code",
   "execution_count": 161,
   "metadata": {},
   "outputs": [
    {
     "name": "stdout",
     "output_type": "stream",
     "text": [
      "@SQ\tSN:Reference\tLN:1020001\n",
      "@RG\tID:Clone10\tSM:Clone10\n",
      "@PG\tID:bwa\tPN:bwa\tVN:2.0pre2\tCL:bwa-mem2 mem -M -t 4 -R @RG\\tID:Clone10\\tSM:Clone10 /home/jovyan/work/DATA/Clone10/referenceCorrect.fasta /home/jovyan/work/DATA/Clone10/ILL/Clone10_R1.fastq.gz /home/jovyan/work/DATA/Clone10/ILL/Clone10_R2.fastq.gz\n",
      "Reference-Clone10295760\t77\t*\t0\t0\t*\t*\t0\t0\tGTATAAGTACCCGGTCGAATCAAAGGTAACGTTAAATAGGTACTCCGCCAGGGCAGATTTCAACAGCCAAACTGCCCCCCAGGGGTATCTTACAGGCAATGGCTTAGAAGCGTTCCTAAGTGGACGACTCTCTGGAAACTCGCCAATGAG\tCC=G=GGGGGGG=IIIIGGIIGICGIIIICIGIIIIIGGCIIGIGIG=CIGIIIICIGICGGGGGCCCGGCGCGCGGGGG8CGG8CGGGGGCCCGGGGGGIGCGGGG=GCGGCCGCGG55GGCGCG8GGGGCGG=CCGCGG5GGCGCGC=\tAS:i:0\tXS:i:0\tRG:Z:Clone10\n",
      "Reference-Clone10295760\t141\t*\t0\t0\t*\t*\t0\t0\tGCACCCAAGGTGATCAACCCGGCGCTGCATGAGTATGCAACATGTTCGGCAGATGCCGTCAGTTTGGCATGCGTAATTCAATGTCGCAAGGAGGATATCCCGCTGGGATTACATTCGCGTATAGTTTATGGGCCTTCATTCGTTTTTACG\tCC=GGGGGGGGGGIGIIIIIICIGICI5IGCGIGGGICIGIIIICCIIG=IICGC=G==GGCGGGIGI=CCGGCGGCIGG=CGCG5CG=CGCGGG5GCGGGCCCII=GGGGGCG==GGGGGGGCCGCGGCCCGGGGGGGCCCCGGCGCGC\tAS:i:0\tXS:i:0\tRG:Z:Clone10\n",
      "Reference-Clone10295758\t99\tReference\t124517\t60\t150M\t=\t124764\t397\tTATATAATTTACTAATAATTAAAAATAGATTTTAAAAATTATTAATAACTAATACGTATATACGATATAATATGAATATTACACGTTAGTACTTTTGTAAAGTTATTGCAAACTTTAAAATTATGTTGTCATTTTAATTTAGTTGAATAA\tCCCGGGGGGGGGGIIGIIIICIIICGIIIIIIIIIIICIIIICGCIGIGICGIGGIIGGGICCGIICIIGGGCGGGC==GGCCGGGGGCGGC=GGGGGGGICCG=GGCGG5GGCGCGGGCGCCGCCG88GGGC8GCGCGGGGGCGCGGCC\tNM:i:13\tMD:Z:12A11T1T3A8A12C9A0A20A6G20A25A2T8\tAS:i:85\tXS:i:0\tRG:Z:Clone10\n",
      "Reference-Clone10295758\t147\tReference\t124764\t60\t150M\t=\t124517\t-397\tTTCCAATTTCTTCACGAAACTCTCAAAGAAAAATCCTGAATTGGATCCTAAATTTTCAAGAAAAAGTACGAATTACCACCCCCGCGAACTATTACGGTAGTATGATTTATCCCCCTAAAATATAATACCGGACCTTTAGCCTGCCAAACT\tGCGCGCGGGC=CGCGGGGC5CCCCCGGGGGGGGGGGGCGCGGGIIIICC5G=GCGGCGGC5CGC=CGCGGG8CGG8CGGGCGGC==IIGGCI=GCIICGIG=CGGGGIICC5IGGCIGIIIIIGI5G=IIICIIIIIGGGGGGGGGGCC8\tNM:i:9\tMD:Z:13C7T2C23G6C63C13A6A1C7\tAS:i:105\tXS:i:0\tRG:Z:Clone10\n",
      "Reference-Clone10295756\t83\tReference\t660900\t25\t150M\t=\t660609\t-441\tAGTAATTTGACAAAACATTGACATCTGCAGGCTTTGCAGTCAATTAGAAAGATAATTGTGTGTTCTATCGCCATGGTGGGGGTGAGGGAGTTAATTTGTGCTTATATGTTGACGACATACTGATATTTGGGACAACCCTTGAGGTAATAA\tGCGGCGCGGGGGCG5GG=CGCGGGGGCGGGGGGGGG8GGGGGGGCGG=GIGCCGGGGGCGGGCCGCG=GCCCCGGCICCGCGGGCIGGCCGGGIGIGGIIIGGCIICGIIIIGIIIIGGIIIIIIIIIIIIIIICIIGGGGGGGCGCCCC\tNM:i:10\tMD:Z:2A41G2G0C6A7A29T9G31A9G4\tAS:i:102\tXS:i:102\tRG:Z:Clone10\tXA:Z:Reference,-520388,150M,10;Reference,-488509,150M,11;\n",
      "Reference-Clone10295756\t163\tReference\t660609\t25\t150M\t=\t660900\t441\tAGGCTGGGCTTGTTGCTAAGGGCTATACTTAGAAAGAAGGCGAAGATTTCTTTGACACATACTCACCTGTTGGTAGATGGACCACAATTCGTGAGCTACTTTCCCTAGCAGCCTCACATGGTCTGCTCGTTCATCAAATGGACGTTAAGA\tCCCG5GCGGG=CGCICGIGICCIIGIIC=IIGIGIIIIIGIIG5IICIGGIGGGCIIIIIGIGC5IGGGCGGGIGGIGCGCG=GCCGC5GCGCGGCGGGCGCIICC8CGCGGCGGG=CG=GGGGCGGGCGG=5GGCGGGG5CGCCCGCC=\tNM:i:7\tMD:Z:5C23C28T13C5T14T30T25\tAS:i:115\tXS:i:115\tRG:Z:Clone10\tXA:Z:Reference,+488218,150M,7;Reference,+520097,150M,8;\n",
      "Reference-Clone10295754\t83\tReference\t399106\t0\t150M\t=\t398838\t-418\tACATCATCTCAATCTACACCTGCAATTGCGTCACCCTGATCAAAGTAGATCATAAAATTCTTAACCTTGTGCACAACTGATTTCATCACTTCAAAGTGAGCGATAGTAGATATAACCCTAAGGCCATCTTCAAGAGTCCTTCCAGGGAGC\tGCGGGGGGGGCCGCGGGCGGGCGGGCCGGCGGCGGG8CCGGCG8GGCGCICCGGC5CG=GGG=GGGCGCGGGG=GGIIGGGGGGCGICIGI=GGIGGCIIGICICICIGIICIII=IIGIIIGIIIIIIIIIIIIIIGGGGGGGGGGCCC\tNM:i:6\tMD:Z:8C19T21A46C3C0C47\tAS:i:120\tXS:i:120\tRG:Z:Clone10\tXA:Z:Reference,-332803,150M,6;Reference,-365956,150M,6;\n"
     ]
    }
   ],
   "source": [
    "head Clone10.sam"
   ]
  },
  {
   "cell_type": "code",
   "execution_count": 162,
   "metadata": {
    "tags": []
   },
   "outputs": [
    {
     "name": "stdout",
     "output_type": "stream",
     "text": [
      "[1] 33990\n",
      "[main_samview] fail to open \"Clone10.sam\" for reading.\n",
      "[1]+  Exit 1                  samtools view -@4 -bh -S -o Clone$i.bam Clone$i.sam\n",
      "296107 + 0 in total (QC-passed reads + QC-failed reads)\n",
      "0 + 0 duplicates\n",
      "221305 + 0 mapped (74.74%:-nan%)\n",
      "296107 + 0 paired in sequencing\n",
      "148037 + 0 read1\n",
      "148070 + 0 read2\n",
      "218251 + 0 properly paired (73.71%:-nan%)\n",
      "219689 + 0 with itself and mate mapped\n",
      "1616 + 0 singletons (0.55%:-nan%)\n",
      "0 + 0 with mate mapped to a different chr\n",
      "0 + 0 with mate mapped to a different chr (mapQ>=5)\n"
     ]
    }
   ],
   "source": [
    "samtools view -@4 -bh -S -o  Clone$i.bam Clone$i.sam & rm Clone$i.sam\n",
    "samtools flagstat Clone$i.bam "
   ]
  },
  {
   "cell_type": "code",
   "execution_count": 163,
   "metadata": {},
   "outputs": [
    {
     "name": "stdout",
     "output_type": "stream",
     "text": [
      "218251 + 0 in total (QC-passed reads + QC-failed reads)\n",
      "0 + 0 duplicates\n",
      "218251 + 0 mapped (100.00%:-nan%)\n",
      "218251 + 0 paired in sequencing\n",
      "109118 + 0 read1\n",
      "109133 + 0 read2\n",
      "218251 + 0 properly paired (100.00%:-nan%)\n",
      "218251 + 0 with itself and mate mapped\n",
      "0 + 0 singletons (0.00%:-nan%)\n",
      "0 + 0 with mate mapped to a different chr\n",
      "0 + 0 with mate mapped to a different chr (mapQ>=5)\n"
     ]
    }
   ],
   "source": [
    "samtools view -bh -@4 -f 0x02 -o Clone$i.mappedpaired.bam Clone$i.bam \n",
    "samtools flagstat Clone$i.mappedpaired.bam"
   ]
  },
  {
   "cell_type": "code",
   "execution_count": 166,
   "metadata": {},
   "outputs": [
    {
     "name": "stdout",
     "output_type": "stream",
     "text": [
      "[1] 34017\n",
      "open: No such file or directory\n",
      "[bam_sort_core] fail to open file Clone10.mappedpaired.bam\n",
      "[1]+  Done                    samtools sort -@4 Clone$i.mappedpaired.bam Clone$i.SORTED\n"
     ]
    }
   ],
   "source": [
    "samtools sort -@4 Clone$i.mappedpaired.bam Clone$i.SORTED & rm Clone$i.mappedpaired.bam"
   ]
  },
  {
   "cell_type": "code",
   "execution_count": 171,
   "metadata": {},
   "outputs": [
    {
     "name": "stdout",
     "output_type": "stream",
     "text": [
      "total 56M\n",
      "-rw-r--r-- 1 jovyan users 39M Jun 16 08:50 Clone10.bam\n",
      "-rw-r--r-- 1 jovyan users 18M Jun 16 09:04 Clone10.SORTED.bam\n"
     ]
    }
   ],
   "source": [
    "ls -lrth"
   ]
  },
  {
   "cell_type": "markdown",
   "metadata": {},
   "source": [
    "##  Indexing bam"
   ]
  },
  {
   "cell_type": "code",
   "execution_count": 174,
   "metadata": {},
   "outputs": [
    {
     "name": "stdout",
     "output_type": "stream",
     "text": [
      "total 57296\n",
      "-rw-r--r-- 1 jovyan users 40301001 Jun 16 08:50 Clone10.bam\n",
      "-rw-r--r-- 1 jovyan users 18359452 Jun 16 09:04 Clone10.SORTED.bam\n",
      "-rw-r--r-- 1 jovyan users     2856 Jun 16 09:07 Clone10.SORTED.bam.bai\n"
     ]
    }
   ],
   "source": [
    "samtools index Clone$i.SORTED.bam\n",
    "ls -lrt"
   ]
  },
  {
   "cell_type": "markdown",
   "metadata": {
    "tags": []
   },
   "source": [
    "## Let's map with data from 4 clones using a loop for mapping, with a single folder per sample"
   ]
  },
  {
   "cell_type": "code",
   "execution_count": 183,
   "metadata": {
    "tags": []
   },
   "outputs": [
    {
     "name": "stdout",
     "output_type": "stream",
     "text": [
      "\n",
      "Creation directory for Clone2\n",
      "\n",
      "Clone2\n",
      "\n",
      "Declare Clone2 data\n",
      "\n",
      "Mapping Clone2\n",
      "\n",
      "-----------------------------\n",
      "Executing in AVX2 mode!!\n",
      "-----------------------------\n",
      "Ref file: /home/jovyan/work/DATA/Clone10/referenceCorrect.fasta\n",
      "Entering FMI_search\n",
      "reference seq len = 2040003\n",
      "count\n",
      "0,\t1\n",
      "1,\t576484\n",
      "2,\t1020002\n",
      "3,\t1463520\n",
      "4,\t2040003\n",
      "\n",
      "Reading other elements of the index from files /home/jovyan/work/DATA/Clone10/referenceCorrect.fasta\n",
      "prefix: /home/jovyan/work/DATA/Clone10/referenceCorrect.fasta\n",
      "[M::bwa_idx_load_ele] read 0 ALT contigs\n",
      "Done reading Index!!\n",
      "Reading reference genome..\n",
      "Binary seq file = /home/jovyan/work/DATA/Clone10/referenceCorrect.fasta.0123\n",
      "Reference genome size: 2040002 bp\n",
      "Done readng reference genome !!\n",
      "\n",
      "[0000] 1: Calling process()\n",
      "\n",
      "Threads used (compute): 4\n",
      "Info: projected #read in a task: 264910\n",
      "------------------------------------------\n",
      "Memory pre-allocation for chaining: 557.3706 MB\n",
      "Memory pre-allocation for BSW: 958.4681 MB\n",
      "Memory pre-allocation for BWT: 309.2567 MB\n",
      "------------------------------------------\n",
      "No. of pipeline threads: 2\n",
      "[0000] read_chunk: 40000000, work_chunk_size: 39996000, nseq: 266640\n",
      "\t[0000][ M::kt_pipeline] read 266640 sequences (39996000 bp)...\n",
      "Reallocating initial memory allocations!!\n",
      "[0000] 2. Calling mem_process_seqs.., task: 0\n",
      "[0000] 3. Calling kt_for - worker_bwt\n",
      "[0000] read_chunk: 40000000, work_chunk_size: 0, nseq: 0\n",
      "[0000] 3. Calling kt_for - worker_aln\n",
      "Inferring insert size distribution from data, l_pac: 1020001, n: 266640\n",
      "[M::mem_pestat] # candidate unique pairs for (FF, FR, RF, RR): (0, 110112, 0, 0)\n",
      "[M::mem_pestat] skip orientation FF as there are not enough pairs\n",
      "[M::mem_pestat] analyzing insert size distribution for orientation FR...\n",
      "[M::mem_pestat] (25, 50, 75) percentile: (381, 398, 415)\n",
      "[M::mem_pestat] low and high boundaries for computing mean and std.dev: (313, 483)\n",
      "[M::mem_pestat] mean and std.dev: (398.34, 24.90)\n",
      "[M::mem_pestat] low and high boundaries for proper pairs: (279, 517)\n",
      "[M::mem_pestat] skip orientation RF as there are not enough pairs\n",
      "[M::mem_pestat] skip orientation RR as there are not enough pairs\n",
      "[0000] 10. Calling kt_for - worker_sam\n",
      "\t[0000][ M::mem_process_seqs] Processed 266640 reads in 32.700 CPU sec, 8.231 real sec\n",
      "[0000] read_chunk: 40000000, work_chunk_size: 0, nseq: 0\n",
      "[0000] Computation ends..\n",
      "No. of OMP threads: 4\n",
      "Processor is runnig @2295.260682 MHz\n",
      "Runtime profile:\n",
      "\n",
      "\t Time taken for main_mem function: 9.38 Sec\n",
      "\n",
      "\tIO times (sec) :\n",
      "\tReading IO time (reads) avg: 0.81, (0.81, 0.81)\n",
      "\tWriting IO time (SAM) avg: 0.29, (0.29, 0.29)\n",
      "\tReading IO time (Reference Genome) avg: 0.00, (0.00, 0.00)\n",
      "\tIndex read time avg: 0.02, (0.02, 0.02)\n",
      "\n",
      "\tOverall time (sec) (Excluding Index reading time):\n",
      "\tPROCESS() (Total compute time + (read + SAM) IO time) : 9.36\n",
      "\tMEM_PROCESS_SEQ() (Total compute time (Kernel + SAM)), avg: 8.23, (8.23, 8.23)\n",
      "\n",
      "\t SAM Processing time (sec):\n",
      "\t--WORKER_SAM avg: 1.89, (1.89, 1.89)\n",
      "\n",
      "\tKernels' compute time (sec):\n",
      "\tTotal kernel (smem+sal+bsw) time avg: 6.31, (6.31, 6.31)\n",
      "\t\tSMEM compute avg: 1.91, (1.94, 1.88)\n",
      "\t\tSAL compute avg: 0.20, (0.23, 0.17)\n",
      "\t\tBSW time, avg: 4.11, (4.12, 4.09)\n",
      "\n",
      "\tTotal allocs: 382070 = 382070 out total requests: 412355, Rate: 0.93\n",
      "\n",
      "Important parameter settings: \n",
      "\tBATCH_SIZE: 512\n",
      "\tMAX_SEQ_LEN_REF: 256\n",
      "\tMAX_SEQ_LEN_QER: 128\n",
      "\tMAX_SEQ_LEN8: 128\n",
      "\tSEEDS_PER_READ: 500\n",
      "\tSIMD_WIDTH8 X: 32\n",
      "\tSIMD_WIDTH16 X: 16\n",
      "\tAVG_SEEDS_PER_READ: 64\n",
      "[samopen] SAM header is present: 1 sequences.\n",
      "\n",
      "Creation directory for Clone3\n",
      "\n",
      "Clone3\n",
      "\n",
      "Declare Clone3 data\n",
      "\n",
      "Mapping Clone3\n",
      "\n",
      "-----------------------------\n",
      "Executing in AVX2 mode!!\n",
      "-----------------------------\n",
      "Ref file: /home/jovyan/work/DATA/Clone10/referenceCorrect.fasta\n",
      "Entering FMI_search\n",
      "reference seq len = 2040003\n",
      "count\n",
      "0,\t1\n",
      "1,\t576484\n",
      "2,\t1020002\n",
      "3,\t1463520\n",
      "4,\t2040003\n",
      "\n",
      "Reading other elements of the index from files /home/jovyan/work/DATA/Clone10/referenceCorrect.fasta\n",
      "prefix: /home/jovyan/work/DATA/Clone10/referenceCorrect.fasta\n",
      "[M::bwa_idx_load_ele] read 0 ALT contigs\n",
      "Done reading Index!!\n",
      "Reading reference genome..\n",
      "Binary seq file = /home/jovyan/work/DATA/Clone10/referenceCorrect.fasta.0123\n",
      "Reference genome size: 2040002 bp\n",
      "Done readng reference genome !!\n",
      "\n",
      "[0000] 1: Calling process()\n",
      "\n",
      "Threads used (compute): 4\n",
      "Info: projected #read in a task: 264910\n",
      "------------------------------------------\n",
      "Memory pre-allocation for chaining: 557.3706 MB\n",
      "Memory pre-allocation for BSW: 958.4681 MB\n",
      "Memory pre-allocation for BWT: 309.2567 MB\n",
      "------------------------------------------\n",
      "No. of pipeline threads: 2\n",
      "[0000] read_chunk: 40000000, work_chunk_size: 39996000, nseq: 266640\n",
      "\t[0000][ M::kt_pipeline] read 266640 sequences (39996000 bp)...\n",
      "Reallocating initial memory allocations!!\n",
      "[0000] 2. Calling mem_process_seqs.., task: 0\n",
      "[0000] read_chunk: 40000000, work_chunk_size: 0, nseq: 0\n",
      "[0000] 3. Calling kt_for - worker_bwt\n",
      "[0000] 3. Calling kt_for - worker_aln\n",
      "Inferring insert size distribution from data, l_pac: 1020001, n: 266640\n",
      "[M::mem_pestat] # candidate unique pairs for (FF, FR, RF, RR): (0, 110391, 0, 0)\n",
      "[M::mem_pestat] skip orientation FF as there are not enough pairs\n",
      "[M::mem_pestat] analyzing insert size distribution for orientation FR...\n",
      "[M::mem_pestat] (25, 50, 75) percentile: (381, 398, 415)\n",
      "[M::mem_pestat] low and high boundaries for computing mean and std.dev: (313, 483)\n",
      "[M::mem_pestat] mean and std.dev: (397.92, 24.98)\n",
      "[M::mem_pestat] low and high boundaries for proper pairs: (279, 517)\n",
      "[M::mem_pestat] skip orientation RF as there are not enough pairs\n",
      "[M::mem_pestat] skip orientation RR as there are not enough pairs\n",
      "[0000] 10. Calling kt_for - worker_sam\n",
      "\t[0000][ M::mem_process_seqs] Processed 266640 reads in 46.020 CPU sec, 11.580 real sec\n",
      "[0000] read_chunk: 40000000, work_chunk_size: 0, nseq: 0\n",
      "[0000] Computation ends..\n",
      "No. of OMP threads: 4\n",
      "Processor is runnig @2295.123867 MHz\n",
      "Runtime profile:\n",
      "\n",
      "\t Time taken for main_mem function: 12.81 Sec\n",
      "\n",
      "\tIO times (sec) :\n",
      "\tReading IO time (reads) avg: 0.85, (0.85, 0.85)\n",
      "\tWriting IO time (SAM) avg: 0.34, (0.34, 0.34)\n",
      "\tReading IO time (Reference Genome) avg: 0.00, (0.00, 0.00)\n",
      "\tIndex read time avg: 0.02, (0.02, 0.02)\n",
      "\n",
      "\tOverall time (sec) (Excluding Index reading time):\n",
      "\tPROCESS() (Total compute time + (read + SAM) IO time) : 12.79\n",
      "\tMEM_PROCESS_SEQ() (Total compute time (Kernel + SAM)), avg: 11.58, (11.58, 11.58)\n",
      "\n",
      "\t SAM Processing time (sec):\n",
      "\t--WORKER_SAM avg: 3.99, (3.99, 3.99)\n",
      "\n",
      "\tKernels' compute time (sec):\n",
      "\tTotal kernel (smem+sal+bsw) time avg: 7.55, (7.55, 7.55)\n",
      "\t\tSMEM compute avg: 2.52, (2.53, 2.50)\n",
      "\t\tSAL compute avg: 0.20, (0.21, 0.19)\n",
      "\t\tBSW time, avg: 4.74, (4.75, 4.74)\n",
      "\n",
      "\tTotal allocs: 371935 = 371935 out total requests: 412926, Rate: 0.90\n",
      "\n",
      "Important parameter settings: \n",
      "\tBATCH_SIZE: 512\n",
      "\tMAX_SEQ_LEN_REF: 256\n",
      "\tMAX_SEQ_LEN_QER: 128\n",
      "\tMAX_SEQ_LEN8: 128\n",
      "\tSEEDS_PER_READ: 500\n",
      "\tSIMD_WIDTH8 X: 32\n",
      "\tSIMD_WIDTH16 X: 16\n",
      "\tAVG_SEEDS_PER_READ: 64\n",
      "[samopen] SAM header is present: 1 sequences.\n"
     ]
    }
   ],
   "source": [
    "for i in {2..3}\n",
    "    do\n",
    "        cd ~/work/MAPPING-ILL\n",
    "        echo -e \"\\nCreation directory for Clone$i\\n\"\n",
    "        echo Clone$i\n",
    "        mkdir -p dirClone$i\n",
    "        cd dirClone$i\n",
    "\n",
    "        echo -e \"\\nDeclare Clone$i data\";\n",
    "        #REF=\"/home/jovyan/work/SG-SV-2022/DATA/Clone10/reference.fasta\" # index is already done for clone10\n",
    "        ONT=\"/home/jovyan/work/DATA/Clone${i}/ONT/Clone${i}.fastq.gz\"\n",
    "        ILL_R1=\"/home/jovyan/work/DATA/Clone${i}/ILL/Clone${i}_R1.fastq.gz\"\n",
    "        ILL_R2=\"/home/jovyan/work/DATA/Clone${i}/ILL/Clone${i}_R2.fastq.gz\"\n",
    "        \n",
    "        echo -e \"\\nMapping Clone$i\\n\"\n",
    "        bwa-mem2 mem -M -t 4 -R \"@RG\\tID:Clone${i}\\tSM:Clone${i}\" $REF $ILL_R1 $ILL_R2 > Clone$i.sam\n",
    "        samtools view -@4 -bh -S -o Clone$i.bam Clone$i.sam \n",
    "        samtools view -bh -@4 -f 0x02 -o Clone$i.mappedpaired.bam Clone$i.bam\n",
    "        samtools sort -@4 Clone$i.mappedpaired.bam Clone$i.SORTED \n",
    "        samtools index Clone$i.SORTED.bam \n",
    "    done"
   ]
  },
  {
   "cell_type": "code",
   "execution_count": null,
   "metadata": {},
   "outputs": [],
   "source": []
  },
  {
   "cell_type": "code",
   "execution_count": null,
   "metadata": {},
   "outputs": [],
   "source": []
  },
  {
   "cell_type": "code",
   "execution_count": null,
   "metadata": {},
   "outputs": [],
   "source": [
    "What is the percentage of aligned ONT and ILLUMINa reads in your clone assembly?"
   ]
  },
  {
   "cell_type": "code",
   "execution_count": null,
   "metadata": {},
   "outputs": [],
   "source": []
  },
  {
   "cell_type": "code",
   "execution_count": null,
   "metadata": {},
   "outputs": [],
   "source": []
  },
  {
   "cell_type": "code",
   "execution_count": null,
   "metadata": {},
   "outputs": [],
   "source": [
    "\n",
    "        echo -e \"\\nCalling Clone$i\";\n",
    "        gatk MarkDuplicates -I Clone$i.SORTED.bam -M duplicates.$i.metrics -O Clone$i.SORTED.MD.bam;\n",
    "        samtools index Clone$i.SORTED.MD.bam;\n",
    "        gatk --java-options \"-Xmx4g\" HaplotypeCaller --native-pair-hmm-threads 4 -I Clone$i.SORTED.MD.bam -O Clone$i.g.vcf -R ../referenceCorrect.fasta -ERC GVCF;\n"
   ]
  },
  {
   "cell_type": "code",
   "execution_count": null,
   "metadata": {},
   "outputs": [],
   "source": []
  },
  {
   "cell_type": "markdown",
   "metadata": {},
   "source": [
    "## 2.2 Mapping Long reads vs a Reference"
   ]
  },
  {
   "cell_type": "code",
   "execution_count": null,
   "metadata": {},
   "outputs": [
    {
     "name": "stdout",
     "output_type": "stream",
     "text": [
      "\n",
      "Mapping Clone3 minimap2 \n",
      "\n",
      "[M::mm_idx_gen::0.068*1.06] collected minimizers\n",
      "[M::mm_idx_gen::0.094*1.77] sorted minimizers\n",
      "[M::main::0.094*1.77] loaded/built the index for 1 target sequence(s)\n",
      "[M::mm_mapopt_update::0.100*1.73] mid_occ = 10\n",
      "[M::mm_idx_stat] kmer size: 15; skip: 10; is_hpc: 0; #seq: 1\n",
      "[M::mm_idx_stat::0.106*1.69] distinct minimizers: 165344 (91.75% are singletons); average occurrences: 1.156; average spacing: 5.336\n"
     ]
    }
   ],
   "source": [
    "echo -e \"\\nMapping Clone$i minimap2 \\n\"\n",
    "minimap2 -ax map-ont -t 4 ${REF} ${ONT} > Clone${i}_ONT.sam \n",
    "samtools view -@4 -bS -F 0x904 Clone${i}_ONT.sam | samtools sort -@4 - Clone${i}_ONT_SORTED\n",
    "samtools index Clone${i}_ONT_SORTED.bam\n",
    "rm Clone${i}_ONT.sam"
   ]
  },
  {
   "cell_type": "markdown",
   "metadata": {},
   "source": [
    "## Calling all samples on one raw VCF"
   ]
  },
  {
   "cell_type": "code",
   "execution_count": null,
   "metadata": {
    "scrolled": true
   },
   "outputs": [],
   "source": [
    "cd /ifb/data/mydatalocal/MappingAndSNP\n",
    "#Loop to inflate the --variant option\n",
    "OPTION=\"\"\n",
    "for i in {1..20}\n",
    "do\n",
    "    OPTION=\"${OPTION} --variant dirClone${i}/Clone${i}.g.vcf\"\n",
    "done\n",
    "echo $OPTION\n",
    "gatk CombineGVCFs -R referenceCorrect.fasta $OPTION -O rawSNP.vcf"
   ]
  },
  {
   "cell_type": "markdown",
   "metadata": {},
   "source": [
    "# Have a Look to it"
   ]
  },
  {
   "cell_type": "code",
   "execution_count": null,
   "metadata": {},
   "outputs": [],
   "source": [
    "head -n 1000 rawSNP.vcf | tail"
   ]
  },
  {
   "cell_type": "markdown",
   "metadata": {},
   "source": [
    "## Compute the Genotypes *:D I know I am a bad person...*"
   ]
  },
  {
   "cell_type": "code",
   "execution_count": null,
   "metadata": {},
   "outputs": [],
   "source": [
    "gatk --java-options \"-Xmx4g\" GenotypeGVCFs -R referenceCorrect.fasta -V rawSNP.vcf -O output.vcf"
   ]
  },
  {
   "cell_type": "markdown",
   "metadata": {},
   "source": [
    "## Compute the SNP density along the chromosomes"
   ]
  },
  {
   "cell_type": "code",
   "execution_count": null,
   "metadata": {},
   "outputs": [],
   "source": [
    "echo -e \"Reference\\t1000000\\n\" > /ifb/data/mydatalocal/MappingAndSNP/genome.txt\n",
    "bedtools genomecov -bga -split -i /ifb/data/mydatalocal/MappingAndSNP/output.vcf -g /ifb/data/mydatalocal/MappingAndSNP/genome.txt > /ifb/data/mydatalocal/MappingAndSNP/density.csv"
   ]
  },
  {
   "cell_type": "code",
   "execution_count": null,
   "metadata": {},
   "outputs": [],
   "source": [
    "head /ifb/data/mydatalocal/MappingAndSNP/density.csv"
   ]
  }
 ],
 "metadata": {
  "kernelspec": {
   "display_name": "Bash",
   "language": "bash",
   "name": "bash"
  },
  "language_info": {
   "codemirror_mode": "shell",
   "file_extension": ".sh",
   "mimetype": "text/x-sh",
   "name": "bash"
  }
 },
 "nbformat": 4,
 "nbformat_minor": 4
}
