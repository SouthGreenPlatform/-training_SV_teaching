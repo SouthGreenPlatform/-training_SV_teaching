{
 "cells": [
  {
   "cell_type": "markdown",
   "metadata": {},
   "source": [
    "# <span style=\"color:green\">Formation South Green 2022</span> - Structural Variants Detection by using short and long reads \n",
    "\n",
    "# __DAY 1 : How to map reads against a reference genome ?__ \n",
    "\n",
    "Created by C. Tranchant (DIADE-IRD), J. Orjuela (DIADE-IRD), F. Sabot (DIADE-IRD) and A. Dereeper (PHIM-IRD)\n",
    "\n",
    "## __1. Preparing the working environment__ \n",
    "\n",
    "### First create a dedicated folder to work \n"
   ]
  },
  {
   "cell_type": "code",
   "execution_count": 7,
   "metadata": {},
   "outputs": [
    {
     "name": "stdout",
     "output_type": "stream",
     "text": [
      "MAPPING-ILL  SV_DATA               training_SV_teaching_old\n",
      "MAPPING-ONT  training_SV_teaching\n"
     ]
    }
   ],
   "source": [
    "# go to work directory and download data\n",
    "cd /home/jovyan/work/\n",
    "ls"
   ]
  },
  {
   "cell_type": "markdown",
   "metadata": {},
   "source": [
    "## Download sequencing data (SR & LR) for Simulated clones\n",
    "\n",
    "Before starting, please download special data created for this practical training. Data are available on the from I-Trop server.\n",
    "\n",
    "Each participant will analyse a Clone, results will be complete in this shared file\n",
    "\n",
    "To generate Clone data, a 1Mb contig was extracted from chromosome 1 of rice.\n",
    "\n",
    "20 levels of variation were generated and long reads were simulated for each.\n",
    "\n",
    "We have introduced different variations (SNP, indel, indel+translocations) and also some contaminations."
   ]
  },
  {
   "cell_type": "code",
   "execution_count": null,
   "metadata": {
    "tags": []
   },
   "outputs": [],
   "source": [
    "# download available compressed DATA \n",
    "wget --no-check-certificat -rm -nH --cut-dirs=1 --reject=\"index.html*\" https://itrop.ird.fr/sv-training/SV_DATA.tar.gz\n",
    "# decompress data\n",
    "tar zxvf SV_DATA.tar.gz\n",
    "rm SV_DATA.tar.gz"
   ]
  },
  {
   "cell_type": "code",
   "execution_count": null,
   "metadata": {
    "tags": []
   },
   "outputs": [],
   "source": [
    "# check data \n",
    "ls -l SV_DATA/"
   ]
  },
  {
   "cell_type": "markdown",
   "metadata": {},
   "source": [
    "-----------------------\n",
    "# 2. MAPPING PRACTICE"
   ]
  },
  {
   "cell_type": "markdown",
   "metadata": {},
   "source": [
    "Read congruency is an important measure in determining assembly accuracy.\n",
    "\n",
    "Clusters of read pairs or single long reads that align incorrectly are strong indicators of mis-assembly.\n",
    "\n",
    "Reads mapping is usually the firt step before SNP or Variant calling."
   ]
  },
  {
   "cell_type": "markdown",
   "metadata": {},
   "source": [
    "### 2.1 Make a folder for your results"
   ]
  },
  {
   "cell_type": "code",
   "execution_count": 8,
   "metadata": {},
   "outputs": [],
   "source": [
    "mkdir -p ~/work/MAPPING-ILL\n",
    "cd ~/work/MAPPING-ILL"
   ]
  },
  {
   "cell_type": "markdown",
   "metadata": {},
   "source": [
    "### 2.2 Declare important variables"
   ]
  },
  {
   "cell_type": "code",
   "execution_count": 9,
   "metadata": {},
   "outputs": [],
   "source": [
    "i=10\n",
    "REF_DIR=\"/home/jovyan/work/SV_DATA/REF/\"\n",
    "REF=\"/home/jovyan/work/SV_DATA/REF/reference.fasta\"\n",
    "ONT=\"/home/jovyan/work/SV_DATA/LONG_READS/Clone${i}.fastq.gz\"\n",
    "ILL_R1=\"/home/jovyan/work/SV_DATA/SHORT_READS/Clone${i}_R1.fastq.gz\"\n",
    "ILL_R2=\"/home/jovyan/work/SV_DATA/SHORT_READS/Clone${i}_R2.fastq.gz\""
   ]
  },
  {
   "cell_type": "code",
   "execution_count": 10,
   "metadata": {},
   "outputs": [
    {
     "name": "stdout",
     "output_type": "stream",
     "text": [
      "Clone10 /home/jovyan/work/SV_DATA/REF/reference.fasta\n",
      "/home/jovyan/work/SV_DATA/SHORT_READS/Clone10_R1.fastq.gz /home/jovyan/work/SV_DATA/SHORT_READS/Clone10_R2.fastq.gz\n"
     ]
    }
   ],
   "source": [
    "echo \"Clone${i} $REF\" \n",
    "echo $ILL_R1 $ILL_R2"
   ]
  },
  {
   "cell_type": "markdown",
   "metadata": {
    "tags": []
   },
   "source": [
    "## 2.1 Mapping short reads vs a reference with `bwa mem`"
   ]
  },
  {
   "cell_type": "markdown",
   "metadata": {},
   "source": [
    "In this practice, we are going to map short reads against a reference. To know, how well do the reads align back to the reference, we use bwa-mem2 and samtools to assess the basic alignment statistics.\n",
    "\n",
    "In this exercise, we will use reference.fasta assembly as well ILLUMINA READS from your favorite CLONE.\n",
    "\n",
    "The tool bwa needs 2 steps: \n",
    "- **Reference indexing**: `bwa index reference`\n",
    "- **Mapping in itself**: `bwa mem  -R READGROUP [options] reference fastq1 fastq2 > out.sam`"
   ]
  },
  {
   "cell_type": "markdown",
   "metadata": {},
   "source": [
    "## Reference indexation "
   ]
  },
  {
   "cell_type": "markdown",
   "metadata": {},
   "source": [
    "Before mapping we need index reference file! Check bwa-mem2 index command line."
   ]
  },
  {
   "cell_type": "code",
   "execution_count": null,
   "metadata": {},
   "outputs": [],
   "source": [
    "cd $REF_DIR"
   ]
  },
  {
   "cell_type": "code",
   "execution_count": 11,
   "metadata": {},
   "outputs": [
    {
     "name": "stdout",
     "output_type": "stream",
     "text": [
      "\n",
      "Indexing reference /home/jovyan/work/SV_DATA/REF/reference.fasta\n",
      "\n",
      "[bwa_index] Pack FASTA... 0.01 sec\n",
      "init ticks = 195299651\n",
      "ref seq len = 2040002\n",
      "binary seq ticks = 67372992\n",
      "build index ticks = 647368842\n",
      "ref_seq_len = 2040002\n",
      "count = 0, 576483, 1020001, 1463519, 2040002\n",
      "BWT[1932441] = 4\n",
      "CP_SHIFT = 5, CP_MASK = 31\n",
      "sizeof CP_OCC = 64\n",
      "max_occ_ind = 63750\n",
      "ref_seq_len = 2040002\n",
      "count = 0, 576483, 1020001, 1463519, 2040002\n",
      "BWT[1932441] = 4\n",
      "CP_SHIFT = 6, CP_MASK = 63\n",
      "sizeof CP_OCC = 64\n",
      "max_occ_ind = 31875\n"
     ]
    }
   ],
   "source": [
    "echo -e \"\\nIndexing reference $REF\\n\"\n",
    "bwa-mem2 index $REF"
   ]
  },
  {
   "cell_type": "code",
   "execution_count": 12,
   "metadata": {},
   "outputs": [
    {
     "name": "stdout",
     "output_type": "stream",
     "text": [
      "/home/jovyan/work/MAPPING-ILL\n"
     ]
    }
   ],
   "source": [
    "pwd"
   ]
  },
  {
   "cell_type": "code",
   "execution_count": 13,
   "metadata": {},
   "outputs": [
    {
     "name": "stdout",
     "output_type": "stream",
     "text": [
      "dirClone1   dirClone13  dirClone17  dirClone20  dirClone6\n",
      "dirClone10  dirClone14  dirClone18  dirClone3   dirClone7\n",
      "dirClone11  dirClone15  dirClone19  dirClone4   dirClone8\n",
      "dirClone12  dirClone16  dirClone2   dirClone5   dirClone9\n"
     ]
    }
   ],
   "source": [
    "ls"
   ]
  },
  {
   "cell_type": "markdown",
   "metadata": {},
   "source": [
    "##  Let's map now but only WITH READS FROM ONLY ONE CLONE"
   ]
  },
  {
   "cell_type": "code",
   "execution_count": 14,
   "metadata": {},
   "outputs": [
    {
     "name": "stdout",
     "output_type": "stream",
     "text": [
      "\n",
      "Creation directory for Clone10\n",
      "\n",
      "Clone10\n"
     ]
    }
   ],
   "source": [
    "cd ~/work/MAPPING-ILL\n",
    "echo -e \"\\nCreation directory for Clone$i\\n\"\n",
    "echo Clone$i\n",
    "mkdir -p dirClone$i\n",
    "cd dirClone$i"
   ]
  },
  {
   "cell_type": "code",
   "execution_count": null,
   "metadata": {
    "tags": []
   },
   "outputs": [],
   "source": [
    "echo -e \"\\nMapping Clone$i\\n\"\n",
    "bwa-mem2 mem -M -t 4 $REF $ILL_R1 $ILL_R2 > Clone$i.sam"
   ]
  },
  {
   "cell_type": "code",
   "execution_count": null,
   "metadata": {},
   "outputs": [],
   "source": [
    "pwd "
   ]
  },
  {
   "cell_type": "code",
   "execution_count": null,
   "metadata": {},
   "outputs": [],
   "source": [
    "ls"
   ]
  },
  {
   "cell_type": "code",
   "execution_count": null,
   "metadata": {},
   "outputs": [],
   "source": [
    "head Clone10.sam"
   ]
  },
  {
   "cell_type": "markdown",
   "metadata": {},
   "source": [
    "##  Calculate stats from mapping"
   ]
  },
  {
   "cell_type": "code",
   "execution_count": null,
   "metadata": {
    "tags": []
   },
   "outputs": [],
   "source": [
    "samtools view -@4 -bh -S -o  Clone$i.bam Clone$i.sam \n",
    "rm Clone$i.sam\n",
    "samtools flagstat Clone$i.bam >Clone$i.flagstats"
   ]
  },
  {
   "cell_type": "markdown",
   "metadata": {},
   "source": [
    "##  Calculate stats only for correctly mapped reads"
   ]
  },
  {
   "cell_type": "code",
   "execution_count": null,
   "metadata": {},
   "outputs": [],
   "source": [
    "samtools view -bh -@4 -f 0x02 -o Clone$i.mappedpaired.bam Clone$i.bam \n",
    "samtools flagstat Clone$i.mappedpaired.bam > Clone$i.mappedpaired.flagstats"
   ]
  },
  {
   "cell_type": "markdown",
   "metadata": {},
   "source": [
    "##  Sorting final bam"
   ]
  },
  {
   "cell_type": "code",
   "execution_count": null,
   "metadata": {},
   "outputs": [],
   "source": [
    "samtools sort -@4 Clone$i.mappedpaired.bam Clone$i.SORTED \n",
    "rm Clone$i.mappedpaired.bam"
   ]
  },
  {
   "cell_type": "markdown",
   "metadata": {
    "tags": []
   },
   "source": [
    "##  Indexing bam"
   ]
  },
  {
   "cell_type": "code",
   "execution_count": null,
   "metadata": {},
   "outputs": [],
   "source": [
    "samtools index Clone$i.SORTED.bam"
   ]
  },
  {
   "cell_type": "code",
   "execution_count": null,
   "metadata": {},
   "outputs": [],
   "source": [
    "ls -lrt"
   ]
  },
  {
   "cell_type": "markdown",
   "metadata": {
    "tags": []
   },
   "source": [
    "## Let's map with data from all clones using a loop for mapping, with a single folder per sample"
   ]
  },
  {
   "cell_type": "code",
   "execution_count": 15,
   "metadata": {
    "collapsed": true,
    "jupyter": {
     "outputs_hidden": true
    },
    "tags": []
   },
   "outputs": [
    {
     "name": "stdout",
     "output_type": "stream",
     "text": [
      "\n",
      "Creation directory for Clone8\n",
      "\n",
      "Clone8\n",
      "\n",
      "Declare variables8\n",
      "\n",
      "\n",
      "Mapping Clone8\n",
      "\n",
      "-----------------------------\n",
      "Executing in AVX2 mode!!\n",
      "-----------------------------\n",
      "Ref file: /home/jovyan/work/SV_DATA/REF/reference.fasta\n",
      "Entering FMI_search\n",
      "reference seq len = 2040003\n",
      "count\n",
      "0,\t1\n",
      "1,\t576484\n",
      "2,\t1020002\n",
      "3,\t1463520\n",
      "4,\t2040003\n",
      "\n",
      "Reading other elements of the index from files /home/jovyan/work/SV_DATA/REF/reference.fasta\n",
      "prefix: /home/jovyan/work/SV_DATA/REF/reference.fasta\n",
      "[M::bwa_idx_load_ele] read 0 ALT contigs\n",
      "Done reading Index!!\n",
      "Reading reference genome..\n",
      "Binary seq file = /home/jovyan/work/SV_DATA/REF/reference.fasta.0123\n",
      "Reference genome size: 2040002 bp\n",
      "Done readng reference genome !!\n",
      "\n",
      "[0000] 1: Calling process()\n",
      "\n",
      "Threads used (compute): 4\n",
      "Info: projected #read in a task: 264910\n",
      "------------------------------------------\n",
      "Memory pre-allocation for chaining: 557.3706 MB\n",
      "Memory pre-allocation for BSW: 958.4681 MB\n",
      "Memory pre-allocation for BWT: 309.2567 MB\n",
      "------------------------------------------\n",
      "No. of pipeline threads: 2\n",
      "[0000] read_chunk: 40000000, work_chunk_size: 40000200, nseq: 266668\n",
      "\t[0000][ M::kt_pipeline] read 266668 sequences (40000200 bp)...\n",
      "Reallocating initial memory allocations!!\n",
      "[0000] 2. Calling mem_process_seqs.., task: 0\n",
      "[0000] 3. Calling kt_for - worker_bwt\n",
      "[0000] read_chunk: 40000000, work_chunk_size: 40000200, nseq: 266668\n",
      "\t[0000][ M::kt_pipeline] read 266668 sequences (40000200 bp)...\n",
      "[0000] 3. Calling kt_for - worker_aln\n",
      "Inferring insert size distribution from data, l_pac: 1020001, n: 266668\n",
      "[M::mem_pestat] # candidate unique pairs for (FF, FR, RF, RR): (0, 53301, 1, 0)\n",
      "[M::mem_pestat] skip orientation FF as there are not enough pairs\n",
      "[M::mem_pestat] analyzing insert size distribution for orientation FR...\n",
      "[M::mem_pestat] (25, 50, 75) percentile: (380, 397, 414)\n",
      "[M::mem_pestat] low and high boundaries for computing mean and std.dev: (312, 482)\n",
      "[M::mem_pestat] mean and std.dev: (397.15, 25.62)\n",
      "[M::mem_pestat] low and high boundaries for proper pairs: (278, 516)\n",
      "[M::mem_pestat] skip orientation RF as there are not enough pairs\n",
      "[M::mem_pestat] skip orientation RR as there are not enough pairs\n",
      "[0000] 10. Calling kt_for - worker_sam\n",
      "\t[0000][ M::mem_process_seqs] Processed 266668 reads in 29.383 CPU sec, 7.212 real sec\n",
      "[0000] 2. Calling mem_process_seqs.., task: 1\n",
      "[0000] 3. Calling kt_for - worker_bwt\n",
      "[0000] read_chunk: 40000000, work_chunk_size: 1365600, nseq: 9104\n",
      "\t[0000][ M::kt_pipeline] read 9104 sequences (1365600 bp)...\n",
      "[0000] 3. Calling kt_for - worker_aln\n",
      "Inferring insert size distribution from data, l_pac: 1020001, n: 266668\n",
      "[M::mem_pestat] # candidate unique pairs for (FF, FR, RF, RR): (0, 53613, 0, 0)\n",
      "[M::mem_pestat] skip orientation FF as there are not enough pairs\n",
      "[M::mem_pestat] analyzing insert size distribution for orientation FR...\n",
      "[M::mem_pestat] (25, 50, 75) percentile: (380, 397, 414)\n",
      "[M::mem_pestat] low and high boundaries for computing mean and std.dev: (312, 482)\n",
      "[M::mem_pestat] mean and std.dev: (397.26, 25.57)\n",
      "[M::mem_pestat] low and high boundaries for proper pairs: (278, 516)\n",
      "[M::mem_pestat] skip orientation RF as there are not enough pairs\n",
      "[M::mem_pestat] skip orientation RR as there are not enough pairs\n",
      "[0000] 10. Calling kt_for - worker_sam\n",
      "\t[0000][ M::mem_process_seqs] Processed 266668 reads in 26.709 CPU sec, 6.633 real sec\n",
      "[0000] 2. Calling mem_process_seqs.., task: 2\n",
      "[0000] 3. Calling kt_for - worker_bwt\n",
      "[0000] 3. Calling kt_for - worker_aln\n",
      "Inferring insert size distribution from data, l_pac: 1020001, n: 9104\n",
      "[M::mem_pestat] # candidate unique pairs for (FF, FR, RF, RR): (0, 1883, 0, 0)\n",
      "[M::mem_pestat] skip orientation FF as there are not enough pairs\n",
      "[M::mem_pestat] analyzing insert size distribution for orientation FR...\n",
      "[M::mem_pestat] (25, 50, 75) percentile: (380, 396, 415)\n",
      "[M::mem_pestat] low and high boundaries for computing mean and std.dev: (310, 485)\n",
      "[M::mem_pestat] mean and std.dev: (397.05, 25.73)\n",
      "[M::mem_pestat] low and high boundaries for proper pairs: (275, 520)\n",
      "[M::mem_pestat] skip orientation RF as there are not enough pairs\n",
      "[M::mem_pestat] skip orientation RR as there are not enough pairs\n",
      "[0000] 10. Calling kt_for - worker_sam\n",
      "\t[0000][ M::mem_process_seqs] Processed 9104 reads in 1.267 CPU sec, 0.275 real sec\n",
      "[0000] read_chunk: 40000000, work_chunk_size: 0, nseq: 0\n",
      "[0000] read_chunk: 40000000, work_chunk_size: 0, nseq: 0\n",
      "[0000] Computation ends..\n",
      "No. of OMP threads: 4\n",
      "Processor is runnig @2295.118871 MHz\n",
      "Runtime profile:\n",
      "\n",
      "\t Time taken for main_mem function: 15.07 Sec\n",
      "\n",
      "\tIO times (sec) :\n",
      "\tReading IO time (reads) avg: 1.86, (1.86, 1.86)\n",
      "\tWriting IO time (SAM) avg: 0.59, (0.59, 0.59)\n",
      "\tReading IO time (Reference Genome) avg: 0.00, (0.00, 0.00)\n",
      "\tIndex read time avg: 0.02, (0.02, 0.02)\n",
      "\n",
      "\tOverall time (sec) (Excluding Index reading time):\n",
      "\tPROCESS() (Total compute time + (read + SAM) IO time) : 15.05\n",
      "\tMEM_PROCESS_SEQ() (Total compute time (Kernel + SAM)), avg: 14.12, (14.12, 14.12)\n",
      "\n",
      "\t SAM Processing time (sec):\n",
      "\t--WORKER_SAM avg: 4.10, (4.10, 4.10)\n",
      "\n",
      "\tKernels' compute time (sec):\n",
      "\tTotal kernel (smem+sal+bsw) time avg: 9.98, (9.98, 9.98)\n",
      "\t\tSMEM compute avg: 4.74, (4.77, 4.71)\n",
      "\t\tSAL compute avg: 0.20, (0.23, 0.18)\n",
      "\t\tBSW time, avg: 4.88, (4.89, 4.86)\n",
      "\n",
      "\tTotal allocs: 372801 = 372801 out total requests: 416603, Rate: 0.89\n",
      "\n",
      "Important parameter settings: \n",
      "\tBATCH_SIZE: 512\n",
      "\tMAX_SEQ_LEN_REF: 256\n",
      "\tMAX_SEQ_LEN_QER: 128\n",
      "\tMAX_SEQ_LEN8: 128\n",
      "\tSEEDS_PER_READ: 500\n",
      "\tSIMD_WIDTH8 X: 32\n",
      "\tSIMD_WIDTH16 X: 16\n",
      "\tAVG_SEEDS_PER_READ: 64\n",
      "\n",
      "Mapping Clone8\n",
      "\n",
      "[samopen] SAM header is present: 1 sequences.\n",
      "\n",
      "Flagstats from all reads 8\n",
      "\n",
      "\n",
      "Extract only correctly mapped and calculate flagstats 8\n",
      "\n",
      "\n",
      "Sort mappedpaires bam file 8\n",
      "\n",
      "\n",
      "Creation directory for Clone9\n",
      "\n",
      "Clone9\n",
      "\n",
      "Declare variables9\n",
      "\n",
      "\n",
      "Mapping Clone9\n",
      "\n",
      "-----------------------------\n",
      "Executing in AVX2 mode!!\n",
      "-----------------------------\n",
      "Ref file: /home/jovyan/work/SV_DATA/REF/reference.fasta\n",
      "Entering FMI_search\n",
      "reference seq len = 2040003\n",
      "count\n",
      "0,\t1\n",
      "1,\t576484\n",
      "2,\t1020002\n",
      "3,\t1463520\n",
      "4,\t2040003\n",
      "\n",
      "Reading other elements of the index from files /home/jovyan/work/SV_DATA/REF/reference.fasta\n",
      "prefix: /home/jovyan/work/SV_DATA/REF/reference.fasta\n",
      "[M::bwa_idx_load_ele] read 0 ALT contigs\n",
      "Done reading Index!!\n",
      "Reading reference genome..\n",
      "Binary seq file = /home/jovyan/work/SV_DATA/REF/reference.fasta.0123\n",
      "Reference genome size: 2040002 bp\n",
      "Done readng reference genome !!\n",
      "\n",
      "[0000] 1: Calling process()\n",
      "\n",
      "Threads used (compute): 4\n",
      "Info: projected #read in a task: 264910\n",
      "------------------------------------------\n",
      "Memory pre-allocation for chaining: 557.3706 MB\n",
      "Memory pre-allocation for BSW: 958.4681 MB\n",
      "Memory pre-allocation for BWT: 309.2567 MB\n",
      "------------------------------------------\n",
      "No. of pipeline threads: 2\n",
      "[0000] read_chunk: 40000000, work_chunk_size: 40000200, nseq: 266668\n",
      "\t[0000][ M::kt_pipeline] read 266668 sequences (40000200 bp)...\n",
      "Reallocating initial memory allocations!!\n",
      "[0000] 2. Calling mem_process_seqs.., task: 0\n",
      "[0000] 3. Calling kt_for - worker_bwt\n",
      "[0000] read_chunk: 40000000, work_chunk_size: 7189800, nseq: 47932\n",
      "\t[0000][ M::kt_pipeline] read 47932 sequences (7189800 bp)...\n",
      "[0000] 3. Calling kt_for - worker_aln\n",
      "Inferring insert size distribution from data, l_pac: 1020001, n: 266668\n",
      "[M::mem_pestat] # candidate unique pairs for (FF, FR, RF, RR): (0, 87905, 0, 0)\n",
      "[M::mem_pestat] skip orientation FF as there are not enough pairs\n",
      "[M::mem_pestat] analyzing insert size distribution for orientation FR...\n",
      "[M::mem_pestat] (25, 50, 75) percentile: (381, 398, 415)\n",
      "[M::mem_pestat] low and high boundaries for computing mean and std.dev: (313, 483)\n",
      "[M::mem_pestat] mean and std.dev: (397.64, 25.23)\n",
      "[M::mem_pestat] low and high boundaries for proper pairs: (279, 517)\n",
      "[M::mem_pestat] skip orientation RF as there are not enough pairs\n",
      "[M::mem_pestat] skip orientation RR as there are not enough pairs\n",
      "[0000] 10. Calling kt_for - worker_sam\n",
      "\t[0000][ M::mem_process_seqs] Processed 266668 reads in 38.067 CPU sec, 9.582 real sec\n",
      "[0000] 2. Calling mem_process_seqs.., task: 1\n",
      "[0000] 3. Calling kt_for - worker_bwt\n",
      "[0000] read_chunk: 40000000, work_chunk_size: 0, nseq: 0\n",
      "[0000] 3. Calling kt_for - worker_aln\n",
      "Inferring insert size distribution from data, l_pac: 1020001, n: 47932\n",
      "[M::mem_pestat] # candidate unique pairs for (FF, FR, RF, RR): (0, 15780, 0, 0)\n",
      "[M::mem_pestat] skip orientation FF as there are not enough pairs\n",
      "[M::mem_pestat] analyzing insert size distribution for orientation FR...\n",
      "[M::mem_pestat] (25, 50, 75) percentile: (381, 397, 414)\n",
      "[M::mem_pestat] low and high boundaries for computing mean and std.dev: (315, 480)\n",
      "[M::mem_pestat] mean and std.dev: (397.28, 24.99)\n",
      "[M::mem_pestat] low and high boundaries for proper pairs: (282, 513)\n",
      "[M::mem_pestat] skip orientation RF as there are not enough pairs\n",
      "[M::mem_pestat] skip orientation RR as there are not enough pairs\n",
      "[0000] 10. Calling kt_for - worker_sam\n",
      "\t[0000][ M::mem_process_seqs] Processed 47932 reads in 6.939 CPU sec, 1.704 real sec\n",
      "[0000] read_chunk: 40000000, work_chunk_size: 0, nseq: 0\n",
      "[0000] Computation ends..\n",
      "No. of OMP threads: 4\n",
      "Processor is runnig @2295.074985 MHz\n",
      "Runtime profile:\n",
      "\n",
      "\t Time taken for main_mem function: 12.26 Sec\n",
      "\n",
      "\tIO times (sec) :\n",
      "\tReading IO time (reads) avg: 1.04, (1.04, 1.04)\n",
      "\tWriting IO time (SAM) avg: 0.34, (0.34, 0.34)\n",
      "\tReading IO time (Reference Genome) avg: 0.00, (0.00, 0.00)\n",
      "\tIndex read time avg: 0.02, (0.02, 0.02)\n",
      "\n",
      "\tOverall time (sec) (Excluding Index reading time):\n",
      "\tPROCESS() (Total compute time + (read + SAM) IO time) : 12.24\n",
      "\tMEM_PROCESS_SEQ() (Total compute time (Kernel + SAM)), avg: 11.28, (11.28, 11.28)\n",
      "\n",
      "\t SAM Processing time (sec):\n",
      "\t--WORKER_SAM avg: 3.75, (3.75, 3.75)\n",
      "\n",
      "\tKernels' compute time (sec):\n",
      "\tTotal kernel (smem+sal+bsw) time avg: 7.51, (7.51, 7.51)\n",
      "\t\tSMEM compute avg: 2.83, (2.85, 2.81)\n",
      "\t\tSAL compute avg: 0.19, (0.22, 0.18)\n",
      "\t\tBSW time, avg: 4.36, (4.38, 4.34)\n",
      "\n",
      "\tTotal allocs: 351594 = 351594 out total requests: 392293, Rate: 0.90\n",
      "\n",
      "Important parameter settings: \n",
      "\tBATCH_SIZE: 512\n",
      "\tMAX_SEQ_LEN_REF: 256\n",
      "\tMAX_SEQ_LEN_QER: 128\n",
      "\tMAX_SEQ_LEN8: 128\n",
      "\tSEEDS_PER_READ: 500\n",
      "\tSIMD_WIDTH8 X: 32\n",
      "\tSIMD_WIDTH16 X: 16\n",
      "\tAVG_SEEDS_PER_READ: 64\n",
      "\n",
      "Mapping Clone9\n",
      "\n",
      "[samopen] SAM header is present: 1 sequences.\n",
      "\n",
      "Flagstats from all reads 9\n",
      "\n",
      "\n",
      "Extract only correctly mapped and calculate flagstats 9\n",
      "\n",
      "\n",
      "Sort mappedpaires bam file 9\n",
      "\n",
      "\n",
      "Creation directory for Clone10\n",
      "\n",
      "Clone10\n",
      "\n",
      "Declare variables10\n",
      "\n",
      "\n",
      "Mapping Clone10\n",
      "\n",
      "-----------------------------\n",
      "Executing in AVX2 mode!!\n",
      "-----------------------------\n",
      "Ref file: /home/jovyan/work/SV_DATA/REF/reference.fasta\n",
      "Entering FMI_search\n",
      "reference seq len = 2040003\n",
      "count\n",
      "0,\t1\n",
      "1,\t576484\n",
      "2,\t1020002\n",
      "3,\t1463520\n",
      "4,\t2040003\n",
      "\n",
      "Reading other elements of the index from files /home/jovyan/work/SV_DATA/REF/reference.fasta\n",
      "prefix: /home/jovyan/work/SV_DATA/REF/reference.fasta\n",
      "[M::bwa_idx_load_ele] read 0 ALT contigs\n",
      "Done reading Index!!\n",
      "Reading reference genome..\n",
      "Binary seq file = /home/jovyan/work/SV_DATA/REF/reference.fasta.0123\n",
      "Reference genome size: 2040002 bp\n",
      "Done readng reference genome !!\n",
      "\n",
      "[0000] 1: Calling process()\n",
      "\n",
      "Threads used (compute): 4\n",
      "Info: projected #read in a task: 264910\n",
      "------------------------------------------\n",
      "Memory pre-allocation for chaining: 557.3706 MB\n",
      "Memory pre-allocation for BSW: 958.4681 MB\n",
      "Memory pre-allocation for BWT: 309.2567 MB\n",
      "------------------------------------------\n",
      "No. of pipeline threads: 2\n",
      "[0000] read_chunk: 40000000, work_chunk_size: 40000200, nseq: 266668\n",
      "\t[0000][ M::kt_pipeline] read 266668 sequences (40000200 bp)...\n",
      "Reallocating initial memory allocations!!\n",
      "[0000] 2. Calling mem_process_seqs.., task: 0\n",
      "[0000] 3. Calling kt_for - worker_bwt\n",
      "[0000] read_chunk: 40000000, work_chunk_size: 4363800, nseq: 29092\n",
      "\t[0000][ M::kt_pipeline] read 29092 sequences (4363800 bp)...\n",
      "[0000] 3. Calling kt_for - worker_aln\n",
      "Inferring insert size distribution from data, l_pac: 1020001, n: 266668\n",
      "[M::mem_pestat] # candidate unique pairs for (FF, FR, RF, RR): (0, 81468, 1, 0)\n",
      "[M::mem_pestat] skip orientation FF as there are not enough pairs\n",
      "[M::mem_pestat] analyzing insert size distribution for orientation FR...\n",
      "[M::mem_pestat] (25, 50, 75) percentile: (380, 398, 415)\n",
      "[M::mem_pestat] low and high boundaries for computing mean and std.dev: (310, 485)\n",
      "[M::mem_pestat] mean and std.dev: (397.35, 25.38)\n",
      "[M::mem_pestat] low and high boundaries for proper pairs: (275, 520)\n",
      "[M::mem_pestat] skip orientation RF as there are not enough pairs\n",
      "[M::mem_pestat] skip orientation RR as there are not enough pairs\n",
      "[0000] 10. Calling kt_for - worker_sam\n",
      "\t[0000][ M::mem_process_seqs] Processed 266668 reads in 35.679 CPU sec, 8.958 real sec\n",
      "[0000] 2. Calling mem_process_seqs.., task: 1\n",
      "[0000] 3. Calling kt_for - worker_bwt\n",
      "[0000] 3. Calling kt_for - worker_aln\n",
      "[0000] read_chunk: 40000000, work_chunk_size: 0, nseq: 0\n",
      "Inferring insert size distribution from data, l_pac: 1020001, n: 29092\n",
      "[M::mem_pestat] # candidate unique pairs for (FF, FR, RF, RR): (0, 8981, 0, 0)\n",
      "[M::mem_pestat] skip orientation FF as there are not enough pairs\n",
      "[M::mem_pestat] analyzing insert size distribution for orientation FR...\n",
      "[M::mem_pestat] (25, 50, 75) percentile: (380, 397, 414)\n",
      "[M::mem_pestat] low and high boundaries for computing mean and std.dev: (312, 482)\n",
      "[M::mem_pestat] mean and std.dev: (396.79, 25.24)\n",
      "[M::mem_pestat] low and high boundaries for proper pairs: (278, 516)\n",
      "[M::mem_pestat] skip orientation RF as there are not enough pairs\n",
      "[M::mem_pestat] skip orientation RR as there are not enough pairs\n",
      "[0000] 10. Calling kt_for - worker_sam\n",
      "\t[0000][ M::mem_process_seqs] Processed 29092 reads in 4.384 CPU sec, 1.049 real sec\n",
      "[0000] read_chunk: 40000000, work_chunk_size: 0, nseq: 0\n",
      "[0000] Computation ends..\n",
      "No. of OMP threads: 4\n",
      "Processor is runnig @2295.123363 MHz\n",
      "Runtime profile:\n",
      "\n",
      "\t Time taken for main_mem function: 10.95 Sec\n",
      "\n",
      "\tIO times (sec) :\n",
      "\tReading IO time (reads) avg: 0.98, (0.98, 0.98)\n",
      "\tWriting IO time (SAM) avg: 0.34, (0.34, 0.34)\n",
      "\tReading IO time (Reference Genome) avg: 0.00, (0.00, 0.00)\n",
      "\tIndex read time avg: 0.02, (0.02, 0.02)\n",
      "\n",
      "\tOverall time (sec) (Excluding Index reading time):\n",
      "\tPROCESS() (Total compute time + (read + SAM) IO time) : 10.92\n",
      "\tMEM_PROCESS_SEQ() (Total compute time (Kernel + SAM)), avg: 10.01, (10.01, 10.01)\n",
      "\n",
      "\t SAM Processing time (sec):\n",
      "\t--WORKER_SAM avg: 3.40, (3.40, 3.40)\n",
      "\n",
      "\tKernels' compute time (sec):\n",
      "\tTotal kernel (smem+sal+bsw) time avg: 6.58, (6.58, 6.58)\n",
      "\t\tSMEM compute avg: 2.69, (2.71, 2.66)\n",
      "\t\tSAL compute avg: 0.15, (0.17, 0.11)\n",
      "\t\tBSW time, avg: 3.63, (3.64, 3.61)\n",
      "\n",
      "\tTotal allocs: 294450 = 294450 out total requests: 343778, Rate: 0.86\n",
      "\n",
      "Important parameter settings: \n",
      "\tBATCH_SIZE: 512\n",
      "\tMAX_SEQ_LEN_REF: 256\n",
      "\tMAX_SEQ_LEN_QER: 128\n",
      "\tMAX_SEQ_LEN8: 128\n",
      "\tSEEDS_PER_READ: 500\n",
      "\tSIMD_WIDTH8 X: 32\n",
      "\tSIMD_WIDTH16 X: 16\n",
      "\tAVG_SEEDS_PER_READ: 64\n",
      "\n",
      "Mapping Clone10\n",
      "\n",
      "[samopen] SAM header is present: 1 sequences.\n",
      "\n",
      "Flagstats from all reads 10\n",
      "\n",
      "\n",
      "Extract only correctly mapped and calculate flagstats 10\n",
      "\n",
      "\n",
      "Sort mappedpaires bam file 10\n",
      "\n"
     ]
    }
   ],
   "source": [
    "for i in {1..20}\n",
    "    do\n",
    "        cd ~/work/MAPPING-ILL\n",
    "        echo -e \"\\nCreation directory for Clone$i\\n\"\n",
    "        echo Clone$i\n",
    "        mkdir -p dirClone$i\n",
    "        cd dirClone$i\n",
    "        \n",
    "        echo -e \"\\nDeclare variables$i\\n\"\n",
    "        REF=\"/home/jovyan/work/SV_DATA/REF/reference.fasta\"\n",
    "        ILL_R1=\"/home/jovyan/work/SV_DATA/SHORT_READS/Clone${i}_R1.fastq.gz\"\n",
    "        ILL_R2=\"/home/jovyan/work/SV_DATA/SHORT_READS/Clone${i}_R2.fastq.gz\"\n",
    "\n",
    "        echo -e \"\\nMapping Clone$i\\n\"\n",
    "        bwa-mem2 mem -M -t 4 $REF $ILL_R1 $ILL_R2 > Clone$i.sam\n",
    "        \n",
    "        echo -e \"\\nMapping Clone$i\\n\"\n",
    "        samtools view -@4 -bh -S -o  Clone$i.bam Clone$i.sam \n",
    "        rm Clone$i.sam\n",
    "        echo -e \"\\nFlagstats from all reads $i\\n\"\n",
    "        samtools flagstat Clone$i.bam >Clone$i.flagstats\n",
    "        \n",
    "        echo -e \"\\nExtract only correctly mapped and calculate flagstats $i\\n\"\n",
    "        samtools view -bh -@4 -f 0x02 -o Clone$i.mappedpaired.bam Clone$i.bam \n",
    "        samtools flagstat Clone$i.mappedpaired.bam > Clone$i.mappedpaired.flagstats\n",
    "        \n",
    "        echo -e \"\\nSort mappedpaires bam file $i\\n\"\n",
    "        samtools sort -@4 Clone$i.mappedpaired.bam Clone$i.SORTED \n",
    "        rm Clone$i.mappedpaired.bam\n",
    "    done"
   ]
  },
  {
   "cell_type": "markdown",
   "metadata": {},
   "source": [
    "## 2.2 Mapping Long reads vs a Reference"
   ]
  },
  {
   "cell_type": "markdown",
   "metadata": {},
   "source": [
    "Similar process such as SR is done in LR. In this case mapper is minimap2."
   ]
  },
  {
   "cell_type": "code",
   "execution_count": null,
   "metadata": {},
   "outputs": [],
   "source": [
    "# Declare variables\n",
    "i=10\n",
    "REF_DIR=\"/home/jovyan/work/SV_DATA/REF/\"\n",
    "REF=\"/home/jovyan/work/SV_DATA/REF/reference.fasta\"\n",
    "ONT=\"/home/jovyan/work/SV_DATA/LONG_READS/Clone${i}.fastq.gz\""
   ]
  },
  {
   "cell_type": "markdown",
   "metadata": {
    "tags": []
   },
   "source": [
    "##  Let's map now but only WITH READS FROM ONLY ONE CLONE"
   ]
  },
  {
   "cell_type": "code",
   "execution_count": null,
   "metadata": {},
   "outputs": [],
   "source": [
    "mkdir -p ~/work/MAPPING-ONT\n",
    "cd ~/work/MAPPING-ONT\n",
    "echo -e \"\\nCreation directory for Clone$i\\n\"\n",
    "echo Clone$i\n",
    "mkdir -p dirClone$i\n",
    "cd dirClone$i"
   ]
  },
  {
   "cell_type": "code",
   "execution_count": null,
   "metadata": {},
   "outputs": [],
   "source": [
    "echo -e \"\\nMapping Clone$i minimap2 \\n\"\n",
    "minimap2 -ax map-ont -t 4 ${REF} ${ONT} > Clone${i}_ONT.sam "
   ]
  },
  {
   "cell_type": "code",
   "execution_count": null,
   "metadata": {},
   "outputs": [],
   "source": [
    "head -n3 Clone${i}_ONT.sam"
   ]
  },
  {
   "cell_type": "code",
   "execution_count": null,
   "metadata": {},
   "outputs": [],
   "source": [
    "## Convert samtobam \n",
    "echo -e \"\\nConvert samtobam and filter it \\n\"\n",
    "samtools view -@4 -bh -S -F 0x904 -o Clone${i}_ONT.bam Clone${i}_ONT.sam\n",
    "rm Clone${i}_ONT.sam"
   ]
  },
  {
   "cell_type": "code",
   "execution_count": null,
   "metadata": {},
   "outputs": [],
   "source": [
    "echo -e \"\\nSort and index bam \\n\"\n",
    "# sort and index bam\n",
    "samtools sort -@4 Clone${i}_ONT.bam Clone${i}_ONT_SORTED \n",
    "samtools index Clone${i}_ONT_SORTED.bam"
   ]
  },
  {
   "cell_type": "code",
   "execution_count": null,
   "metadata": {},
   "outputs": [],
   "source": [
    "# Calculate stats from mapping\n",
    "echo -e \"\\nCalculate stats from mapping\\n\"\n",
    "samtools flagstat Clone${i}_ONT_SORTED.bam >Clone${i}_ONT.flagstats"
   ]
  },
  {
   "cell_type": "markdown",
   "metadata": {},
   "source": [
    "## Let's map with data from all clones using a loop for mapping, with a single folder per sample and ONT reads"
   ]
  },
  {
   "cell_type": "code",
   "execution_count": null,
   "metadata": {
    "tags": []
   },
   "outputs": [],
   "source": [
    "for i in {1..20}\n",
    "    do\n",
    "        mkdir -p ~/work/MAPPING-ONT\n",
    "        cd ~/work/MAPPING-ONT\n",
    "        echo -e \"\\nCreation directory for Clone$i\\n\"\n",
    "        echo Clone$i\n",
    "        mkdir -p dirClone$i\n",
    "        cd dirClone$i\n",
    "        \n",
    "        echo -e \"\\nMapping Clone$i minimap2 \\n\"\n",
    "        minimap2 -ax map-ont -t 4 ${REF} ${ONT} > Clone${i}_ONT.sam \n",
    "        \n",
    "        # Convert samtobam \n",
    "        echo -e \"\\nConvert samtobam and filter it \\n\"\n",
    "        samtools view -@4 -bh -S -F 0x904 -o Clone${i}_ONT.bam Clone${i}_ONT.sam\n",
    "        rm Clone${i}_ONT.sam\n",
    "\n",
    "        echo -e \"\\nSort and index bam \\n\"\n",
    "        # sort and index bam\n",
    "        samtools sort -@4 Clone${i}_ONT.bam Clone${i}_ONT_SORTED \n",
    "        samtools index Clone${i}_ONT_SORTED.bam\n",
    "\n",
    "        # Calculate stats from mapping\n",
    "        echo -e \"\\nCalculate stats from mapping\\n\"\n",
    "        samtools flagstat Clone${i}_ONT_SORTED.bam >Clone${i}_ONT.flagstats\n",
    "    done"
   ]
  },
  {
   "cell_type": "code",
   "execution_count": null,
   "metadata": {},
   "outputs": [],
   "source": [
    "ls"
   ]
  },
  {
   "cell_type": "code",
   "execution_count": null,
   "metadata": {},
   "outputs": [],
   "source": []
  }
 ],
 "metadata": {
  "kernelspec": {
   "display_name": "Bash",
   "language": "bash",
   "name": "bash"
  },
  "language_info": {
   "codemirror_mode": "shell",
   "file_extension": ".sh",
   "mimetype": "text/x-sh",
   "name": "bash"
  }
 },
 "nbformat": 4,
 "nbformat_minor": 4
}
