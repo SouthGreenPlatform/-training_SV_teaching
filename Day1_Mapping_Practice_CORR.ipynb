{
 "cells": [
  {
   "cell_type": "markdown",
   "metadata": {},
   "source": [
    "# <span style=\"color:green\">Formation South Green 2022</span> - Structural Variants Detection by using short and long reads \n",
    "\n",
    "# __DAY 1 : How to map reads against a reference genome ?__ \n",
    "\n",
    "Created by C. Tranchant (DIADE-IRD), J. Orjuela (DIADE-IRD), F. Sabot (DIADE-IRD) and A. Dereeper (PHIM-IRD)\n",
    "\n",
    "## __1. Preparing the working environment__ \n",
    "\n",
    "### First create a dedicated folder to work \n"
   ]
  },
  {
   "cell_type": "code",
   "execution_count": 50,
   "metadata": {},
   "outputs": [
    {
     "name": "stdout",
     "output_type": "stream",
     "text": [
      "MyFirsrtJupyterBook.ipynb  SV_DATA  training_SV_teaching\n"
     ]
    }
   ],
   "source": [
    "# go to work directory and download data\n",
    "cd /home/jovyan/work/\n",
    "ls"
   ]
  },
  {
   "cell_type": "markdown",
   "metadata": {},
   "source": [
    "## Download sequencing data (SR & LR) for Simulated clones\n",
    "\n",
    "Before starting, please download special data created for this practical training. Data are available on the from I-Trop server.\n",
    "\n",
    "Each participant will analyse a Clone, results will be complete in this shared file\n",
    "\n",
    "To generate Clone data, a 1Mb contig was extracted from chromosome 1 of rice.\n",
    "\n",
    "20 levels of variation were generated and long reads were simulated for each.\n",
    "\n",
    "We have introduced different variations (SNP, indel, indel+translocations) and also some contaminations."
   ]
  },
  {
   "cell_type": "code",
   "execution_count": null,
   "metadata": {
    "tags": []
   },
   "outputs": [],
   "source": [
    "# download available compressed DATA \n",
    "wget --no-check-certificat -rm -nH --cut-dirs=1 --reject=\"index.html*\" https://itrop.ird.fr/sv-training/SV_DATA.tar.gz\n",
    "# decompress data\n",
    "tar zxvf SV_DATA.tar.gz\n",
    "rm SV_DATA.tar.gz"
   ]
  },
  {
   "cell_type": "markdown",
   "metadata": {},
   "source": [
    "### List the content of the directory work and check that the directory SV_DATA have been created"
   ]
  },
  {
   "cell_type": "code",
   "execution_count": 52,
   "metadata": {
    "tags": []
   },
   "outputs": [
    {
     "name": "stdout",
     "output_type": "stream",
     "text": [
      "total 12\n",
      "-rw-r--r-- 1 jovyan users 2017 Jun 19 17:34 MyFirsrtJupyterBook.ipynb\n",
      "drwxr-s--- 5 jovyan users 4096 Jun 14 05:44 SV_DATA\n",
      "drwxr-sr-x 4 jovyan users 4096 Jun 19 19:06 training_SV_teaching\n"
     ]
    }
   ],
   "source": [
    "# check data \n",
    "ls -l"
   ]
  },
  {
   "cell_type": "markdown",
   "metadata": {},
   "source": [
    "### List the content of the directory SV_DATA"
   ]
  },
  {
   "cell_type": "code",
   "execution_count": 8,
   "metadata": {},
   "outputs": [
    {
     "name": "stdout",
     "output_type": "stream",
     "text": [
      "SV_DATA:\n",
      "total 12\n",
      "drwxr-s--- 2 jovyan users 4096 Jun 14 05:41 REF\n",
      "drwxr-s--- 2 jovyan users 4096 Jun 14 05:38 LONG_READS\n",
      "drwxr-s--- 2 jovyan users 4096 Jun 14 05:37 SHORT_READS\n",
      "\n",
      "SV_DATA/REF:\n",
      "total 1000\n",
      "-rw-r----- 1 jovyan users 1020013 Jun 14 05:40 reference.fasta\n",
      "\n",
      "SV_DATA/LONG_READS:\n",
      "total 3434928\n",
      "-rw-r----- 1 jovyan users 166242371 Sep 13  2021 Clone11.fastq.gz\n",
      "-rw-r----- 1 jovyan users 152904101 Sep 13  2021 Clone1.fastq.gz\n",
      "-rw-r----- 1 jovyan users 167744275 Sep 13  2021 Clone10.fastq.gz\n",
      "-rw-r----- 1 jovyan users 169317131 Sep 13  2021 Clone5.fastq.gz\n",
      "-rw-r----- 1 jovyan users 153330738 Sep 13  2021 Clone4.fastq.gz\n",
      "-rw-r----- 1 jovyan users 168418218 Sep 13  2021 Clone18.fastq.gz\n",
      "-rw-r----- 1 jovyan users 175381821 Sep 13  2021 Clone6.fastq.gz\n",
      "-rw-r----- 1 jovyan users 177768476 Sep 13  2021 Clone15.fastq.gz\n",
      "-rw-r----- 1 jovyan users 167532884 Sep 13  2021 Clone14.fastq.gz\n",
      "-rw-r----- 1 jovyan users 189926682 Sep 13  2021 Clone16.fastq.gz\n",
      "-rw-r----- 1 jovyan users 161560783 Sep 13  2021 Clone20.fastq.gz\n",
      "-rw-r----- 1 jovyan users 170344818 Sep 13  2021 Clone17.fastq.gz\n",
      "-rw-r----- 1 jovyan users 153141403 Sep 13  2021 Clone3.fastq.gz\n",
      "-rw-r----- 1 jovyan users 295323127 Sep 13  2021 Clone8.fastq.gz\n",
      "-rw-r----- 1 jovyan users 152967272 Sep 13  2021 Clone2.fastq.gz\n",
      "-rw-r----- 1 jovyan users 225375961 Sep 13  2021 Clone7.fastq.gz\n",
      "-rw-r----- 1 jovyan users 166315656 Sep 13  2021 Clone13.fastq.gz\n",
      "-rw-r----- 1 jovyan users 175255308 Sep 13  2021 Clone19.fastq.gz\n",
      "-rw-r----- 1 jovyan users 177399618 Sep 13  2021 Clone9.fastq.gz\n",
      "-rw-r----- 1 jovyan users 151042672 Sep 13  2021 Clone12.fastq.gz\n",
      "\n",
      "SV_DATA/SHORT_READS:\n",
      "total 601584\n",
      "-rw-r----- 1 jovyan users 14272008 Sep 13  2021 Clone11_R1.fastq.gz\n",
      "-rw-r----- 1 jovyan users 14668739 Sep 13  2021 Clone11_R2.fastq.gz\n",
      "-rw-r----- 1 jovyan users 12896722 Sep 13  2021 Clone1_R1.fastq.gz\n",
      "-rw-r----- 1 jovyan users 13262122 Sep 13  2021 Clone1_R2.fastq.gz\n",
      "-rw-r----- 1 jovyan users 14821705 Sep 13  2021 Clone10_R2.fastq.gz\n",
      "-rw-r----- 1 jovyan users 14423018 Sep 13  2021 Clone10_R1.fastq.gz\n",
      "-rw-r----- 1 jovyan users 14956961 Sep 13  2021 Clone5_R2.fastq.gz\n",
      "-rw-r----- 1 jovyan users 14549126 Sep 13  2021 Clone5_R1.fastq.gz\n",
      "-rw-r----- 1 jovyan users 12984373 Sep 13  2021 Clone4_R1.fastq.gz\n",
      "-rw-r----- 1 jovyan users 13346279 Sep 13  2021 Clone4_R2.fastq.gz\n",
      "-rw-r----- 1 jovyan users 14904450 Sep 13  2021 Clone18_R2.fastq.gz\n",
      "-rw-r----- 1 jovyan users 14498740 Sep 13  2021 Clone18_R1.fastq.gz\n",
      "-rw-r----- 1 jovyan users 15545596 Sep 13  2021 Clone6_R2.fastq.gz\n",
      "-rw-r----- 1 jovyan users 15125248 Sep 13  2021 Clone6_R1.fastq.gz\n",
      "-rw-r----- 1 jovyan users 15382493 Sep 13  2021 Clone15_R1.fastq.gz\n",
      "-rw-r----- 1 jovyan users 15811953 Sep 13  2021 Clone15_R2.fastq.gz\n",
      "-rw-r----- 1 jovyan users 14401822 Sep 13  2021 Clone14_R1.fastq.gz\n",
      "-rw-r----- 1 jovyan users 14803317 Sep 13  2021 Clone14_R2.fastq.gz\n",
      "-rw-r----- 1 jovyan users 16527066 Sep 13  2021 Clone16_R1.fastq.gz\n",
      "-rw-r----- 1 jovyan users 16985738 Sep 13  2021 Clone16_R2.fastq.gz\n",
      "-rw-r----- 1 jovyan users 14155804 Sep 13  2021 Clone20_R1.fastq.gz\n",
      "-rw-r----- 1 jovyan users 14547922 Sep 13  2021 Clone20_R2.fastq.gz\n",
      "-rw-r----- 1 jovyan users 14685533 Sep 13  2021 Clone17_R1.fastq.gz\n",
      "-rw-r----- 1 jovyan users 15093599 Sep 13  2021 Clone17_R2.fastq.gz\n",
      "-rw-r----- 1 jovyan users 12943369 Sep 13  2021 Clone3_R1.fastq.gz\n",
      "-rw-r----- 1 jovyan users 13306656 Sep 13  2021 Clone3_R2.fastq.gz\n",
      "-rw-r----- 1 jovyan users 26542744 Sep 13  2021 Clone8_R1.fastq.gz\n",
      "-rw-r----- 1 jovyan users 27279963 Sep 13  2021 Clone8_R2.fastq.gz\n",
      "-rw-r----- 1 jovyan users 13276076 Sep 13  2021 Clone2_R2.fastq.gz\n",
      "-rw-r----- 1 jovyan users 12910139 Sep 13  2021 Clone2_R1.fastq.gz\n",
      "-rw-r----- 1 jovyan users 20462995 Sep 13  2021 Clone7_R2.fastq.gz\n",
      "-rw-r----- 1 jovyan users 19911782 Sep 13  2021 Clone7_R1.fastq.gz\n",
      "-rw-r----- 1 jovyan users 14667289 Sep 13  2021 Clone13_R2.fastq.gz\n",
      "-rw-r----- 1 jovyan users 14271712 Sep 13  2021 Clone13_R1.fastq.gz\n",
      "-rw-r----- 1 jovyan users 15558623 Sep 13  2021 Clone19_R2.fastq.gz\n",
      "-rw-r----- 1 jovyan users 15138454 Sep 13  2021 Clone19_R1.fastq.gz\n",
      "-rw-r----- 1 jovyan users 15327567 Sep 13  2021 Clone9_R1.fastq.gz\n",
      "-rw-r----- 1 jovyan users 15752422 Sep 13  2021 Clone9_R2.fastq.gz\n",
      "-rw-r----- 1 jovyan users 12790661 Sep 13  2021 Clone12_R1.fastq.gz\n",
      "-rw-r----- 1 jovyan users 13146512 Sep 13  2021 Clone12_R2.fastq.gz\n"
     ]
    }
   ],
   "source": [
    "ls -lRt SV_DATA"
   ]
  },
  {
   "cell_type": "markdown",
   "metadata": {
    "tags": []
   },
   "source": [
    "-----------------------\n",
    "# 2. MAPPING PRACTICE"
   ]
  },
  {
   "cell_type": "markdown",
   "metadata": {},
   "source": [
    "Read congruency is an important measure in determining assembly accuracy.\n",
    "\n",
    "Clusters of read pairs or single long reads that align incorrectly are strong indicators of mis-assembly.\n",
    "\n",
    "Reads mapping is usually the firt step before SNP or Variant calling."
   ]
  },
  {
   "cell_type": "markdown",
   "metadata": {},
   "source": [
    "### 2.1 Make a folder for your results"
   ]
  },
  {
   "cell_type": "code",
   "execution_count": 54,
   "metadata": {},
   "outputs": [],
   "source": [
    "mkdir -p ~/work/MAPPING-ILL\n",
    "cd ~/work/MAPPING-ILL"
   ]
  },
  {
   "cell_type": "markdown",
   "metadata": {},
   "source": [
    "### 2.2 Declare important variables\n",
    "\n",
    "We are going to set up bash variables with the path to our data.We set a bash variable like this : `var=\"value\"`\n",
    "and call it as: `echo $var`\n"
   ]
  },
  {
   "cell_type": "code",
   "execution_count": 69,
   "metadata": {},
   "outputs": [],
   "source": [
    "# REFERENCE \n",
    "REF_DIR=\"/home/jovyan/work/SV_DATA/REF/\"\n",
    "REF=\"/home/jovyan/work/SV_DATA/REF/reference.fasta\"\n",
    "\n",
    "# ONT DATA\n",
    "ONT=\"/home/jovyan/work/SV_DATA/LONG_READS/Clone${i}.fastq.gz\"\n",
    "\n",
    "# ILLUMINA DATA\n",
    "ILL_R1=\"/home/jovyan/work/SV_DATA/SHORT_READS/Clone${i}_R1.fastq.gz\"\n",
    "ILL_R2=\"/home/jovyan/work/SV_DATA/SHORT_READS/Clone${i}_R2.fastq.gz\"\n",
    "\n",
    "#CLONE NUMBER THAT YOU ARE GOING TO ANALYZE \n",
    "i=10 "
   ]
  },
  {
   "cell_type": "markdown",
   "metadata": {},
   "source": [
    "##### Print the variable i, REF, ILL_R1 & ILL_R2"
   ]
  },
  {
   "cell_type": "code",
   "execution_count": 56,
   "metadata": {},
   "outputs": [
    {
     "name": "stdout",
     "output_type": "stream",
     "text": [
      "Clone10 /home/jovyan/work/SV_DATA/REF/reference.fasta\n",
      "/home/jovyan/work/SV_DATA/SHORT_READS/Clone5_R1.fastq.gz /home/jovyan/work/SV_DATA/SHORT_READS/Clone5_R2.fastq.gz\n"
     ]
    }
   ],
   "source": [
    "echo \"Clone${i} $REF\" \n",
    "echo $ILL_R1 $ILL_R2"
   ]
  },
  {
   "cell_type": "markdown",
   "metadata": {
    "tags": []
   },
   "source": [
    "## 2.1 Mapping short reads vs a reference with `bwa mem`"
   ]
  },
  {
   "cell_type": "markdown",
   "metadata": {},
   "source": [
    "In this practice, we are going to map short reads against a reference. To know, how well do the reads align back to the reference, we use bwa-mem2 and samtools to assess the basic alignment statistics.\n",
    "\n",
    "In this exercise, we will use reference.fasta assembly as well ILLUMINA READS from your favorite CLONE.\n",
    "\n",
    "The tool bwa needs 2 steps: \n",
    "- **Reference indexing**: `bwa index reference`\n",
    "- **Mapping in itself**: `bwa mem  -R READGROUP [options] reference fastq1 fastq2 > out.sam`"
   ]
  },
  {
   "cell_type": "markdown",
   "metadata": {},
   "source": [
    "## Reference indexation "
   ]
  },
  {
   "cell_type": "markdown",
   "metadata": {},
   "source": [
    "Before mapping we need index reference file! Check bwa-mem2 index command line."
   ]
  },
  {
   "cell_type": "code",
   "execution_count": 57,
   "metadata": {},
   "outputs": [],
   "source": [
    "cd $REF_DIR"
   ]
  },
  {
   "cell_type": "code",
   "execution_count": 58,
   "metadata": {},
   "outputs": [
    {
     "name": "stdout",
     "output_type": "stream",
     "text": [
      "\n",
      "Indexing reference /home/jovyan/work/SV_DATA/REF/reference.fasta\n",
      "\n",
      "[bwa_index] Pack FASTA... 0.01 sec\n",
      "init ticks = 169114249\n",
      "ref seq len = 2040002\n",
      "binary seq ticks = 60890156\n",
      "build index ticks = 592072544\n",
      "ref_seq_len = 2040002\n",
      "count = 0, 576483, 1020001, 1463519, 2040002\n",
      "BWT[1932441] = 4\n",
      "CP_SHIFT = 5, CP_MASK = 31\n",
      "sizeof CP_OCC = 64\n",
      "max_occ_ind = 63750\n",
      "ref_seq_len = 2040002\n",
      "count = 0, 576483, 1020001, 1463519, 2040002\n",
      "BWT[1932441] = 4\n",
      "CP_SHIFT = 6, CP_MASK = 63\n",
      "sizeof CP_OCC = 64\n",
      "max_occ_ind = 31875\n"
     ]
    }
   ],
   "source": [
    "echo -e \"\\nIndexing reference $REF\\n\"\n",
    "bwa-mem2 index $REF"
   ]
  },
  {
   "cell_type": "markdown",
   "metadata": {},
   "source": [
    "#### Check that the indexes have been created"
   ]
  },
  {
   "cell_type": "code",
   "execution_count": 16,
   "metadata": {},
   "outputs": [
    {
     "name": "stdout",
     "output_type": "stream",
     "text": [
      "reference.fasta       reference.fasta.ann          reference.fasta.pac\n",
      "reference.fasta.0123  reference.fasta.bwt.2bit.64\n",
      "reference.fasta.amb   reference.fasta.bwt.8bit.32\n"
     ]
    }
   ],
   "source": [
    "ls"
   ]
  },
  {
   "cell_type": "markdown",
   "metadata": {},
   "source": [
    "##  Let's map now but only WITH READS FROM ONLY ONE CLONE\n",
    "\n",
    "* Go into the directory MAPPING-ILL\n",
    "* Create a subdirectory to save the files generated by the mapping step. \n",
    "Eg: If you are going to analyze the `clone1`, create the subdirectory `dirClone1`. "
   ]
  },
  {
   "cell_type": "code",
   "execution_count": 68,
   "metadata": {},
   "outputs": [
    {
     "name": "stdout",
     "output_type": "stream",
     "text": [
      "\n",
      ">>>>>>>>>> Creation directory for Clone10\n",
      "\n",
      "/home/jovyan/work/MAPPING-ILL/dirClone10\n"
     ]
    }
   ],
   "source": [
    "cd ~/work/MAPPING-ILL\n",
    "echo -e \"\\n>>>>>>>>>> Creation directory for Clone$i\\n\"\n",
    "mkdir -p dirClone$i\n",
    "cd dirClone$i"
   ]
  },
  {
   "cell_type": "markdown",
   "metadata": {},
   "source": [
    "#### Run the mapping with `bwa mem`"
   ]
  },
  {
   "cell_type": "code",
   "execution_count": 70,
   "metadata": {
    "tags": []
   },
   "outputs": [
    {
     "name": "stdout",
     "output_type": "stream",
     "text": [
      "\n",
      ">>>>>>>>>> Mapping Clone10\n",
      "\n",
      "-----------------------------\n",
      "Executing in AVX2 mode!!\n",
      "-----------------------------\n",
      "Ref file: /home/jovyan/work/SV_DATA/REF/reference.fasta\n",
      "Entering FMI_search\n",
      "reference seq len = 2040003\n",
      "count\n",
      "0,\t1\n",
      "1,\t576484\n",
      "2,\t1020002\n",
      "3,\t1463520\n",
      "4,\t2040003\n",
      "\n",
      "Reading other elements of the index from files /home/jovyan/work/SV_DATA/REF/reference.fasta\n",
      "prefix: /home/jovyan/work/SV_DATA/REF/reference.fasta\n",
      "[M::bwa_idx_load_ele] read 0 ALT contigs\n",
      "Done reading Index!!\n",
      "Reading reference genome..\n",
      "Binary seq file = /home/jovyan/work/SV_DATA/REF/reference.fasta.0123\n",
      "Reference genome size: 2040002 bp\n",
      "Done readng reference genome !!\n",
      "\n",
      "[0000] 1: Calling process()\n",
      "\n",
      "Threads used (compute): 4\n",
      "Info: projected #read in a task: 264910\n",
      "------------------------------------------\n",
      "Memory pre-allocation for chaining: 557.3706 MB\n",
      "Memory pre-allocation for BSW: 958.4681 MB\n",
      "Memory pre-allocation for BWT: 309.2567 MB\n",
      "------------------------------------------\n",
      "No. of pipeline threads: 2\n",
      "[0000] read_chunk: 40000000, work_chunk_size: 40000200, nseq: 266668\n",
      "\t[0000][ M::kt_pipeline] read 266668 sequences (40000200 bp)...\n",
      "Reallocating initial memory allocations!!\n",
      "[0000] 2. Calling mem_process_seqs.., task: 0\n",
      "[0000] 3. Calling kt_for - worker_bwt\n",
      "[0000] read_chunk: 40000000, work_chunk_size: 4363800, nseq: 29092\n",
      "\t[0000][ M::kt_pipeline] read 29092 sequences (4363800 bp)...\n",
      "[0000] 3. Calling kt_for - worker_aln\n",
      "Inferring insert size distribution from data, l_pac: 1020001, n: 266668\n",
      "[M::mem_pestat] # candidate unique pairs for (FF, FR, RF, RR): (0, 81468, 1, 0)\n",
      "[M::mem_pestat] skip orientation FF as there are not enough pairs\n",
      "[M::mem_pestat] analyzing insert size distribution for orientation FR...\n",
      "[M::mem_pestat] (25, 50, 75) percentile: (380, 398, 415)\n",
      "[M::mem_pestat] low and high boundaries for computing mean and std.dev: (310, 485)\n",
      "[M::mem_pestat] mean and std.dev: (397.35, 25.38)\n",
      "[M::mem_pestat] low and high boundaries for proper pairs: (275, 520)\n",
      "[M::mem_pestat] skip orientation RF as there are not enough pairs\n",
      "[M::mem_pestat] skip orientation RR as there are not enough pairs\n",
      "[0000] 10. Calling kt_for - worker_sam\n",
      "\t[0000][ M::mem_process_seqs] Processed 266668 reads in 38.045 CPU sec, 9.833 real sec\n",
      "[0000] 2. Calling mem_process_seqs.., task: 1\n",
      "[0000] 3. Calling kt_for - worker_bwt\n",
      "[0000] 3. Calling kt_for - worker_aln\n",
      "[0000] read_chunk: 40000000, work_chunk_size: 0, nseq: 0\n",
      "Inferring insert size distribution from data, l_pac: 1020001, n: 29092\n",
      "[M::mem_pestat] # candidate unique pairs for (FF, FR, RF, RR): (0, 8981, 0, 0)\n",
      "[M::mem_pestat] skip orientation FF as there are not enough pairs\n",
      "[M::mem_pestat] analyzing insert size distribution for orientation FR...\n",
      "[M::mem_pestat] (25, 50, 75) percentile: (380, 397, 414)\n",
      "[M::mem_pestat] low and high boundaries for computing mean and std.dev: (312, 482)\n",
      "[M::mem_pestat] mean and std.dev: (396.79, 25.24)\n",
      "[M::mem_pestat] low and high boundaries for proper pairs: (278, 516)\n",
      "[M::mem_pestat] skip orientation RF as there are not enough pairs\n",
      "[M::mem_pestat] skip orientation RR as there are not enough pairs\n",
      "[0000] 10. Calling kt_for - worker_sam\n",
      "\t[0000][ M::mem_process_seqs] Processed 29092 reads in 4.579 CPU sec, 1.070 real sec\n",
      "[0000] read_chunk: 40000000, work_chunk_size: 0, nseq: 0\n",
      "[0000] Computation ends..\n",
      "No. of OMP threads: 4\n",
      "Processor is runnig @2295.181951 MHz\n",
      "Runtime profile:\n",
      "\n",
      "\t Time taken for main_mem function: 11.97 Sec\n",
      "\n",
      "\tIO times (sec) :\n",
      "\tReading IO time (reads) avg: 1.14, (1.14, 1.14)\n",
      "\tWriting IO time (SAM) avg: 0.48, (0.48, 0.48)\n",
      "\tReading IO time (Reference Genome) avg: 0.00, (0.00, 0.00)\n",
      "\tIndex read time avg: 0.02, (0.02, 0.02)\n",
      "\n",
      "\tOverall time (sec) (Excluding Index reading time):\n",
      "\tPROCESS() (Total compute time + (read + SAM) IO time) : 11.95\n",
      "\tMEM_PROCESS_SEQ() (Total compute time (Kernel + SAM)), avg: 10.90, (10.90, 10.90)\n",
      "\n",
      "\t SAM Processing time (sec):\n",
      "\t--WORKER_SAM avg: 3.58, (3.58, 3.58)\n",
      "\n",
      "\tKernels' compute time (sec):\n",
      "\tTotal kernel (smem+sal+bsw) time avg: 7.29, (7.29, 7.29)\n",
      "\t\tSMEM compute avg: 3.03, (3.15, 2.85)\n",
      "\t\tSAL compute avg: 0.42, (0.59, 0.29)\n",
      "\t\tBSW time, avg: 3.72, (3.73, 3.71)\n",
      "\n",
      "\tTotal allocs: 294450 = 294450 out total requests: 343778, Rate: 0.86\n",
      "\n",
      "Important parameter settings: \n",
      "\tBATCH_SIZE: 512\n",
      "\tMAX_SEQ_LEN_REF: 256\n",
      "\tMAX_SEQ_LEN_QER: 128\n",
      "\tMAX_SEQ_LEN8: 128\n",
      "\tSEEDS_PER_READ: 500\n",
      "\tSIMD_WIDTH8 X: 32\n",
      "\tSIMD_WIDTH16 X: 16\n",
      "\tAVG_SEEDS_PER_READ: 64\n"
     ]
    }
   ],
   "source": [
    "echo -e \"\\n>>>>>>>>>> Mapping Clone$i\\n\"\n",
    "bwa-mem2 mem -M -t 4 $REF $ILL_R1 $ILL_R2 > Clone$i.sam"
   ]
  },
  {
   "cell_type": "markdown",
   "metadata": {
    "tags": []
   },
   "source": [
    "#### Check that the file `.sam` have been created by `bwa mem`"
   ]
  },
  {
   "cell_type": "code",
   "execution_count": 72,
   "metadata": {},
   "outputs": [
    {
     "name": "stdout",
     "output_type": "stream",
     "text": [
      "Clone10.sam\n"
     ]
    }
   ],
   "source": [
    "ls"
   ]
  },
  {
   "cell_type": "code",
   "execution_count": null,
   "metadata": {},
   "outputs": [],
   "source": [
    "#### Display the first and the end of the sam file just created"
   ]
  },
  {
   "cell_type": "code",
   "execution_count": 71,
   "metadata": {},
   "outputs": [
    {
     "name": "stdout",
     "output_type": "stream",
     "text": [
      "@SQ\tSN:Reference\tLN:1020001\n",
      "@PG\tID:bwa\tPN:bwa\tVN:2.0pre2\tCL:bwa-mem2 mem -M -t 4 /home/jovyan/work/SV_DATA/REF/reference.fasta /home/jovyan/work/SV_DATA/SHORT_READS/Clone10_R1.fastq.gz /home/jovyan/work/SV_DATA/SHORT_READS/Clone10_R2.fastq.gz\n",
      "Reference-Clone10295760\t77\t*\t0\t0\t*\t*\t0\t0\tGTATAAGTACCCGGTCGAATCAAAGGTAACGTTAAATAGGTACTCCGCCAGGGCAGATTTCAACAGCCAAACTGCCCCCCAGGGGTATCTTACAGGCAATGGCTTAGAAGCGTTCCTAAGTGGACGACTCTCTGGAAACTCGCCAATGAG\tCC=G=GGGGGGG=IIIIGGIIGICGIIIICIGIIIIIGGCIIGIGIG=CIGIIIICIGICGGGGGCCCGGCGCGCGGGGG8CGG8CGGGGGCCCGGGGGGIGCGGGG=GCGGCCGCGG55GGCGCG8GGGGCGG=CCGCGG5GGCGCGC=\tAS:i:0\tXS:i:0\n",
      "Reference-Clone10295760\t141\t*\t0\t0\t*\t*\t0\t0\tGCACCCAAGGTGATCAACCCGGCGCTGCATGAGTATGCAACATGTTCGGCAGATGCCGTCAGTTTGGCATGCGTAATTCAATGTCGCAAGGAGGATATCCCGCTGGGATTACATTCGCGTATAGTTTATGGGCCTTCATTCGTTTTTACG\tCC=GGGGGGGGGGIGIIIIIICIGICI5IGCGIGGGICIGIIIICCIIG=IICGC=G==GGCGGGIGI=CCGGCGGCIGG=CGCG5CG=CGCGGG5GCGGGCCCII=GGGGGCG==GGGGGGGCCGCGGCCCGGGGGGGCCCCGGCGCGC\tAS:i:0\tXS:i:0\n",
      "Reference-Clone10295758\t99\tReference\t124517\t60\t150M\t=\t124764\t397\tTATATAATTTACTAATAATTAAAAATAGATTTTAAAAATTATTAATAACTAATACGTATATACGATATAATATGAATATTACACGTTAGTACTTTTGTAAAGTTATTGCAAACTTTAAAATTATGTTGTCATTTTAATTTAGTTGAATAA\tCCCGGGGGGGGGGIIGIIIICIIICGIIIIIIIIIIICIIIICGCIGIGICGIGGIIGGGICCGIICIIGGGCGGGC==GGCCGGGGGCGGC=GGGGGGGICCG=GGCGG5GGCGCGGGCGCCGCCG88GGGC8GCGCGGGGGCGCGGCC\tNM:i:13\tMD:Z:12A11T1T3A8A12C9A0A20A6G20A25A2T8\tAS:i:85\tXS:i:0\n",
      "Reference-Clone10295758\t147\tReference\t124764\t60\t150M\t=\t124517\t-397\tTTCCAATTTCTTCACGAAACTCTCAAAGAAAAATCCTGAATTGGATCCTAAATTTTCAAGAAAAAGTACGAATTACCACCCCCGCGAACTATTACGGTAGTATGATTTATCCCCCTAAAATATAATACCGGACCTTTAGCCTGCCAAACT\tGCGCGCGGGC=CGCGGGGC5CCCCCGGGGGGGGGGGGCGCGGGIIIICC5G=GCGGCGGC5CGC=CGCGGG8CGG8CGGGCGGC==IIGGCI=GCIICGIG=CGGGGIICC5IGGCIGIIIIIGI5G=IIICIIIIIGGGGGGGGGGCC8\tNM:i:9\tMD:Z:13C7T2C23G6C63C13A6A1C7\tAS:i:105\tXS:i:0\n",
      "Reference-Clone10295756\t83\tReference\t660900\t25\t150M\t=\t660609\t-441\tAGTAATTTGACAAAACATTGACATCTGCAGGCTTTGCAGTCAATTAGAAAGATAATTGTGTGTTCTATCGCCATGGTGGGGGTGAGGGAGTTAATTTGTGCTTATATGTTGACGACATACTGATATTTGGGACAACCCTTGAGGTAATAA\tGCGGCGCGGGGGCG5GG=CGCGGGGGCGGGGGGGGG8GGGGGGGCGG=GIGCCGGGGGCGGGCCGCG=GCCCCGGCICCGCGGGCIGGCCGGGIGIGGIIIGGCIICGIIIIGIIIIGGIIIIIIIIIIIIIIICIIGGGGGGGCGCCCC\tNM:i:10\tMD:Z:2A41G2G0C6A7A29T9G31A9G4\tAS:i:102\tXS:i:102\tXA:Z:Reference,-520388,150M,10;Reference,-488509,150M,11;\n",
      "Reference-Clone10295756\t163\tReference\t660609\t25\t150M\t=\t660900\t441\tAGGCTGGGCTTGTTGCTAAGGGCTATACTTAGAAAGAAGGCGAAGATTTCTTTGACACATACTCACCTGTTGGTAGATGGACCACAATTCGTGAGCTACTTTCCCTAGCAGCCTCACATGGTCTGCTCGTTCATCAAATGGACGTTAAGA\tCCCG5GCGGG=CGCICGIGICCIIGIIC=IIGIGIIIIIGIIG5IICIGGIGGGCIIIIIGIGC5IGGGCGGGIGGIGCGCG=GCCGC5GCGCGGCGGGCGCIICC8CGCGGCGGG=CG=GGGGCGGGCGG=5GGCGGGG5CGCCCGCC=\tNM:i:7\tMD:Z:5C23C28T13C5T14T30T25\tAS:i:115\tXS:i:115\tXA:Z:Reference,+488218,150M,7;Reference,+520097,150M,8;\n",
      "Reference-Clone10295754\t83\tReference\t399106\t0\t150M\t=\t398838\t-418\tACATCATCTCAATCTACACCTGCAATTGCGTCACCCTGATCAAAGTAGATCATAAAATTCTTAACCTTGTGCACAACTGATTTCATCACTTCAAAGTGAGCGATAGTAGATATAACCCTAAGGCCATCTTCAAGAGTCCTTCCAGGGAGC\tGCGGGGGGGGCCGCGGGCGGGCGGGCCGGCGGCGGG8CCGGCG8GGCGCICCGGC5CG=GGG=GGGCGCGGGG=GGIIGGGGGGCGICIGI=GGIGGCIIGICICICIGIICIII=IIGIIIGIIIIIIIIIIIIIIGGGGGGGGGGCCC\tNM:i:6\tMD:Z:8C19T21A46C3C0C47\tAS:i:120\tXS:i:120\tXA:Z:Reference,-332803,150M,6;Reference,-365956,150M,6;\n",
      "Reference-Clone10295754\t163\tReference\t398838\t0\t150M\t=\t399106\t418\tTTCTTTCCTCTTCAACTGACGGCCCTGAGCTTTCTTCTAAGACTTTGCCTTGCAGTCAGATAAGTCTTCAACACCCATATCAACATTGTTAACCTACAAGACATCAACTGCATATGATATATCATAGTCACGGTCCACAAAATCTGTGTC\tCCCGGGGGGGGGGGIGIIGIGIIIIGIIIIIIIGIGGIIIIIIIIICGGGGIG5GGC=8I5GGGIGG=5CGGGGGGCG=GGGCCGGGGGGGG8=CGGG5GCG5ICCIGGG5G=CGGGCCGG5CG=GGGCG=GG=CGGGCCCC8GCGCCCC\tNM:i:9\tMD:Z:20T5T10C51C3A6T5T6C17T18\tAS:i:105\tXS:i:105\tXA:Z:Reference,+365688,150M,9;Reference,+332535,150M,9;\n"
     ]
    }
   ],
   "source": [
    "head Clone10.sam"
   ]
  },
  {
   "cell_type": "code",
   "execution_count": 73,
   "metadata": {},
   "outputs": [
    {
     "name": "stdout",
     "output_type": "stream",
     "text": [
      "Reference-Clone1010\t353\tReference\t571519\t60\t83H67M\t=\t571653\t284\tATTACCTAATGCATACATAGTTCTACAAACATCTTAGTTCAGATCAGATGCATCATCACATTGTTAC\tGGCCGGGGGCCGGGG=GIC5CGC5GGGG5GCGGG8GGGGGGGGGG5GCGGG5GG5GC5CCGG=GGCC\tNM:i:0\tMD:Z:67\tAS:i:67\tXS:i:0\tSA:Z:Reference,569030,+,82M68S,60,3;\n",
      "Reference-Clone1010\t145\tReference\t571653\t60\t150M\t=\t569030\t-2773\tTCAGAAGCAGATCAACAACTGGTTCATCAACCAGAGGAAACGGCACTGGAAGCCATCGGAGGACATGCCGTTCGTCATGATGGAAGGTTTTCACCCACAGAATGCTGCTGCATTGTACATGGATGGCCCGTTCATGGCAGATGGAATGTA\tCGGCCGCG8CGCGGCGG8CCCCGGGCGCGGCGG=GGGCGGCGG=ICI=GGGGGCGGCCC8G==GCG=GGGGCCGGGGGCCGG5CICCCG=IIGGIGICCIGCIIG=GCGIGGIIIIIGGIGICGIIGGI8IIIIIGIGGGGGGG=GGCCC\tNM:i:0\tMD:Z:150\tAS:i:150\tXS:i:0\n",
      "Reference-Clone108\t99\tReference\t263937\t60\t150M\t=\t264214\t427\tTTTAGTTGATGAACACAAATAATAATTGATTAAAGGGAACTTTCCATTCGGTCGTTTCCTGTCTCCTTCTTTGGGTACTACTATCATTTTCTTTTTCTGAAATTCCTTTTGCTGTATATCATTTCAGCATGCAATACTTAATCTGACAAA\tCCCGGGGGGCGGGIIGCICIGIIGCGCCIIGIIIGI5IGIIIGIGI=GGCGGGIIGIIGIGIGIGIGGGGG5CGGGCIGG=IGGGGCGGGGGGCGC5=GGIGCGGCCGC=CG8C5GGCCGGGCG=GGC=CGGCGGGCGGGGGG8GGGGC8\tNM:i:8\tMD:Z:9C27C14T51A7A9G11C9A5\tAS:i:110\tXS:i:0\n",
      "Reference-Clone108\t147\tReference\t264214\t60\t150M\t=\t263937\t-427\tAAAAAAATTTTGGGTGTCACATCGGACGTTTGACCAGATGTCGAAAGGGGGTTGGGGACTCGATTGAAAAAACTAATTCCATAACTCGCGTGGAAACCAGTAGACGAACTTTTTGAGCCTAATTAATCCATCATTAGCAAATGTGGGTTA\tCCGGC=GGGGGGGGCGGCCGGCCGGCGGCGC88G5CGG=G8CGI=5CCCGGCGG=G8GGCGG8GGCC=GGGCCGGGGCI=5GCGIGCIIGC==IGIGGGIGIIICCIIGGIIIIGCIIIIIGIGIIGIIIIIII5IIGGGGGGG=GGC=C\tNM:i:8\tMD:Z:50T2T5A3A25C9C8T0A40\tAS:i:110\tXS:i:53\n",
      "Reference-Clone106\t99\tReference\t154263\t60\t150M\t=\t154504\t391\tCCATGTCTCTGCTACACGACACAAGAGAGCATCGTCTTCTTCATCGTATTGATATTCATGTGGTCATGCCAATATGGGTTGCGCGGGGCCGACTCTGTTGCAGGTGAGGGCCGTCTTCGCGCCACACGCCTCGGCGGAGGAGCTGCCGCC\tCCCGCGGGGGGGGGIIIIIIIGIIGIIIIICGCGGGI5IIIICGCIIIGGG=GGIGCGGGGGIGIIGG5CGIIGC=G58GCGGG5GCCCGGG=GGGGGGGI=CGGGGGGGGGCGGCGGGGG=GGGCGGGCCCCGGGCGG5=GGCCGGGCG\tNM:i:11\tMD:Z:28A16A4C2G18C9T14C9C15G9C14T1\tAS:i:98\tXS:i:21\n",
      "Reference-Clone106\t147\tReference\t154504\t60\t150M\t=\t154263\t-391\tCTGCCGAACGCCGTCGATCGCCTGTGCCAGGAGTCTCAGGCGCATGAGGTGTTCCGAAGATCCGGCCATGGCGTCGACTACCTGTGCGTGGAGAAGATGGGCACGGAGATGGCAAGGTGCAGTCCGACTCAATGACGGGTGTAAAGGTAG\t8=GGGGG=CCGGG=CGGGGCCG=GGCGCCGC=CGCGGCGCGCGICCIIGGCGGGGCCCGCCGGGC=GCGCGGCCGGGGGCGGGCGGGIIGGGCGI=GIGI=GGGIIGG5IIGICIIIIIIGIIC=8IIIIGIIIGIIGGG=GGGGC=5CC\tNM:i:9\tMD:Z:29C3G2G0C16T1G19C45G11G15\tAS:i:105\tXS:i:64\n",
      "Reference-Clone104\t77\t*\t0\t0\t*\t*\t0\t0\tTTGTCCAGACACGTAGAATTGCGTTTGTCAACCCATCTATTTGCTGAACTTGCCAATGCCGCCCTGTGCGCAGCTACCTACTACAATGCAGTTAGCCCGAAAGGGACAGAAGGAGGCTTAGTCGTAGTGGAGACAAGTGTGGCGGTCATG\tCCCCGGGGGGGGGIIGCIIIIGIIGI5GIIIIIIIII=IGIGGIGGIGIGCGI5GIGGIGIIIGGGIGGGIG=CICGGGC5GGGG8GGGCGCGGGGGGCCCCGCGGGCGCGG5C5GCG=GGGGGGCCCGGG=GCCCGGGCCGGCGGG8G8\tAS:i:0\tXS:i:0\n",
      "Reference-Clone104\t141\t*\t0\t0\t*\t*\t0\t0\tTCCGACCCATACCTGATTCTATAATCTAGACAGGGACATTAATTTGTGCCGTAAAAGCGAGCCGACTTTGGGCGGAGCCCCGTATTACAACCAGAAGCGCAGTTGTGGAGGCGGCATCACATAGCGCAGAAACGGTGTGTTTGGCCGCAC\tCCCG5GGGGGGGGIIIIIIGIIIG8IIIIIIIGIIGIGIIIG8CIIIG5GIGGIIGGGGGCGIGGGG8G=GGCGG=CCGCGCGC5GGG=CGCGGGGCC5GCCCICIIGGCGGGGCGCGCCC=GGGGGGGGG=CGGGGGCGGGCGGGCGGC\tAS:i:0\tXS:i:0\n",
      "Reference-Clone102\t83\tReference\t594109\t60\t150M\t=\t593854\t-405\tAAGCGGTGAAAGCAGGAAAGTAGAGGGAAGAGAAGAAGACAAGAAAAAAGAACAGAAAGTAAAGGAAGAAAAAAAATCATAATACCAGTAGTGAAAACTCAAGCCCCTTCACTACTATGGTAGTTCGGCTTTGTCACAAAATTTAAAATT\tGGGGGCC=GGGCGGG5GGG=CCG=5GGGGCGG=GCGGGGGC5CGGCGGC=C=CGCCGGGGCGCGGG=GCGCGC=88GGGGGGGC=GGGGGGGGGGGGIGIGCGGGIIGICIIGCIIGGGIGCGIIICIIGGIIIIGIGGCGGGGGCGCC=\tNM:i:6\tMD:Z:12G7A18G20G55C6A26\tAS:i:120\tXS:i:0\n",
      "Reference-Clone102\t163\tReference\t593854\t60\t150M\t=\t594109\t405\tTGAACTGTATTTTCTCACTTATTGGCCCATCGTTTTACCTACAATTAATTATAAGCCGTTATACTTATTACAGATAAAAAATTATAACACTTTTATTCATAATTAACTACTTAATAGCTTTCTGGAATATAAACTACAATGATACACCAT\tCCCGGGGGGGGGGICIGIIIGI8GIGIGGIGIGGIII5IIIGGGIGGGCIIGGII=CGGGCIIG5GGGGCGCG5GGG5GGGG8CCGCGGGGGGGCGGGCCG=II=C8GCGCCGCGG8GCGGCCCGGGGCCG=CGGGGGG5GCCGCGGCCG\tNM:i:6\tMD:Z:71T15A26A5G6A18A3\tAS:i:121\tXS:i:0\n"
     ]
    }
   ],
   "source": [
    "tail Clone10.sam"
   ]
  },
  {
   "cell_type": "markdown",
   "metadata": {},
   "source": [
    "##  Convert sam into bam - `samtools view`"
   ]
  },
  {
   "cell_type": "code",
   "execution_count": 75,
   "metadata": {
    "tags": []
   },
   "outputs": [
    {
     "name": "stdout",
     "output_type": "stream",
     "text": [
      "[samopen] SAM header is present: 1 sequences.\n"
     ]
    }
   ],
   "source": [
    "samtools view -@4 -bh -S -o  Clone$i.bam Clone$i.sam "
   ]
  },
  {
   "cell_type": "markdown",
   "metadata": {},
   "source": [
    "#### Check that the bam file have been created \n",
    "\n",
    "* Have a look at the filesize of the sam and bam files.\n",
    "* Remove the sam file "
   ]
  },
  {
   "cell_type": "code",
   "execution_count": 81,
   "metadata": {},
   "outputs": [
    {
     "name": "stdout",
     "output_type": "stream",
     "text": [
      "total 39M\n",
      "-rw-r--r-- 1 jovyan users 39M Jun 19 19:36 Clone10.bam\n",
      "rm: cannot remove 'Clone10.sam': No such file or directory\n"
     ]
    },
    {
     "ename": "",
     "evalue": "1",
     "output_type": "error",
     "traceback": []
    }
   ],
   "source": [
    "ls -lh\n",
    "rm Clone$i.sam"
   ]
  },
  {
   "cell_type": "markdown",
   "metadata": {},
   "source": [
    "## Calculate stats from mapping `samtools flagstat`"
   ]
  },
  {
   "cell_type": "code",
   "execution_count": 82,
   "metadata": {},
   "outputs": [],
   "source": [
    "samtools flagstat Clone$i.bam >Clone$i.flagstat"
   ]
  },
  {
   "cell_type": "markdown",
   "metadata": {},
   "source": [
    "#### Display the content of the flagstat file"
   ]
  },
  {
   "cell_type": "code",
   "execution_count": 83,
   "metadata": {},
   "outputs": [
    {
     "name": "stdout",
     "output_type": "stream",
     "text": [
      "296107 + 0 in total (QC-passed reads + QC-failed reads)\n",
      "0 + 0 duplicates\n",
      "221305 + 0 mapped (74.74%:-nan%)\n",
      "296107 + 0 paired in sequencing\n",
      "148037 + 0 read1\n",
      "148070 + 0 read2\n",
      "218251 + 0 properly paired (73.71%:-nan%)\n",
      "219689 + 0 with itself and mate mapped\n",
      "1616 + 0 singletons (0.55%:-nan%)\n",
      "0 + 0 with mate mapped to a different chr\n",
      "0 + 0 with mate mapped to a different chr (mapQ>=5)\n"
     ]
    }
   ],
   "source": [
    "cat Clone10.flagstat"
   ]
  },
  {
   "cell_type": "markdown",
   "metadata": {},
   "source": [
    "##  Generate a bam file that contains only the reads correctly paired mapped ``samtools view\n",
    "\n",
    "https://broadinstitute.github.io/picard/explain-flags.html"
   ]
  },
  {
   "cell_type": "code",
   "execution_count": 84,
   "metadata": {},
   "outputs": [],
   "source": [
    "samtools view -bh -@4 -f 0x02 -o Clone$i.mappedpaired.bam Clone$i.bam "
   ]
  },
  {
   "cell_type": "markdown",
   "metadata": {},
   "source": [
    "##  Sorting final bam \n",
    "\n",
    "* Generate the bam file ordered\n",
    "* Check that the new bam file have been created\n",
    "* Remove the bam file previously created (Clone$i.mappedpaired.bam)"
   ]
  },
  {
   "cell_type": "code",
   "execution_count": 85,
   "metadata": {},
   "outputs": [],
   "source": [
    "samtools sort -@4 Clone$i.mappedpaired.bam Clone$i.SORTED \n",
    "rm Clone$i.mappedpaired.bam"
   ]
  },
  {
   "cell_type": "markdown",
   "metadata": {
    "tags": []
   },
   "source": [
    "##  Indexing bam file"
   ]
  },
  {
   "cell_type": "code",
   "execution_count": 86,
   "metadata": {},
   "outputs": [],
   "source": [
    "samtools index Clone$i.SORTED.bam"
   ]
  },
  {
   "cell_type": "code",
   "execution_count": 87,
   "metadata": {},
   "outputs": [
    {
     "name": "stdout",
     "output_type": "stream",
     "text": [
      "total 56884\n",
      "-rw-r--r-- 1 jovyan users 40019082 Jun 19 19:36 Clone10.bam\n",
      "-rw-r--r-- 1 jovyan users      381 Jun 19 19:39 Clone10.flagstat\n",
      "-rw-r--r-- 1 jovyan users 18215336 Jun 19 19:43 Clone10.SORTED.bam\n",
      "-rw-r--r-- 1 jovyan users     2856 Jun 19 19:43 Clone10.SORTED.bam.bai\n"
     ]
    }
   ],
   "source": [
    "ls -lrt"
   ]
  },
  {
   "cell_type": "markdown",
   "metadata": {
    "tags": []
   },
   "source": [
    "## Let's map with data from all clones using a loop for mapping, with a single folder per sample"
   ]
  },
  {
   "cell_type": "code",
   "execution_count": 88,
   "metadata": {
    "tags": []
   },
   "outputs": [
    {
     "name": "stdout",
     "output_type": "stream",
     "text": [
      "\n",
      ">>>>>>>>>> Creation directory for Clone1\n",
      "\n",
      ">>>> Declare variables1\n",
      "\n",
      ">>>> Mapping Clone1\n",
      "\n",
      "-----------------------------\n",
      "Executing in AVX2 mode!!\n",
      "-----------------------------\n",
      "Ref file: /home/jovyan/work/SV_DATA/REF/reference.fasta\n",
      "Entering FMI_search\n",
      "reference seq len = 2040003\n",
      "count\n",
      "0,\t1\n",
      "1,\t576484\n",
      "2,\t1020002\n",
      "3,\t1463520\n",
      "4,\t2040003\n",
      "\n",
      "Reading other elements of the index from files /home/jovyan/work/SV_DATA/REF/reference.fasta\n",
      "prefix: /home/jovyan/work/SV_DATA/REF/reference.fasta\n",
      "[M::bwa_idx_load_ele] read 0 ALT contigs\n",
      "Done reading Index!!\n",
      "Reading reference genome..\n",
      "Binary seq file = /home/jovyan/work/SV_DATA/REF/reference.fasta.0123\n",
      "Reference genome size: 2040002 bp\n",
      "Done readng reference genome !!\n",
      "\n",
      "[0000] 1: Calling process()\n",
      "\n",
      "Threads used (compute): 4\n",
      "Info: projected #read in a task: 264910\n",
      "------------------------------------------\n",
      "Memory pre-allocation for chaining: 557.3706 MB\n",
      "Memory pre-allocation for BSW: 958.4681 MB\n",
      "Memory pre-allocation for BWT: 309.2567 MB\n",
      "------------------------------------------\n",
      "No. of pipeline threads: 2\n",
      "[0000] read_chunk: 40000000, work_chunk_size: 39996000, nseq: 266640\n",
      "\t[0000][ M::kt_pipeline] read 266640 sequences (39996000 bp)...\n",
      "Reallocating initial memory allocations!!\n",
      "[0000] 2. Calling mem_process_seqs.., task: 0\n",
      "[0000] 3. Calling kt_for - worker_bwt\n",
      "[0000] read_chunk: 40000000, work_chunk_size: 0, nseq: 0\n",
      "[0000] 3. Calling kt_for - worker_aln\n",
      "Inferring insert size distribution from data, l_pac: 1020001, n: 266640\n",
      "[M::mem_pestat] # candidate unique pairs for (FF, FR, RF, RR): (0, 110050, 0, 0)\n",
      "[M::mem_pestat] skip orientation FF as there are not enough pairs\n",
      "[M::mem_pestat] analyzing insert size distribution for orientation FR...\n",
      "[M::mem_pestat] (25, 50, 75) percentile: (381, 398, 415)\n",
      "[M::mem_pestat] low and high boundaries for computing mean and std.dev: (313, 483)\n",
      "[M::mem_pestat] mean and std.dev: (398.35, 24.91)\n",
      "[M::mem_pestat] low and high boundaries for proper pairs: (279, 517)\n",
      "[M::mem_pestat] skip orientation RF as there are not enough pairs\n",
      "[M::mem_pestat] skip orientation RR as there are not enough pairs\n",
      "[0000] 10. Calling kt_for - worker_sam\n",
      "\t[0000][ M::mem_process_seqs] Processed 266640 reads in 25.816 CPU sec, 6.568 real sec\n",
      "[0000] read_chunk: 40000000, work_chunk_size: 0, nseq: 0\n",
      "[0000] Computation ends..\n",
      "No. of OMP threads: 4\n",
      "Processor is runnig @2295.086666 MHz\n",
      "Runtime profile:\n",
      "\n",
      "\t Time taken for main_mem function: 7.65 Sec\n",
      "\n",
      "\tIO times (sec) :\n",
      "\tReading IO time (reads) avg: 0.69, (0.69, 0.69)\n",
      "\tWriting IO time (SAM) avg: 0.34, (0.34, 0.34)\n",
      "\tReading IO time (Reference Genome) avg: 0.00, (0.00, 0.00)\n",
      "\tIndex read time avg: 0.02, (0.02, 0.02)\n",
      "\n",
      "\tOverall time (sec) (Excluding Index reading time):\n",
      "\tPROCESS() (Total compute time + (read + SAM) IO time) : 7.63\n",
      "\tMEM_PROCESS_SEQ() (Total compute time (Kernel + SAM)), avg: 6.57, (6.57, 6.57)\n",
      "\n",
      "\t SAM Processing time (sec):\n",
      "\t--WORKER_SAM avg: 1.09, (1.09, 1.09)\n",
      "\n",
      "\tKernels' compute time (sec):\n",
      "\tTotal kernel (smem+sal+bsw) time avg: 5.45, (5.45, 5.45)\n",
      "\t\tSMEM compute avg: 1.84, (1.88, 1.80)\n",
      "\t\tSAL compute avg: 0.26, (0.31, 0.21)\n",
      "\t\tBSW time, avg: 3.26, (3.26, 3.24)\n",
      "\n",
      "\tTotal allocs: 377139 = 377139 out total requests: 410045, Rate: 0.92\n",
      "\n",
      "Important parameter settings: \n",
      "\tBATCH_SIZE: 512\n",
      "\tMAX_SEQ_LEN_REF: 256\n",
      "\tMAX_SEQ_LEN_QER: 128\n",
      "\tMAX_SEQ_LEN8: 128\n",
      "\tSEEDS_PER_READ: 500\n",
      "\tSIMD_WIDTH8 X: 32\n",
      "\tSIMD_WIDTH16 X: 16\n",
      "\tAVG_SEEDS_PER_READ: 64\n",
      "\n",
      ">>>> convert sam to bam for Clone1\n",
      "[samopen] SAM header is present: 1 sequences.\n",
      "\n",
      ">>>> Flagstats from all reads 1\n",
      "\n",
      ">>>> Extract only correctly mapped and calculate flagstats 1\n",
      "\n",
      ">>>> Sort mappedpaires bam file 1\n",
      "\n",
      ">>>>>>>>>> Creation directory for Clone2\n",
      "\n",
      ">>>> Declare variables2\n",
      "\n",
      ">>>> Mapping Clone2\n",
      "\n",
      "-----------------------------\n",
      "Executing in AVX2 mode!!\n",
      "-----------------------------\n",
      "Ref file: /home/jovyan/work/SV_DATA/REF/reference.fasta\n",
      "Entering FMI_search\n",
      "reference seq len = 2040003\n",
      "count\n",
      "0,\t1\n",
      "1,\t576484\n",
      "2,\t1020002\n",
      "3,\t1463520\n",
      "4,\t2040003\n",
      "\n",
      "Reading other elements of the index from files /home/jovyan/work/SV_DATA/REF/reference.fasta\n",
      "prefix: /home/jovyan/work/SV_DATA/REF/reference.fasta\n",
      "[M::bwa_idx_load_ele] read 0 ALT contigs\n",
      "Done reading Index!!\n",
      "Reading reference genome..\n",
      "Binary seq file = /home/jovyan/work/SV_DATA/REF/reference.fasta.0123\n",
      "Reference genome size: 2040002 bp\n",
      "Done readng reference genome !!\n",
      "\n",
      "[0000] 1: Calling process()\n",
      "\n",
      "Threads used (compute): 4\n",
      "Info: projected #read in a task: 264910\n",
      "------------------------------------------\n",
      "Memory pre-allocation for chaining: 557.3706 MB\n",
      "Memory pre-allocation for BSW: 958.4681 MB\n",
      "Memory pre-allocation for BWT: 309.2567 MB\n",
      "------------------------------------------\n",
      "No. of pipeline threads: 2\n",
      "[0000] read_chunk: 40000000, work_chunk_size: 39996000, nseq: 266640\n",
      "\t[0000][ M::kt_pipeline] read 266640 sequences (39996000 bp)...\n",
      "Reallocating initial memory allocations!!\n",
      "[0000] 2. Calling mem_process_seqs.., task: 0\n",
      "[0000] 3. Calling kt_for - worker_bwt\n",
      "[0000] read_chunk: 40000000, work_chunk_size: 0, nseq: 0\n",
      "[0000] 3. Calling kt_for - worker_aln\n",
      "Inferring insert size distribution from data, l_pac: 1020001, n: 266640\n",
      "[M::mem_pestat] # candidate unique pairs for (FF, FR, RF, RR): (0, 110112, 0, 0)\n",
      "[M::mem_pestat] skip orientation FF as there are not enough pairs\n",
      "[M::mem_pestat] analyzing insert size distribution for orientation FR...\n",
      "[M::mem_pestat] (25, 50, 75) percentile: (381, 398, 415)\n",
      "[M::mem_pestat] low and high boundaries for computing mean and std.dev: (313, 483)\n",
      "[M::mem_pestat] mean and std.dev: (398.34, 24.90)\n",
      "[M::mem_pestat] low and high boundaries for proper pairs: (279, 517)\n",
      "[M::mem_pestat] skip orientation RF as there are not enough pairs\n",
      "[M::mem_pestat] skip orientation RR as there are not enough pairs\n",
      "[0000] 10. Calling kt_for - worker_sam\n",
      "\t[0000][ M::mem_process_seqs] Processed 266640 reads in 34.740 CPU sec, 8.778 real sec\n",
      "[0000] read_chunk: 40000000, work_chunk_size: 0, nseq: 0\n",
      "[0000] Computation ends..\n",
      "No. of OMP threads: 4\n",
      "Processor is runnig @2294.963740 MHz\n",
      "Runtime profile:\n",
      "\n",
      "\t Time taken for main_mem function: 10.04 Sec\n",
      "\n",
      "\tIO times (sec) :\n",
      "\tReading IO time (reads) avg: 0.89, (0.89, 0.89)\n",
      "\tWriting IO time (SAM) avg: 0.32, (0.32, 0.32)\n",
      "\tReading IO time (Reference Genome) avg: 0.00, (0.00, 0.00)\n",
      "\tIndex read time avg: 0.02, (0.02, 0.02)\n",
      "\n",
      "\tOverall time (sec) (Excluding Index reading time):\n",
      "\tPROCESS() (Total compute time + (read + SAM) IO time) : 10.02\n",
      "\tMEM_PROCESS_SEQ() (Total compute time (Kernel + SAM)), avg: 8.78, (8.78, 8.78)\n",
      "\n",
      "\t SAM Processing time (sec):\n",
      "\t--WORKER_SAM avg: 2.09, (2.09, 2.09)\n",
      "\n",
      "\tKernels' compute time (sec):\n",
      "\tTotal kernel (smem+sal+bsw) time avg: 6.66, (6.66, 6.66)\n",
      "\t\tSMEM compute avg: 1.99, (2.02, 1.97)\n",
      "\t\tSAL compute avg: 0.22, (0.24, 0.19)\n",
      "\t\tBSW time, avg: 4.34, (4.35, 4.33)\n",
      "\n",
      "\tTotal allocs: 382070 = 382070 out total requests: 412355, Rate: 0.93\n",
      "\n",
      "Important parameter settings: \n",
      "\tBATCH_SIZE: 512\n",
      "\tMAX_SEQ_LEN_REF: 256\n",
      "\tMAX_SEQ_LEN_QER: 128\n",
      "\tMAX_SEQ_LEN8: 128\n",
      "\tSEEDS_PER_READ: 500\n",
      "\tSIMD_WIDTH8 X: 32\n",
      "\tSIMD_WIDTH16 X: 16\n",
      "\tAVG_SEEDS_PER_READ: 64\n",
      "\n",
      ">>>> convert sam to bam for Clone2\n",
      "[samopen] SAM header is present: 1 sequences.\n",
      "\n",
      ">>>> Flagstats from all reads 2\n",
      "\n",
      ">>>> Extract only correctly mapped and calculate flagstats 2\n",
      "\n",
      ">>>> Sort mappedpaires bam file 2\n",
      "\n",
      ">>>>>>>>>> Creation directory for Clone3\n",
      "\n",
      ">>>> Declare variables3\n",
      "\n",
      ">>>> Mapping Clone3\n",
      "\n",
      "-----------------------------\n",
      "Executing in AVX2 mode!!\n",
      "-----------------------------\n",
      "Ref file: /home/jovyan/work/SV_DATA/REF/reference.fasta\n",
      "Entering FMI_search\n",
      "reference seq len = 2040003\n",
      "count\n",
      "0,\t1\n",
      "1,\t576484\n",
      "2,\t1020002\n",
      "3,\t1463520\n",
      "4,\t2040003\n",
      "\n",
      "Reading other elements of the index from files /home/jovyan/work/SV_DATA/REF/reference.fasta\n",
      "prefix: /home/jovyan/work/SV_DATA/REF/reference.fasta\n",
      "[M::bwa_idx_load_ele] read 0 ALT contigs\n",
      "Done reading Index!!\n",
      "Reading reference genome..\n",
      "Binary seq file = /home/jovyan/work/SV_DATA/REF/reference.fasta.0123\n",
      "Reference genome size: 2040002 bp\n",
      "Done readng reference genome !!\n",
      "\n",
      "[0000] 1: Calling process()\n",
      "\n",
      "Threads used (compute): 4\n",
      "Info: projected #read in a task: 264910\n",
      "------------------------------------------\n",
      "Memory pre-allocation for chaining: 557.3706 MB\n",
      "Memory pre-allocation for BSW: 958.4681 MB\n",
      "Memory pre-allocation for BWT: 309.2567 MB\n",
      "------------------------------------------\n",
      "No. of pipeline threads: 2\n",
      "[0000] read_chunk: 40000000, work_chunk_size: 39996000, nseq: 266640\n",
      "\t[0000][ M::kt_pipeline] read 266640 sequences (39996000 bp)...\n",
      "Reallocating initial memory allocations!!\n",
      "[0000] 2. Calling mem_process_seqs.., task: 0\n",
      "[0000] 3. Calling kt_for - worker_bwt\n",
      "[0000] read_chunk: 40000000, work_chunk_size: 0, nseq: 0\n",
      "[0000] 3. Calling kt_for - worker_aln\n",
      "Inferring insert size distribution from data, l_pac: 1020001, n: 266640\n",
      "[M::mem_pestat] # candidate unique pairs for (FF, FR, RF, RR): (0, 110391, 0, 0)\n",
      "[M::mem_pestat] skip orientation FF as there are not enough pairs\n",
      "[M::mem_pestat] analyzing insert size distribution for orientation FR...\n",
      "[M::mem_pestat] (25, 50, 75) percentile: (381, 398, 415)\n",
      "[M::mem_pestat] low and high boundaries for computing mean and std.dev: (313, 483)\n",
      "[M::mem_pestat] mean and std.dev: (397.92, 24.98)\n",
      "[M::mem_pestat] low and high boundaries for proper pairs: (279, 517)\n",
      "[M::mem_pestat] skip orientation RF as there are not enough pairs\n",
      "[M::mem_pestat] skip orientation RR as there are not enough pairs\n",
      "[0000] 10. Calling kt_for - worker_sam\n",
      "\t[0000][ M::mem_process_seqs] Processed 266640 reads in 45.524 CPU sec, 11.480 real sec\n",
      "[0000] read_chunk: 40000000, work_chunk_size: 0, nseq: 0\n",
      "[0000] Computation ends..\n",
      "No. of OMP threads: 4\n",
      "Processor is runnig @2295.156794 MHz\n",
      "Runtime profile:\n",
      "\n",
      "\t Time taken for main_mem function: 12.74 Sec\n",
      "\n",
      "\tIO times (sec) :\n",
      "\tReading IO time (reads) avg: 0.87, (0.87, 0.87)\n",
      "\tWriting IO time (SAM) avg: 0.34, (0.34, 0.34)\n",
      "\tReading IO time (Reference Genome) avg: 0.00, (0.00, 0.00)\n",
      "\tIndex read time avg: 0.02, (0.02, 0.02)\n",
      "\n",
      "\tOverall time (sec) (Excluding Index reading time):\n",
      "\tPROCESS() (Total compute time + (read + SAM) IO time) : 12.72\n",
      "\tMEM_PROCESS_SEQ() (Total compute time (Kernel + SAM)), avg: 11.48, (11.48, 11.48)\n",
      "\n",
      "\t SAM Processing time (sec):\n",
      "\t--WORKER_SAM avg: 3.88, (3.88, 3.88)\n",
      "\n",
      "\tKernels' compute time (sec):\n",
      "\tTotal kernel (smem+sal+bsw) time avg: 7.56, (7.56, 7.56)\n",
      "\t\tSMEM compute avg: 2.54, (2.57, 2.49)\n",
      "\t\tSAL compute avg: 0.21, (0.25, 0.19)\n",
      "\t\tBSW time, avg: 4.71, (4.72, 4.71)\n",
      "\n",
      "\tTotal allocs: 371935 = 371935 out total requests: 412926, Rate: 0.90\n",
      "\n",
      "Important parameter settings: \n",
      "\tBATCH_SIZE: 512\n",
      "\tMAX_SEQ_LEN_REF: 256\n",
      "\tMAX_SEQ_LEN_QER: 128\n",
      "\tMAX_SEQ_LEN8: 128\n",
      "\tSEEDS_PER_READ: 500\n",
      "\tSIMD_WIDTH8 X: 32\n",
      "\tSIMD_WIDTH16 X: 16\n",
      "\tAVG_SEEDS_PER_READ: 64\n",
      "\n",
      ">>>> convert sam to bam for Clone3\n",
      "[samopen] SAM header is present: 1 sequences.\n",
      "\n",
      ">>>> Flagstats from all reads 3\n",
      "\n",
      ">>>> Extract only correctly mapped and calculate flagstats 3\n",
      "\n",
      ">>>> Sort mappedpaires bam file 3\n",
      "\n",
      ">>>>>>>>>> Creation directory for Clone4\n",
      "\n",
      ">>>> Declare variables4\n",
      "\n",
      ">>>> Mapping Clone4\n",
      "\n",
      "-----------------------------\n",
      "Executing in AVX2 mode!!\n",
      "-----------------------------\n",
      "Ref file: /home/jovyan/work/SV_DATA/REF/reference.fasta\n",
      "Entering FMI_search\n",
      "reference seq len = 2040003\n",
      "count\n",
      "0,\t1\n",
      "1,\t576484\n",
      "2,\t1020002\n",
      "3,\t1463520\n",
      "4,\t2040003\n",
      "\n",
      "Reading other elements of the index from files /home/jovyan/work/SV_DATA/REF/reference.fasta\n",
      "prefix: /home/jovyan/work/SV_DATA/REF/reference.fasta\n",
      "[M::bwa_idx_load_ele] read 0 ALT contigs\n",
      "Done reading Index!!\n",
      "Reading reference genome..\n",
      "Binary seq file = /home/jovyan/work/SV_DATA/REF/reference.fasta.0123\n",
      "Reference genome size: 2040002 bp\n",
      "Done readng reference genome !!\n",
      "\n",
      "[0000] 1: Calling process()\n",
      "\n",
      "Threads used (compute): 4\n",
      "Info: projected #read in a task: 264910\n",
      "------------------------------------------\n",
      "Memory pre-allocation for chaining: 557.3706 MB\n",
      "Memory pre-allocation for BSW: 958.4681 MB\n",
      "Memory pre-allocation for BWT: 309.2567 MB\n",
      "------------------------------------------\n",
      "No. of pipeline threads: 2\n",
      "[0000] read_chunk: 40000000, work_chunk_size: 39996000, nseq: 266640\n",
      "\t[0000][ M::kt_pipeline] read 266640 sequences (39996000 bp)...\n",
      "Reallocating initial memory allocations!!\n",
      "[0000] 2. Calling mem_process_seqs.., task: 0\n",
      "[0000] 3. Calling kt_for - worker_bwt\n",
      "[0000] read_chunk: 40000000, work_chunk_size: 0, nseq: 0\n",
      "[0000] 3. Calling kt_for - worker_aln\n",
      "Inferring insert size distribution from data, l_pac: 1020001, n: 266640\n",
      "[M::mem_pestat] # candidate unique pairs for (FF, FR, RF, RR): (0, 97107, 4, 0)\n",
      "[M::mem_pestat] skip orientation FF as there are not enough pairs\n",
      "[M::mem_pestat] analyzing insert size distribution for orientation FR...\n",
      "[M::mem_pestat] (25, 50, 75) percentile: (377, 395, 412)\n",
      "[M::mem_pestat] low and high boundaries for computing mean and std.dev: (307, 482)\n",
      "[M::mem_pestat] mean and std.dev: (394.20, 26.57)\n",
      "[M::mem_pestat] low and high boundaries for proper pairs: (272, 517)\n",
      "[M::mem_pestat] skip orientation RF as there are not enough pairs\n",
      "[M::mem_pestat] skip orientation RR as there are not enough pairs\n",
      "[0000] 10. Calling kt_for - worker_sam\n",
      "\t[0000][ M::mem_process_seqs] Processed 266640 reads in 39.363 CPU sec, 9.924 real sec\n",
      "[0000] read_chunk: 40000000, work_chunk_size: 0, nseq: 0\n",
      "[0000] Computation ends..\n",
      "No. of OMP threads: 4\n",
      "Processor is runnig @2295.117080 MHz\n",
      "Runtime profile:\n",
      "\n",
      "\t Time taken for main_mem function: 11.21 Sec\n",
      "\n",
      "\tIO times (sec) :\n",
      "\tReading IO time (reads) avg: 0.84, (0.84, 0.84)\n",
      "\tWriting IO time (SAM) avg: 0.39, (0.39, 0.39)\n",
      "\tReading IO time (Reference Genome) avg: 0.00, (0.00, 0.00)\n",
      "\tIndex read time avg: 0.02, (0.02, 0.02)\n",
      "\n",
      "\tOverall time (sec) (Excluding Index reading time):\n",
      "\tPROCESS() (Total compute time + (read + SAM) IO time) : 11.18\n",
      "\tMEM_PROCESS_SEQ() (Total compute time (Kernel + SAM)), avg: 9.92, (9.92, 9.92)\n",
      "\n",
      "\t SAM Processing time (sec):\n",
      "\t--WORKER_SAM avg: 4.23, (4.23, 4.23)\n",
      "\n",
      "\tKernels' compute time (sec):\n",
      "\tTotal kernel (smem+sal+bsw) time avg: 5.67, (5.67, 5.67)\n",
      "\t\tSMEM compute avg: 2.46, (2.49, 2.44)\n",
      "\t\tSAL compute avg: 0.13, (0.15, 0.12)\n",
      "\t\tBSW time, avg: 2.97, (2.98, 2.96)\n",
      "\n",
      "\tTotal allocs: 252387 = 252387 out total requests: 391484, Rate: 0.64\n",
      "\n",
      "Important parameter settings: \n",
      "\tBATCH_SIZE: 512\n",
      "\tMAX_SEQ_LEN_REF: 256\n",
      "\tMAX_SEQ_LEN_QER: 128\n",
      "\tMAX_SEQ_LEN8: 128\n",
      "\tSEEDS_PER_READ: 500\n",
      "\tSIMD_WIDTH8 X: 32\n",
      "\tSIMD_WIDTH16 X: 16\n",
      "\tAVG_SEEDS_PER_READ: 64\n",
      "\n",
      ">>>> convert sam to bam for Clone4\n",
      "[samopen] SAM header is present: 1 sequences.\n",
      "\n",
      ">>>> Flagstats from all reads 4\n",
      "\n",
      ">>>> Extract only correctly mapped and calculate flagstats 4\n",
      "\n",
      ">>>> Sort mappedpaires bam file 4\n",
      "\n",
      ">>>>>>>>>> Creation directory for Clone5\n",
      "\n",
      ">>>> Declare variables5\n",
      "\n",
      ">>>> Mapping Clone5\n",
      "\n",
      "-----------------------------\n",
      "Executing in AVX2 mode!!\n",
      "-----------------------------\n",
      "Ref file: /home/jovyan/work/SV_DATA/REF/reference.fasta\n",
      "Entering FMI_search\n",
      "reference seq len = 2040003\n",
      "count\n",
      "0,\t1\n",
      "1,\t576484\n",
      "2,\t1020002\n",
      "3,\t1463520\n",
      "4,\t2040003\n",
      "\n",
      "Reading other elements of the index from files /home/jovyan/work/SV_DATA/REF/reference.fasta\n",
      "prefix: /home/jovyan/work/SV_DATA/REF/reference.fasta\n",
      "[M::bwa_idx_load_ele] read 0 ALT contigs\n",
      "Done reading Index!!\n",
      "Reading reference genome..\n",
      "Binary seq file = /home/jovyan/work/SV_DATA/REF/reference.fasta.0123\n",
      "Reference genome size: 2040002 bp\n",
      "Done readng reference genome !!\n",
      "\n",
      "[0000] 1: Calling process()\n",
      "\n",
      "Threads used (compute): 4\n",
      "Info: projected #read in a task: 264910\n",
      "------------------------------------------\n",
      "Memory pre-allocation for chaining: 557.3706 MB\n",
      "Memory pre-allocation for BSW: 958.4681 MB\n",
      "Memory pre-allocation for BWT: 309.2567 MB\n",
      "------------------------------------------\n",
      "No. of pipeline threads: 2\n",
      "[0000] read_chunk: 40000000, work_chunk_size: 40000200, nseq: 266668\n",
      "\t[0000][ M::kt_pipeline] read 266668 sequences (40000200 bp)...\n",
      "Reallocating initial memory allocations!!\n",
      "[0000] 2. Calling mem_process_seqs.., task: 0\n",
      "[0000] 3. Calling kt_for - worker_bwt\n",
      "[0000] read_chunk: 40000000, work_chunk_size: 4855800, nseq: 32372\n",
      "\t[0000][ M::kt_pipeline] read 32372 sequences (4855800 bp)...\n",
      "[0000] 3. Calling kt_for - worker_aln\n",
      "Inferring insert size distribution from data, l_pac: 1020001, n: 266668\n",
      "[M::mem_pestat] # candidate unique pairs for (FF, FR, RF, RR): (0, 98110, 0, 0)\n",
      "[M::mem_pestat] skip orientation FF as there are not enough pairs\n",
      "[M::mem_pestat] analyzing insert size distribution for orientation FR...\n",
      "[M::mem_pestat] (25, 50, 75) percentile: (381, 398, 415)\n",
      "[M::mem_pestat] low and high boundaries for computing mean and std.dev: (313, 483)\n",
      "[M::mem_pestat] mean and std.dev: (397.88, 25.06)\n",
      "[M::mem_pestat] low and high boundaries for proper pairs: (279, 517)\n",
      "[M::mem_pestat] skip orientation RF as there are not enough pairs\n",
      "[M::mem_pestat] skip orientation RR as there are not enough pairs\n",
      "[0000] 10. Calling kt_for - worker_sam\n",
      "\t[0000][ M::mem_process_seqs] Processed 266668 reads in 41.825 CPU sec, 10.499 real sec\n",
      "[0000] 2. Calling mem_process_seqs.., task: 1\n",
      "[0000] 3. Calling kt_for - worker_bwt\n",
      "[0000] 3. Calling kt_for - worker_aln\n",
      "[0000] read_chunk: 40000000, work_chunk_size: 0, nseq: 0\n",
      "Inferring insert size distribution from data, l_pac: 1020001, n: 32372\n",
      "[M::mem_pestat] # candidate unique pairs for (FF, FR, RF, RR): (0, 11929, 0, 0)\n",
      "[M::mem_pestat] skip orientation FF as there are not enough pairs\n",
      "[M::mem_pestat] analyzing insert size distribution for orientation FR...\n",
      "[M::mem_pestat] (25, 50, 75) percentile: (381, 398, 415)\n",
      "[M::mem_pestat] low and high boundaries for computing mean and std.dev: (313, 483)\n",
      "[M::mem_pestat] mean and std.dev: (397.58, 25.05)\n",
      "[M::mem_pestat] low and high boundaries for proper pairs: (279, 517)\n",
      "[M::mem_pestat] skip orientation RF as there are not enough pairs\n",
      "[M::mem_pestat] skip orientation RR as there are not enough pairs\n",
      "[0000] 10. Calling kt_for - worker_sam\n",
      "\t[0000][ M::mem_process_seqs] Processed 32372 reads in 5.830 CPU sec, 1.385 real sec\n",
      "[0000] read_chunk: 40000000, work_chunk_size: 0, nseq: 0\n",
      "[0000] Computation ends..\n",
      "No. of OMP threads: 4\n",
      "Processor is runnig @2294.994299 MHz\n",
      "Runtime profile:\n",
      "\n",
      "\t Time taken for main_mem function: 12.91 Sec\n",
      "\n",
      "\tIO times (sec) :\n",
      "\tReading IO time (reads) avg: 1.05, (1.05, 1.05)\n",
      "\tWriting IO time (SAM) avg: 0.54, (0.54, 0.54)\n",
      "\tReading IO time (Reference Genome) avg: 0.00, (0.00, 0.00)\n",
      "\tIndex read time avg: 0.02, (0.02, 0.02)\n",
      "\n",
      "\tOverall time (sec) (Excluding Index reading time):\n",
      "\tPROCESS() (Total compute time + (read + SAM) IO time) : 12.88\n",
      "\tMEM_PROCESS_SEQ() (Total compute time (Kernel + SAM)), avg: 11.88, (11.88, 11.88)\n",
      "\n",
      "\t SAM Processing time (sec):\n",
      "\t--WORKER_SAM avg: 4.00, (4.00, 4.00)\n",
      "\n",
      "\tKernels' compute time (sec):\n",
      "\tTotal kernel (smem+sal+bsw) time avg: 7.84, (7.84, 7.84)\n",
      "\t\tSMEM compute avg: 2.70, (2.74, 2.65)\n",
      "\t\tSAL compute avg: 0.19, (0.24, 0.15)\n",
      "\t\tBSW time, avg: 4.81, (4.82, 4.80)\n",
      "\n",
      "\tTotal allocs: 372098 = 372098 out total requests: 410535, Rate: 0.91\n",
      "\n",
      "Important parameter settings: \n",
      "\tBATCH_SIZE: 512\n",
      "\tMAX_SEQ_LEN_REF: 256\n",
      "\tMAX_SEQ_LEN_QER: 128\n",
      "\tMAX_SEQ_LEN8: 128\n",
      "\tSEEDS_PER_READ: 500\n",
      "\tSIMD_WIDTH8 X: 32\n",
      "\tSIMD_WIDTH16 X: 16\n",
      "\tAVG_SEEDS_PER_READ: 64\n",
      "\n",
      ">>>> convert sam to bam for Clone5\n",
      "[samopen] SAM header is present: 1 sequences.\n",
      "\n",
      ">>>> Flagstats from all reads 5\n",
      "\n",
      ">>>> Extract only correctly mapped and calculate flagstats 5\n",
      "\n",
      ">>>> Sort mappedpaires bam file 5\n"
     ]
    }
   ],
   "source": [
    "for i in {1..5}\n",
    "    do\n",
    "        cd ~/work/MAPPING-ILL\n",
    "        echo -e \"\\n\\n>>>>>>>>>> Creation directory for Clone$i\"\n",
    "        mkdir -p dirClone$i\n",
    "        cd dirClone$i\n",
    "        \n",
    "        echo -e \"\\n>>>> Declare variables$i\"\n",
    "        REF=\"/home/jovyan/work/SV_DATA/REF/reference.fasta\"\n",
    "        ILL_R1=\"/home/jovyan/work/SV_DATA/SHORT_READS/Clone${i}_R1.fastq.gz\"\n",
    "        ILL_R2=\"/home/jovyan/work/SV_DATA/SHORT_READS/Clone${i}_R2.fastq.gz\"\n",
    "\n",
    "        echo -e \"\\n>>>> Mapping Clone$i\\n\"\n",
    "        bwa-mem2 mem -M -t 8 $REF $ILL_R1 $ILL_R2 > Clone$i.sam\n",
    "        \n",
    "        echo -e \"\\n>>>> convert sam to bam for Clone$i\"\n",
    "        samtools view -@4 -bh -S -o  Clone$i.bam Clone$i.sam \n",
    "        rm Clone$i.sam\n",
    "        echo -e \"\\n>>>> Flagstats from all reads $i\"\n",
    "        samtools flagstat Clone$i.bam >Clone$i.flagstat\n",
    "        \n",
    "        echo -e \"\\n>>>> Extract only correctly mapped and calculate flagstats $i\"\n",
    "        samtools view -bh -@4 -f 0x02 -o Clone$i.mappedpaired.bam Clone$i.bam \n",
    "        \n",
    "        echo -e \"\\n>>>> Sort mappedpaires bam file $i\"\n",
    "        samtools sort -@4 Clone$i.mappedpaired.bam Clone$i.SORTED \n",
    "        rm Clone$i.mappedpaired.bam\n",
    "    done"
   ]
  },
  {
   "cell_type": "markdown",
   "metadata": {},
   "source": [
    "## 2.2 Mapping Long reads vs a Reference"
   ]
  },
  {
   "cell_type": "markdown",
   "metadata": {},
   "source": [
    "Similar process such as SR is done in LR. In this case mapper is minimap2."
   ]
  },
  {
   "cell_type": "code",
   "execution_count": 89,
   "metadata": {},
   "outputs": [],
   "source": [
    "# Declare variables\n",
    "i=10\n",
    "REF_DIR=\"/home/jovyan/work/SV_DATA/REF/\"\n",
    "REF=\"/home/jovyan/work/SV_DATA/REF/reference.fasta\"\n",
    "ONT=\"/home/jovyan/work/SV_DATA/LONG_READS/Clone${i}.fastq.gz\""
   ]
  },
  {
   "cell_type": "markdown",
   "metadata": {
    "tags": []
   },
   "source": [
    "##  Let's map now but only WITH READS FROM ONLY ONE CLONE"
   ]
  },
  {
   "cell_type": "code",
   "execution_count": 90,
   "metadata": {},
   "outputs": [
    {
     "name": "stdout",
     "output_type": "stream",
     "text": [
      "\n",
      "Creation directory for Clone10\n",
      "\n",
      "Clone10\n"
     ]
    }
   ],
   "source": [
    "mkdir -p ~/work/MAPPING-ONT\n",
    "cd ~/work/MAPPING-ONT\n",
    "echo -e \"\\nCreation directory for Clone$i\\n\"\n",
    "echo Clone$i\n",
    "mkdir -p dirClone$i\n",
    "cd dirClone$i"
   ]
  },
  {
   "cell_type": "code",
   "execution_count": 92,
   "metadata": {},
   "outputs": [
    {
     "name": "stdout",
     "output_type": "stream",
     "text": [
      "\n",
      "Mapping Clone10 minimap2 \n",
      "\n",
      "[M::mm_idx_gen::0.079*1.05] collected minimizers\n",
      "[M::mm_idx_gen::0.109*2.36] sorted minimizers\n",
      "[M::main::0.109*2.36] loaded/built the index for 1 target sequence(s)\n",
      "[M::mm_mapopt_update::0.118*2.26] mid_occ = 10\n",
      "[M::mm_idx_stat] kmer size: 15; skip: 10; is_hpc: 0; #seq: 1\n",
      "[M::mm_idx_stat::0.123*2.21] distinct minimizers: 165344 (91.75% are singletons); average occurrences: 1.156; average spacing: 5.336\n",
      "[M::worker_pipeline::12.493*5.52] mapped 11235 sequences\n",
      "[M::main] Version: 2.17-r941\n",
      "[M::main] CMD: minimap2 -ax map-ont -t 8 /home/jovyan/work/SV_DATA/REF/reference.fasta /home/jovyan/work/SV_DATA/LONG_READS/Clone10.fastq.gz\n",
      "[M::main] Real time: 12.507 sec; CPU: 68.945 sec; Peak RSS: 0.530 GB\n"
     ]
    }
   ],
   "source": [
    "echo -e \"\\nMapping Clone$i minimap2 \\n\"\n",
    "minimap2 -ax map-ont -t 8 ${REF} ${ONT} > Clone${i}_ONT.sam "
   ]
  },
  {
   "cell_type": "code",
   "execution_count": 93,
   "metadata": {},
   "outputs": [
    {
     "name": "stdout",
     "output_type": "stream",
     "text": [
      "@SQ\tSN:Reference\tLN:1020001\n",
      "@PG\tID:minimap2\tPN:minimap2\tVN:2.17-r941\tCL:minimap2 -ax map-ont -t 8 /home/jovyan/work/SV_DATA/REF/reference.fasta /home/jovyan/work/SV_DATA/LONG_READS/Clone10.fastq.gz\n",
      "86f59255-6632-405c-a329-62d9dba8a95f\t0\tReference\t495672\t60\t3157S38M1D8M1D49M1I3M1D8M1I37M2I5M2D52M1D10M2I8M1D11M1I18M1I17M1I62M1D56M1D27M2D32M3D16M1D3M3I41M1I5M1D3M4I6M1I3M1I2M1I6M1D164M4I13M1I29M1D2M1I22M1I3M2I6M2D14M1D15M1D47M1I61M1D32M3D13M2I17M1I60M1D22M1I62M1D17M2I15M1D8M1I2M1I21M1D22M1D2M1D37M1D5M2I3M1D5M3D3M2D27M1I8M1D17M1I8M1I4M1I5M1I13M2I42M1I2M1I24M1I6M1I1M1I39M1D38M3D11M1I9M2D12M1I1M1I44M1I36M1D11M1D48M2I4M2I5M2I103M1I2M2D20M2D45M1I15M1I37M1I10M1I5M1I42M2I23M1D17M7S\t*\t0\t0\tTATTTTCAAATACTAAATGATTTCAACTGAAAACGTCATCAATAACTCAAAGTTGTATTAATCATCAAGATCTATAACTTTCATTTTGGTCAGTTCTTCATCGGACAAAGTAATTTGTAAGATTGTTCCACAAGATGTACTTATCTTTTATATAGTTAATAAAAACTATAAGAGTGGTTACATTTTGTGAACAGTCTTATTAATAACTTTGTCGGATGAAGAAATGTCTAAATGGGTTATAGATCTTGCTGAGTTATACAACTACGTTCTTGATGACTTTTCAGCCGAAATCAAATACTACTGCAAAATATTGTTTGAAGTTTTGAAATTCAGAATTTTAATTGATAAAAGTCACAATAAAAAATGGCCAAAATAATAGCAGTAAGAACACAATAACATGATAGAGCATGATTTTAGAAATATTTAGAAAAAGTCATCTTGTTTAGGTTTGAATAATTTGAGTTTGAATTTCAAATTCTGACAATTTCAAACAACATTTTCAAAAACTAAACGATTTTAAGTGAAAAGTGATCAACAACAAAGTTATTATAAATGATCATTATCTATACCTTTTTGTTTTGGTAATTTTGGTATATGACCTCTGTTTCAATAATTTGAATTTAAATTTCAAATTATGACCACCTGCAAACAAAATTTACAAATACTAAACGATTTCAACTGAAAAGTCATCAACAACAAAATTGTGTAACTCATCAATATCTATAACTTTTATTTTTGTCATATCTTCATCCGATAAAGTGATATTAACGTTGTTTACAAAGTTTACAAGTCATCTTATAAACTTTGATGAATTTAAATCAGTGACAAGAATTGCTATAACGTCTCAGGTTTGGGCCGGTTTATCACGCAACCGATAAACTGTCACGGTATTATGGGCCTGTATTCTGGGCCTTTCACCCATAGTTGCATATCCGTGACGATATCTTACAACATCACGAAAATCCCCTGGCCCCGCAGCGGACGTGATAATCCACAAATGTTCTGGTAAGTGAAATTGTGCTGGTCCACAGACGGTCGTCAGTCCCGAGCGATTATTGTCCAATTGAGCCTGCTAGTGAGACGGGGCGCTGGTGCTCGTTGGGCAGACGGGACAACCTGGCTCCAGTACCCAAACTGCCCCTGCCTACAAGGCTGGACCGCTTCATAAGAGATCCCTCGAACATAGAGGACGAGCTCCGGAACAAATTCTCAGGAAGAGGCTGGGGGATCAAAGGTCCACCCATGACTAGCCCAGATTCAGGCAGTCGTTCGAGGTTGTGTTTGTCACTGCAAAGGACTAACGGCCAACAATCTTAACTAAGATCGCGTCCTCTGATCAGTGTTGAGCGGATACTGCCGATGATCTGGCCTTAGTGCCCGTTAAGACATTACAGCGGAAGTCACACCGCCAACCGACCGGCTCAGAGTCAGCTCCACTCACACCGTAAGTGCAGAAGTAGAGGATGTTCCAAGGGTTAGTAGCGCCCGTACTCGTGGTCCTCCGGGAGTTCTGTTAAAAACAAACTTTATGAGGAAGTAGAGGGGACTCAAACGGATGGCCAGCAGGTCTGGCGAACTTATTATGCGGCTTAATCGCTGCTTTGCGACGTTTTCGGCCCCACTAGCTGGGGGAGCCGGTGTCACCACCACACGCTTAATTGTGGACCCATACGAGGGGAACTCGCCGCGCTCACGTACTGGAGGTTTACTAATTTGAGTCGGTGTTACGATTTTCACTAGGTACCCGGGTAAAAGCGCCGATATATCATCATTAAGAAGTTGCACCAAACTGACAGTCAGACAGGCCCAGGCTGGCTAGTAGCTCAGATGTCGACAGACAGAGGTCCTTGCTCCCCTCGTCATGCGGGTATTACTCTTGGGGCCTGAGGCTCTCTGGATGGATTCGGCGTTTTAAGTGTCACCTTATAAACTCCCCTGTTTGCATTGAATGCGTGAACCACCTGGCATCTTAGAAGATGAACCGACGTCTAAATCTACTGAAACATTCCCTATATAGGGGTTCGTGGGACCATCCTACCCGTAGCTGAAGTAAACATTTTTGCCAGCTATCCATGGGCCCAGGAGATATGGCTGGTTTTTATCAGGAACCCTCGTGGAACTACAGCAGGACCTCCGCTTTTGCTTTGCTAACCGTTTTCAAAGAGGCCGTAACGCCAAGAGACGAACATTCGTCCCAGCCGCTTTATTCCGTGGCGGCTCGACCGATTTGTTAAATTTCCGAGAAATCCTGGATGAGGACCGGTACAGCGTTGATTTACAGCACGGTTGTTACAGGTAATACGTCGTGACAAAACCACGGAACTACCGGCTGTTATAGCATGAATCGGTATTTTTAAGGACGCTGATGCTCGTTGAGCTTTCCGTTACATATTCTCCCGCCATAGCACCTCAAAGGTTTTAGTTCATCCTCCACTTCTCAGTGCGCCTTATCGTGTCATGTCCCCACGAATCCGTGGAAATCCTGGAACTATGAGGATCAACTGCTTTACTGCCCTGAGCGACTAATGTTCACCATAAGGAACCATAAATAAAGGCAAAGCGTCGATCTCACTAGTGCAGACTGATTGCCTGGGGTTCCACAGCCCAGTACAGTCAACTGTGATGACTGCGCTGGCTTTCTGCCTATATCTCGGGATCTCACTGGAGTACCCAGTTAGGTCCGCGTTTGGACCATCACCCCAACTAGGGGCCTGGCGACACACAAACGATTTTACAGACAGCGGAGGATACCTCGGGAAACAGCGCCAGTCTACCGGCCGTGGAGGTGATCGACGATATCTCTGCCTCTCCGAAGCAATCATCGTATTCTTCTCAATAAAGCCTGGAACGCTCAGCGCTTCCGACCCATCTCGGAGGGCACCCTTGCCAGGCCGTTTTACCCTGCTACCCCCGCCGCTAGCATTTATACTCATATATTTTGCGATCCGCACCGCTCCCAGTGGCATGTGATACTATTGGTAATAGAAAATTGTCAAGATAAGCTTACTCAGTCCTAACACCCCAACAGGGTCGAACACATCATTACGCTATACTCGACAGGAGACCGTTAGCACACTTCTTCCGCTTTGGGAGCAGACCCTTTGCAATAGCTTCAACATACACTTCCGGGTGTTACTAATGTCCGACCCGATCAGATTTTCGCCAAATTTCCTTACACATTAAATAGTTTCACATGTGATAATCTATATTATTAGGCCATAACTAACCATGCATGCAGATACCCTGTTAGCCACAGACCCTAATCAGCTAATACCACGTAGTGTCTATACAAATTACGGTGTTAATGACTGAAACCTGACAGGGAAATCTCGCCTATGTATACATGGATCTTGAACATTCTAGGGCAACTGAATTAATATCTAAGGCTGAACAAAGGTATATGTATATTGAGTACCTTGTAAAATAAAAGTACTATAACTATCTTTCTAGATAGCTGATGCATGCTAAGATATGTATTGAAATCTCTAAGAAAATTTAGCACAGGTTGTGAGTAAATTCTCCTTTGCTAGCTAGTTTTTCTTTAGAGAGGTTAAGTCGTAATTCACTAGTTGATATTAATAATAGTTTATTTACTACAACTGTTAAGAAAGGAGCAAGGGGACAGTCCAAACCACGAACTAGCCAACAAATGAGGTGATGTTAGAAGGACAATAATTAACAAGGGTCAAGATGAGTAAAATGGTTGCTAAGGTGAAGTTTTAGCCAGACCGTTAATATGTTAATTGAACATAATAGCCTACCTCGGATAAATCTCAGCCTCGATTATTAACTGACATGTAAAGTGGTCGATACTGATCAATTGCGTACAAGTGTCCGTTTGGATACCATCTACCATTGCTCAGAGTCCTCATTATCTAACAGATATTGCATCTCCCTCGCTATATTACAGCATATCAGCTCAGTTTCTAAATATTTAACAGTCTGGTGGACTTTTAAACATGTTTATTGATCGTTTTATTGAAAAATTTAATTAATTATTAATTATTTTCCTCTCATTTGATTCATTAATTAAATATATACACTTATATATATACATATATATATCTATAGTTTTAAATATTTCATAAATTTTATTAATTTGACAGATGGTCAAATATGTGAAAGGACAACAGTCAATCATCTATTAAAAAACTGAAGGGAGGGATCAGTATAATATTAGCGCCATTTTAGAGCCAGCTCGTCTATAAATACAGCAAATTGCATTGCCATAGTCATCCACCTCTACTTTTACTGCTAGCTAGCAGCAGCTCGATCGATATAGCTATACCATATATGGAGGCGTTTCAAGGAAACGACCACTGCCTGCCAGTGCTTGCTGTGAGTCGGTAACAACCATTGTTTTGATGTAACAACGTCGGCGGCCAGGGGGCACGGCACAGGACTTCGTGGACCTGCACAACGCGGTGGGGACAGGGATCGGCGAGGGTGACGTGGGACGACACCGTGGTGGCGGTGCGCGGGTCCACCGCGGCGCAGTCGCCAAGCCTGAATCACCAGCCCCGTAAGCACGAAGACAACGGAACAGCCACCTACGGAGAGACCATCTGCATGATCGATCATTTCCCGCCGGCGGCAACGACACGATCGTCGATCCGCCGGCCGCCGCGGCCGCGGGCGCTCAGGCGGCGGAGGGCAGTGGTTCGACCCCGACACCAGCGGCTTCTCGGCGCAGGGGGACTCGTTGCGACCACCACGCAGCTGATCGCTGGAACGCCACCACGGCCATCGCCTACGCCGAGGTCGTCTGCGACCAGCGACGCCCGGGTCTTCGTCATCTGCAACTACTACCTCCGGGCAAATCCCATTCCAGAGCCCCTACTAGCTAGGTTGCTTTGAAACCACAAGTCAATATTAATGATTAATCTATATATATATATATATCTATATATATATATATATATATATCTATAGCTACGTTATATACTATAATCGCATGCGATCATGCATGCCTGCATATACTGTTCAGTATACATAAATACCCTATATGCTCTACGTACATACTACTAGTATGTACAACGCATACTATATGTACATTGCCTACGCACGTTCAATCTAGAACGATATCAGCATGCATGTGATTGATGGAGATAAAAGTAGATCATCAATTCACATCATCTGTTGGCTAGTACCTAGATATATGCATCATCAACATGCAGGTGTACTGTACAACGGTTTATATATCCTAGTAGTGGTGC\t&388@=825368::<>+$'&'10401465=9:2-.+.)'3((('(%%/)*&-&(%)+()+1172.7$)&+(3*.*238;=>:9;<=9&'+3*,4134522+944:5>8+)'')&./()*.+)/.,68%823*1+1+)(*137>=<A?A=14)$$&%&')&47:0+/010*5%*)-*''3234:::*&(+)(&'$7<A?5569=;78,,.@516109-.5=012%&$%'%,.)$$$%$&.,--,,'1--152185123483)$'%#&(0'.(**...3>>C;1/++./8894969.11651/134:;?<6875/5;:788;:==978:BD5464*8&)33*0*+04479:,(--&&,,.578777.-,)767@=;245-&'*'+(-)')'*//-79834552.865764393<;<6A5A?9>?DC<.7<:82.(,0-0-++%147*25=>?7673<=@A;75=89>:<>66<;*2.010%,()+++<2>;?9:)*59?@G@6CFMMA<297/.-,8874*-+%%+)'*%$$('7%'-345C6/923$',/0461&&.)(&)-5888+&&1245331%7895))=89?>;7'')&)*(*(+'+12.=?@:960/0/34,()+,.,3879:=4;;99<:9:4-32328;490112*0.//%)+++%',-241+((;>8>9944,?=@@*%:/*6++-./020.-)*$($%/174:)-547888:;<;78>DDGA:BAA?:'(2$(+36>;=144824-533*%+)$)$(1.(+)*57754152-&*++'($&$-1+049949;@2789763/.6/4565940'$#,-+(%)%*))*/45;89-%-,;04)47:8.&%%)..233-++'%##%&'&(*-279-;:73@8++,2424/)))+-.++-2542../0::??0?8979-%%1*+,,+.5014-04/.+-,+)010143./.-:%$&--5*11;<,+,2;;=64+3')*-.%$%%(&'(((1$$$&$$$113233215,+,32-./(;):;5)/04+))*0%$%&##%)#'%%3*&'&%$##%%.*+''9$)%%'(+544;>1/6665.2''(2.'%$*&%/'/4(+((''%%%%-(()-%#,-32,)).6%.)$)%111ACA?>=>=>3/02048>?A=94;;=C@@:;;.:*+)96564//4'(11250.,.,(()%#$($99/A23-.257<>@?;C7GGDB9*;>@@:2;@83/440(*0226.345%-/-.)*%)*(**$/0/*5-((/+.3?71'*.)*)%.'258)2;0.616:;6()%#(''%#$$'$%%$&+)),))##+0.'&0&$'34968/.'-,#%0),,0(1)');78<=:3.0,'-()6-%)0/++)07443(()(*-.*$$$$'+-.0/51655<558<92-3&(887;=>5;:--%&%(+606=C9<6=7C;3<96/.+--%%&&&')##'-$32:3.89$91488=5</89@@;<<9759=<90&,())(/,&93480/%&)($./42-*&5565<==(%**)54&+(&),&*+/943,9682334.'$%#%'$%''(')''&\"%%/+,+%#%$)&%%)###%%,0,0*0078>+541,-;<=77)-&&&&&%#+$33+,333*/'&$%1)3:54-+682/458776%($%$#)49>>>59=11122B@ACEBA<?<867>;;'%&67=>@A/=6=>=<;-*,*+)(*)/$')*(-$$##%%'%%2463362..'''$%$$%(&&&''*+4488651/-+42044:&)+2))%&'$-,.(&$&$#%%+%%&'()-&.///1;88542*)$$)%/)6&'&)&&*%##$'##%%%&'&&,%)04=6:91/-418400***.,//1/01-))+,.38+++*378-2/&$&10/,+'3./$(()1855+/(0&,3-,*(($,+.-0469:84-674&)%$$&&+'##$)))887AEEEAA@96;:=9671*'%%&-&'(*$$24/12-8875762,*'%%03-/-+0*+'')()0(+$#$&(//(*0**12147/($)*#$$(&%%(*&''68>>>)'672/00009*%$%$01/*0/-0-&&%$'04'((.--+'&8'542-350/$$('/.,*&$#&%$$32.'((*-47CBA4*225@38=,,13:@;>64=A;5.,3110(45//,3(2)%*&%%&'((5.*(%%8)2)45'$(*')&/.63253(,-41.,+(+-+AA7++--47?@A+8/.022222:464/'&$'8<78,39/*'($&%%)$)**&'&+0100435%00,*+/3189961467/1578;;;+//02172034835.-(+(#&*+.23610)($='044552218=78;(('*,+.'*+*%%&)0&<??A)(,()*)(-.545;676%$$$)*00153,=57-79::62$-&(%+))/*%3$##&(&-%&*$$(*'%&&+-,1)/3.0-3322/+((%'((.,*$$%&%//436=9532,)*(-/$%#*($*$%>??=?AAA@-+,-)*&&$&%%''&)%#',)'(+**%&+4-,03.)&+&%*-,./%$$+(#%$.,9,-'$*0$$#&''(&%&)*+,))(%'##$&*)*/+//(./+&&2.0%%%&%$&%*--120-&%3.2899:47142*&%..617()7;55-6*/1(($&$').)%&$$&'%&&5$%%'-+((#&')06)2$$$4592/3..173,,//0'457677;4621CEA55555.&&-**+(2'$&)***:()601&$$40391&'*)$$%&$(111111++.&')*'&%%)(()))'+-*0101/$/')($%$'/3,+&$%&.0,6455<23377''533:C:6(()48146<?A@+37.<96,07.<))%)--33<;--.%%%&&/205??<535314.757EAHGECD<0-*-+),*-*'%%%--$0297??J/:>@=789549CB:',)0/$)0/1.0$$(01544*%%%)'11124&&,.)''(22697,(&+.78761/*#'%$+42+(-4789+,((,***.%%10.642,''*%%%'$&%'&*-2,''3//2/%&+''%$$*4<::-7=>:>399;5./8;5;@A:<82249+9;9/3/>@B@7788>>8;;<=)<0-/2(9:<>==;6333520/641-'8:5114879-.8=??A@>04-1;1B<<<=<>=5579=<4$''&&/5680-$;*.',$&-##))-35.68732-.43/+*-1++23>??>AAA50/0'$%$'(((:=@=2)-&$$$#&))''./.(('(%-$('&&$$&%)%$%&$$%'$$%$%$&%*+$&*',.+++%($$$/-(,1/1-./+'&%$'&&2,&&(79981'&*''+*0'+*&&'&&#$%&&$$/0)0/32'*'%#$$&,($&$%*+434**41,-0*&#&'&&%%'#&/2<;51/)'%*),,0//001028>?=D.744576925752/75444),*(%&%#&'&'&++(+3-8+-2%&)++++,=:=;73/21.$*&((++.559;?79>?>07+4*.*35:>BA755854/0,)0473-0-,2**+,,.,++&%'$$$.')%'('%$&$%2(599=>@B<5>BBBAEAAB)>0:49&&$&)'.'(27-&*$($%#%$&(&#%%-+)*'+,&(8466&&($%+---'**),,.2-'%$$%#$#$&((%)%%$*&$(%$%#$&(.054.-3+(161-0-+((*+0,0-+*('(&)&)&'+&$&$'%$'(&(&'-.2-,,&'()%(('$+0*532:5;;;884+%(*+,*%$#%*$%&'137501/0/41%%'$&//++*-,((),6$)%%301224$*','*)*))4,$&1...-+35)&,0,../73/%&#(##$'&%%'++4)('&')*/010372-20380,-#$(+')'('&-$''&%'(&%(()#'&,,1+-/)%%''&)(&$#).%%$,%+(478;:56.*,,&22.$%%''*,+0<=7211-;9569995.0+-+----'(%'$'3::>=05..+)..1.2/100--.$%/67860-')+007++.3/-%%,20030;888+6-4230'(,1.7A@?A:67ED:6./'-7885,*$%)**-34.$$$6''(34461))$$$%3/1+&%)$%$'#$#('%&+002303;:=560$$/11,,7-233.)-%')((-.,,,,/75369;;<:5))-*6:A;A5;305)*-342.-)+&+(+''(,,,+,.76'$($%%)$%($&((.-./3330+$)*&%&(((&%$&)'',,-'+*,1,,*,))))*+''65(&)$++64,%3+'22+3+3))))'.-.%&%&8;=;>;55265'%,(4697((%&($%%'*)''(01.3+1++++--.&&%%$*+&-+138((//9&8978/.('0,$$''>?6123/+)+39;740))2568965:77.4A0&&(&&%)*%($%'(&)#0$3363593'(%55;8941-101*+)6,0/&&'5&&6$$$2424**((*,&')+%*(-,+&%%'#$(,),333,/-2/%22..'&$,-$%*&),,((&--.22'$&'--&&)(11+456-'',*%.(%%)%$#$',,()1104,.13,*$'$&$$$%*$%)*#%&&1)*-)0>@AG@*(.453.-',>7;=40%%,(),/)53.,,&&0../1-,*'21215/23503)%%*&&('':67--0/A>BAB<82-$$%,---&%&%&.0,8862,(,($%$'*:<<66821;24112.3+<;CHA85?BL?3(-/(1-,-*($'%&'&-.2-30;=>22./.,/%'-4/+),%.+,148;;84/.$/(''(.0)++40-8:';44+'0/.-*(/*0$00/837+.,//0**+)$($$$((+('(&('($%%$%#&))&'*-)-/0%020(2+40644321/.*%%+/0/-..3*41412672,''('+)215753.)&%,/.1467352306236847898.-'-)9;;==87350,.&$$%&&+'&&-/)##,-,/1..,&-//2255@<8;;=9<::=9<@>98<>@DF;;99;A>?>995971(..0,3,&-/-1)$)#%%+/69037234789.(,(%&&*()))'$%&(),,20+4&/'*,-)%$%&%&%'))%'$-0)-,-3//32)))//2-*11131*)()&&&%-*00-(%$$%&&()'&&-+0,235;3/4951,-26:,(%'()$$*)-&$$$&$%&$$\tNM:i:294\tms:i:2336\tAS:i:2336\tnn:i:0\ttp:A:P\tcm:i:48\ts1:i:502\ts2:i:0\tde:f:0.1255\tSA:Z:Reference,495158,+,446S515M2I4253S,60,44;Reference,480912,+,446M7D4770S,60,38;\trl:i:30\n"
     ]
    }
   ],
   "source": [
    "head -n3 Clone${i}_ONT.sam"
   ]
  },
  {
   "cell_type": "code",
   "execution_count": 94,
   "metadata": {},
   "outputs": [
    {
     "name": "stdout",
     "output_type": "stream",
     "text": [
      "\n",
      "Convert samtobam and filter it \n",
      "\n",
      "[samopen] SAM header is present: 1 sequences.\n"
     ]
    }
   ],
   "source": [
    "## Convert samtobam \n",
    "echo -e \"\\nConvert samtobam and filter it \\n\"\n",
    "samtools view -@4 -bh -S -F 0x904 -o Clone${i}_ONT.bam Clone${i}_ONT.sam\n",
    "rm Clone${i}_ONT.sam"
   ]
  },
  {
   "cell_type": "code",
   "execution_count": 96,
   "metadata": {},
   "outputs": [
    {
     "name": "stdout",
     "output_type": "stream",
     "text": [
      "\n",
      "Sort and index bam \n",
      "\n"
     ]
    }
   ],
   "source": [
    "echo -e \"\\nSort and index bam \\n\"\n",
    "# sort and index bam\n",
    "samtools sort -@8 Clone${i}_ONT.bam Clone${i}_ONT_SORTED \n",
    "samtools index Clone${i}_ONT_SORTED.bam"
   ]
  },
  {
   "cell_type": "code",
   "execution_count": 97,
   "metadata": {},
   "outputs": [
    {
     "name": "stdout",
     "output_type": "stream",
     "text": [
      "\n",
      "Calculate stats from mapping\n",
      "\n"
     ]
    }
   ],
   "source": [
    "# Calculate stats from mapping\n",
    "echo -e \"\\nCalculate stats from mapping\\n\"\n",
    "samtools flagstat Clone${i}_ONT_SORTED.bam >Clone${i}_ONT.flagstats"
   ]
  },
  {
   "cell_type": "code",
   "execution_count": 98,
   "metadata": {},
   "outputs": [
    {
     "name": "stdout",
     "output_type": "stream",
     "text": [
      "9281 + 0 in total (QC-passed reads + QC-failed reads)\n",
      "0 + 0 duplicates\n",
      "9281 + 0 mapped (100.00%:-nan%)\n",
      "0 + 0 paired in sequencing\n",
      "0 + 0 read1\n",
      "0 + 0 read2\n",
      "0 + 0 properly paired (-nan%:-nan%)\n",
      "0 + 0 with itself and mate mapped\n",
      "0 + 0 singletons (-nan%:-nan%)\n",
      "0 + 0 with mate mapped to a different chr\n"
     ]
    }
   ],
   "source": [
    "head Clone10_ONT.flagstats"
   ]
  },
  {
   "cell_type": "markdown",
   "metadata": {},
   "source": [
    "## Let's map with data from all clones using a loop for mapping, with a single folder per sample and ONT reads"
   ]
  },
  {
   "cell_type": "code",
   "execution_count": 45,
   "metadata": {
    "tags": []
   },
   "outputs": [
    {
     "name": "stdout",
     "output_type": "stream",
     "text": [
      "\n",
      ">>>>>>>>>> Creation directory for Clone1\n",
      "\n",
      ">>>> Mapping Clone1 minimap2\n",
      "\n",
      "[M::mm_idx_gen::0.082*1.05] collected minimizers\n",
      "[M::mm_idx_gen::0.109*1.69] sorted minimizers\n",
      "[M::main::0.110*1.69] loaded/built the index for 1 target sequence(s)\n",
      "[M::mm_mapopt_update::0.118*1.64] mid_occ = 10\n",
      "[M::mm_idx_stat] kmer size: 15; skip: 10; is_hpc: 0; #seq: 1\n",
      "[M::mm_idx_stat::0.123*1.62] distinct minimizers: 165344 (91.75% are singletons); average occurrences: 1.156; average spacing: 5.336\n",
      "[M::worker_pipeline::17.557*3.31] mapped 10241 sequences\n",
      "[M::main] Version: 2.17-r941\n",
      "[M::main] CMD: minimap2 -ax map-ont -t 4 /home/jovyan/work/SV_DATA/REF/reference.fasta /home/jovyan/work/SV_DATA/LONG_READS/Clone1.fastq.gz\n",
      "[M::main] Real time: 17.572 sec; CPU: 58.115 sec; Peak RSS: 0.417 GB\n",
      ">>> Convert samtobam and filter it \n",
      "\n",
      "[samopen] SAM header is present: 1 sequences.\n",
      ">>>> Sort and index bam \n",
      "\n",
      ">>>> Calculate stats from mapping\n",
      "\n",
      "\n",
      ">>>>>>>>>> Creation directory for Clone2\n",
      "\n",
      ">>>> Mapping Clone2 minimap2\n",
      "\n",
      "[M::mm_idx_gen::0.084*1.04] collected minimizers\n",
      "[M::mm_idx_gen::0.111*1.68] sorted minimizers\n",
      "[M::main::0.111*1.68] loaded/built the index for 1 target sequence(s)\n",
      "[M::mm_mapopt_update::0.118*1.63] mid_occ = 10\n",
      "[M::mm_idx_stat] kmer size: 15; skip: 10; is_hpc: 0; #seq: 1\n",
      "[M::mm_idx_stat::0.123*1.61] distinct minimizers: 165344 (91.75% are singletons); average occurrences: 1.156; average spacing: 5.336\n",
      "[M::worker_pipeline::17.298*3.31] mapped 10241 sequences\n",
      "[M::main] Version: 2.17-r941\n",
      "[M::main] CMD: minimap2 -ax map-ont -t 4 /home/jovyan/work/SV_DATA/REF/reference.fasta /home/jovyan/work/SV_DATA/LONG_READS/Clone2.fastq.gz\n",
      "[M::main] Real time: 17.315 sec; CPU: 57.353 sec; Peak RSS: 0.416 GB\n",
      ">>> Convert samtobam and filter it \n",
      "\n",
      "[samopen] SAM header is present: 1 sequences.\n",
      ">>>> Sort and index bam \n",
      "\n",
      ">>>> Calculate stats from mapping\n",
      "\n",
      "\n",
      ">>>>>>>>>> Creation directory for Clone3\n",
      "\n",
      ">>>> Mapping Clone3 minimap2\n",
      "\n",
      "[M::mm_idx_gen::0.083*1.04] collected minimizers\n",
      "[M::mm_idx_gen::0.110*1.66] sorted minimizers\n",
      "[M::main::0.110*1.66] loaded/built the index for 1 target sequence(s)\n",
      "[M::mm_mapopt_update::0.119*1.60] mid_occ = 10\n",
      "[M::mm_idx_stat] kmer size: 15; skip: 10; is_hpc: 0; #seq: 1\n",
      "[M::mm_idx_stat::0.125*1.58] distinct minimizers: 165344 (91.75% are singletons); average occurrences: 1.156; average spacing: 5.336\n",
      "[M::worker_pipeline::17.173*3.35] mapped 10242 sequences\n",
      "[M::main] Version: 2.17-r941\n",
      "[M::main] CMD: minimap2 -ax map-ont -t 4 /home/jovyan/work/SV_DATA/REF/reference.fasta /home/jovyan/work/SV_DATA/LONG_READS/Clone3.fastq.gz\n",
      "[M::main] Real time: 17.188 sec; CPU: 57.622 sec; Peak RSS: 0.432 GB\n",
      ">>> Convert samtobam and filter it \n",
      "\n",
      "[samopen] SAM header is present: 1 sequences.\n",
      ">>>> Sort and index bam \n",
      "\n",
      ">>>> Calculate stats from mapping\n",
      "\n",
      "\n",
      ">>>>>>>>>> Creation directory for Clone4\n",
      "\n",
      ">>>> Mapping Clone4 minimap2\n",
      "\n",
      "[M::mm_idx_gen::0.082*1.04] collected minimizers\n",
      "[M::mm_idx_gen::0.112*1.67] sorted minimizers\n",
      "[M::main::0.112*1.67] loaded/built the index for 1 target sequence(s)\n",
      "[M::mm_mapopt_update::0.121*1.62] mid_occ = 10\n",
      "[M::mm_idx_stat] kmer size: 15; skip: 10; is_hpc: 0; #seq: 1\n",
      "[M::mm_idx_stat::0.127*1.60] distinct minimizers: 165344 (91.75% are singletons); average occurrences: 1.156; average spacing: 5.336\n",
      "[M::worker_pipeline::20.349*3.43] mapped 10243 sequences\n",
      "[M::main] Version: 2.17-r941\n",
      "[M::main] CMD: minimap2 -ax map-ont -t 4 /home/jovyan/work/SV_DATA/REF/reference.fasta /home/jovyan/work/SV_DATA/LONG_READS/Clone4.fastq.gz\n",
      "[M::main] Real time: 20.368 sec; CPU: 69.908 sec; Peak RSS: 0.432 GB\n",
      ">>> Convert samtobam and filter it \n",
      "\n",
      "[samopen] SAM header is present: 1 sequences.\n",
      ">>>> Sort and index bam \n",
      "\n",
      ">>>> Calculate stats from mapping\n",
      "\n",
      "\n",
      ">>>>>>>>>> Creation directory for Clone5\n",
      "\n",
      ">>>> Mapping Clone5 minimap2\n",
      "\n",
      "[M::mm_idx_gen::0.082*1.04] collected minimizers\n",
      "[M::mm_idx_gen::0.114*1.70] sorted minimizers\n",
      "[M::main::0.114*1.70] loaded/built the index for 1 target sequence(s)\n",
      "[M::mm_mapopt_update::0.122*1.66] mid_occ = 10\n",
      "[M::mm_idx_stat] kmer size: 15; skip: 10; is_hpc: 0; #seq: 1\n",
      "[M::mm_idx_stat::0.126*1.63] distinct minimizers: 165344 (91.75% are singletons); average occurrences: 1.156; average spacing: 5.336\n",
      "[M::worker_pipeline::18.634*3.35] mapped 11343 sequences\n",
      "[M::main] Version: 2.17-r941\n",
      "[M::main] CMD: minimap2 -ax map-ont -t 4 /home/jovyan/work/SV_DATA/REF/reference.fasta /home/jovyan/work/SV_DATA/LONG_READS/Clone5.fastq.gz\n",
      "[M::main] Real time: 18.648 sec; CPU: 62.476 sec; Peak RSS: 0.490 GB\n",
      ">>> Convert samtobam and filter it \n",
      "\n",
      "[samopen] SAM header is present: 1 sequences.\n",
      ">>>> Sort and index bam \n",
      "\n",
      ">>>> Calculate stats from mapping\n",
      "\n"
     ]
    }
   ],
   "source": [
    "for i in {1..5}\n",
    "    do\n",
    "        ONT=\"/home/jovyan/work/SV_DATA/LONG_READS/Clone${i}.fastq.gz\"\n",
    "        mkdir -p ~/work/MAPPING-ONT\n",
    "        cd ~/work/MAPPING-ONT\n",
    "        echo -e \"\\n>>>>>>>>>> Creation directory for Clone$i\\n\"\n",
    "        mkdir -p dirClone$i\n",
    "        cd dirClone$i\n",
    "        \n",
    "        echo -e \">>>> Mapping Clone$i minimap2\\n\"\n",
    "        minimap2 -ax map-ont -t 4 ${REF} ${ONT} > Clone${i}_ONT.sam \n",
    "        \n",
    "        # Convert samtobam \n",
    "        echo -e \">>> Convert samtobam and filter it \\n\"\n",
    "        samtools view -@4 -bh -S -F 0x904 -o Clone${i}_ONT.bam Clone${i}_ONT.sam\n",
    "        rm Clone${i}_ONT.sam\n",
    "\n",
    "        echo -e \">>>> Sort and index bam \\n\"\n",
    "        # sort and index bam\n",
    "        samtools sort -@4 Clone${i}_ONT.bam Clone${i}_ONT_SORTED \n",
    "        samtools index Clone${i}_ONT_SORTED.bam\n",
    "\n",
    "        # Calculate stats from mapping\n",
    "        echo -e \">>>> Calculate stats from mapping\\n\"\n",
    "        samtools flagstat Clone${i}_ONT_SORTED.bam >Clone${i}_ONT.flagstats\n",
    "    done"
   ]
  },
  {
   "cell_type": "code",
   "execution_count": 46,
   "metadata": {},
   "outputs": [
    {
     "name": "stdout",
     "output_type": "stream",
     "text": [
      "Clone5_ONT.bam        Clone5_ONT_SORTED.bam\n",
      "Clone5_ONT.flagstats  Clone5_ONT_SORTED.bam.bai\n"
     ]
    }
   ],
   "source": [
    "ls"
   ]
  },
  {
   "cell_type": "markdown",
   "metadata": {},
   "source": [
    "# REORDER BAM FILES INTO A FOLDER ONLY TO ILLUMINA"
   ]
  },
  {
   "cell_type": "code",
   "execution_count": 42,
   "metadata": {},
   "outputs": [],
   "source": [
    "mkdir -p ~/work/MAPPING-ILL/BAM\n",
    "cd ~/work/MAPPING-ILL/\n",
    "\n",
    "for i in {1..20}\n",
    "    do\n",
    "         ln -s ~/work/MAPPING-ILL/dirClone$i/Clone${i}.bam BAM/\n",
    "    done"
   ]
  },
  {
   "cell_type": "code",
   "execution_count": 49,
   "metadata": {},
   "outputs": [
    {
     "name": "stdout",
     "output_type": "stream",
     "text": [
      "total 0\n",
      "lrwxrwxrwx 1 jovyan users 52 Jun 19 18:16 Clone10.bam -> /home/jovyan/work/MAPPING-ILL/dirClone10/Clone10.bam\n",
      "lrwxrwxrwx 1 jovyan users 52 Jun 19 18:16 Clone11.bam -> /home/jovyan/work/MAPPING-ILL/dirClone11/Clone11.bam\n",
      "lrwxrwxrwx 1 jovyan users 52 Jun 19 18:16 Clone12.bam -> /home/jovyan/work/MAPPING-ILL/dirClone12/Clone12.bam\n",
      "lrwxrwxrwx 1 jovyan users 52 Jun 19 18:16 Clone13.bam -> /home/jovyan/work/MAPPING-ILL/dirClone13/Clone13.bam\n",
      "lrwxrwxrwx 1 jovyan users 52 Jun 19 18:16 Clone14.bam -> /home/jovyan/work/MAPPING-ILL/dirClone14/Clone14.bam\n",
      "lrwxrwxrwx 1 jovyan users 52 Jun 19 18:16 Clone15.bam -> /home/jovyan/work/MAPPING-ILL/dirClone15/Clone15.bam\n",
      "lrwxrwxrwx 1 jovyan users 52 Jun 19 18:16 Clone16.bam -> /home/jovyan/work/MAPPING-ILL/dirClone16/Clone16.bam\n",
      "lrwxrwxrwx 1 jovyan users 52 Jun 19 18:16 Clone17.bam -> /home/jovyan/work/MAPPING-ILL/dirClone17/Clone17.bam\n",
      "lrwxrwxrwx 1 jovyan users 52 Jun 19 18:16 Clone18.bam -> /home/jovyan/work/MAPPING-ILL/dirClone18/Clone18.bam\n",
      "lrwxrwxrwx 1 jovyan users 52 Jun 19 18:16 Clone19.bam -> /home/jovyan/work/MAPPING-ILL/dirClone19/Clone19.bam\n",
      "lrwxrwxrwx 1 jovyan users 50 Jun 19 18:16 Clone1.bam -> /home/jovyan/work/MAPPING-ILL/dirClone1/Clone1.bam\n",
      "lrwxrwxrwx 1 jovyan users 52 Jun 19 18:16 Clone20.bam -> /home/jovyan/work/MAPPING-ILL/dirClone20/Clone20.bam\n",
      "lrwxrwxrwx 1 jovyan users 50 Jun 19 18:16 Clone2.bam -> /home/jovyan/work/MAPPING-ILL/dirClone2/Clone2.bam\n",
      "lrwxrwxrwx 1 jovyan users 50 Jun 19 18:16 Clone3.bam -> /home/jovyan/work/MAPPING-ILL/dirClone3/Clone3.bam\n",
      "lrwxrwxrwx 1 jovyan users 50 Jun 19 18:16 Clone4.bam -> /home/jovyan/work/MAPPING-ILL/dirClone4/Clone4.bam\n",
      "lrwxrwxrwx 1 jovyan users 50 Jun 19 18:16 Clone5.bam -> /home/jovyan/work/MAPPING-ILL/dirClone5/Clone5.bam\n",
      "lrwxrwxrwx 1 jovyan users 50 Jun 19 18:16 Clone6.bam -> /home/jovyan/work/MAPPING-ILL/dirClone6/Clone6.bam\n",
      "lrwxrwxrwx 1 jovyan users 50 Jun 19 18:16 Clone7.bam -> /home/jovyan/work/MAPPING-ILL/dirClone7/Clone7.bam\n",
      "lrwxrwxrwx 1 jovyan users 50 Jun 19 18:16 Clone8.bam -> /home/jovyan/work/MAPPING-ILL/dirClone8/Clone8.bam\n",
      "lrwxrwxrwx 1 jovyan users 50 Jun 19 18:16 Clone9.bam -> /home/jovyan/work/MAPPING-ILL/dirClone9/Clone9.bam\n"
     ]
    }
   ],
   "source": [
    "ls /home/jovyan/work/MAPPING-ILL/BAM -l"
   ]
  },
  {
   "cell_type": "markdown",
   "metadata": {},
   "source": [
    "# REORDER BAM FILES INTO A FOLDER NOW FOR ONT"
   ]
  },
  {
   "cell_type": "code",
   "execution_count": 43,
   "metadata": {},
   "outputs": [],
   "source": [
    "mkdir -p ~/work/MAPPING-ONT/BAM\n",
    "cd ~/work/MAPPING-ONT/\n",
    "\n",
    "for i in {1..20}\n",
    "    do\n",
    "         ln -s ~/work/MAPPING-ONT/dirClone$i/Clone${i}_ONT_SORTED.bam BAM/\n",
    "    done"
   ]
  },
  {
   "cell_type": "code",
   "execution_count": null,
   "metadata": {},
   "outputs": [],
   "source": []
  }
 ],
 "metadata": {
  "kernelspec": {
   "display_name": "Bash",
   "language": "bash",
   "name": "bash"
  },
  "language_info": {
   "codemirror_mode": "shell",
   "file_extension": ".sh",
   "mimetype": "text/x-sh",
   "name": "bash"
  }
 },
 "nbformat": 4,
 "nbformat_minor": 4
}
