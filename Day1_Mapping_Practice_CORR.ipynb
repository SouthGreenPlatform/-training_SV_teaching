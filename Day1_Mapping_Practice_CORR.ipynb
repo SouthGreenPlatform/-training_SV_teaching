{
 "cells": [
  {
   "cell_type": "markdown",
   "metadata": {},
   "source": [
    "# <span style=\"color:green\">Formation South Green 2022</span>\n",
    "\n",
    "# Structural Variants Detection by using short and long reads\n",
    "\n",
    "DAY 1 => MAPPING\n",
    "\n",
    "Created by C. Tranchant (DIADE-IRD), J. Orjuela (DIADE-IRD), F. Sabot (DIADE-IRD) and A. Dereeper (PHIM-IRD)\n",
    "\n",
    "June 2022\n",
    "\n",
    "# 1. Creating the folder, downloading data and so on\n",
    "\n",
    "## __Simulated clones__\n",
    "\n",
    "Before starting, please download special data created for this practical training. Data are available on the from I-Trop server.\n",
    "\n",
    "Each participant will analyse a Clone, results will be complete in this shared file\n",
    "\n",
    "To generate Clone data, a 1Mb contig was extracted from chromosome 1 of rice.\n",
    "\n",
    "20 levels of variation were generated and long reads were simulated for each.\n",
    "\n",
    "We have introduced different variations (SNP, indel, indel+translocations) and also some contaminations."
   ]
  },
  {
   "cell_type": "code",
   "execution_count": null,
   "metadata": {},
   "outputs": [],
   "source": [
    "# make a directory to DATA\n",
    "cd ~/work\n",
    "mkdir -p SG-SV-2022/DATA\n",
    "cd SG-SV-2022/DATA"
   ]
  },
  {
   "cell_type": "code",
   "execution_count": null,
   "metadata": {
    "tags": []
   },
   "outputs": [],
   "source": [
    "# download your compressed CloneX \n",
    "for i in {2..10}\n",
    "    do\n",
    "        echo -e \"\\nDownloading Clone$i data\\n\"\n",
    "        CLONE=\"Clone$i\"\n",
    "        wget --no-check-certificat -rm -nH --cut-dirs=1 --reject=\"index.html*\" https://itrop.ird.fr/ont-training/${CLONE}.tar.gz\n",
    "        #decompress file\n",
    "        tar zxvf ${CLONE}.tar.gz\n",
    "        rm ${CLONE}.tar.gz\n",
    "    done"
   ]
  },
  {
   "cell_type": "code",
   "execution_count": null,
   "metadata": {
    "tags": []
   },
   "outputs": [],
   "source": [
    "# check data \n",
    "ls -l Clone*"
   ]
  },
  {
   "cell_type": "markdown",
   "metadata": {},
   "source": [
    "-----------------------\n",
    "# 2. MAPPING PRACTICE"
   ]
  },
  {
   "cell_type": "markdown",
   "metadata": {},
   "source": [
    "Read congruency is an important measure in determining assembly accuracy.\n",
    "\n",
    "Clusters of read pairs or single long reads that align incorrectly are strong indicators of mis-assembly.\n",
    "\n",
    "Reads mapping is usually the firt step before SNP or Variant calling."
   ]
  },
  {
   "cell_type": "markdown",
   "metadata": {},
   "source": [
    "### 2.1 Make a folder for your results"
   ]
  },
  {
   "cell_type": "code",
   "execution_count": 1,
   "metadata": {},
   "outputs": [],
   "source": [
    "mkdir -p ~/work/SG-SV-2022/RESULTS/MAPPING-ILL\n",
    "cd ~/work/SG-SV-2022/RESULTS/MAPPING-ILL"
   ]
  },
  {
   "cell_type": "markdown",
   "metadata": {},
   "source": [
    "### 2.2 Declare important variables"
   ]
  },
  {
   "cell_type": "code",
   "execution_count": 2,
   "metadata": {},
   "outputs": [],
   "source": [
    "i=10\n",
    "REF=\"/home/jovyan/work/SG-SV-2022/DATA/Clone${i}/reference.fasta\"\n",
    "ONT=\"/home/jovyan/work/SG-SV-2022/DATA/Clone${i}/ONT/Clone${i}.fastq.gz\"\n",
    "ILL_R1=\"/home/jovyan/work/SG-SV-2022/DATA/Clone${i}/ILL/Clone${i}}_R1.fastq.gz\"\n",
    "ILL_R2=\"/home/jovyan/work/SG-SV-2022/DATA/Clone${i}/ILL/Clone${i}_R2.fastq.gz\""
   ]
  },
  {
   "cell_type": "code",
   "execution_count": 14,
   "metadata": {},
   "outputs": [
    {
     "name": "stdout",
     "output_type": "stream",
     "text": [
      "Clone10 /home/jovyan/work/SG-SV-2022/DATA/Clone10/reference.fasta\n",
      "/home/jovyan/work/SG-SV-2022/DATA/Clone10/ILL/Clone10_R1.fastq.gz /home/jovyan/work/SG-SV-2022/DATA/Clone10/ILL/Clone10_R2.fastq.gz\n"
     ]
    }
   ],
   "source": [
    "echo \"Clone${i} $REF\" \n",
    "echo $ILL_R1 $ILL_R2"
   ]
  },
  {
   "cell_type": "markdown",
   "metadata": {
    "tags": []
   },
   "source": [
    "## 2.1 Mapping short reads vs a reference"
   ]
  },
  {
   "cell_type": "markdown",
   "metadata": {},
   "source": [
    "In this practice, we are going to map short reads against a reference.\n",
    "\n",
    "To know, how well do the reads align back to the reference, we use bwa-mem2 and samtools to assess the basic alignment statistics.\n",
    "\n",
    "In this exercise, we will use reference.fasta assembly as well ILLUMINA READS from your favorite CLONE."
   ]
  },
  {
   "cell_type": "markdown",
   "metadata": {},
   "source": [
    "## Reference indexation "
   ]
  },
  {
   "cell_type": "markdown",
   "metadata": {},
   "source": [
    "Before mapping we need index reference file! Check bwa-mem2 index command line."
   ]
  },
  {
   "cell_type": "code",
   "execution_count": null,
   "metadata": {},
   "outputs": [],
   "source": [
    "echo -e \"\\nIndexing reference $REF\\n\"\n",
    "bwa-mem2 index $REF"
   ]
  },
  {
   "cell_type": "markdown",
   "metadata": {},
   "source": [
    "##  let's mapping now !"
   ]
  },
  {
   "cell_type": "code",
   "execution_count": 7,
   "metadata": {},
   "outputs": [
    {
     "name": "stdout",
     "output_type": "stream",
     "text": [
      "\n",
      "Creation directory for Clone10\n",
      "\n",
      "Clone10\n"
     ]
    }
   ],
   "source": [
    "cd ~/work/SG-SV-2022/RESULTS/MAPPING-ILL\n",
    "echo -e \"\\nCreation directory for Clone$i\\n\"\n",
    "echo Clone$i\n",
    "mkdir -p dirClone$i\n",
    "cd dirClone$i"
   ]
  },
  {
   "cell_type": "code",
   "execution_count": null,
   "metadata": {
    "collapsed": true,
    "jupyter": {
     "outputs_hidden": true
    },
    "tags": []
   },
   "outputs": [
    {
     "name": "stdout",
     "output_type": "stream",
     "text": [
      "\n",
      "Mapping Clone10\n",
      "\n",
      "-----------------------------\n",
      "Executing in AVX2 mode!!\n",
      "-----------------------------\n",
      "Ref file: /home/jovyan/work/SG-SV-2022/DATA/Clone10/reference.fasta\n",
      "Entering FMI_search\n",
      "reference seq len = 2040003\n",
      "count\n",
      "0,\t1\n",
      "1,\t576484\n",
      "2,\t1020002\n",
      "3,\t1463520\n",
      "4,\t2040003\n",
      "\n",
      "Reading other elements of the index from files /home/jovyan/work/SG-SV-2022/DATA/Clone10/reference.fasta\n",
      "prefix: /home/jovyan/work/SG-SV-2022/DATA/Clone10/reference.fasta\n",
      "[M::bwa_idx_load_ele] read 0 ALT contigs\n",
      "Done reading Index!!\n",
      "Reading reference genome..\n",
      "Binary seq file = /home/jovyan/work/SG-SV-2022/DATA/Clone10/reference.fasta.0123\n",
      "Reference genome size: 2040002 bp\n",
      "Done readng reference genome !!\n",
      "\n",
      "[0000] 1: Calling process()\n",
      "\n",
      "Threads used (compute): 4\n",
      "Info: projected #read in a task: 264910\n",
      "------------------------------------------\n",
      "Memory pre-allocation for chaining: 557.3706 MB\n",
      "Memory pre-allocation for BSW: 958.4681 MB\n",
      "Memory pre-allocation for BWT: 309.2567 MB\n",
      "------------------------------------------\n",
      "No. of pipeline threads: 2\n",
      "[0000] read_chunk: 40000000, work_chunk_size: 40000200, nseq: 266668\n",
      "\t[0000][ M::kt_pipeline] read 266668 sequences (40000200 bp)...\n",
      "Reallocating initial memory allocations!!\n",
      "[0000] 2. Calling mem_process_seqs.., task: 0\n",
      "[0000] 3. Calling kt_for - worker_bwt\n",
      "[0000] read_chunk: 40000000, work_chunk_size: 4363800, nseq: 29092\n",
      "\t[0000][ M::kt_pipeline] read 29092 sequences (4363800 bp)...\n",
      "[0000] 3. Calling kt_for - worker_aln\n",
      "Inferring insert size distribution from data, l_pac: 1020001, n: 266668\n",
      "[M::mem_pestat] # candidate unique pairs for (FF, FR, RF, RR): (0, 81468, 1, 0)\n",
      "[M::mem_pestat] skip orientation FF as there are not enough pairs\n",
      "[M::mem_pestat] analyzing insert size distribution for orientation FR...\n",
      "[M::mem_pestat] (25, 50, 75) percentile: (380, 398, 415)\n",
      "[M::mem_pestat] low and high boundaries for computing mean and std.dev: (310, 485)\n",
      "[M::mem_pestat] mean and std.dev: (397.35, 25.38)\n",
      "[M::mem_pestat] low and high boundaries for proper pairs: (275, 520)\n",
      "[M::mem_pestat] skip orientation RF as there are not enough pairs\n",
      "[M::mem_pestat] skip orientation RR as there are not enough pairs\n",
      "[0000] 10. Calling kt_for - worker_sam\n",
      "\t[0000][ M::mem_process_seqs] Processed 266668 reads in 35.673 CPU sec, 8.952 real sec\n",
      "[0000] 2. Calling mem_process_seqs.., task: 1\n",
      "[0000] 3. Calling kt_for - worker_bwt\n",
      "[0000] 3. Calling kt_for - worker_aln\n",
      "[0000] read_chunk: 40000000, work_chunk_size: 0, nseq: 0\n",
      "Inferring insert size distribution from data, l_pac: 1020001, n: 29092\n",
      "[M::mem_pestat] # candidate unique pairs for (FF, FR, RF, RR): (0, 8981, 0, 0)\n",
      "[M::mem_pestat] skip orientation FF as there are not enough pairs\n",
      "[M::mem_pestat] analyzing insert size distribution for orientation FR...\n",
      "[M::mem_pestat] (25, 50, 75) percentile: (380, 397, 414)\n",
      "[M::mem_pestat] low and high boundaries for computing mean and std.dev: (312, 482)\n",
      "[M::mem_pestat] mean and std.dev: (396.79, 25.24)\n",
      "[M::mem_pestat] low and high boundaries for proper pairs: (278, 516)\n",
      "[M::mem_pestat] skip orientation RF as there are not enough pairs\n",
      "[M::mem_pestat] skip orientation RR as there are not enough pairs\n",
      "[0000] 10. Calling kt_for - worker_sam\n",
      "\t[0000][ M::mem_process_seqs] Processed 29092 reads in 4.245 CPU sec, 1.010 real sec\n",
      "[0000] read_chunk: 40000000, work_chunk_size: 0, nseq: 0\n",
      "[0000] Computation ends..\n",
      "No. of OMP threads: 4\n",
      "Processor is runnig @2295.141510 MHz\n",
      "Runtime profile:\n",
      "\n",
      "\t Time taken for main_mem function: 10.95 Sec\n",
      "\n",
      "\tIO times (sec) :\n",
      "\tReading IO time (reads) avg: 1.03, (1.03, 1.03)\n",
      "\tWriting IO time (SAM) avg: 0.36, (0.36, 0.36)\n",
      "\tReading IO time (Reference Genome) avg: 0.00, (0.00, 0.00)\n",
      "\tIndex read time avg: 0.02, (0.02, 0.02)\n",
      "\n",
      "\tOverall time (sec) (Excluding Index reading time):\n",
      "\tPROCESS() (Total compute time + (read + SAM) IO time) : 10.93\n",
      "\tMEM_PROCESS_SEQ() (Total compute time (Kernel + SAM)), avg: 9.96, (9.96, 9.96)\n",
      "\n",
      "\t SAM Processing time (sec):\n",
      "\t--WORKER_SAM avg: 3.38, (3.38, 3.38)\n",
      "\n",
      "\tKernels' compute time (sec):\n",
      "\tTotal kernel (smem+sal+bsw) time avg: 6.54, (6.54, 6.54)\n",
      "\t\tSMEM compute avg: 2.60, (2.64, 2.57)\n",
      "\t\tSAL compute avg: 0.15, (0.17, 0.11)\n",
      "\t\tBSW time, avg: 3.69, (3.70, 3.68)\n",
      "\n",
      "\tTotal allocs: 294450 = 294450 out total requests: 343778, Rate: 0.86\n",
      "\n",
      "Important parameter settings: \n",
      "\tBATCH_SIZE: 512\n",
      "\tMAX_SEQ_LEN_REF: 256\n",
      "\tMAX_SEQ_LEN_QER: 128\n",
      "\tMAX_SEQ_LEN8: 128\n",
      "\tSEEDS_PER_READ: 500\n",
      "\tSIMD_WIDTH8 X: 32\n",
      "\tSIMD_WIDTH16 X: 16\n",
      "\tAVG_SEEDS_PER_READ: 64\n",
      "[samopen] SAM header is present: 1 sequences.\n",
      "[bam_header_read] EOF marker is absent. The input is probably truncated.\n"
     ]
    }
   ],
   "source": [
    "echo -e \"\\nMapping Clone$i\\n\"\n",
    "bwa-mem2 mem -t 4 -R \"@RG\\tID:Clone${i}\\tSM:Clone${i}\" $REF $ILL_R1 $ILL_R2 > Clone$i.sam\n",
    "samtools view -@4 -bS -f 0x02 Clone$i.sam | samtools sort -@4 - Clone$i.SORTED\n",
    "samtools index Clone$i.SORTED.bam \n",
    "#rm Clone$i.sam"
   ]
  },
  {
   "cell_type": "code",
   "execution_count": 18,
   "metadata": {},
   "outputs": [
    {
     "name": "stdout",
     "output_type": "stream",
     "text": [
      "total 139636\n",
      "-rw-r--r-- 1 jovyan users 120117860 Jun 15 10:09 Clone4.sam\n",
      "-rw-r--r-- 1 jovyan users  22861715 Jun 15 10:09 Clone4.SORTED.bam\n",
      "-rw-r--r-- 1 jovyan users      3096 Jun 15 10:09 Clone4.SORTED.bam.bai\n"
     ]
    }
   ],
   "source": [
    "# check mapping, conversion samtobam and index\n",
    "ls -l "
   ]
  },
  {
   "cell_type": "markdown",
   "metadata": {
    "tags": []
   },
   "source": [
    "## Using a loop for mapping, with a single folder per sample"
   ]
  },
  {
   "cell_type": "code",
   "execution_count": 17,
   "metadata": {
    "collapsed": true,
    "jupyter": {
     "outputs_hidden": true
    },
    "tags": []
   },
   "outputs": [
    {
     "name": "stdout",
     "output_type": "stream",
     "text": [
      "\n",
      "Creation directory for Clone2\n",
      "\n",
      "Clone2\n",
      "\n",
      "Declare Clone2 data\n",
      "\n",
      "Mapping Clone2\n",
      "\n",
      "-----------------------------\n",
      "Executing in AVX2 mode!!\n",
      "-----------------------------\n",
      "Ref file: /home/jovyan/work/SG-SV-2022/DATA/Clone10/reference.fasta\n",
      "Entering FMI_search\n",
      "reference seq len = 2040003\n",
      "count\n",
      "0,\t1\n",
      "1,\t576484\n",
      "2,\t1020002\n",
      "3,\t1463520\n",
      "4,\t2040003\n",
      "\n",
      "Reading other elements of the index from files /home/jovyan/work/SG-SV-2022/DATA/Clone10/reference.fasta\n",
      "prefix: /home/jovyan/work/SG-SV-2022/DATA/Clone10/reference.fasta\n",
      "[M::bwa_idx_load_ele] read 0 ALT contigs\n",
      "Done reading Index!!\n",
      "Reading reference genome..\n",
      "Binary seq file = /home/jovyan/work/SG-SV-2022/DATA/Clone10/reference.fasta.0123\n",
      "Reference genome size: 2040002 bp\n",
      "Done readng reference genome !!\n",
      "\n",
      "[0000] 1: Calling process()\n",
      "\n",
      "Threads used (compute): 4\n",
      "Info: projected #read in a task: 264910\n",
      "------------------------------------------\n",
      "Memory pre-allocation for chaining: 557.3706 MB\n",
      "Memory pre-allocation for BSW: 958.4681 MB\n",
      "Memory pre-allocation for BWT: 309.2567 MB\n",
      "------------------------------------------\n",
      "No. of pipeline threads: 2\n",
      "[0000] read_chunk: 40000000, work_chunk_size: 39996000, nseq: 266640\n",
      "\t[0000][ M::kt_pipeline] read 266640 sequences (39996000 bp)...\n",
      "Reallocating initial memory allocations!!\n",
      "[0000] 2. Calling mem_process_seqs.., task: 0\n",
      "[0000] read_chunk: 40000000, work_chunk_size: 0, nseq: 0\n",
      "[0000] 3. Calling kt_for - worker_bwt\n",
      "[0000] 3. Calling kt_for - worker_aln\n",
      "Inferring insert size distribution from data, l_pac: 1020001, n: 266640\n",
      "[M::mem_pestat] # candidate unique pairs for (FF, FR, RF, RR): (0, 110112, 0, 0)\n",
      "[M::mem_pestat] skip orientation FF as there are not enough pairs\n",
      "[M::mem_pestat] analyzing insert size distribution for orientation FR...\n",
      "[M::mem_pestat] (25, 50, 75) percentile: (381, 398, 415)\n",
      "[M::mem_pestat] low and high boundaries for computing mean and std.dev: (313, 483)\n",
      "[M::mem_pestat] mean and std.dev: (398.34, 24.90)\n",
      "[M::mem_pestat] low and high boundaries for proper pairs: (279, 517)\n",
      "[M::mem_pestat] skip orientation RF as there are not enough pairs\n",
      "[M::mem_pestat] skip orientation RR as there are not enough pairs\n",
      "[0000] 10. Calling kt_for - worker_sam\n",
      "\t[0000][ M::mem_process_seqs] Processed 266640 reads in 33.157 CPU sec, 8.363 real sec\n",
      "[0000] read_chunk: 40000000, work_chunk_size: 0, nseq: 0\n",
      "[0000] Computation ends..\n",
      "No. of OMP threads: 4\n",
      "Processor is runnig @2295.087686 MHz\n",
      "Runtime profile:\n",
      "\n",
      "\t Time taken for main_mem function: 9.62 Sec\n",
      "\n",
      "\tIO times (sec) :\n",
      "\tReading IO time (reads) avg: 0.85, (0.85, 0.85)\n",
      "\tWriting IO time (SAM) avg: 0.35, (0.35, 0.35)\n",
      "\tReading IO time (Reference Genome) avg: 0.00, (0.00, 0.00)\n",
      "\tIndex read time avg: 0.02, (0.02, 0.02)\n",
      "\n",
      "\tOverall time (sec) (Excluding Index reading time):\n",
      "\tPROCESS() (Total compute time + (read + SAM) IO time) : 9.60\n",
      "\tMEM_PROCESS_SEQ() (Total compute time (Kernel + SAM)), avg: 8.36, (8.36, 8.36)\n",
      "\n",
      "\t SAM Processing time (sec):\n",
      "\t--WORKER_SAM avg: 1.95, (1.95, 1.95)\n",
      "\n",
      "\tKernels' compute time (sec):\n",
      "\tTotal kernel (smem+sal+bsw) time avg: 6.38, (6.38, 6.38)\n",
      "\t\tSMEM compute avg: 2.02, (2.05, 1.99)\n",
      "\t\tSAL compute avg: 0.21, (0.24, 0.18)\n",
      "\t\tBSW time, avg: 4.07, (4.07, 4.07)\n",
      "\n",
      "\tTotal allocs: 382070 = 382070 out total requests: 412355, Rate: 0.93\n",
      "\n",
      "Important parameter settings: \n",
      "\tBATCH_SIZE: 512\n",
      "\tMAX_SEQ_LEN_REF: 256\n",
      "\tMAX_SEQ_LEN_QER: 128\n",
      "\tMAX_SEQ_LEN8: 128\n",
      "\tSEEDS_PER_READ: 500\n",
      "\tSIMD_WIDTH8 X: 32\n",
      "\tSIMD_WIDTH16 X: 16\n",
      "\tAVG_SEEDS_PER_READ: 64\n",
      "[bam_header_read] EOF marker is absent. The input is probably truncated.\n",
      "[samopen] SAM header is present: 1 sequences.\n",
      "\n",
      "Creation directory for Clone3\n",
      "\n",
      "Clone3\n",
      "\n",
      "Declare Clone3 data\n",
      "\n",
      "Mapping Clone3\n",
      "\n",
      "-----------------------------\n",
      "Executing in AVX2 mode!!\n",
      "-----------------------------\n",
      "Ref file: /home/jovyan/work/SG-SV-2022/DATA/Clone10/reference.fasta\n",
      "Entering FMI_search\n",
      "reference seq len = 2040003\n",
      "count\n",
      "0,\t1\n",
      "1,\t576484\n",
      "2,\t1020002\n",
      "3,\t1463520\n",
      "4,\t2040003\n",
      "\n",
      "Reading other elements of the index from files /home/jovyan/work/SG-SV-2022/DATA/Clone10/reference.fasta\n",
      "prefix: /home/jovyan/work/SG-SV-2022/DATA/Clone10/reference.fasta\n",
      "[M::bwa_idx_load_ele] read 0 ALT contigs\n",
      "Done reading Index!!\n",
      "Reading reference genome..\n",
      "Binary seq file = /home/jovyan/work/SG-SV-2022/DATA/Clone10/reference.fasta.0123\n",
      "Reference genome size: 2040002 bp\n",
      "Done readng reference genome !!\n",
      "\n",
      "[0000] 1: Calling process()\n",
      "\n",
      "Threads used (compute): 4\n",
      "Info: projected #read in a task: 264910\n",
      "------------------------------------------\n",
      "Memory pre-allocation for chaining: 557.3706 MB\n",
      "Memory pre-allocation for BSW: 958.4681 MB\n",
      "Memory pre-allocation for BWT: 309.2567 MB\n",
      "------------------------------------------\n",
      "No. of pipeline threads: 2\n",
      "[0000] read_chunk: 40000000, work_chunk_size: 39996000, nseq: 266640\n",
      "\t[0000][ M::kt_pipeline] read 266640 sequences (39996000 bp)...\n",
      "Reallocating initial memory allocations!!\n",
      "[0000] 2. Calling mem_process_seqs.., task: 0\n",
      "[0000] 3. Calling kt_for - worker_bwt\n",
      "[0000] read_chunk: 40000000, work_chunk_size: 0, nseq: 0\n",
      "[0000] 3. Calling kt_for - worker_aln\n",
      "Inferring insert size distribution from data, l_pac: 1020001, n: 266640\n",
      "[M::mem_pestat] # candidate unique pairs for (FF, FR, RF, RR): (0, 110391, 0, 0)\n",
      "[M::mem_pestat] skip orientation FF as there are not enough pairs\n",
      "[M::mem_pestat] analyzing insert size distribution for orientation FR...\n",
      "[M::mem_pestat] (25, 50, 75) percentile: (381, 398, 415)\n",
      "[M::mem_pestat] low and high boundaries for computing mean and std.dev: (313, 483)\n",
      "[M::mem_pestat] mean and std.dev: (397.92, 24.98)\n",
      "[M::mem_pestat] low and high boundaries for proper pairs: (279, 517)\n",
      "[M::mem_pestat] skip orientation RF as there are not enough pairs\n",
      "[M::mem_pestat] skip orientation RR as there are not enough pairs\n",
      "[0000] 10. Calling kt_for - worker_sam\n",
      "\t[0000][ M::mem_process_seqs] Processed 266640 reads in 43.049 CPU sec, 10.854 real sec\n",
      "[0000] read_chunk: 40000000, work_chunk_size: 0, nseq: 0\n",
      "[0000] Computation ends..\n",
      "No. of OMP threads: 4\n",
      "Processor is runnig @2295.113717 MHz\n",
      "Runtime profile:\n",
      "\n",
      "\t Time taken for main_mem function: 12.01 Sec\n",
      "\n",
      "\tIO times (sec) :\n",
      "\tReading IO time (reads) avg: 0.84, (0.84, 0.84)\n",
      "\tWriting IO time (SAM) avg: 0.27, (0.27, 0.27)\n",
      "\tReading IO time (Reference Genome) avg: 0.00, (0.00, 0.00)\n",
      "\tIndex read time avg: 0.02, (0.02, 0.02)\n",
      "\n",
      "\tOverall time (sec) (Excluding Index reading time):\n",
      "\tPROCESS() (Total compute time + (read + SAM) IO time) : 11.99\n",
      "\tMEM_PROCESS_SEQ() (Total compute time (Kernel + SAM)), avg: 10.85, (10.85, 10.85)\n",
      "\n",
      "\t SAM Processing time (sec):\n",
      "\t--WORKER_SAM avg: 3.74, (3.74, 3.74)\n",
      "\n",
      "\tKernels' compute time (sec):\n",
      "\tTotal kernel (smem+sal+bsw) time avg: 7.08, (7.08, 7.08)\n",
      "\t\tSMEM compute avg: 2.29, (2.31, 2.25)\n",
      "\t\tSAL compute avg: 0.17, (0.21, 0.14)\n",
      "\t\tBSW time, avg: 4.52, (4.54, 4.51)\n",
      "\n",
      "\tTotal allocs: 371935 = 371935 out total requests: 412926, Rate: 0.90\n",
      "\n",
      "Important parameter settings: \n",
      "\tBATCH_SIZE: 512\n",
      "\tMAX_SEQ_LEN_REF: 256\n",
      "\tMAX_SEQ_LEN_QER: 128\n",
      "\tMAX_SEQ_LEN8: 128\n",
      "\tSEEDS_PER_READ: 500\n",
      "\tSIMD_WIDTH8 X: 32\n",
      "\tSIMD_WIDTH16 X: 16\n",
      "\tAVG_SEEDS_PER_READ: 64\n",
      "[bam_header_read] EOF marker is absent. The input is probably truncated.\n",
      "[samopen] SAM header is present: 1 sequences.\n",
      "\n",
      "Creation directory for Clone4\n",
      "\n",
      "Clone4\n",
      "\n",
      "Declare Clone4 data\n",
      "\n",
      "Mapping Clone4\n",
      "\n",
      "-----------------------------\n",
      "Executing in AVX2 mode!!\n",
      "-----------------------------\n",
      "Ref file: /home/jovyan/work/SG-SV-2022/DATA/Clone10/reference.fasta\n",
      "Entering FMI_search\n",
      "reference seq len = 2040003\n",
      "count\n",
      "0,\t1\n",
      "1,\t576484\n",
      "2,\t1020002\n",
      "3,\t1463520\n",
      "4,\t2040003\n",
      "\n",
      "Reading other elements of the index from files /home/jovyan/work/SG-SV-2022/DATA/Clone10/reference.fasta\n",
      "prefix: /home/jovyan/work/SG-SV-2022/DATA/Clone10/reference.fasta\n",
      "[M::bwa_idx_load_ele] read 0 ALT contigs\n",
      "Done reading Index!!\n",
      "Reading reference genome..\n",
      "Binary seq file = /home/jovyan/work/SG-SV-2022/DATA/Clone10/reference.fasta.0123\n",
      "Reference genome size: 2040002 bp\n",
      "Done readng reference genome !!\n",
      "\n",
      "[0000] 1: Calling process()\n",
      "\n",
      "Threads used (compute): 4\n",
      "Info: projected #read in a task: 264910\n",
      "------------------------------------------\n",
      "Memory pre-allocation for chaining: 557.3706 MB\n",
      "Memory pre-allocation for BSW: 958.4681 MB\n",
      "Memory pre-allocation for BWT: 309.2567 MB\n",
      "------------------------------------------\n",
      "No. of pipeline threads: 2\n",
      "[0000] read_chunk: 40000000, work_chunk_size: 39996000, nseq: 266640\n",
      "\t[0000][ M::kt_pipeline] read 266640 sequences (39996000 bp)...\n",
      "Reallocating initial memory allocations!!\n",
      "[0000] 2. Calling mem_process_seqs.., task: 0\n",
      "[0000] 3. Calling kt_for - worker_bwt\n",
      "[0000] read_chunk: 40000000, work_chunk_size: 0, nseq: 0\n",
      "[0000] 3. Calling kt_for - worker_aln\n",
      "Inferring insert size distribution from data, l_pac: 1020001, n: 266640\n",
      "[M::mem_pestat] # candidate unique pairs for (FF, FR, RF, RR): (0, 97107, 4, 0)\n",
      "[M::mem_pestat] skip orientation FF as there are not enough pairs\n",
      "[M::mem_pestat] analyzing insert size distribution for orientation FR...\n",
      "[M::mem_pestat] (25, 50, 75) percentile: (377, 395, 412)\n",
      "[M::mem_pestat] low and high boundaries for computing mean and std.dev: (307, 482)\n",
      "[M::mem_pestat] mean and std.dev: (394.20, 26.57)\n",
      "[M::mem_pestat] low and high boundaries for proper pairs: (272, 517)\n",
      "[M::mem_pestat] skip orientation RF as there are not enough pairs\n",
      "[M::mem_pestat] skip orientation RR as there are not enough pairs\n",
      "[0000] 10. Calling kt_for - worker_sam\n",
      "\t[0000][ M::mem_process_seqs] Processed 266640 reads in 38.106 CPU sec, 9.604 real sec\n",
      "[0000] read_chunk: 40000000, work_chunk_size: 0, nseq: 0\n",
      "[0000] Computation ends..\n",
      "No. of OMP threads: 4\n",
      "Processor is runnig @2295.096269 MHz\n",
      "Runtime profile:\n",
      "\n",
      "\t Time taken for main_mem function: 10.78 Sec\n",
      "\n",
      "\tIO times (sec) :\n",
      "\tReading IO time (reads) avg: 0.84, (0.84, 0.84)\n",
      "\tWriting IO time (SAM) avg: 0.29, (0.29, 0.29)\n",
      "\tReading IO time (Reference Genome) avg: 0.00, (0.00, 0.00)\n",
      "\tIndex read time avg: 0.02, (0.02, 0.02)\n",
      "\n",
      "\tOverall time (sec) (Excluding Index reading time):\n",
      "\tPROCESS() (Total compute time + (read + SAM) IO time) : 10.76\n",
      "\tMEM_PROCESS_SEQ() (Total compute time (Kernel + SAM)), avg: 9.60, (9.60, 9.60)\n",
      "\n",
      "\t SAM Processing time (sec):\n",
      "\t--WORKER_SAM avg: 4.06, (4.06, 4.06)\n",
      "\n",
      "\tKernels' compute time (sec):\n",
      "\tTotal kernel (smem+sal+bsw) time avg: 5.52, (5.52, 5.52)\n",
      "\t\tSMEM compute avg: 2.44, (2.48, 2.42)\n",
      "\t\tSAL compute avg: 0.13, (0.15, 0.10)\n",
      "\t\tBSW time, avg: 2.85, (2.85, 2.84)\n",
      "\n",
      "\tTotal allocs: 252387 = 252387 out total requests: 391484, Rate: 0.64\n",
      "\n",
      "Important parameter settings: \n",
      "\tBATCH_SIZE: 512\n",
      "\tMAX_SEQ_LEN_REF: 256\n",
      "\tMAX_SEQ_LEN_QER: 128\n",
      "\tMAX_SEQ_LEN8: 128\n",
      "\tSEEDS_PER_READ: 500\n",
      "\tSIMD_WIDTH8 X: 32\n",
      "\tSIMD_WIDTH16 X: 16\n",
      "\tAVG_SEEDS_PER_READ: 64\n",
      "[samopen] SAM header is present: 1 sequences.\n",
      "[bam_header_read] EOF marker is absent. The input is probably truncated.\n"
     ]
    }
   ],
   "source": [
    "for i in {2..4}\n",
    "    do\n",
    "        cd ~/work/SG-SV-2022/RESULTS/MAPPING-ILL\n",
    "        echo -e \"\\nCreation directory for Clone$i\\n\"\n",
    "        echo Clone$i\n",
    "        mkdir -p dirClone$i\n",
    "        cd dirClone$i\n",
    "\n",
    "        echo -e \"\\nDeclare Clone$i data\";\n",
    "        REF=\"/home/jovyan/work/SG-SV-2022/DATA/Clone10/reference.fasta\" # index is already done for clone10\n",
    "        ONT=\"/home/jovyan/work/SG-SV-2022/DATA/Clone${i}/ONT/Clone${i}.fastq.gz\"\n",
    "        ILL_R1=\"/home/jovyan/work/SG-SV-2022/DATA/Clone${i}/ILL/Clone${i}_R1.fastq.gz\"\n",
    "        ILL_R2=\"/home/jovyan/work/SG-SV-2022/DATA/Clone${i}/ILL/Clone${i}_R2.fastq.gz\"\n",
    "        \n",
    "        echo -e \"\\nMapping Clone$i\\n\"\n",
    "        bwa-mem2 mem -t 4 -R \"@RG\\tID:Clone${i}\\tSM:Clone${i}\" $REF $ILL_R1 $ILL_R2 > Clone$i.sam\n",
    "        samtools view -@4 -bS -f 0x02 Clone$i.sam | samtools sort -@4 - Clone$i.SORTED\n",
    "        samtools index Clone$i.SORTED.bam \n",
    "    done"
   ]
  },
  {
   "cell_type": "code",
   "execution_count": null,
   "metadata": {},
   "outputs": [],
   "source": []
  },
  {
   "cell_type": "code",
   "execution_count": null,
   "metadata": {},
   "outputs": [],
   "source": []
  },
  {
   "cell_type": "code",
   "execution_count": null,
   "metadata": {},
   "outputs": [],
   "source": [
    "What is the percentage of aligned ONT and ILLUMINa reads in your clone assembly?"
   ]
  },
  {
   "cell_type": "code",
   "execution_count": null,
   "metadata": {},
   "outputs": [],
   "source": []
  },
  {
   "cell_type": "code",
   "execution_count": null,
   "metadata": {},
   "outputs": [],
   "source": []
  },
  {
   "cell_type": "code",
   "execution_count": null,
   "metadata": {},
   "outputs": [],
   "source": [
    "\n",
    "        echo -e \"\\nCalling Clone$i\";\n",
    "        gatk MarkDuplicates -I Clone$i.SORTED.bam -M duplicates.$i.metrics -O Clone$i.SORTED.MD.bam;\n",
    "        samtools index Clone$i.SORTED.MD.bam;\n",
    "        gatk --java-options \"-Xmx4g\" HaplotypeCaller --native-pair-hmm-threads 4 -I Clone$i.SORTED.MD.bam -O Clone$i.g.vcf -R ../referenceCorrect.fasta -ERC GVCF;\n"
   ]
  },
  {
   "cell_type": "code",
   "execution_count": null,
   "metadata": {},
   "outputs": [],
   "source": []
  },
  {
   "cell_type": "markdown",
   "metadata": {},
   "source": [
    "## 2.2 Mapping Long reads vs a Reference"
   ]
  },
  {
   "cell_type": "markdown",
   "metadata": {},
   "source": [
    "## Calling all samples on one raw VCF"
   ]
  },
  {
   "cell_type": "code",
   "execution_count": null,
   "metadata": {
    "scrolled": true
   },
   "outputs": [],
   "source": [
    "cd /ifb/data/mydatalocal/MappingAndSNP\n",
    "#Loop to inflate the --variant option\n",
    "OPTION=\"\"\n",
    "for i in {1..20}\n",
    "do\n",
    "    OPTION=\"${OPTION} --variant dirClone${i}/Clone${i}.g.vcf\"\n",
    "done\n",
    "echo $OPTION\n",
    "gatk CombineGVCFs -R referenceCorrect.fasta $OPTION -O rawSNP.vcf"
   ]
  },
  {
   "cell_type": "markdown",
   "metadata": {},
   "source": [
    "# Have a Look to it"
   ]
  },
  {
   "cell_type": "code",
   "execution_count": null,
   "metadata": {},
   "outputs": [],
   "source": [
    "head -n 1000 rawSNP.vcf | tail"
   ]
  },
  {
   "cell_type": "markdown",
   "metadata": {},
   "source": [
    "## Compute the Genotypes *:D I know I am a bad person...*"
   ]
  },
  {
   "cell_type": "code",
   "execution_count": null,
   "metadata": {},
   "outputs": [],
   "source": [
    "gatk --java-options \"-Xmx4g\" GenotypeGVCFs -R referenceCorrect.fasta -V rawSNP.vcf -O output.vcf"
   ]
  },
  {
   "cell_type": "markdown",
   "metadata": {},
   "source": [
    "## Compute the SNP density along the chromosomes"
   ]
  },
  {
   "cell_type": "code",
   "execution_count": null,
   "metadata": {},
   "outputs": [],
   "source": [
    "echo -e \"Reference\\t1000000\\n\" > /ifb/data/mydatalocal/MappingAndSNP/genome.txt\n",
    "bedtools genomecov -bga -split -i /ifb/data/mydatalocal/MappingAndSNP/output.vcf -g /ifb/data/mydatalocal/MappingAndSNP/genome.txt > /ifb/data/mydatalocal/MappingAndSNP/density.csv"
   ]
  },
  {
   "cell_type": "code",
   "execution_count": null,
   "metadata": {},
   "outputs": [],
   "source": [
    "head /ifb/data/mydatalocal/MappingAndSNP/density.csv"
   ]
  }
 ],
 "metadata": {
  "kernelspec": {
   "display_name": "Bash",
   "language": "bash",
   "name": "bash"
  },
  "language_info": {
   "codemirror_mode": "shell",
   "file_extension": ".sh",
   "mimetype": "text/x-sh",
   "name": "bash"
  }
 },
 "nbformat": 4,
 "nbformat_minor": 4
}
