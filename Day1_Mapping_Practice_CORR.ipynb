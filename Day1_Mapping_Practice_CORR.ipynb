{
 "cells": [
  {
   "cell_type": "markdown",
   "metadata": {},
   "source": [
    "# Formation South Green 2022\n",
    "\n",
    "# Structural Variants Detection by using short and long reads\n",
    "\n",
    "DAY 1 => MAPPING\n",
    "\n",
    "Created by C. Tranchant (DIADE-IRD), J. Orjuela (DIADE-IRD), F. Sabot (DIADE-IRD) and A. Dereeper (PHIM-IRD)\n",
    "\n",
    "June 2022\n",
    "\n",
    "# 1. Creating the folder, downloading data and so on\n",
    "\n",
    "## __Simulated clones__\n",
    "\n",
    "Before starting, please download special data created for this practical training. Data are available on the from I-Trop server.\n",
    "\n",
    "Each participant will analyse a Clone, results will be complete in this shared file\n",
    "\n",
    "To generate Clone data, a 1Mb contig was extracted from chromosome 1 of rice.\n",
    "\n",
    "20 levels of variation were generated and long reads were simulated for each.\n",
    "\n",
    "We have introduced different variations (SNP, indel, indel+translocations) and also some contaminations."
   ]
  },
  {
   "cell_type": "code",
   "execution_count": null,
   "metadata": {},
   "outputs": [],
   "source": [
    "CLONE=Clone10"
   ]
  },
  {
   "cell_type": "code",
   "execution_count": null,
   "metadata": {},
   "outputs": [],
   "source": [
    "cd ~\n",
    "mkdir -p SG-SV-2022/DATA\n",
    "cd SG-SV-2022/DATA\n",
    "# download your compressed CloneX \n",
    "wget --no-check-certificat -rm -nH --cut-dirs=1 --reject=\"index.html*\" https://itrop.ird.fr/ont-training/${CLONE}.tar.gz"
   ]
  },
  {
   "cell_type": "code",
   "execution_count": null,
   "metadata": {},
   "outputs": [],
   "source": [
    "#decompress file\n",
    "tar zxvf ${CLONE}.tar.gz"
   ]
  },
  {
   "cell_type": "code",
   "execution_count": null,
   "metadata": {},
   "outputs": [],
   "source": [
    "# check data \n",
    "ls -l ${CLONE}"
   ]
  },
  {
   "cell_type": "markdown",
   "metadata": {},
   "source": [
    "-----------------------\n",
    "# 2. MAPPING PRACTICE"
   ]
  },
  {
   "cell_type": "markdown",
   "metadata": {},
   "source": [
    "Read congruency is an important measure in determining assembly accuracy.\n",
    "\n",
    "Clusters of read pairs or single long reads that align incorrectly are strong indicators of mis-assembly.\n",
    "\n",
    "Reads mapping is usually the firt step before SNP or Variant calling."
   ]
  },
  {
   "cell_type": "markdown",
   "metadata": {},
   "source": [
    "### 2.1 Make a folder for your results"
   ]
  },
  {
   "cell_type": "code",
   "execution_count": null,
   "metadata": {},
   "outputs": [],
   "source": [
    "mkdir -p ~/SG-SV-2022/RESULTS/MAPPING\n",
    "cd ~/SG-SV-2022/RESULTS/MAPPING"
   ]
  },
  {
   "cell_type": "markdown",
   "metadata": {},
   "source": [
    "### 2.2 Declare important variables"
   ]
  },
  {
   "cell_type": "code",
   "execution_count": null,
   "metadata": {},
   "outputs": [],
   "source": [
    "i=10\n",
    "CLONE=\"Clone${i}\"\n",
    "REF=\"/home/jovyan/SG-SV-2022/DATA/${CLONE}/reference.fasta\"\n",
    "ONT=\"/home/jovyan/SG-SV-2022/DATA/${CLONE}/ONT/${CLONE}.fastq.gz\"\n",
    "ILL_R1=\"/home/jovyan/SG-SV-2022/DATA/${CLONE}/ILL/${CLONE}_R1.fastq.gz\"\n",
    "ILL_R2=\"/home/jovyan/SG-ONT-2021/DATA/${CLONE}/ILL/${CLONE}_R2.fastq.gz\""
   ]
  },
  {
   "cell_type": "code",
   "execution_count": null,
   "metadata": {},
   "outputs": [],
   "source": [
    "echo $CLONE $REF"
   ]
  },
  {
   "cell_type": "markdown",
   "metadata": {
    "tags": []
   },
   "source": [
    "## 2.1 Mapping short reads vs a reference"
   ]
  },
  {
   "cell_type": "markdown",
   "metadata": {},
   "source": [
    "In this practice, we are going to map short reads against a reference.\n",
    "\n",
    "To know, how well do the reads align back to the reference, we use bwa-mem and samtools to assess the basic alignment statistics.\n",
    "\n",
    "In this exercise, we will use reference.fasta assembly as well ILLUMINA READS from your favorite CLONE."
   ]
  },
  {
   "cell_type": "markdown",
   "metadata": {},
   "source": [
    "## Reference indexation "
   ]
  },
  {
   "cell_type": "markdown",
   "metadata": {},
   "source": [
    "Before mapping we need index reference file! Check bwa-mem2 index command line."
   ]
  },
  {
   "cell_type": "code",
   "execution_count": 55,
   "metadata": {},
   "outputs": [
    {
     "name": "stdout",
     "output_type": "stream",
     "text": [
      "\n",
      "Indexing reference file10\n",
      "\n",
      "/home/jovyan/SG-SV-2022/DATA/Clone10/reference.fasta\n",
      "[bwa_index] Pack FASTA... 0.01 sec\n",
      "init ticks = 164039913\n",
      "ref seq len = 2040002\n",
      "binary seq ticks = 59986303\n",
      "build index ticks = 598560799\n",
      "ref_seq_len = 2040002\n",
      "count = 0, 576483, 1020001, 1463519, 2040002\n",
      "BWT[1932441] = 4\n",
      "CP_SHIFT = 5, CP_MASK = 31\n",
      "sizeof CP_OCC = 64\n",
      "max_occ_ind = 63750\n",
      "ref_seq_len = 2040002\n",
      "count = 0, 576483, 1020001, 1463519, 2040002\n",
      "BWT[1932441] = 4\n",
      "CP_SHIFT = 6, CP_MASK = 63\n",
      "sizeof CP_OCC = 64\n",
      "max_occ_ind = 31875\n"
     ]
    }
   ],
   "source": [
    "echo -e \"\\nIndexing reference $REF\\n\"\n",
    "bwa-mem2 index $REF"
   ]
  },
  {
   "cell_type": "markdown",
   "metadata": {},
   "source": [
    "##  let's mapping now !"
   ]
  },
  {
   "cell_type": "code",
   "execution_count": 57,
   "metadata": {},
   "outputs": [
    {
     "name": "stdout",
     "output_type": "stream",
     "text": [
      "\n",
      "Creation directory for Clone10\n",
      "\n",
      "Clone10\n"
     ]
    }
   ],
   "source": [
    "echo -e \"\\nCreation directory for Clone$i\\n\"\n",
    "echo Clone$i\n",
    "mkdir -p dirClone$i\n",
    "cd dirClone$i"
   ]
  },
  {
   "cell_type": "code",
   "execution_count": 58,
   "metadata": {},
   "outputs": [
    {
     "name": "stdout",
     "output_type": "stream",
     "text": [
      "\n",
      "Mapping Clone10\n",
      "\n",
      "-----------------------------\n",
      "Executing in AVX2 mode!!\n",
      "-----------------------------\n",
      "Ref file: /home/jovyan/SG-SV-2022/DATA/Clone10/reference.fasta\n",
      "Entering FMI_search\n",
      "reference seq len = 2040003\n",
      "count\n",
      "0,\t1\n",
      "1,\t576484\n",
      "2,\t1020002\n",
      "3,\t1463520\n",
      "4,\t2040003\n",
      "\n",
      "Reading other elements of the index from files /home/jovyan/SG-SV-2022/DATA/Clone10/reference.fasta\n",
      "prefix: /home/jovyan/SG-SV-2022/DATA/Clone10/reference.fasta\n",
      "[M::bwa_idx_load_ele] read 0 ALT contigs\n",
      "Done reading Index!!\n",
      "Reading reference genome..\n",
      "Binary seq file = /home/jovyan/SG-SV-2022/DATA/Clone10/reference.fasta.0123\n",
      "Reference genome size: 2040002 bp\n",
      "Done readng reference genome !!\n",
      "\n",
      "[0000] 1: Calling process()\n",
      "\n",
      "Threads used (compute): 4\n",
      "Info: projected #read in a task: 264910\n",
      "------------------------------------------\n",
      "Memory pre-allocation for chaining: 557.3706 MB\n",
      "Memory pre-allocation for BSW: 958.4681 MB\n",
      "Memory pre-allocation for BWT: 309.2567 MB\n",
      "------------------------------------------\n",
      "No. of pipeline threads: 2\n",
      "[0000] read_chunk: 40000000, work_chunk_size: 40000200, nseq: 266668\n",
      "\t[0000][ M::kt_pipeline] read 266668 sequences (40000200 bp)...\n",
      "Reallocating initial memory allocations!!\n",
      "[0000] 2. Calling mem_process_seqs.., task: 0\n",
      "[0000] 3. Calling kt_for - worker_bwt\n",
      "[0000] read_chunk: 40000000, work_chunk_size: 4363800, nseq: 29092\n",
      "\t[0000][ M::kt_pipeline] read 29092 sequences (4363800 bp)...\n",
      "[0000] 3. Calling kt_for - worker_aln\n",
      "Inferring insert size distribution from data, l_pac: 1020001, n: 266668\n",
      "[M::mem_pestat] # candidate unique pairs for (FF, FR, RF, RR): (0, 0, 0, 0)\n",
      "[M::mem_pestat] skip orientation FF as there are not enough pairs\n",
      "[M::mem_pestat] skip orientation FR as there are not enough pairs\n",
      "[M::mem_pestat] skip orientation RF as there are not enough pairs\n",
      "[M::mem_pestat] skip orientation RR as there are not enough pairs\n",
      "[0000] 10. Calling kt_for - worker_sam\n",
      "\t[0000][ M::mem_process_seqs] Processed 266668 reads in 41.916 CPU sec, 10.529 real sec\n",
      "[0000] 2. Calling mem_process_seqs.., task: 1\n",
      "[0000] 3. Calling kt_for - worker_bwt\n",
      "[0000] read_chunk: 40000000, work_chunk_size: 0, nseq: 0\n",
      "[0000] 3. Calling kt_for - worker_aln\n",
      "Inferring insert size distribution from data, l_pac: 1020001, n: 29092\n",
      "[M::mem_pestat] # candidate unique pairs for (FF, FR, RF, RR): (0, 0, 0, 0)\n",
      "[M::mem_pestat] skip orientation FF as there are not enough pairs\n",
      "[M::mem_pestat] skip orientation FR as there are not enough pairs\n",
      "[M::mem_pestat] skip orientation RF as there are not enough pairs\n",
      "[M::mem_pestat] skip orientation RR as there are not enough pairs\n",
      "[0000] 10. Calling kt_for - worker_sam\n",
      "\t[0000][ M::mem_process_seqs] Processed 29092 reads in 5.006 CPU sec, 1.214 real sec\n",
      "[0000] read_chunk: 40000000, work_chunk_size: 0, nseq: 0\n",
      "[0000] Computation ends..\n",
      "No. of OMP threads: 4\n",
      "Processor is runnig @2295.120359 MHz\n",
      "Runtime profile:\n",
      "\n",
      "\t Time taken for main_mem function: 12.51 Sec\n",
      "\n",
      "\tIO times (sec) :\n",
      "\tReading IO time (reads) avg: 0.79, (0.79, 0.79)\n",
      "\tWriting IO time (SAM) avg: 0.29, (0.29, 0.29)\n",
      "\tReading IO time (Reference Genome) avg: 0.00, (0.00, 0.00)\n",
      "\tIndex read time avg: 0.03, (0.03, 0.03)\n",
      "\n",
      "\tOverall time (sec) (Excluding Index reading time):\n",
      "\tPROCESS() (Total compute time + (read + SAM) IO time) : 12.47\n",
      "\tMEM_PROCESS_SEQ() (Total compute time (Kernel + SAM)), avg: 11.74, (11.74, 11.74)\n",
      "\n",
      "\t SAM Processing time (sec):\n",
      "\t--WORKER_SAM avg: 5.49, (5.49, 5.49)\n",
      "\n",
      "\tKernels' compute time (sec):\n",
      "\tTotal kernel (smem+sal+bsw) time avg: 6.24, (6.24, 6.24)\n",
      "\t\tSMEM compute avg: 2.65, (2.68, 2.64)\n",
      "\t\tSAL compute avg: 0.16, (0.18, 0.14)\n",
      "\t\tBSW time, avg: 3.33, (3.34, 3.32)\n",
      "\n",
      "\tTotal allocs: 294116 = 294116 out total requests: 344154, Rate: 0.85\n",
      "\n",
      "Important parameter settings: \n",
      "\tBATCH_SIZE: 512\n",
      "\tMAX_SEQ_LEN_REF: 256\n",
      "\tMAX_SEQ_LEN_QER: 128\n",
      "\tMAX_SEQ_LEN8: 128\n",
      "\tSEEDS_PER_READ: 500\n",
      "\tSIMD_WIDTH8 X: 32\n",
      "\tSIMD_WIDTH16 X: 16\n",
      "\tAVG_SEEDS_PER_READ: 64\n",
      "\n",
      "Usage:   samtools sort [options] <in.bam> <out.prefix>\n",
      "\n",
      "Options: -n        sort by read name\n",
      "         -f        use <out.prefix> as full file name instead of prefix\n",
      "         -o        final output to stdout\n",
      "         -l INT    compression level, from 0 to 9 [-1]\n",
      "         -@ INT    number of sorting and compression threads [1]\n",
      "         -m INT    max memory per thread; suffix K/M/G recognized [768M]\n",
      "\n",
      "[bam_header_read] EOF marker is absent. The input is probably truncated.\n",
      "[bam_header_read] invalid BAM binary header (this is not a BAM file).\n",
      "[main_samview] fail to read the header from \"Clone10.sam\".\n",
      "open: No such file or directory\n",
      "[bam_index_build2] fail to open the BAM file.\n"
     ]
    }
   ],
   "source": [
    "echo -e \"\\nMapping Clone$i\\n\"\n",
    "bwa-mem2 mem -t 4 $REF $ILL_R1 $ILL_R1 > Clone$i.sam\n",
    "samtools view -@4 -b -f 0x02 Clone$i.sam | samtools sort -@4 -o Clone$i.SORTED.bam\n",
    "samtools index Clone$i.SORTED.bam"
   ]
  },
  {
   "cell_type": "code",
   "execution_count": null,
   "metadata": {},
   "outputs": [],
   "source": []
  },
  {
   "cell_type": "markdown",
   "metadata": {},
   "source": [
    "## Using a loop for mapping, with a single folder per sample"
   ]
  },
  {
   "cell_type": "code",
   "execution_count": null,
   "metadata": {},
   "outputs": [],
   "source": [
    "for i in {1..20}\n",
    "    do\n",
    "        cd ~/SG-SV-2022/RESULTS/MAPPING\n",
    "        echo \"mkdir Clone$i for mapping\";\n",
    "        mkdir dirClone$i; \n",
    "        cd dirClone$i; \n",
    "        \n",
    "        echo \"Declare Clone$i data\";\n",
    "        CLONE=\"Clone$i\"\n",
    "        REF=\"/home/jovyan/SG-SV-2022/DATA/reference.fasta\"\n",
    "        ILL_R1=\"/home/jovyan/SG-SV-2022/DATA/${CLONE}/ILL/${CLONE}_R1.fastq.gz\"\n",
    "        ILL_R2=\"/home/jovyan/SG-ONT-2021/DATA/${CLONE}/ILL/${CLONE}_R2.fastq.gz\"\n",
    "        \n",
    "        echo -e \"\\nMapping Clone$i\\n\"\n",
    "        bwa-mem2 -t 4 -R \"@RG\\tID:Clone${i}\\tSM:Clone${i}\" $REF $ILL_R1 $ILL_R1 > Clone$i.sam\n",
    "        samtools view -@4 -b -f 0x02 Clone$i.sam | samtools sort -@4 -o Clone$i.SORTED.bam\n",
    "        samtools index Clone$i.SORTED.bam \n",
    "    done"
   ]
  },
  {
   "cell_type": "code",
   "execution_count": null,
   "metadata": {},
   "outputs": [],
   "source": []
  },
  {
   "cell_type": "code",
   "execution_count": null,
   "metadata": {},
   "outputs": [],
   "source": [
    "for i in {1..20}\n",
    "    do\n",
    "        cd /ifb/data/mydatalocal/MappingAndSNP\n",
    "        echo Clone$i;\n",
    "        mkdir dirClone$i; \n",
    "        cd dirClone$i; \n",
    "        echo \"Cloning Clone$i data\";\n",
    "        ln -s /ifb/data/mydatalocal/shortReads/Clone${i}_pairedFq1.fq /ifb/data/mydatalocal/MappingAndSNP/dirClone$i/Clone${i}_1.fastq;\n",
    "        ln -s /ifb/data/mydatalocal/shortReads/Clone${i}_pairedFq2.fq /ifb/data/mydatalocal/MappingAndSNP/dirClone$i/Clone${i}_2.fastq;\n",
    "        echo -e \"\\nMapping Clone$i\\n\";\n",
    "        bwa mem -t 4 -R \"@RG\\tID:Clone${i}\\tSM:Clone${i}\" ../referenceCorrect.fasta Clone${i}_1.fastq Clone${i}_2.fastq > Clone$i.sam;\n",
    "        samtools view -@4 -b -f 0x02 Clone$i.sam | samtools sort -@4 -o Clone$i.SORTED.bam;\n",
    "        samtools index Clone$i.SORTED.bam;\n",
    "        echo -e \"\\nCalling Clone$i\";\n",
    "        gatk MarkDuplicates -I Clone$i.SORTED.bam -M duplicates.$i.metrics -O Clone$i.SORTED.MD.bam;\n",
    "        samtools index Clone$i.SORTED.MD.bam;\n",
    "        gatk --java-options \"-Xmx4g\" HaplotypeCaller --native-pair-hmm-threads 4 -I Clone$i.SORTED.MD.bam -O Clone$i.g.vcf -R ../referenceCorrect.fasta -ERC GVCF;\n",
    "    done"
   ]
  },
  {
   "cell_type": "code",
   "execution_count": null,
   "metadata": {},
   "outputs": [],
   "source": [
    "What is the percentage of aligned ONT and ILLUMINa reads in your clone assembly?"
   ]
  },
  {
   "cell_type": "code",
   "execution_count": null,
   "metadata": {},
   "outputs": [],
   "source": []
  },
  {
   "cell_type": "markdown",
   "metadata": {},
   "source": [
    "## 2.2 Mapping Long reads vs a Reference"
   ]
  },
  {
   "cell_type": "markdown",
   "metadata": {},
   "source": [
    "## Calling all samples on one raw VCF"
   ]
  },
  {
   "cell_type": "code",
   "execution_count": null,
   "metadata": {
    "scrolled": true
   },
   "outputs": [],
   "source": [
    "cd /ifb/data/mydatalocal/MappingAndSNP\n",
    "#Loop to inflate the --variant option\n",
    "OPTION=\"\"\n",
    "for i in {1..20}\n",
    "do\n",
    "    OPTION=\"${OPTION} --variant dirClone${i}/Clone${i}.g.vcf\"\n",
    "done\n",
    "echo $OPTION\n",
    "gatk CombineGVCFs -R referenceCorrect.fasta $OPTION -O rawSNP.vcf"
   ]
  },
  {
   "cell_type": "markdown",
   "metadata": {},
   "source": [
    "# Have a Look to it"
   ]
  },
  {
   "cell_type": "code",
   "execution_count": null,
   "metadata": {},
   "outputs": [],
   "source": [
    "head -n 1000 rawSNP.vcf | tail"
   ]
  },
  {
   "cell_type": "markdown",
   "metadata": {},
   "source": [
    "## Compute the Genotypes *:D I know I am a bad person...*"
   ]
  },
  {
   "cell_type": "code",
   "execution_count": null,
   "metadata": {},
   "outputs": [],
   "source": [
    "gatk --java-options \"-Xmx4g\" GenotypeGVCFs -R referenceCorrect.fasta -V rawSNP.vcf -O output.vcf"
   ]
  },
  {
   "cell_type": "markdown",
   "metadata": {},
   "source": [
    "## Compute the SNP density along the chromosomes"
   ]
  },
  {
   "cell_type": "code",
   "execution_count": null,
   "metadata": {},
   "outputs": [],
   "source": [
    "echo -e \"Reference\\t1000000\\n\" > /ifb/data/mydatalocal/MappingAndSNP/genome.txt\n",
    "bedtools genomecov -bga -split -i /ifb/data/mydatalocal/MappingAndSNP/output.vcf -g /ifb/data/mydatalocal/MappingAndSNP/genome.txt > /ifb/data/mydatalocal/MappingAndSNP/density.csv"
   ]
  },
  {
   "cell_type": "code",
   "execution_count": null,
   "metadata": {},
   "outputs": [],
   "source": [
    "head /ifb/data/mydatalocal/MappingAndSNP/density.csv"
   ]
  }
 ],
 "metadata": {
  "kernelspec": {
   "display_name": "Bash",
   "language": "bash",
   "name": "bash"
  },
  "language_info": {
   "codemirror_mode": "shell",
   "file_extension": ".sh",
   "mimetype": "text/x-sh",
   "name": "bash"
  }
 },
 "nbformat": 4,
 "nbformat_minor": 4
}
