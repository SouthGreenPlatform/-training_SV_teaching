{
 "cells": [
  {
   "cell_type": "markdown",
   "metadata": {},
   "source": [
    "# <span style=\"color:green\">Formation South Green 2022</span> - Structural Variants Detection by using short and long reads \n",
    "\n",
    "# __DAY 1 : How to map reads against a reference genome ?__ \n",
    "\n",
    "Created by C. Tranchant (DIADE-IRD), J. Orjuela (DIADE-IRD), F. Sabot (DIADE-IRD) and A. Dereeper (PHIM-IRD)\n",
    "\n",
    "## __1. Preparing the working environment__ \n",
    "\n",
    "### First create a dedicated folder to work \n"
   ]
  },
  {
   "cell_type": "code",
   "execution_count": null,
   "metadata": {},
   "outputs": [],
   "source": [
    "# go to work directory and download data\n",
    "cd /home/jovyan/work/\n",
    "ls"
   ]
  },
  {
   "cell_type": "markdown",
   "metadata": {},
   "source": [
    "## Download sequencing data (SR & LR) for Simulated clones\n",
    "\n",
    "Before starting, please download special data created for this practical training. Data are available on the from I-Trop server.\n",
    "\n",
    "Each participant will analyse a Clone, results will be complete in this shared file\n",
    "\n",
    "To generate Clone data, a 1Mb contig was extracted from chromosome 1 of rice.\n",
    "\n",
    "20 levels of variation were generated and long reads were simulated for each.\n",
    "\n",
    "We have introduced different variations (SNP, indel, indel+translocations) and also some contaminations."
   ]
  },
  {
   "cell_type": "code",
   "execution_count": null,
   "metadata": {
    "tags": []
   },
   "outputs": [],
   "source": [
    "# download available compressed DATA \n",
    "wget --no-check-certificat -rm -nH --cut-dirs=1 --reject=\"index.html*\" https://itrop.ird.fr/sv-training/SV_DATA.tar.gz\n",
    "# decompress data\n",
    "tar zxvf SV_DATA.tar.gz\n",
    "rm SV_DATA.tar.gz"
   ]
  },
  {
   "cell_type": "code",
   "execution_count": null,
   "metadata": {
    "tags": []
   },
   "outputs": [],
   "source": [
    "# check data \n",
    "ls -l SV_DATA/"
   ]
  },
  {
   "cell_type": "markdown",
   "metadata": {},
   "source": [
    "-----------------------\n",
    "# 2. MAPPING PRACTICE"
   ]
  },
  {
   "cell_type": "markdown",
   "metadata": {},
   "source": [
    "Read congruency is an important measure in determining assembly accuracy.\n",
    "\n",
    "Clusters of read pairs or single long reads that align incorrectly are strong indicators of mis-assembly.\n",
    "\n",
    "Reads mapping is usually the firt step before SNP or Variant calling."
   ]
  },
  {
   "cell_type": "markdown",
   "metadata": {},
   "source": [
    "### 2.1 Make a folder for your results"
   ]
  },
  {
   "cell_type": "code",
   "execution_count": null,
   "metadata": {},
   "outputs": [],
   "source": [
    "mkdir -p ~/work/MAPPING-ILL\n",
    "cd ~/work/MAPPING-ILL"
   ]
  },
  {
   "cell_type": "markdown",
   "metadata": {},
   "source": [
    "### 2.2 Declare important variables"
   ]
  },
  {
   "cell_type": "code",
   "execution_count": null,
   "metadata": {},
   "outputs": [],
   "source": [
    "i=10\n",
    "REF_DIR=\"/home/jovyan/work/SV_DATA/REF/\"\n",
    "REF=\"/home/jovyan/work/SV_DATA/REF/reference.fasta\"\n",
    "ONT=\"/home/jovyan/work/SV_DATA/LONG_READS/Clone${i}.fastq.gz\"\n",
    "ILL_R1=\"/home/jovyan/work/SV_DATA/SHORT_READS/Clone${i}_R1.fastq.gz\"\n",
    "ILL_R2=\"/home/jovyan/work/SV_DATA/SHORT_READS/Clone${i}_R2.fastq.gz\""
   ]
  },
  {
   "cell_type": "code",
   "execution_count": null,
   "metadata": {},
   "outputs": [],
   "source": [
    "echo \"Clone${i} $REF\" \n",
    "echo $ILL_R1 $ILL_R2"
   ]
  },
  {
   "cell_type": "markdown",
   "metadata": {
    "tags": []
   },
   "source": [
    "## 2.1 Mapping short reads vs a reference with `bwa mem`"
   ]
  },
  {
   "cell_type": "markdown",
   "metadata": {},
   "source": [
    "In this practice, we are going to map short reads against a reference. To know, how well do the reads align back to the reference, we use bwa-mem2 and samtools to assess the basic alignment statistics.\n",
    "\n",
    "In this exercise, we will use reference.fasta assembly as well ILLUMINA READS from your favorite CLONE.\n",
    "\n",
    "The tool bwa needs 2 steps: \n",
    "- **Reference indexing**: `bwa index reference`\n",
    "- **Mapping in itself**: `bwa mem  -R READGROUP [options] reference fastq1 fastq2 > out.sam`"
   ]
  },
  {
   "cell_type": "markdown",
   "metadata": {},
   "source": [
    "## Reference indexation "
   ]
  },
  {
   "cell_type": "markdown",
   "metadata": {},
   "source": [
    "Before mapping we need index reference file! Check bwa-mem2 index command line."
   ]
  },
  {
   "cell_type": "code",
   "execution_count": null,
   "metadata": {},
   "outputs": [],
   "source": [
    "cd $REF_DIR"
   ]
  },
  {
   "cell_type": "code",
   "execution_count": null,
   "metadata": {},
   "outputs": [],
   "source": [
    "echo -e \"\\nIndexing reference $REF\\n\"\n",
    "bwa-mem2 index $REF"
   ]
  },
  {
   "cell_type": "code",
   "execution_count": null,
   "metadata": {},
   "outputs": [],
   "source": [
    "pwd"
   ]
  },
  {
   "cell_type": "code",
   "execution_count": null,
   "metadata": {},
   "outputs": [],
   "source": [
    "ls"
   ]
  },
  {
   "cell_type": "markdown",
   "metadata": {},
   "source": [
    "##  Let's map now but only WITH READS FROM ONLY ONE CLONE"
   ]
  },
  {
   "cell_type": "code",
   "execution_count": null,
   "metadata": {},
   "outputs": [],
   "source": [
    "cd ~/work/MAPPING-ILL\n",
    "echo -e \"\\nCreation directory for Clone$i\\n\"\n",
    "echo Clone$i\n",
    "mkdir -p dirClone$i\n",
    "cd dirClone$i"
   ]
  },
  {
   "cell_type": "code",
   "execution_count": null,
   "metadata": {
    "tags": []
   },
   "outputs": [],
   "source": [
    "echo -e \"\\nMapping Clone$i\\n\"\n",
    "bwa-mem2 mem -M -t 4 $REF $ILL_R1 $ILL_R2 > Clone$i.sam"
   ]
  },
  {
   "cell_type": "code",
   "execution_count": null,
   "metadata": {},
   "outputs": [],
   "source": [
    "pwd "
   ]
  },
  {
   "cell_type": "code",
   "execution_count": null,
   "metadata": {},
   "outputs": [],
   "source": [
    "ls"
   ]
  },
  {
   "cell_type": "code",
   "execution_count": null,
   "metadata": {},
   "outputs": [],
   "source": [
    "head Clone10.sam"
   ]
  },
  {
   "cell_type": "markdown",
   "metadata": {},
   "source": [
    "##  Calculate stats from mapping"
   ]
  },
  {
   "cell_type": "code",
   "execution_count": null,
   "metadata": {
    "tags": []
   },
   "outputs": [],
   "source": [
    "samtools view -@4 -bh -S -o  Clone$i.bam Clone$i.sam \n",
    "rm Clone$i.sam\n",
    "samtools flagstat Clone$i.bam >Clone$i.flagstats"
   ]
  },
  {
   "cell_type": "markdown",
   "metadata": {},
   "source": [
    "##  Calculate stats only for correctly mapped reads"
   ]
  },
  {
   "cell_type": "code",
   "execution_count": null,
   "metadata": {},
   "outputs": [],
   "source": [
    "samtools view -bh -@4 -f 0x02 -o Clone$i.mappedpaired.bam Clone$i.bam \n",
    "samtools flagstat Clone$i.mappedpaired.bam > Clone$i.mappedpaired.flagstats"
   ]
  },
  {
   "cell_type": "markdown",
   "metadata": {},
   "source": [
    "##  Sorting final bam"
   ]
  },
  {
   "cell_type": "code",
   "execution_count": null,
   "metadata": {},
   "outputs": [],
   "source": [
    "samtools sort -@4 Clone$i.mappedpaired.bam Clone$i.SORTED \n",
    "rm Clone$i.mappedpaired.bam"
   ]
  },
  {
   "cell_type": "markdown",
   "metadata": {
    "tags": []
   },
   "source": [
    "##  Indexing bam"
   ]
  },
  {
   "cell_type": "code",
   "execution_count": null,
   "metadata": {},
   "outputs": [],
   "source": [
    "samtools index Clone$i.SORTED.bam"
   ]
  },
  {
   "cell_type": "code",
   "execution_count": null,
   "metadata": {},
   "outputs": [],
   "source": [
    "ls -lrt"
   ]
  },
  {
   "cell_type": "markdown",
   "metadata": {
    "tags": []
   },
   "source": [
    "## Let's map with data from all clones using a loop for mapping, with a single folder per sample"
   ]
  },
  {
   "cell_type": "code",
   "execution_count": null,
   "metadata": {
    "tags": []
   },
   "outputs": [],
   "source": [
    "for i in {1..20}\n",
    "    do\n",
    "        cd ~/work/MAPPING-ILL\n",
    "        echo -e \"\\nCreation directory for Clone$i\\n\"\n",
    "        echo Clone$i\n",
    "        mkdir -p dirClone$i\n",
    "        cd dirClone$i\n",
    "        \n",
    "        echo -e \"\\nDeclare variables$i\\n\"\n",
    "        REF=\"/home/jovyan/work/SV_DATA/REF/reference.fasta\"\n",
    "        ILL_R1=\"/home/jovyan/work/SV_DATA/SHORT_READS/Clone${i}_R1.fastq.gz\"\n",
    "        ILL_R2=\"/home/jovyan/work/SV_DATA/SHORT_READS/Clone${i}_R2.fastq.gz\"\n",
    "\n",
    "        echo -e \"\\nMapping Clone$i\\n\"\n",
    "        bwa-mem2 mem -M -t 4 $REF $ILL_R1 $ILL_R2 > Clone$i.sam\n",
    "        \n",
    "        echo -e \"\\nMapping Clone$i\\n\"\n",
    "        samtools view -@4 -bh -S -o  Clone$i.bam Clone$i.sam \n",
    "        rm Clone$i.sam\n",
    "        echo -e \"\\nFlagstats from all reads $i\\n\"\n",
    "        samtools flagstat Clone$i.bam >Clone$i.flagstats\n",
    "        \n",
    "        echo -e \"\\nExtract only correctly mapped and calculate flagstats $i\\n\"\n",
    "        samtools view -bh -@4 -f 0x02 -o Clone$i.mappedpaired.bam Clone$i.bam \n",
    "        samtools flagstat Clone$i.mappedpaired.bam > Clone$i.mappedpaired.flagstats\n",
    "        \n",
    "        echo -e \"\\nSort mappedpaires bam file $i\\n\"\n",
    "        samtools sort -@4 Clone$i.mappedpaired.bam Clone$i.SORTED \n",
    "        rm Clone$i.mappedpaired.bam\n",
    "    done"
   ]
  },
  {
   "cell_type": "markdown",
   "metadata": {},
   "source": [
    "## 2.2 Mapping Long reads vs a Reference"
   ]
  },
  {
   "cell_type": "markdown",
   "metadata": {},
   "source": [
    "Similar process such as SR is done in LR. In this case mapper is minimap2."
   ]
  },
  {
   "cell_type": "code",
   "execution_count": 20,
   "metadata": {},
   "outputs": [],
   "source": [
    "# Declare variables\n",
    "i=10\n",
    "REF_DIR=\"/home/jovyan/work/SV_DATA/REF/\"\n",
    "REF=\"/home/jovyan/work/SV_DATA/REF/reference.fasta\"\n",
    "ONT=\"/home/jovyan/work/SV_DATA/LONG_READS/Clone${i}.fastq.gz\""
   ]
  },
  {
   "cell_type": "markdown",
   "metadata": {
    "tags": []
   },
   "source": [
    "##  Let's map now but only WITH READS FROM ONLY ONE CLONE"
   ]
  },
  {
   "cell_type": "code",
   "execution_count": 21,
   "metadata": {},
   "outputs": [
    {
     "name": "stdout",
     "output_type": "stream",
     "text": [
      "\n",
      "Creation directory for Clone10\n",
      "\n",
      "Clone10\n"
     ]
    }
   ],
   "source": [
    "mkdir -p ~/work/MAPPING-ONT\n",
    "cd ~/work/MAPPING-ONT\n",
    "echo -e \"\\nCreation directory for Clone$i\\n\"\n",
    "echo Clone$i\n",
    "mkdir -p dirClone$i\n",
    "cd dirClone$i"
   ]
  },
  {
   "cell_type": "code",
   "execution_count": null,
   "metadata": {},
   "outputs": [],
   "source": [
    "echo -e \"\\nMapping Clone$i minimap2 \\n\"\n",
    "minimap2 -ax map-ont -t 4 ${REF} ${ONT} > Clone${i}_ONT.sam "
   ]
  },
  {
   "cell_type": "code",
   "execution_count": null,
   "metadata": {},
   "outputs": [],
   "source": [
    "head -n3 Clone${i}_ONT.sam"
   ]
  },
  {
   "cell_type": "code",
   "execution_count": null,
   "metadata": {},
   "outputs": [],
   "source": [
    "## Convert samtobam \n",
    "echo -e \"\\nConvert samtobam and filter it \\n\"\n",
    "samtools view -@4 -bh -S -F 0x904 -o Clone${i}_ONT.bam Clone${i}_ONT.sam\n",
    "rm Clone${i}_ONT.sam"
   ]
  },
  {
   "cell_type": "code",
   "execution_count": null,
   "metadata": {},
   "outputs": [],
   "source": [
    "echo -e \"\\nSort and index bam \\n\"\n",
    "# sort and index bam\n",
    "samtools sort -@4 Clone${i}_ONT.bam Clone${i}_ONT_SORTED \n",
    "samtools index Clone${i}_ONT_SORTED.bam"
   ]
  },
  {
   "cell_type": "code",
   "execution_count": null,
   "metadata": {},
   "outputs": [],
   "source": [
    "# Calculate stats from mapping\n",
    "echo -e \"\\nCalculate stats from mapping\\n\"\n",
    "samtools flagstat Clone${i}_ONT_SORTED.bam >Clone${i}_ONT.flagstats"
   ]
  },
  {
   "cell_type": "markdown",
   "metadata": {},
   "source": [
    "## Let's map with data from all clones using a loop for mapping, with a single folder per sample and ONT reads"
   ]
  },
  {
   "cell_type": "code",
   "execution_count": 22,
   "metadata": {
    "collapsed": true,
    "jupyter": {
     "outputs_hidden": true
    },
    "tags": []
   },
   "outputs": [
    {
     "name": "stdout",
     "output_type": "stream",
     "text": [
      "\n",
      "Creation directory for Clone1\n",
      "\n",
      "Clone1\n",
      "\n",
      "Mapping Clone1 minimap2 \n",
      "\n",
      "[M::mm_idx_gen::0.080*1.05] collected minimizers\n",
      "[M::mm_idx_gen::0.106*1.67] sorted minimizers\n",
      "[M::main::0.106*1.67] loaded/built the index for 1 target sequence(s)\n",
      "[M::mm_mapopt_update::0.114*1.62] mid_occ = 10\n",
      "[M::mm_idx_stat] kmer size: 15; skip: 10; is_hpc: 0; #seq: 1\n",
      "[M::mm_idx_stat::0.120*1.59] distinct minimizers: 165344 (91.75% are singletons); average occurrences: 1.156; average spacing: 5.336\n",
      "[M::worker_pipeline::16.325*3.32] mapped 10241 sequences\n",
      "[M::main] Version: 2.17-r941\n",
      "[M::main] CMD: minimap2 -ax map-ont -t 4 /home/jovyan/work/SV_DATA/REF/reference.fasta /home/jovyan/work/SV_DATA/LONG_READS/Clone1.fastq.gz\n",
      "[M::main] Real time: 16.339 sec; CPU: 54.153 sec; Peak RSS: 0.415 GB\n",
      "\n",
      "Convert samtobam and filter it \n",
      "\n",
      "[samopen] SAM header is present: 1 sequences.\n",
      "\n",
      "Sort and index bam \n",
      "\n",
      "\n",
      "Calculate stats from mapping\n",
      "\n",
      "\n",
      "Creation directory for Clone2\n",
      "\n",
      "Clone2\n",
      "\n",
      "Mapping Clone2 minimap2 \n",
      "\n",
      "[M::mm_idx_gen::0.078*1.04] collected minimizers\n",
      "[M::mm_idx_gen::0.106*1.71] sorted minimizers\n",
      "[M::main::0.106*1.71] loaded/built the index for 1 target sequence(s)\n",
      "[M::mm_mapopt_update::0.113*1.67] mid_occ = 10\n",
      "[M::mm_idx_stat] kmer size: 15; skip: 10; is_hpc: 0; #seq: 1\n",
      "[M::mm_idx_stat::0.118*1.64] distinct minimizers: 165344 (91.75% are singletons); average occurrences: 1.156; average spacing: 5.336\n",
      "[M::worker_pipeline::16.077*3.38] mapped 10241 sequences\n",
      "[M::main] Version: 2.17-r941\n",
      "[M::main] CMD: minimap2 -ax map-ont -t 4 /home/jovyan/work/SV_DATA/REF/reference.fasta /home/jovyan/work/SV_DATA/LONG_READS/Clone2.fastq.gz\n",
      "[M::main] Real time: 16.090 sec; CPU: 54.424 sec; Peak RSS: 0.418 GB\n",
      "\n",
      "Convert samtobam and filter it \n",
      "\n",
      "[samopen] SAM header is present: 1 sequences.\n",
      "\n",
      "Sort and index bam \n",
      "\n",
      "\n",
      "Calculate stats from mapping\n",
      "\n",
      "\n",
      "Creation directory for Clone3\n",
      "\n",
      "Clone3\n",
      "\n",
      "Mapping Clone3 minimap2 \n",
      "\n",
      "[M::mm_idx_gen::0.075*1.04] collected minimizers\n",
      "[M::mm_idx_gen::0.095*1.60] sorted minimizers\n",
      "[M::main::0.095*1.60] loaded/built the index for 1 target sequence(s)\n",
      "[M::mm_mapopt_update::0.103*1.56] mid_occ = 10\n",
      "[M::mm_idx_stat] kmer size: 15; skip: 10; is_hpc: 0; #seq: 1\n",
      "[M::mm_idx_stat::0.109*1.53] distinct minimizers: 165344 (91.75% are singletons); average occurrences: 1.156; average spacing: 5.336\n",
      "[M::worker_pipeline::15.942*3.43] mapped 10242 sequences\n",
      "[M::main] Version: 2.17-r941\n",
      "[M::main] CMD: minimap2 -ax map-ont -t 4 /home/jovyan/work/SV_DATA/REF/reference.fasta /home/jovyan/work/SV_DATA/LONG_READS/Clone3.fastq.gz\n",
      "[M::main] Real time: 15.951 sec; CPU: 54.733 sec; Peak RSS: 0.432 GB\n",
      "\n",
      "Convert samtobam and filter it \n",
      "\n",
      "[samopen] SAM header is present: 1 sequences.\n",
      "\n",
      "Sort and index bam \n",
      "\n",
      "\n",
      "Calculate stats from mapping\n",
      "\n",
      "\n",
      "Creation directory for Clone4\n",
      "\n",
      "Clone4\n",
      "\n",
      "Mapping Clone4 minimap2 \n",
      "\n",
      "[M::mm_idx_gen::0.081*1.04] collected minimizers\n",
      "[M::mm_idx_gen::0.111*1.68] sorted minimizers\n",
      "[M::main::0.111*1.68] loaded/built the index for 1 target sequence(s)\n",
      "[M::mm_mapopt_update::0.119*1.63] mid_occ = 10\n",
      "[M::mm_idx_stat] kmer size: 15; skip: 10; is_hpc: 0; #seq: 1\n",
      "[M::mm_idx_stat::0.124*1.61] distinct minimizers: 165344 (91.75% are singletons); average occurrences: 1.156; average spacing: 5.336\n",
      "[M::worker_pipeline::19.354*3.44] mapped 10243 sequences\n",
      "[M::main] Version: 2.17-r941\n",
      "[M::main] CMD: minimap2 -ax map-ont -t 4 /home/jovyan/work/SV_DATA/REF/reference.fasta /home/jovyan/work/SV_DATA/LONG_READS/Clone4.fastq.gz\n",
      "[M::main] Real time: 19.391 sec; CPU: 66.519 sec; Peak RSS: 0.427 GB\n",
      "\n",
      "Convert samtobam and filter it \n",
      "\n",
      "[samopen] SAM header is present: 1 sequences.\n",
      "\n",
      "Sort and index bam \n",
      "\n",
      "\n",
      "Calculate stats from mapping\n",
      "\n",
      "\n",
      "Creation directory for Clone5\n",
      "\n",
      "Clone5\n",
      "\n",
      "Mapping Clone5 minimap2 \n",
      "\n",
      "[M::mm_idx_gen::0.077*1.04] collected minimizers\n",
      "[M::mm_idx_gen::0.100*1.67] sorted minimizers\n",
      "[M::main::0.100*1.66] loaded/built the index for 1 target sequence(s)\n",
      "[M::mm_mapopt_update::0.109*1.61] mid_occ = 10\n",
      "[M::mm_idx_stat] kmer size: 15; skip: 10; is_hpc: 0; #seq: 1\n",
      "[M::mm_idx_stat::0.114*1.59] distinct minimizers: 165344 (91.75% are singletons); average occurrences: 1.156; average spacing: 5.336\n",
      "[M::worker_pipeline::16.990*3.39] mapped 11343 sequences\n",
      "[M::main] Version: 2.17-r941\n",
      "[M::main] CMD: minimap2 -ax map-ont -t 4 /home/jovyan/work/SV_DATA/REF/reference.fasta /home/jovyan/work/SV_DATA/LONG_READS/Clone5.fastq.gz\n",
      "[M::main] Real time: 17.002 sec; CPU: 57.539 sec; Peak RSS: 0.489 GB\n",
      "\n",
      "Convert samtobam and filter it \n",
      "\n",
      "[samopen] SAM header is present: 1 sequences.\n",
      "\n",
      "Sort and index bam \n",
      "\n",
      "\n",
      "Calculate stats from mapping\n",
      "\n",
      "\n",
      "Creation directory for Clone6\n",
      "\n",
      "Clone6\n",
      "\n",
      "Mapping Clone6 minimap2 \n",
      "\n",
      "[M::mm_idx_gen::0.085*1.02] collected minimizers\n",
      "[M::mm_idx_gen::0.118*1.71] sorted minimizers\n",
      "[M::main::0.118*1.71] loaded/built the index for 1 target sequence(s)\n",
      "[M::mm_mapopt_update::0.127*1.66] mid_occ = 10\n",
      "[M::mm_idx_stat] kmer size: 15; skip: 10; is_hpc: 0; #seq: 1\n",
      "[M::mm_idx_stat::0.132*1.63] distinct minimizers: 165344 (91.75% are singletons); average occurrences: 1.156; average spacing: 5.336\n",
      "[M::worker_pipeline::18.701*3.34] mapped 11746 sequences\n",
      "[M::main] Version: 2.17-r941\n",
      "[M::main] CMD: minimap2 -ax map-ont -t 4 /home/jovyan/work/SV_DATA/REF/reference.fasta /home/jovyan/work/SV_DATA/LONG_READS/Clone6.fastq.gz\n",
      "[M::main] Real time: 18.719 sec; CPU: 62.451 sec; Peak RSS: 0.472 GB\n",
      "\n",
      "Convert samtobam and filter it \n",
      "\n",
      "[samopen] SAM header is present: 1 sequences.\n",
      "\n",
      "Sort and index bam \n",
      "\n",
      "\n",
      "Calculate stats from mapping\n",
      "\n",
      "\n",
      "Creation directory for Clone7\n",
      "\n",
      "Clone7\n",
      "\n",
      "Mapping Clone7 minimap2 \n",
      "\n",
      "[M::mm_idx_gen::0.076*1.04] collected minimizers\n",
      "[M::mm_idx_gen::0.100*1.64] sorted minimizers\n",
      "[M::main::0.100*1.64] loaded/built the index for 1 target sequence(s)\n",
      "[M::mm_mapopt_update::0.107*1.59] mid_occ = 10\n",
      "[M::mm_idx_stat] kmer size: 15; skip: 10; is_hpc: 0; #seq: 1\n",
      "[M::mm_idx_stat::0.113*1.57] distinct minimizers: 165344 (91.75% are singletons); average occurrences: 1.156; average spacing: 5.336\n",
      "[M::worker_pipeline::23.018*3.27] mapped 15055 sequences\n",
      "[M::main] Version: 2.17-r941\n",
      "[M::main] CMD: minimap2 -ax map-ont -t 4 /home/jovyan/work/SV_DATA/REF/reference.fasta /home/jovyan/work/SV_DATA/LONG_READS/Clone7.fastq.gz\n",
      "[M::main] Real time: 23.031 sec; CPU: 75.340 sec; Peak RSS: 0.606 GB\n",
      "\n",
      "Convert samtobam and filter it \n",
      "\n",
      "[samopen] SAM header is present: 1 sequences.\n",
      "\n",
      "Sort and index bam \n",
      "\n",
      "\n",
      "Calculate stats from mapping\n",
      "\n",
      "\n",
      "Creation directory for Clone8\n",
      "\n",
      "Clone8\n",
      "\n",
      "Mapping Clone8 minimap2 \n",
      "\n",
      "[M::mm_idx_gen::0.079*1.04] collected minimizers\n",
      "[M::mm_idx_gen::0.104*1.68] sorted minimizers\n",
      "[M::main::0.104*1.68] loaded/built the index for 1 target sequence(s)\n",
      "[M::mm_mapopt_update::0.112*1.63] mid_occ = 10\n",
      "[M::mm_idx_stat] kmer size: 15; skip: 10; is_hpc: 0; #seq: 1\n",
      "[M::mm_idx_stat::0.117*1.61] distinct minimizers: 165344 (91.75% are singletons); average occurrences: 1.156; average spacing: 5.336\n",
      "[M::worker_pipeline::29.309*3.27] mapped 19644 sequences\n",
      "[M::main] Version: 2.17-r941\n",
      "[M::main] CMD: minimap2 -ax map-ont -t 4 /home/jovyan/work/SV_DATA/REF/reference.fasta /home/jovyan/work/SV_DATA/LONG_READS/Clone8.fastq.gz\n",
      "[M::main] Real time: 29.322 sec; CPU: 95.881 sec; Peak RSS: 0.707 GB\n",
      "\n",
      "Convert samtobam and filter it \n",
      "\n",
      "[samopen] SAM header is present: 1 sequences.\n",
      "\n",
      "Sort and index bam \n",
      "\n",
      "\n",
      "Calculate stats from mapping\n",
      "\n",
      "\n",
      "Creation directory for Clone9\n",
      "\n",
      "Clone9\n",
      "\n",
      "Mapping Clone9 minimap2 \n",
      "\n",
      "[M::mm_idx_gen::0.074*1.04] collected minimizers\n",
      "[M::mm_idx_gen::0.096*1.64] sorted minimizers\n",
      "[M::main::0.096*1.64] loaded/built the index for 1 target sequence(s)\n",
      "[M::mm_mapopt_update::0.103*1.59] mid_occ = 10\n",
      "[M::mm_idx_stat] kmer size: 15; skip: 10; is_hpc: 0; #seq: 1\n",
      "[M::mm_idx_stat::0.108*1.57] distinct minimizers: 165344 (91.75% are singletons); average occurrences: 1.156; average spacing: 5.336\n",
      "[M::worker_pipeline::18.963*3.39] mapped 11880 sequences\n",
      "[M::main] Version: 2.17-r941\n",
      "[M::main] CMD: minimap2 -ax map-ont -t 4 /home/jovyan/work/SV_DATA/REF/reference.fasta /home/jovyan/work/SV_DATA/LONG_READS/Clone9.fastq.gz\n",
      "[M::main] Real time: 18.975 sec; CPU: 64.296 sec; Peak RSS: 0.550 GB\n",
      "\n",
      "Convert samtobam and filter it \n",
      "\n",
      "[samopen] SAM header is present: 1 sequences.\n",
      "\n",
      "Sort and index bam \n",
      "\n",
      "\n",
      "Calculate stats from mapping\n",
      "\n",
      "\n",
      "Creation directory for Clone10\n",
      "\n",
      "Clone10\n",
      "\n",
      "Mapping Clone10 minimap2 \n",
      "\n",
      "[M::mm_idx_gen::0.085*1.04] collected minimizers\n",
      "[M::mm_idx_gen::0.110*1.63] sorted minimizers\n",
      "[M::main::0.110*1.63] loaded/built the index for 1 target sequence(s)\n",
      "[M::mm_mapopt_update::0.117*1.58] mid_occ = 10\n",
      "[M::mm_idx_stat] kmer size: 15; skip: 10; is_hpc: 0; #seq: 1\n",
      "[M::mm_idx_stat::0.122*1.56] distinct minimizers: 165344 (91.75% are singletons); average occurrences: 1.156; average spacing: 5.336\n",
      "[M::worker_pipeline::18.956*3.37] mapped 11235 sequences\n",
      "[M::main] Version: 2.17-r941\n",
      "[M::main] CMD: minimap2 -ax map-ont -t 4 /home/jovyan/work/SV_DATA/REF/reference.fasta /home/jovyan/work/SV_DATA/LONG_READS/Clone10.fastq.gz\n",
      "[M::main] Real time: 18.968 sec; CPU: 63.952 sec; Peak RSS: 0.456 GB\n",
      "\n",
      "Convert samtobam and filter it \n",
      "\n",
      "[samopen] SAM header is present: 1 sequences.\n",
      "\n",
      "Sort and index bam \n",
      "\n",
      "\n",
      "Calculate stats from mapping\n",
      "\n",
      "\n",
      "Creation directory for Clone11\n",
      "\n",
      "Clone11\n",
      "\n",
      "Mapping Clone11 minimap2 \n",
      "\n",
      "[M::mm_idx_gen::0.042*1.07] collected minimizers\n",
      "[M::mm_idx_gen::0.064*1.98] sorted minimizers\n",
      "[M::main::0.065*1.98] loaded/built the index for 1 target sequence(s)\n",
      "[M::mm_mapopt_update::0.072*1.88] mid_occ = 10\n",
      "[M::mm_idx_stat] kmer size: 15; skip: 10; is_hpc: 0; #seq: 1\n",
      "[M::mm_idx_stat::0.077*1.83] distinct minimizers: 165344 (91.75% are singletons); average occurrences: 1.156; average spacing: 5.336\n",
      "[M::worker_pipeline::19.083*3.39] mapped 11131 sequences\n",
      "[M::main] Version: 2.17-r941\n",
      "[M::main] CMD: minimap2 -ax map-ont -t 4 /home/jovyan/work/SV_DATA/REF/reference.fasta /home/jovyan/work/SV_DATA/LONG_READS/Clone11.fastq.gz\n",
      "[M::main] Real time: 19.099 sec; CPU: 64.713 sec; Peak RSS: 0.472 GB\n",
      "\n",
      "Convert samtobam and filter it \n",
      "\n",
      "[samopen] SAM header is present: 1 sequences.\n",
      "\n",
      "Sort and index bam \n",
      "\n",
      "\n",
      "Calculate stats from mapping\n",
      "\n",
      "\n",
      "Creation directory for Clone12\n",
      "\n",
      "Clone12\n",
      "\n",
      "Mapping Clone12 minimap2 \n",
      "\n",
      "[M::mm_idx_gen::0.084*1.04] collected minimizers\n",
      "[M::mm_idx_gen::0.110*1.63] sorted minimizers\n",
      "[M::main::0.110*1.63] loaded/built the index for 1 target sequence(s)\n",
      "[M::mm_mapopt_update::0.118*1.59] mid_occ = 10\n",
      "[M::mm_idx_stat] kmer size: 15; skip: 10; is_hpc: 0; #seq: 1\n",
      "[M::mm_idx_stat::0.124*1.56] distinct minimizers: 165344 (91.75% are singletons); average occurrences: 1.156; average spacing: 5.336\n",
      "[M::worker_pipeline::20.139*3.48] mapped 10092 sequences\n",
      "[M::main] Version: 2.17-r941\n",
      "[M::main] CMD: minimap2 -ax map-ont -t 4 /home/jovyan/work/SV_DATA/REF/reference.fasta /home/jovyan/work/SV_DATA/LONG_READS/Clone12.fastq.gz\n",
      "[M::main] Real time: 20.171 sec; CPU: 70.090 sec; Peak RSS: 0.512 GB\n",
      "\n",
      "Convert samtobam and filter it \n",
      "\n",
      "[samopen] SAM header is present: 1 sequences.\n",
      "\n",
      "Sort and index bam \n",
      "\n",
      "\n",
      "Calculate stats from mapping\n",
      "\n",
      "\n",
      "Creation directory for Clone13\n",
      "\n",
      "Clone13\n",
      "\n",
      "Mapping Clone13 minimap2 \n",
      "\n",
      "[M::mm_idx_gen::0.077*1.04] collected minimizers\n",
      "[M::mm_idx_gen::0.103*1.71] sorted minimizers\n",
      "[M::main::0.103*1.71] loaded/built the index for 1 target sequence(s)\n",
      "[M::mm_mapopt_update::0.111*1.66] mid_occ = 10\n",
      "[M::mm_idx_stat] kmer size: 15; skip: 10; is_hpc: 0; #seq: 1\n",
      "[M::mm_idx_stat::0.117*1.63] distinct minimizers: 165344 (91.75% are singletons); average occurrences: 1.156; average spacing: 5.336\n",
      "[M::worker_pipeline::21.136*3.48] mapped 11136 sequences\n",
      "[M::main] Version: 2.17-r941\n",
      "[M::main] CMD: minimap2 -ax map-ont -t 4 /home/jovyan/work/SV_DATA/REF/reference.fasta /home/jovyan/work/SV_DATA/LONG_READS/Clone13.fastq.gz\n",
      "[M::main] Real time: 21.148 sec; CPU: 73.506 sec; Peak RSS: 0.651 GB\n",
      "\n",
      "Convert samtobam and filter it \n",
      "\n",
      "[samopen] SAM header is present: 1 sequences.\n",
      "\n",
      "Sort and index bam \n",
      "\n",
      "\n",
      "Calculate stats from mapping\n",
      "\n",
      "\n",
      "Creation directory for Clone14\n",
      "\n",
      "Clone14\n",
      "\n",
      "Mapping Clone14 minimap2 \n",
      "\n",
      "[M::mm_idx_gen::0.044*1.08] collected minimizers\n",
      "[M::mm_idx_gen::0.070*2.02] sorted minimizers\n",
      "[M::main::0.070*2.02] loaded/built the index for 1 target sequence(s)\n",
      "[M::mm_mapopt_update::0.078*1.92] mid_occ = 10\n",
      "[M::mm_idx_stat] kmer size: 15; skip: 10; is_hpc: 0; #seq: 1\n",
      "[M::mm_idx_stat::0.083*1.86] distinct minimizers: 165344 (91.75% are singletons); average occurrences: 1.156; average spacing: 5.336\n",
      "[M::worker_pipeline::20.904*3.51] mapped 11226 sequences\n",
      "[M::main] Version: 2.17-r941\n",
      "[M::main] CMD: minimap2 -ax map-ont -t 4 /home/jovyan/work/SV_DATA/REF/reference.fasta /home/jovyan/work/SV_DATA/LONG_READS/Clone14.fastq.gz\n",
      "[M::main] Real time: 20.916 sec; CPU: 73.420 sec; Peak RSS: 0.739 GB\n",
      "\n",
      "Convert samtobam and filter it \n",
      "\n",
      "[samopen] SAM header is present: 1 sequences.\n",
      "\n",
      "Sort and index bam \n",
      "\n",
      "\n",
      "Calculate stats from mapping\n",
      "\n",
      "\n",
      "Creation directory for Clone15\n",
      "\n",
      "Clone15\n",
      "\n",
      "Mapping Clone15 minimap2 \n",
      "\n",
      "[M::mm_idx_gen::0.077*1.04] collected minimizers\n",
      "[M::mm_idx_gen::0.110*1.74] sorted minimizers\n",
      "[M::main::0.110*1.74] loaded/built the index for 1 target sequence(s)\n",
      "[M::mm_mapopt_update::0.118*1.69] mid_occ = 10\n",
      "[M::mm_idx_stat] kmer size: 15; skip: 10; is_hpc: 0; #seq: 1\n",
      "[M::mm_idx_stat::0.124*1.66] distinct minimizers: 165344 (91.75% are singletons); average occurrences: 1.156; average spacing: 5.336\n",
      "[M::worker_pipeline::25.656*3.54] mapped 11904 sequences\n",
      "[M::main] Version: 2.17-r941\n",
      "[M::main] CMD: minimap2 -ax map-ont -t 4 /home/jovyan/work/SV_DATA/REF/reference.fasta /home/jovyan/work/SV_DATA/LONG_READS/Clone15.fastq.gz\n",
      "[M::main] Real time: 25.668 sec; CPU: 90.841 sec; Peak RSS: 0.839 GB\n",
      "\n",
      "Convert samtobam and filter it \n",
      "\n",
      "[samopen] SAM header is present: 1 sequences.\n",
      "\n",
      "Sort and index bam \n",
      "\n",
      "\n",
      "Calculate stats from mapping\n",
      "\n",
      "\n",
      "Creation directory for Clone16\n",
      "\n",
      "Clone16\n",
      "\n",
      "Mapping Clone16 minimap2 \n",
      "\n",
      "[M::mm_idx_gen::0.072*1.03] collected minimizers\n",
      "[M::mm_idx_gen::0.094*1.66] sorted minimizers\n",
      "[M::main::0.094*1.66] loaded/built the index for 1 target sequence(s)\n",
      "[M::mm_mapopt_update::0.102*1.61] mid_occ = 10\n",
      "[M::mm_idx_stat] kmer size: 15; skip: 10; is_hpc: 0; #seq: 1\n",
      "[M::mm_idx_stat::0.107*1.58] distinct minimizers: 165344 (91.75% are singletons); average occurrences: 1.156; average spacing: 5.336\n",
      "[M::worker_pipeline::38.089*3.65] mapped 12714 sequences\n",
      "[M::main] Version: 2.17-r941\n",
      "[M::main] CMD: minimap2 -ax map-ont -t 4 /home/jovyan/work/SV_DATA/REF/reference.fasta /home/jovyan/work/SV_DATA/LONG_READS/Clone16.fastq.gz\n",
      "[M::main] Real time: 38.103 sec; CPU: 139.012 sec; Peak RSS: 0.875 GB\n",
      "\n",
      "Convert samtobam and filter it \n",
      "\n",
      "[samopen] SAM header is present: 1 sequences.\n",
      "\n",
      "Sort and index bam \n",
      "\n",
      "\n",
      "Calculate stats from mapping\n",
      "\n",
      "\n",
      "Creation directory for Clone17\n",
      "\n",
      "Clone17\n",
      "\n",
      "Mapping Clone17 minimap2 \n",
      "\n",
      "[M::mm_idx_gen::0.076*1.03] collected minimizers\n",
      "[M::mm_idx_gen::0.100*1.65] sorted minimizers\n",
      "[M::main::0.100*1.65] loaded/built the index for 1 target sequence(s)\n",
      "[M::mm_mapopt_update::0.106*1.62] mid_occ = 10\n",
      "[M::mm_idx_stat] kmer size: 15; skip: 10; is_hpc: 0; #seq: 1\n",
      "[M::mm_idx_stat::0.109*1.60] distinct minimizers: 165344 (91.75% are singletons); average occurrences: 1.156; average spacing: 5.336\n",
      "[M::worker_pipeline::22.437*3.50] mapped 11418 sequences\n",
      "[M::main] Version: 2.17-r941\n",
      "[M::main] CMD: minimap2 -ax map-ont -t 4 /home/jovyan/work/SV_DATA/REF/reference.fasta /home/jovyan/work/SV_DATA/LONG_READS/Clone17.fastq.gz\n",
      "[M::main] Real time: 22.450 sec; CPU: 78.504 sec; Peak RSS: 0.680 GB\n",
      "\n",
      "Convert samtobam and filter it \n",
      "\n",
      "[samopen] SAM header is present: 1 sequences.\n",
      "\n",
      "Sort and index bam \n",
      "\n",
      "\n",
      "Calculate stats from mapping\n",
      "\n",
      "\n",
      "Creation directory for Clone18\n",
      "\n",
      "Clone18\n",
      "\n",
      "Mapping Clone18 minimap2 \n",
      "\n",
      "[M::mm_idx_gen::0.089*1.03] collected minimizers\n",
      "[M::mm_idx_gen::0.112*1.53] sorted minimizers\n",
      "[M::main::0.112*1.53] loaded/built the index for 1 target sequence(s)\n",
      "[M::mm_mapopt_update::0.120*1.49] mid_occ = 10\n",
      "[M::mm_idx_stat] kmer size: 15; skip: 10; is_hpc: 0; #seq: 1\n",
      "[M::mm_idx_stat::0.125*1.47] distinct minimizers: 165344 (91.75% are singletons); average occurrences: 1.156; average spacing: 5.336\n",
      "[M::worker_pipeline::21.914*3.48] mapped 11288 sequences\n",
      "[M::main] Version: 2.17-r941\n",
      "[M::main] CMD: minimap2 -ax map-ont -t 4 /home/jovyan/work/SV_DATA/REF/reference.fasta /home/jovyan/work/SV_DATA/LONG_READS/Clone18.fastq.gz\n",
      "[M::main] Real time: 21.940 sec; CPU: 76.242 sec; Peak RSS: 0.665 GB\n",
      "\n",
      "Convert samtobam and filter it \n",
      "\n",
      "[samopen] SAM header is present: 1 sequences.\n",
      "\n",
      "Sort and index bam \n",
      "\n",
      "\n",
      "Calculate stats from mapping\n",
      "\n",
      "\n",
      "Creation directory for Clone19\n",
      "\n",
      "Clone19\n",
      "\n",
      "Mapping Clone19 minimap2 \n",
      "\n",
      "[M::mm_idx_gen::0.076*1.04] collected minimizers\n",
      "[M::mm_idx_gen::0.100*1.68] sorted minimizers\n",
      "[M::main::0.100*1.68] loaded/built the index for 1 target sequence(s)\n",
      "[M::mm_mapopt_update::0.108*1.63] mid_occ = 10\n",
      "[M::mm_idx_stat] kmer size: 15; skip: 10; is_hpc: 0; #seq: 1\n",
      "[M::mm_idx_stat::0.113*1.60] distinct minimizers: 165344 (91.75% are singletons); average occurrences: 1.156; average spacing: 5.336\n",
      "[M::worker_pipeline::23.008*3.45] mapped 11741 sequences\n",
      "[M::main] Version: 2.17-r941\n",
      "[M::main] CMD: minimap2 -ax map-ont -t 4 /home/jovyan/work/SV_DATA/REF/reference.fasta /home/jovyan/work/SV_DATA/LONG_READS/Clone19.fastq.gz\n",
      "[M::main] Real time: 23.050 sec; CPU: 79.503 sec; Peak RSS: 0.510 GB\n",
      "\n",
      "Convert samtobam and filter it \n",
      "\n",
      "[samopen] SAM header is present: 1 sequences.\n",
      "\n",
      "Sort and index bam \n",
      "\n",
      "\n",
      "Calculate stats from mapping\n",
      "\n",
      "\n",
      "Creation directory for Clone20\n",
      "\n",
      "Clone20\n",
      "\n",
      "Mapping Clone20 minimap2 \n",
      "\n",
      "[M::mm_idx_gen::0.077*1.04] collected minimizers\n",
      "[M::mm_idx_gen::0.099*1.63] sorted minimizers\n",
      "[M::main::0.099*1.62] loaded/built the index for 1 target sequence(s)\n",
      "[M::mm_mapopt_update::0.106*1.58] mid_occ = 10\n",
      "[M::mm_idx_stat] kmer size: 15; skip: 10; is_hpc: 0; #seq: 1\n",
      "[M::mm_idx_stat::0.111*1.56] distinct minimizers: 165344 (91.75% are singletons); average occurrences: 1.156; average spacing: 5.336\n",
      "[M::worker_pipeline::23.039*3.52] mapped 10804 sequences\n",
      "[M::main] Version: 2.17-r941\n",
      "[M::main] CMD: minimap2 -ax map-ont -t 4 /home/jovyan/work/SV_DATA/REF/reference.fasta /home/jovyan/work/SV_DATA/LONG_READS/Clone20.fastq.gz\n",
      "[M::main] Real time: 23.052 sec; CPU: 81.097 sec; Peak RSS: 0.559 GB\n",
      "\n",
      "Convert samtobam and filter it \n",
      "\n",
      "[samopen] SAM header is present: 1 sequences.\n",
      "\n",
      "Sort and index bam \n",
      "\n",
      "\n",
      "Calculate stats from mapping\n",
      "\n"
     ]
    }
   ],
   "source": [
    "for i in {1..20}\n",
    "    do\n",
    "        ONT=\"/home/jovyan/work/SV_DATA/LONG_READS/Clone${i}.fastq.gz\"\n",
    "        mkdir -p ~/work/MAPPING-ONT\n",
    "        cd ~/work/MAPPING-ONT\n",
    "        echo -e \"\\nCreation directory for Clone$i\\n\"\n",
    "        echo Clone$i\n",
    "        mkdir -p dirClone$i\n",
    "        cd dirClone$i\n",
    "        \n",
    "        echo -e \"\\nMapping Clone$i minimap2 \\n\"\n",
    "        minimap2 -ax map-ont -t 4 ${REF} ${ONT} > Clone${i}_ONT.sam \n",
    "        \n",
    "        # Convert samtobam \n",
    "        echo -e \"\\nConvert samtobam and filter it \\n\"\n",
    "        samtools view -@4 -bh -S -F 0x904 -o Clone${i}_ONT.bam Clone${i}_ONT.sam\n",
    "        rm Clone${i}_ONT.sam\n",
    "\n",
    "        echo -e \"\\nSort and index bam \\n\"\n",
    "        # sort and index bam\n",
    "        samtools sort -@4 Clone${i}_ONT.bam Clone${i}_ONT_SORTED \n",
    "        samtools index Clone${i}_ONT_SORTED.bam\n",
    "\n",
    "        # Calculate stats from mapping\n",
    "        echo -e \"\\nCalculate stats from mapping\\n\"\n",
    "        samtools flagstat Clone${i}_ONT_SORTED.bam >Clone${i}_ONT.flagstats\n",
    "    done"
   ]
  },
  {
   "cell_type": "code",
   "execution_count": null,
   "metadata": {},
   "outputs": [],
   "source": [
    "ls"
   ]
  },
  {
   "cell_type": "markdown",
   "metadata": {},
   "source": [
    "# REORDER BAM FILES INTO A FOLDER ONLY TO ILLUMINA"
   ]
  },
  {
   "cell_type": "code",
   "execution_count": null,
   "metadata": {},
   "outputs": [],
   "source": [
    "mkdir -p ~/work/MAPPING-ILL/BAM\n",
    "cd ~/work/MAPPING-ILL/\n",
    "\n",
    "for i in {1..20}\n",
    "    do\n",
    "         ln -s ~/work/MAPPING-ILL/dirClone$i/Clone${i}.bam BAM/\n",
    "    done"
   ]
  },
  {
   "cell_type": "markdown",
   "metadata": {},
   "source": [
    "# REORDER BAM FILES INTO A FOLDER NOW FOR ONT"
   ]
  },
  {
   "cell_type": "code",
   "execution_count": 24,
   "metadata": {},
   "outputs": [],
   "source": [
    "mkdir -p ~/work/MAPPING-ONT/BAM\n",
    "cd ~/work/MAPPING-ONT/\n",
    "\n",
    "for i in {1..20}\n",
    "    do\n",
    "         ln -s ~/work/MAPPING-ONT/dirClone$i/Clone${i}_ONT_SORTED.bam BAM/\n",
    "    done"
   ]
  },
  {
   "cell_type": "code",
   "execution_count": null,
   "metadata": {},
   "outputs": [],
   "source": []
  }
 ],
 "metadata": {
  "kernelspec": {
   "display_name": "Bash",
   "language": "bash",
   "name": "bash"
  },
  "language_info": {
   "codemirror_mode": "shell",
   "file_extension": ".sh",
   "mimetype": "text/x-sh",
   "name": "bash"
  }
 },
 "nbformat": 4,
 "nbformat_minor": 4
}
