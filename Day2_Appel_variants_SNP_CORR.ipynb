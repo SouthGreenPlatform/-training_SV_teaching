{
 "cells": [
  {
   "cell_type": "markdown",
   "id": "6be1a832-ced2-4cfa-94bf-f23eb6558982",
   "metadata": {},
   "source": [
    "# <span style=\"color:green\">Formation South Green 2022</span> - Structural Variants Detection by using short and long reads \n",
    "\n",
    "# __DAY 2 : SNP calling__\n",
    "\n",
    "Created by C. Tranchant (DIADE-IRD), J. Orjuela (DIADE-IRD), F. Sabot (DIADE-IRD) and A. Dereeper (PHIM-IRD)\n",
    "\n",
    "## __1. Preparing the working environment__ \n",
    "\n",
    "### First create a dedicated folder to work "
   ]
  },
  {
   "cell_type": "code",
   "execution_count": null,
   "id": "fceac7fa-6c14-41f3-bccc-492edca10f06",
   "metadata": {},
   "outputs": [],
   "source": [
    "# go to work directory\n",
    "cd /home/jovyan/work/\n",
    "ls"
   ]
  },
  {
   "cell_type": "markdown",
   "id": "85dd67e1-6696-4c37-af1e-ca381a34fc68",
   "metadata": {},
   "source": [
    "### We are going to use only one clones to check is all is ok before run the whole of samples! "
   ]
  },
  {
   "cell_type": "code",
   "execution_count": null,
   "id": "a3f2f15f-a724-4e68-9eff-29d6a9995648",
   "metadata": {},
   "outputs": [],
   "source": [
    "## declare variables\n",
    "i=10\n",
    "REF_DIR=\"/home/jovyan/work/SV_DATA/REF/\"\n",
    "REF=\"/home/jovyan/work/SV_DATA/REF/reference.fasta\"\n",
    "ONT=\"/home/jovyan/work/SV_DATA/LONG_READS/Clone$i.fastq.gz\"\n",
    "ILL_R1=\"/home/jovyan/work/SV_DATA/SHORT_READS/Clone${i}_R1.fastq.gz\"\n",
    "ILL_R2=\"/home/jovyan/work/SV_DATA/SHORT_READS/Clone${i}_R2.fastq.gz\"\n",
    "BAM=\"/home/jovyan/work/MAPPING-ILL/dirClone10/Clone$i.SORTED.bam\""
   ]
  },
  {
   "cell_type": "code",
   "execution_count": null,
   "id": "1eb6344c-a5f2-4e0e-a798-6f0fbfab8483",
   "metadata": {},
   "outputs": [],
   "source": [
    "# go to SR mapping results\n",
    "cd /home/jovyan/work/MAPPING-ILL/dirClone${i}"
   ]
  },
  {
   "cell_type": "code",
   "execution_count": null,
   "id": "9b436945-2f98-4662-85a2-da1dc1d904d7",
   "metadata": {},
   "outputs": [],
   "source": [
    "ls /home/jovyan/work/MAPPING-ILL/dirClone${i}"
   ]
  },
  {
   "cell_type": "markdown",
   "id": "597b1b89-f613-4094-a423-e486fe455491",
   "metadata": {},
   "source": [
    "### Mark duplications"
   ]
  },
  {
   "cell_type": "code",
   "execution_count": null,
   "id": "48bc398f-3783-4616-9c4a-faad14b818dc",
   "metadata": {
    "tags": []
   },
   "outputs": [],
   "source": [
    "echo -e \"\\nMarkDuplicates in Clone$i\";\n",
    "gatk MarkDuplicates -I $BAM -M duplicates.$i.metrics -O Clone$i.SORTED.MD.bam;\n",
    "samtools index Clone$i.SORTED.MD.bam;"
   ]
  },
  {
   "cell_type": "code",
   "execution_count": null,
   "id": "6aafebd6-bc19-4494-8a57-197b68c1e8e0",
   "metadata": {
    "tags": []
   },
   "outputs": [],
   "source": [
    "# check MD bam\n",
    "ls -l"
   ]
  },
  {
   "cell_type": "markdown",
   "id": "8836759d-5737-4dba-ae5f-cf81a1485a8b",
   "metadata": {},
   "source": [
    "### Indexing reference with GATK"
   ]
  },
  {
   "cell_type": "code",
   "execution_count": null,
   "id": "9a944e78-53d4-44ea-93b8-9fc19b99219f",
   "metadata": {
    "tags": []
   },
   "outputs": [],
   "source": [
    "cd $REF_DIR\n",
    "samtools faidx $REF\n",
    "gatk CreateSequenceDictionary -R $REF"
   ]
  },
  {
   "cell_type": "markdown",
   "id": "ddc481e5-9697-4106-a145-bb7d6183a4a0",
   "metadata": {},
   "source": [
    "### SNP Calling for a Clone"
   ]
  },
  {
   "cell_type": "code",
   "execution_count": null,
   "id": "d5e8e1eb-3d05-40a5-9957-021f83ed9965",
   "metadata": {
    "tags": []
   },
   "outputs": [],
   "source": [
    "# go to bam repertory\n",
    "cd /home/jovyan/work/MAPPING-ILL/dirClone${i}\n",
    "# change BAM file for MD one\n",
    "BAM=\"/home/jovyan/work/MAPPING-ILL/dirClone10/Clone$i.SORTED.MD.bam\"\n",
    "# lauch GATK HaplotypeCaller\n",
    "echo -e \"\\nCalling Clone$i\";\n",
    "gatk --java-options \"-Xmx4g\" HaplotypeCaller --native-pair-hmm-threads 4 -I Clone$i.SORTED.MD.bam -O Clone$i.g.vcf -R $REF -ERC GVCF;"
   ]
  },
  {
   "cell_type": "code",
   "execution_count": null,
   "id": "d8ada194-7365-4886-9982-97c860842d64",
   "metadata": {},
   "outputs": [],
   "source": [
    "head Clone$i.g.vcf"
   ]
  },
  {
   "cell_type": "markdown",
   "id": "86d95ae1-5e20-4949-bc4f-a95fb3bb8cc7",
   "metadata": {},
   "source": [
    "### Error produced here is normal ! RG is important in mapping step  !! "
   ]
  },
  {
   "cell_type": "markdown",
   "id": "2851f135-79da-4868-aab4-6a8a1c956cc6",
   "metadata": {},
   "source": [
    "Yes, you have to relaunch mapping with all samples ! BUT ...\n",
    "\n",
    "Don't worry, bam files with correct `-R \"@RG\\tID:Clone${i}\\tSM:Clone${i}\"` parameter in bwa-mem2 command are available for downloading."
   ]
  },
  {
   "cell_type": "code",
   "execution_count": null,
   "id": "13993511-2f8a-4ebd-8b2c-dd0e82086632",
   "metadata": {
    "tags": []
   },
   "outputs": [],
   "source": [
    "cd /home/jovyan/work/\n",
    "wget --no-check-certificat -rm -nH --cut-dirs=1 --reject=\"index.html*\" wget https://itrop.ird.fr/sv-training/BAM_ILL.tar.gz\n",
    "tar zxvf BAM_ILL.tar.gz\n",
    "BAM_ILL=\"/home/jovyan/work/BAM_ILL\"\n",
    "rm BAM_ILL.tar.gz\n",
    "ls $BAM_ILL"
   ]
  },
  {
   "cell_type": "code",
   "execution_count": null,
   "id": "d5d112c9-8b3d-444b-b516-46301b980de7",
   "metadata": {},
   "outputs": [],
   "source": [
    "#wget --no-check-certificat -rm -nH --cut-dirs=1 --reject=\"index.html*\" wget https://itrop.ird.fr/sv-training/BAM_ONT.tar.gz\n",
    "#tar zxvf BAM_ONT.tar.gz\n",
    "#BAM_ONT=\"/home/jovyan/work/BAM_ONT\"\n",
    "#rm BAM_ONT.tar.gz\n",
    "#ls $BAM_ONT"
   ]
  },
  {
   "cell_type": "markdown",
   "id": "74813193-5d58-4a21-ac39-02233366c7f4",
   "metadata": {},
   "source": [
    "## Calling all samples on one raw VCF with correct BAM files"
   ]
  },
  {
   "cell_type": "code",
   "execution_count": null,
   "id": "39ce7d41-bdbc-40f9-8fbe-09eda8ce5f85",
   "metadata": {
    "tags": []
   },
   "outputs": [],
   "source": [
    "BAM_ILL=\"/home/jovyan/work/BAM_ILL\"\n",
    "ls $BAM_ILL"
   ]
  },
  {
   "cell_type": "code",
   "execution_count": null,
   "id": "fc1f5a57-96ff-412c-a866-f536314c1f36",
   "metadata": {},
   "outputs": [],
   "source": [
    "# create a work directory to SNP calling results\n",
    "mkdir -p /home/jovyan/work/VCF\n",
    "VCF_DIR=\"/home/jovyan/work/VCF\""
   ]
  },
  {
   "cell_type": "markdown",
   "id": "2a1a59ea-cd90-4533-a33d-17e1db77a17a",
   "metadata": {},
   "source": [
    "### Markduplicates"
   ]
  },
  {
   "cell_type": "code",
   "execution_count": null,
   "id": "f16f3738-431c-44c7-a4f6-e4493f92a232",
   "metadata": {
    "tags": []
   },
   "outputs": [],
   "source": [
    "cd $BAM_ILL\n",
    "for i in {1..20}\n",
    "    do\n",
    "        samtools index Clone$i.SORTED.bam;\n",
    "        echo -e \"\\nMarkDuplicates in Clone$i\";\n",
    "        gatk MarkDuplicates -I Clone$i.SORTED.bam -M duplicates.$i.metrics -O Clone$i.SORTED.MD.bam;\n",
    "        samtools index Clone$i.SORTED.MD.bam;\n",
    "    done"
   ]
  },
  {
   "cell_type": "markdown",
   "id": "0cbc9d7d-b059-47de-ba8d-2ab42d4c7774",
   "metadata": {},
   "source": [
    "### HaplotypeCaller"
   ]
  },
  {
   "cell_type": "code",
   "execution_count": null,
   "id": "0251d02d-1c88-4b9d-9f06-52f5cd2d841b",
   "metadata": {
    "tags": []
   },
   "outputs": [],
   "source": [
    "cd $BAM_ILL\n",
    "for i in {1..9}\n",
    "    do\n",
    "        # lauch GATK HaplotypeCaller\n",
    "        echo -e \"\\nCalling Clone$i\";\n",
    "        gatk --java-options \"-Xmx4g\" HaplotypeCaller --native-pair-hmm-threads 4 -I Clone$i.SORTED.MD.bam -O $VCF_DIR/Clone$i.g.vcf -R $REF -ERC GVCF\n",
    "    done"
   ]
  },
  {
   "cell_type": "markdown",
   "id": "07a52085-ad7b-4833-b8c4-845085a2ff23",
   "metadata": {
    "tags": []
   },
   "source": [
    "### CombineGVCF"
   ]
  },
  {
   "cell_type": "code",
   "execution_count": null,
   "id": "6afa0781-11db-4c1a-ad29-5d8c4dbe1efd",
   "metadata": {
    "tags": []
   },
   "outputs": [],
   "source": [
    "BAM_ILL=\"/home/jovyan/work/BAM_ILL\"\n",
    "VCF_DIR=\"/home/jovyan/work/VCF\"\n",
    "REF=\"/home/jovyan/work/SV_DATA/REF/reference.fasta\"\n",
    "\n",
    "# change of work directory\n",
    "cd $VCF_DIR\n",
    "# Loop to inflate the --variant option\n",
    "OPTION=\"\"\n",
    "for i in {1..9}\n",
    "do\n",
    "    OPTION=\"${OPTION} --variant Clone${i}.g.vcf\"\n",
    "done\n",
    "echo $OPTION\n",
    "# GATK\n",
    "gatk CombineGVCFs -R $REF $OPTION -O rawSNP.vcf"
   ]
  },
  {
   "cell_type": "markdown",
   "id": "71d2f82d-dfc9-45ef-bca4-c186c356b4fe",
   "metadata": {},
   "source": [
    "### Have a Look to it combineGVCF"
   ]
  },
  {
   "cell_type": "code",
   "execution_count": null,
   "id": "9dbd61ee-0e7d-4bda-bc26-bfeb0830193f",
   "metadata": {},
   "outputs": [],
   "source": [
    "head -n 1000 rawSNP.vcf | tail"
   ]
  },
  {
   "cell_type": "markdown",
   "id": "e2ec071c-36de-498a-bc4b-2099bd1308e4",
   "metadata": {},
   "source": [
    "### Compute the Genotypes"
   ]
  },
  {
   "cell_type": "code",
   "execution_count": null,
   "id": "b6fbf4fe-d12f-4bf3-92b9-9aa446867e61",
   "metadata": {},
   "outputs": [],
   "source": [
    "gatk --java-options \"-Xmx4g\" GenotypeGVCFs -R $REF -V rawSNP.vcf -O output.vcf"
   ]
  },
  {
   "cell_type": "code",
   "execution_count": null,
   "id": "466b3284-5406-4701-b794-867e234c3c85",
   "metadata": {},
   "outputs": [],
   "source": [
    "head output.vcf"
   ]
  },
  {
   "cell_type": "markdown",
   "id": "bf02a88d-4832-417e-92bf-f1a994976844",
   "metadata": {},
   "source": [
    "### Compute the SNP density along the chromosomes"
   ]
  },
  {
   "cell_type": "code",
   "execution_count": null,
   "id": "57505229-54d7-42b0-b470-4be5b11e420c",
   "metadata": {},
   "outputs": [],
   "source": [
    "echo -e \"Reference\\t1000000\\n\" > genome.txt\n",
    "bedtools genomecov -bga -split -i output.vcf -g genome.txt > density.csv"
   ]
  },
  {
   "cell_type": "code",
   "execution_count": null,
   "id": "a00fc838-fd28-4f12-9871-c1b4c89cdcbc",
   "metadata": {},
   "outputs": [],
   "source": [
    "head density.csv"
   ]
  },
  {
   "cell_type": "markdown",
   "id": "d27e2f39-7f7b-48e5-bd26-d1bd17b6b1b1",
   "metadata": {},
   "source": [
    "### Count the number of variants with `bcftools stat`"
   ]
  },
  {
   "cell_type": "code",
   "execution_count": null,
   "id": "8665135f-a849-4711-bafe-9c8ebe54f250",
   "metadata": {},
   "outputs": [],
   "source": [
    "bcftools stats output.vcf > output.vcf.stats"
   ]
  },
  {
   "cell_type": "code",
   "execution_count": null,
   "id": "b451c208-b10a-4462-9fc8-ed7d6d8ec902",
   "metadata": {},
   "outputs": [],
   "source": [
    "head -n 100 output.vcf.stats"
   ]
  },
  {
   "cell_type": "code",
   "execution_count": null,
   "id": "2787d47b-8687-47c6-8fb9-e40b7e5c96c8",
   "metadata": {},
   "outputs": [],
   "source": []
  }
 ],
 "metadata": {
  "kernelspec": {
   "display_name": "Bash",
   "language": "bash",
   "name": "bash"
  },
  "language_info": {
   "codemirror_mode": "shell",
   "file_extension": ".sh",
   "mimetype": "text/x-sh",
   "name": "bash"
  }
 },
 "nbformat": 4,
 "nbformat_minor": 5
}
