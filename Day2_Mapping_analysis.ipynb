{
 "cells": [
  {
   "cell_type": "markdown",
   "id": "d015209b-0d23-4c85-994c-79b3535c75a3",
   "metadata": {},
   "source": [
    "#### <span style=\"color:#grey\"> __Formation South Green 2022 - Structural Variants Detection by using short and long reads__ </span>\n",
    "\n",
    "# <span style=\"color:#006E7F\">  <center> __DAY 2 : How to analyze mapping results ?__ </center> </span>\n",
    "\n",
    "Created by C. Tranchant (DIADE-IRD), J. Orjuela (DIADE-IRD), F. Sabot (DIADE-IRD) and A. Dereeper (PHIM-IRD)\n",
    "\n",
    "***\n",
    "\n",
    "# <span style=\"color: #006E7F\">Table of contents</span>\n",
    "<a class=\"anchor\" id=\"home\"></a>\n",
    "\n",
    "[I - Get some basic mapping stats with samtools flagstat](#mappingstats)\n",
    "\n",
    "* [Run samtools flagstat](#flagstat)\n",
    "* [Samtools flagstat output](#flagstatoutput)\n",
    "* [Merge individual flagstat files into an unique file with python code](#multiflagstat) \n",
    "* [Plot mapping ratio per sample](#ratioplot)\n",
    "* [EXERCICE : DO THE SAME MANIP WITH MINIMAP2 RESULTS](#minimap)\n",
    "\n",
    "[II - Get some basic stats from vcf files](#statvcf) \n",
    "* [Count the number of variants with `bcftools stat`](#bcftools)\n",
    "* [Generating statistics from a VCF to determining how to set filters on it](#vcffilters)\n",
    "* [Generating density plot QUAL & DEPTH](#vcfplot) \n",
    "\n",
    "[III - FILTERING VCF](#vcffiltering)\n",
    "\n",
    "</span>\n",
    "\n",
    "***\n",
    "\n"
   ]
  },
  {
   "cell_type": "markdown",
   "id": "c65b4b47-c99c-4673-971d-c198e15b5a5d",
   "metadata": {},
   "source": [
    "## <span style=\"color:#006E7F\">__I - Get some basic mapping stats with samtools flagstat__ <a class=\"anchor\" id=\"mappingstats\"></span>  \n",
    "\n",
    "### <span style=\"color: #4CACBC;\"> First go into the directory that contains all the bam files</span>  \n"
   ]
  },
  {
   "cell_type": "code",
   "execution_count": 46,
   "id": "bd0dac23-2b56-4602-b8dc-a500011aa172",
   "metadata": {
    "tags": []
   },
   "outputs": [
    {
     "name": "stdout",
     "output_type": "stream",
     "text": [
      "/home/jovyan/work/MAPPING-ILL\n",
      "\u001b[0m\u001b[01;34mdirClone1\u001b[0m/   \u001b[01;34mdirClone12\u001b[0m/  \u001b[01;34mdirClone15\u001b[0m/  \u001b[01;34mdirClone18\u001b[0m/  \u001b[01;34mdirClone4\u001b[0m/  \u001b[01;34mdirClone7\u001b[0m/\n",
      "\u001b[01;34mdirClone10\u001b[0m/  \u001b[01;34mdirClone13\u001b[0m/  \u001b[01;34mdirClone16\u001b[0m/  \u001b[01;34mdirClone2\u001b[0m/   \u001b[01;34mdirClone5\u001b[0m/  \u001b[01;34mdirClone8\u001b[0m/\n",
      "\u001b[01;34mdirClone11\u001b[0m/  \u001b[01;34mdirClone14\u001b[0m/  \u001b[01;34mdirClone17\u001b[0m/  \u001b[01;34mdirClone3\u001b[0m/   \u001b[01;34mdirClone6\u001b[0m/  \u001b[01;34mdirClone9\u001b[0m/\n"
     ]
    }
   ],
   "source": [
    "%cd /home/jovyan/work/MAPPING-ILL/\n",
    "%ls"
   ]
  },
  {
   "cell_type": "markdown",
   "id": "11a84023-ebeb-4440-9493-19be55d72726",
   "metadata": {},
   "source": [
    "### <span style=\"color: #4CACBC;\">Grouping the flagstat files previosly created</span>  \n",
    "\n",
    "* Create the subdirectory FLAGSTAT into the directory MAPPING_ILL\n",
    "* copy the flagstat files previously generated into this new directry"
   ]
  },
  {
   "cell_type": "code",
   "execution_count": 58,
   "id": "f8ef1fde-6d6f-47d0-91e7-67f51d12d332",
   "metadata": {},
   "outputs": [
    {
     "name": "stdout",
     "output_type": "stream",
     "text": [
      "/home/jovyan/work/MAPPING-ILL\n"
     ]
    }
   ],
   "source": [
    "%%bash\n",
    "pwd\n",
    "mkdir -p FLAGSTAT\n",
    "cp dir*/*flagstat FLAGSTAT"
   ]
  },
  {
   "cell_type": "markdown",
   "id": "ba4f80de-4eda-401b-a136-d2c46a6c0169",
   "metadata": {},
   "source": [
    "#### <span style=\"color: #4CACBC;\">Check that the flagstat files have been correctly copied</span>"
   ]
  },
  {
   "cell_type": "code",
   "execution_count": 62,
   "id": "7de0a356-47a9-4960-82c8-84fae6eb44b7",
   "metadata": {},
   "outputs": [
    {
     "name": "stdout",
     "output_type": "stream",
     "text": [
      "all_stat.csv      Clone14.flagstat  Clone2.flagstat  Clone7.flagstat\n",
      "Clone10.flagstat  Clone15.flagstat  Clone3.flagstat  Clone8.flagstat\n",
      "Clone11.flagstat  Clone16.flagstat  Clone4.flagstat  Clone9.flagstat\n",
      "Clone12.flagstat  Clone17.flagstat  Clone5.flagstat\n",
      "Clone13.flagstat  Clone1.flagstat   Clone6.flagstat\n"
     ]
    }
   ],
   "source": [
    "ls FLAGSTAT"
   ]
  },
  {
   "cell_type": "markdown",
   "id": "586e1e6c-e9d3-4aa7-8108-1a1c9a7f428c",
   "metadata": {},
   "source": [
    "### <span style=\"color: #4CACBC;\">Let's look the content of one flagstat file <a class=\"anchor\" id=\"flagstatoutput\"></span> "
   ]
  },
  {
   "cell_type": "code",
   "execution_count": 63,
   "id": "6d18252b-0a2d-4d49-b620-186a8354006c",
   "metadata": {
    "tags": []
   },
   "outputs": [
    {
     "name": "stdout",
     "output_type": "stream",
     "text": [
      "296107 + 0 in total (QC-passed reads + QC-failed reads)\n",
      "0 + 0 duplicates\n",
      "221301 + 0 mapped (74.74%:-nan%)\n",
      "296107 + 0 paired in sequencing\n",
      "148037 + 0 read1\n",
      "148070 + 0 read2\n",
      "218229 + 0 properly paired (73.70%:-nan%)\n",
      "219681 + 0 with itself and mate mapped\n",
      "1620 + 0 singletons (0.55%:-nan%)\n",
      "0 + 0 with mate mapped to a different chr\n",
      "0 + 0 with mate mapped to a different chr (mapQ>=5)\n"
     ]
    }
   ],
   "source": [
    "cat FLAGSTAT/Clone10*stat"
   ]
  },
  {
   "cell_type": "markdown",
   "id": "fb0f44f7-634f-491a-a470-7e62e6dff2d7",
   "metadata": {},
   "source": [
    "### <span style=\"color: #4CACBC;\">Merge individual flagstat files into an unique file with python code <a class=\"anchor\" id=\"multiflagstat\"></span> "
   ]
  },
  {
   "cell_type": "code",
   "execution_count": 54,
   "id": "f3365afa-1224-4a91-82f0-605406771dda",
   "metadata": {},
   "outputs": [
    {
     "name": "stdout",
     "output_type": "stream",
     "text": [
      "DIRECTORY :  /home/jovyan/work/MAPPING-ILL/FLAGSTAT\n",
      "FINAL STAT FILE :  /home/jovyan/work/MAPPING-ILL/FLAGSTAT/all_stat.csv\n"
     ]
    }
   ],
   "source": [
    "# IMPORT PYTHON PACKAGE USED BY THE CODE\n",
    "import os\n",
    "import pandas as pd\n",
    "\n",
    "# VARIABLE INITIALIZATION\n",
    "\n",
    "## NAME OF THE DIRECTORY THAT CONTAINS FLAGSTAT FILES\n",
    "flagstat_dir = \"/home/jovyan/work/MAPPING-ILL/FLAGSTAT\" #PUT THE DIRECTORY NAME THAT CONTAINS FLAGSTAT FILES \n",
    "\n",
    "## NAME OF THE FILE THAT WILL CONTAIN ALL THE FLAGSTAT RESULTATS\n",
    "stat_file = f\"{flagstat_dir}/all_stat.csv\"\n",
    "\n",
    "# PRINT THE CONTENT OF 2 PREVIOUS VARIABLES INITIALIZED\n",
    "print(\"DIRECTORY : \",flagstat_dir)\n",
    "print(\"FINAL STAT FILE : \",stat_file)\n"
   ]
  },
  {
   "cell_type": "code",
   "execution_count": 60,
   "id": "fa949611-0dd8-4ccd-b1b3-7689d496fdec",
   "metadata": {},
   "outputs": [
    {
     "data": {
      "text/plain": [
       "'/home/jovyan/work/MAPPING-ILL'"
      ]
     },
     "execution_count": 60,
     "metadata": {},
     "output_type": "execute_result"
    }
   ],
   "source": [
    "%pwd"
   ]
  },
  {
   "cell_type": "code",
   "execution_count": 65,
   "id": "8da626d7-fc37-409a-9308-9d81baf089d9",
   "metadata": {},
   "outputs": [
    {
     "name": "stdout",
     "output_type": "stream",
     "text": [
      "Clone9.flagstat\n",
      "/home/jovyan/work/MAPPING-ILL/FLAGSTAT/Clone9.flagstat\n",
      "Clone1.flagstat\n",
      "/home/jovyan/work/MAPPING-ILL/FLAGSTAT/Clone1.flagstat\n",
      "Clone6.flagstat\n",
      "/home/jovyan/work/MAPPING-ILL/FLAGSTAT/Clone6.flagstat\n",
      "Clone3.flagstat\n",
      "/home/jovyan/work/MAPPING-ILL/FLAGSTAT/Clone3.flagstat\n",
      "Clone16.flagstat\n",
      "/home/jovyan/work/MAPPING-ILL/FLAGSTAT/Clone16.flagstat\n",
      "Clone7.flagstat\n",
      "/home/jovyan/work/MAPPING-ILL/FLAGSTAT/Clone7.flagstat\n",
      "Clone2.flagstat\n",
      "/home/jovyan/work/MAPPING-ILL/FLAGSTAT/Clone2.flagstat\n",
      "Clone10.flagstat\n",
      "/home/jovyan/work/MAPPING-ILL/FLAGSTAT/Clone10.flagstat\n",
      "Clone15.flagstat\n",
      "/home/jovyan/work/MAPPING-ILL/FLAGSTAT/Clone15.flagstat\n",
      "all_stat.csv\n",
      "/home/jovyan/work/MAPPING-ILL/FLAGSTAT/all_stat.csv\n",
      "Clone17.flagstat\n",
      "/home/jovyan/work/MAPPING-ILL/FLAGSTAT/Clone17.flagstat\n",
      "Clone12.flagstat\n",
      "/home/jovyan/work/MAPPING-ILL/FLAGSTAT/Clone12.flagstat\n",
      "Clone5.flagstat\n",
      "/home/jovyan/work/MAPPING-ILL/FLAGSTAT/Clone5.flagstat\n",
      "Clone11.flagstat\n",
      "/home/jovyan/work/MAPPING-ILL/FLAGSTAT/Clone11.flagstat\n",
      "Clone13.flagstat\n",
      "/home/jovyan/work/MAPPING-ILL/FLAGSTAT/Clone13.flagstat\n",
      "Clone4.flagstat\n",
      "/home/jovyan/work/MAPPING-ILL/FLAGSTAT/Clone4.flagstat\n",
      "Clone14.flagstat\n",
      "/home/jovyan/work/MAPPING-ILL/FLAGSTAT/Clone14.flagstat\n",
      "Clone8.flagstat\n",
      "/home/jovyan/work/MAPPING-ILL/FLAGSTAT/Clone8.flagstat\n"
     ]
    }
   ],
   "source": [
    "# OPEN THE FINAL FILE IN WHICH WE PRINT SOME STATS EXTRACTED FROM EACH INDIVIDUAL FILE GENERATED BY SAMTOOLS FLAGSTAT\n",
    "with open(stat_file, 'w') as stat: \n",
    "    # WRITE A HEADER LINE IN OUR STAT FILE\n",
    "    header_line = \"sample,mapped,paired,unmapped\"\n",
    "    stat.write(header_line)\n",
    "    \n",
    "    # READING EACH FILE OF THE FLGSTAT DIRECTORY\n",
    "    for file in os.listdir(flagstat_dir):\n",
    "        # If flagstat is in name of file\n",
    "        filen = flagstat_dir + \"/\" + file\n",
    "        if \"flagstat\" in file:\n",
    "            # Extract sample name and save into a new variable newLine \n",
    "            new_line = f\"\\n{file.split('.')[0]},\"\n",
    "            # OPEN AND READS FLAGSTAT FILE\n",
    "            with open(filen, \"r\") as flagstat:\n",
    "                # read file line by line\n",
    "                for line in flagstat:\n",
    "                    # remove the line skipper at the endo of the line\n",
    "                    line = line.rstrip()              \n",
    "                    # Keep only line mapped, paired or singleton word\n",
    "                    if 'mapped (' in line or 'paired (' in line or 'singleton' in line:\n",
    "                        # get percentage value and save it into the varaible called perc\n",
    "                        perc = f\"{line.split('(')[1].split('%')[0]}\"\n",
    "                        new_line += f\"{perc},\"\n",
    "                # WRITE THE LINE ONCE THE FLAGSTAT FILE COMPLETELY READ\n",
    "                stat.write(new_line.strip(\",\"))"
   ]
  },
  {
   "cell_type": "markdown",
   "id": "eccefc94-20ef-4508-9ccf-d080f5f14288",
   "metadata": {
    "tags": []
   },
   "source": [
    "### <span style=\"color: #4CACBC;\">Display the content of the final stat file  <a class=\"anchor\" id=\"statfile\"></span> "
   ]
  },
  {
   "cell_type": "code",
   "execution_count": 66,
   "id": "aff90309-8f07-49b2-88ce-8fe0c47fde20",
   "metadata": {},
   "outputs": [
    {
     "name": "stdout",
     "output_type": "stream",
     "text": [
      "sample,mapped,paired,unmapped\n",
      "Clone9,80.41,79.70,0.49\n",
      "Clone1,100.00,100.00,0.00\n",
      "Clone6,85.92,85.49,0.41\n",
      "Clone3,100.00,100.00,0.00\n",
      "Clone16,75.52,66.81,0.43\n",
      "Clone7,65.75,64.94,0.77\n",
      "Clone2,100.00,100.00,0.00\n",
      "Clone10,74.74,73.70,0.55\n",
      "Clone15,73.85,68.41,0.50\n",
      "Clone17,76.06,72.69,0.52\n",
      "Clone12,73.02,71.07,0.58\n",
      "Clone5,89.23,89.00,0.22\n",
      "Clone11,75.20,73.85,0.53\n",
      "Clone13,78.18,75.93,0.53\n",
      "Clone4,99.56,99.53,0.01\n",
      "Clone14,78.03,74.84,0.55\n",
      "Clone8,49.62,48.40,1.14"
     ]
    }
   ],
   "source": [
    "%cat $stat_file"
   ]
  },
  {
   "cell_type": "markdown",
   "id": "4a512002-2fe5-4172-9bc1-cab76a00c76d",
   "metadata": {},
   "source": [
    "### <span style=\"color: #4CACBC;\">Plot mapping ratio per sample <a class=\"anchor\" id=\"ratioplot\"></a></span> \n",
    "\n",
    "#### Load csv file into a panda datafrale\n"
   ]
  },
  {
   "cell_type": "code",
   "execution_count": 67,
   "id": "4b87b0b6-e76c-4950-9b78-3ecd418f6704",
   "metadata": {},
   "outputs": [
    {
     "data": {
      "text/html": [
       "<div>\n",
       "<style scoped>\n",
       "    .dataframe tbody tr th:only-of-type {\n",
       "        vertical-align: middle;\n",
       "    }\n",
       "\n",
       "    .dataframe tbody tr th {\n",
       "        vertical-align: top;\n",
       "    }\n",
       "\n",
       "    .dataframe thead th {\n",
       "        text-align: right;\n",
       "    }\n",
       "</style>\n",
       "<table border=\"1\" class=\"dataframe\">\n",
       "  <thead>\n",
       "    <tr style=\"text-align: right;\">\n",
       "      <th></th>\n",
       "      <th>sample</th>\n",
       "      <th>mapped</th>\n",
       "      <th>paired</th>\n",
       "      <th>unmapped</th>\n",
       "    </tr>\n",
       "  </thead>\n",
       "  <tbody>\n",
       "    <tr>\n",
       "      <th>0</th>\n",
       "      <td>Clone9</td>\n",
       "      <td>80.41</td>\n",
       "      <td>79.70</td>\n",
       "      <td>0.49</td>\n",
       "    </tr>\n",
       "    <tr>\n",
       "      <th>1</th>\n",
       "      <td>Clone1</td>\n",
       "      <td>100.00</td>\n",
       "      <td>100.00</td>\n",
       "      <td>0.00</td>\n",
       "    </tr>\n",
       "    <tr>\n",
       "      <th>2</th>\n",
       "      <td>Clone6</td>\n",
       "      <td>85.92</td>\n",
       "      <td>85.49</td>\n",
       "      <td>0.41</td>\n",
       "    </tr>\n",
       "    <tr>\n",
       "      <th>3</th>\n",
       "      <td>Clone3</td>\n",
       "      <td>100.00</td>\n",
       "      <td>100.00</td>\n",
       "      <td>0.00</td>\n",
       "    </tr>\n",
       "    <tr>\n",
       "      <th>4</th>\n",
       "      <td>Clone16</td>\n",
       "      <td>75.52</td>\n",
       "      <td>66.81</td>\n",
       "      <td>0.43</td>\n",
       "    </tr>\n",
       "    <tr>\n",
       "      <th>5</th>\n",
       "      <td>Clone7</td>\n",
       "      <td>65.75</td>\n",
       "      <td>64.94</td>\n",
       "      <td>0.77</td>\n",
       "    </tr>\n",
       "    <tr>\n",
       "      <th>6</th>\n",
       "      <td>Clone2</td>\n",
       "      <td>100.00</td>\n",
       "      <td>100.00</td>\n",
       "      <td>0.00</td>\n",
       "    </tr>\n",
       "    <tr>\n",
       "      <th>7</th>\n",
       "      <td>Clone10</td>\n",
       "      <td>74.74</td>\n",
       "      <td>73.70</td>\n",
       "      <td>0.55</td>\n",
       "    </tr>\n",
       "    <tr>\n",
       "      <th>8</th>\n",
       "      <td>Clone15</td>\n",
       "      <td>73.85</td>\n",
       "      <td>68.41</td>\n",
       "      <td>0.50</td>\n",
       "    </tr>\n",
       "    <tr>\n",
       "      <th>9</th>\n",
       "      <td>Clone17</td>\n",
       "      <td>76.06</td>\n",
       "      <td>72.69</td>\n",
       "      <td>0.52</td>\n",
       "    </tr>\n",
       "    <tr>\n",
       "      <th>10</th>\n",
       "      <td>Clone12</td>\n",
       "      <td>73.02</td>\n",
       "      <td>71.07</td>\n",
       "      <td>0.58</td>\n",
       "    </tr>\n",
       "    <tr>\n",
       "      <th>11</th>\n",
       "      <td>Clone5</td>\n",
       "      <td>89.23</td>\n",
       "      <td>89.00</td>\n",
       "      <td>0.22</td>\n",
       "    </tr>\n",
       "    <tr>\n",
       "      <th>12</th>\n",
       "      <td>Clone11</td>\n",
       "      <td>75.20</td>\n",
       "      <td>73.85</td>\n",
       "      <td>0.53</td>\n",
       "    </tr>\n",
       "    <tr>\n",
       "      <th>13</th>\n",
       "      <td>Clone13</td>\n",
       "      <td>78.18</td>\n",
       "      <td>75.93</td>\n",
       "      <td>0.53</td>\n",
       "    </tr>\n",
       "    <tr>\n",
       "      <th>14</th>\n",
       "      <td>Clone4</td>\n",
       "      <td>99.56</td>\n",
       "      <td>99.53</td>\n",
       "      <td>0.01</td>\n",
       "    </tr>\n",
       "    <tr>\n",
       "      <th>15</th>\n",
       "      <td>Clone14</td>\n",
       "      <td>78.03</td>\n",
       "      <td>74.84</td>\n",
       "      <td>0.55</td>\n",
       "    </tr>\n",
       "    <tr>\n",
       "      <th>16</th>\n",
       "      <td>Clone8</td>\n",
       "      <td>49.62</td>\n",
       "      <td>48.40</td>\n",
       "      <td>1.14</td>\n",
       "    </tr>\n",
       "  </tbody>\n",
       "</table>\n",
       "</div>"
      ],
      "text/plain": [
       "     sample  mapped  paired  unmapped\n",
       "0    Clone9   80.41   79.70      0.49\n",
       "1    Clone1  100.00  100.00      0.00\n",
       "2    Clone6   85.92   85.49      0.41\n",
       "3    Clone3  100.00  100.00      0.00\n",
       "4   Clone16   75.52   66.81      0.43\n",
       "5    Clone7   65.75   64.94      0.77\n",
       "6    Clone2  100.00  100.00      0.00\n",
       "7   Clone10   74.74   73.70      0.55\n",
       "8   Clone15   73.85   68.41      0.50\n",
       "9   Clone17   76.06   72.69      0.52\n",
       "10  Clone12   73.02   71.07      0.58\n",
       "11   Clone5   89.23   89.00      0.22\n",
       "12  Clone11   75.20   73.85      0.53\n",
       "13  Clone13   78.18   75.93      0.53\n",
       "14   Clone4   99.56   99.53      0.01\n",
       "15  Clone14   78.03   74.84      0.55\n",
       "16   Clone8   49.62   48.40      1.14"
      ]
     },
     "execution_count": 67,
     "metadata": {},
     "output_type": "execute_result"
    }
   ],
   "source": [
    "df_bam_stat = pd.read_csv(stat_file, index_col=False, sep=\",\")\n",
    "df_bam_stat"
   ]
  },
  {
   "cell_type": "markdown",
   "id": "cb1b6397-f6d2-4d27-9f85-1ee363a4b499",
   "metadata": {},
   "source": [
    "#### Basic stats"
   ]
  },
  {
   "cell_type": "code",
   "execution_count": 68,
   "id": "0d111bd5-3966-4d48-8a49-8131654ca1f9",
   "metadata": {},
   "outputs": [
    {
     "name": "stdout",
     "output_type": "stream",
     "text": [
      "0      80.41\n",
      "1     100.00\n",
      "2      85.92\n",
      "3     100.00\n",
      "4      75.52\n",
      "5      65.75\n",
      "6     100.00\n",
      "7      74.74\n",
      "8      73.85\n",
      "9      76.06\n",
      "10     73.02\n",
      "11     89.23\n",
      "12     75.20\n",
      "13     78.18\n",
      "14     99.56\n",
      "15     78.03\n",
      "16     49.62\n",
      "Name: mapped, dtype: float64\n"
     ]
    }
   ],
   "source": [
    "# Je n'affiche que les valeurs de la colonne \"mapped\"\n",
    "print(df_bam_stat['mapped'])"
   ]
  },
  {
   "cell_type": "code",
   "execution_count": 70,
   "id": "da8d2754-548d-494e-931e-d1e87d6334ac",
   "metadata": {},
   "outputs": [
    {
     "name": "stdout",
     "output_type": "stream",
     "text": [
      "\n",
      "######## BASIC STATS\n",
      " MAPPED\n",
      "\t%min : 49.62\t %max : 100.0\t %mean : 80.88764705882352\n"
     ]
    }
   ],
   "source": [
    "# J affiche la moyenne, min et max de cette colonne\n",
    "minimum = df_bam_stat[\"mapped\"].min()\n",
    "maximun = df_bam_stat[\"mapped\"].max()\n",
    "mean_flag = df_bam_stat[\"mapped\"].mean()\n",
    "\n",
    "print(\"\\n######## BASIC STATS\\n MAPPED\")       \n",
    "print(f\"\\t%min : {minimum}\\t %max : {maximun}\\t %mean : {mean_flag}\")\n"
   ]
  },
  {
   "cell_type": "code",
   "execution_count": 72,
   "id": "213d0cd9-2c76-40dd-8843-486b99af7c9e",
   "metadata": {},
   "outputs": [
    {
     "data": {
      "text/plain": [
       "<AxesSubplot:xlabel='sample', ylabel='paired'>"
      ]
     },
     "execution_count": 72,
     "metadata": {},
     "output_type": "execute_result"
    },
    {
     "data": {
      "image/png": "[encoded data removed]",
      "text/plain": [
       "<Figure size 1080x576 with 1 Axes>"
      ]
     },
     "metadata": {
      "needs_background": "light"
     },
     "output_type": "display_data"
    }
   ],
   "source": [
    "# Plot with seaborn\n",
    "import matplotlib.pyplot as plt\n",
    "import seaborn as sns\n",
    "\n",
    "plt.figure(figsize = (15,8))\n",
    "sns.scatterplot(x=\"sample\",y=\"paired\", data=df_bam_stat)"
   ]
  },
  {
   "cell_type": "code",
   "execution_count": 73,
   "id": "90db87ba-e830-4c7c-bd3c-5827cb43d637",
   "metadata": {},
   "outputs": [
    {
     "data": {
      "text/plain": [
       "Text(0, 0.5, 'Mapping percentage')"
      ]
     },
     "execution_count": 73,
     "metadata": {},
     "output_type": "execute_result"
    },
    {
     "data": {
      "image/png": "[encoded data removed]",
      "text/plain": [
       "<Figure size 1080x576 with 1 Axes>"
      ]
     },
     "metadata": {
      "needs_background": "light"
     },
     "output_type": "display_data"
    }
   ],
   "source": [
    "# Plot with seaborn\n",
    "import matplotlib.pyplot as plt\n",
    "import seaborn as sns\n",
    "\n",
    "plt.figure(figsize = (15,8))\n",
    "ax=sns.scatterplot(x=\"sample\",y=\"value\", hue='variable', data=pd.melt(df_bam_stat, 'sample'))\n",
    "ax.set_title(\"scatterplot from mapping using clones \")\n",
    "ax.set_xlabel(\"Clones\")\n",
    "ax.set_ylabel(\"Mapping percentage\")"
   ]
  },
  {
   "cell_type": "markdown",
   "id": "0e248d3c-c31e-4251-9192-260190cc5f62",
   "metadata": {},
   "source": [
    "### <span style=\"color: #4CACBC;\"> EXERCICE : DO THE SAME THING WITH MINIMAP2 RESULTS <a class=\"anchor\" id=\"minimap\"></span> "
   ]
  },
  {
   "cell_type": "code",
   "execution_count": null,
   "id": "8257e0ba-c7ae-4193-815a-9449dec2766f",
   "metadata": {},
   "outputs": [],
   "source": []
  },
  {
   "cell_type": "markdown",
   "id": "18a5bfca-2b96-49b1-bdc0-4d174f9f7c3e",
   "metadata": {},
   "source": [
    "## <span style=\"color:#006E7F\">__II. Get some basic stats from vcf files__ <a class=\"anchor\" id=\"statvcf\"></a></span> \n",
    "\n",
    "In this exercise, we are going to work with a REAL vcf from the IRIGIN project in rice.\n",
    "\n",
    "#### Firstly, download the directory that contains the vcf into the subdirectory `work` and decompress it\n",
    "link : https://itrop.ird.fr/sv-training/VCF_REAL.tar.gz"
   ]
  },
  {
   "cell_type": "code",
   "execution_count": null,
   "id": "d4120b59-c2e5-4c54-8787-a8f755fbbb70",
   "metadata": {},
   "outputs": [],
   "source": [
    "%%bash\n",
    "cd /home/jovyan/work/\n",
    "wget https://itrop.ird.fr/sv-training/VCF_REAL.tar.gz\n",
    "tar zxvf VCF_REAL.tar.gz\n",
    "rm VCF_REAL.tar.gz"
   ]
  },
  {
   "cell_type": "markdown",
   "id": "304d9ab0-294c-4307-8cb7-a14154fb10cb",
   "metadata": {},
   "source": [
    "### <span style=\"color: #4CACBC;\">First go into the directory that contains vcf file  </span> \n",
    "\n",
    "* List the content of this directory\n"
   ]
  },
  {
   "cell_type": "code",
   "execution_count": 129,
   "id": "d0c0a6de-6fc7-48bf-ab3a-278590402d1c",
   "metadata": {},
   "outputs": [
    {
     "name": "stdout",
     "output_type": "stream",
     "text": [
      "/home/jovyan/work/VCF_REAL\n"
     ]
    }
   ],
   "source": [
    "cd /home/jovyan/work/VCF_REAL/"
   ]
  },
  {
   "cell_type": "code",
   "execution_count": 130,
   "id": "33b3039d-ef19-4766-af89-8e831266fca1",
   "metadata": {},
   "outputs": [
    {
     "name": "stdout",
     "output_type": "stream",
     "text": [
      "AF2.frq             \u001b[0m\u001b[01;32mgenome-Osativa-MSU7.dict\u001b[0m*    rice-CHR6.200000.vcf.gz.tbi\n",
      "AF.frq              \u001b[01;32mgenome-Osativa-MSU7.fa\u001b[0m*      rice-CHR6.200000.vcf.stat\n",
      "\u001b[01;32mall-gene.gff3\u001b[0m*      \u001b[01;32mgenome-Osativa-MSU7.fa.fai\u001b[0m*  VCF_REAL.vcf.stat\n",
      "depthi.idepth       qual.lqual\n",
      "depths.ldepth.mean  rice-CHR6.200000.vcf.gz\n"
     ]
    }
   ],
   "source": [
    "ls"
   ]
  },
  {
   "cell_type": "markdown",
   "id": "aa5e1b2b-82f7-4710-b84f-06545badbfa9",
   "metadata": {},
   "source": [
    "### <span style=\"color: #4CACBC;\">Count the number of variants with `bcftools stat`<a class=\"anchor\" id=\"bcftools\"></a></span> \n",
    "\n",
    "* run the bcftools stats on the vcf file and save the result into the file `rice-CHR6.200000.vcf.stat`\n",
    "* check that the file have been correctly created and display the 35 first lines of this file\n",
    "* How many samples were used for this SNP analysis ?\n",
    "* How many SNPs were detected ?"
   ]
  },
  {
   "cell_type": "code",
   "execution_count": 81,
   "id": "e005df0c-3ac1-4c29-930e-8c4cda3036a4",
   "metadata": {},
   "outputs": [],
   "source": [
    "%%bash\n",
    "bcftools stats rice-CHR6.200000.vcf.gz >  rice-CHR6.200000.vcf.stat"
   ]
  },
  {
   "cell_type": "code",
   "execution_count": 84,
   "id": "6350543e-0c09-42fa-a4ac-9bb93d03f711",
   "metadata": {},
   "outputs": [
    {
     "name": "stdout",
     "output_type": "stream",
     "text": [
      "# This file was produced by bcftools stats (1.10.2+htslib-1.10.2-3) and can be plotted using plot-vcfstats.\n",
      "# The command line was:\tbcftools stats  rice-CHR6.200000.vcf.gz\n",
      "#\n",
      "# Definition of sets:\n",
      "# ID\t[2]id\t[3]tab-separated file names\n",
      "ID\t0\trice-CHR6.200000.vcf.gz\n",
      "# SN, Summary numbers:\n",
      "#   number of records   .. number of data rows in the VCF\n",
      "#   number of no-ALTs   .. reference-only sites, ALT is either \".\" or identical to REF\n",
      "#   number of SNPs      .. number of rows with a SNP\n",
      "#   number of MNPs      .. number of rows with a MNP, such as CC>TT\n",
      "#   number of indels    .. number of rows with an indel\n",
      "#   number of others    .. number of rows with other type, for example a symbolic allele or\n",
      "#                          a complex substitution, such as ACT>TCGA\n",
      "#   number of multiallelic sites     .. number of rows with multiple alternate alleles\n",
      "#   number of multiallelic SNP sites .. number of rows with multiple alternate alleles, all SNPs\n",
      "# \n",
      "#   Note that rows containing multiple types will be counted multiple times, in each\n",
      "#   counter. For example, a row with a SNP and an indel increments both the SNP and\n",
      "#   the indel counter.\n",
      "# \n",
      "# SN\t[2]id\t[3]key\t[4]value\n",
      "SN\t0\tnumber of samples:\t250\n",
      "SN\t0\tnumber of records:\t200000\n",
      "SN\t0\tnumber of no-ALTs:\t0\n",
      "SN\t0\tnumber of SNPs:\t176791\n",
      "SN\t0\tnumber of MNPs:\t0\n",
      "SN\t0\tnumber of indels:\t23209\n",
      "SN\t0\tnumber of others:\t0\n",
      "SN\t0\tnumber of multiallelic sites:\t6973\n",
      "SN\t0\tnumber of multiallelic SNP sites:\t4411\n",
      "# TSTV, transitions/transversions:\n",
      "# TSTV\t[2]id\t[3]ts\t[4]tv\t[5]ts/tv\t[6]ts (1st ALT)\t[7]tv (1st ALT)\t[8]ts/tv (1st ALT)\n",
      "TSTV\t0\t123165\t58101\t2.12\t121462\t55329\t2.20\n",
      "# SiS, Singleton stats:\n"
     ]
    }
   ],
   "source": [
    "%%bash\n",
    "head -n 35 rice-CHR6.200000.vcf.stat"
   ]
  },
  {
   "cell_type": "markdown",
   "id": "74b53089-03fd-4d0a-a710-712acb2c8268",
   "metadata": {},
   "source": [
    "### <span style=\"color: #4CACBC;\">Generating statistics from a VCF to determine how to set filters on it<a class=\"anchor\" id=\"vcffilters\"></a></span> `vcftools`\n",
    "\n",
    "We will generate more statistics from a VCF using vcftools (LINK MANUAL), a very useful and fast program for handling vcf files \n",
    "to easily calculate these statistics in order to better define filters we will apply and to get an idea of how to set such filtering thresholds. \n",
    "\n",
    "The main information we will consider are:\n",
    "* Depth: Usually, we filter SNP with a minimum and maximum depth. We use a minimum depth cutoffs to remove false positive calls and to keep higher quality calls too. \n",
    "A maximum cut off allow to remove regions with very, very high read depths such as repetitive regions.\n",
    "* Quality Genotype quality : With this filter, we should not trust any genotype with a Phred score below 20 which suggests a less than 99% accuracy.\n",
    "* Minor allele frequency MAF can cause big problems with SNP calls - and also inflate statistical estimates downstream. Ideally you want an idea of the distribution of your \n",
    "allelic frequencies but 0.05 to 0.10 is a reasonable cut-off. You should keep in mind however that some analyses, particularly demographic inference can be biased by MAF thresholds.\n",
    "* Missing data How much missing data are you willing to tolerate? It will depend on the study but typically any site with >25% missing data should be dropped.\n",
    "* biallelic, heterozygosity...\n",
    "\n",
    "In this training, we will just display quality and depth distribution... but you should do on each value filterd.\n",
    "\n",
    "#### <span style=\"color: #4CACBC;\">Mean depth per individual and per site<a class=\"anchor\" id=\"depthvcf\"></a></span> `--depth, --site-mean-depth`\n",
    "\n",
    "* run vcftool with the correct options\n",
    "* check that the files have been created and display the first lines"
   ]
  },
  {
   "cell_type": "code",
   "execution_count": null,
   "id": "f421cbdc-d195-4050-9b7e-a4dbb4b357ad",
   "metadata": {},
   "outputs": [],
   "source": [
    "%%bash\n",
    "vcftools --gzvcf rice-CHR6.200000.vcf.gz --depth --out depthi\n",
    "vcftools --gzvcf rice-CHR6.200000.vcf.gz --site-mean-depth --out depths"
   ]
  },
  {
   "cell_type": "code",
   "execution_count": 86,
   "id": "fbaae264-89ce-4f6d-ac2c-d304521f9447",
   "metadata": {},
   "outputs": [
    {
     "name": "stdout",
     "output_type": "stream",
     "text": [
      "total 252876\n",
      "-rw-r--r-- 1 jovyan users     24891 Jun 19 16:39 rice-CHR6.200000.vcf.gz.tbi\n",
      "-rw-r--r-- 1 jovyan users 253125332 Jun 19 16:39 rice-CHR6.200000.vcf.gz\n",
      "-rw-r--r-- 1 jovyan users         0 Jun 19 20:30 VCF_REAL.vcf.stat\n",
      "-rw-r--r-- 1 jovyan users     50465 Jun 19 20:31 rice-CHR6.200000.vcf.stat\n",
      "-rw-r--r-- 1 jovyan users      4498 Jun 19 20:36 depthi.idepth\n",
      "-rw-r--r-- 1 jovyan users   5720362 Jun 19 20:37 depths.ldepth.mean\n",
      "==> depthi.idepth <==\n",
      "INDV\tN_SITES\tMEAN_DEPTH\n",
      "AA\t162582\t25.2283\n",
      "AB\t159135\t21.2978\n",
      "AC\t160124\t21.902\n",
      "AD\t163847\t25.1102\n",
      "AE\t159110\t19.0267\n",
      "AF\t165415\t33.5353\n",
      "AG\t161801\t24.3954\n",
      "AH\t163295\t28.4362\n",
      "AI\t163854\t28.6535\n",
      "\n",
      "==> depths.ldepth.mean <==\n",
      "CHROM\tPOS\tMEAN_DEPTH\tVAR_DEPTH\n",
      "Chr6\t1226\t1.65455\t0.711785\n",
      "Chr6\t1254\t2.0625\t2.31516\n",
      "Chr6\t1268\t2.15217\t3.55411\n",
      "Chr6\t1314\t2.42857\t3.43915\n",
      "Chr6\t1589\t1.25\t0.25\n",
      "Chr6\t1635\t1.42857\t0.285714\n",
      "Chr6\t1778\t8.25\t8.5\n",
      "Chr6\t1929\t1\t0\n",
      "Chr6\t2102\t9.55556\t11.9085\n"
     ]
    }
   ],
   "source": [
    "%%bash\n",
    "ls -lrt\n",
    "head *depth*"
   ]
  },
  {
   "cell_type": "markdown",
   "id": "a9641f84-af45-4137-8f60-6016edd56596",
   "metadata": {},
   "source": [
    "#### <span style=\"color: #4CACBC;\">Extracting quality per site<a class=\"anchor\" id=\"depthvcf\"></a></span>  `--site-quality`\n",
    "\n",
    "* run vcftool with the correct options\n",
    "* check that the files have been created and display the first lines"
   ]
  },
  {
   "cell_type": "code",
   "execution_count": null,
   "id": "d16f68ef-956a-4385-917b-ad8285965021",
   "metadata": {},
   "outputs": [],
   "source": [
    "%%bash\n",
    "vcftools --gzvcf rice-CHR6.200000.vcf.gz  --site-quality --out qual"
   ]
  },
  {
   "cell_type": "code",
   "execution_count": 88,
   "id": "861692d3-23ed-4848-893a-77981a00fef2",
   "metadata": {},
   "outputs": [
    {
     "name": "stdout",
     "output_type": "stream",
     "text": [
      "total 256964\n",
      "-rw-r--r-- 1 jovyan users     24891 Jun 19 16:39 rice-CHR6.200000.vcf.gz.tbi\n",
      "-rw-r--r-- 1 jovyan users 253125332 Jun 19 16:39 rice-CHR6.200000.vcf.gz\n",
      "-rw-r--r-- 1 jovyan users         0 Jun 19 20:30 VCF_REAL.vcf.stat\n",
      "-rw-r--r-- 1 jovyan users     50465 Jun 19 20:31 rice-CHR6.200000.vcf.stat\n",
      "-rw-r--r-- 1 jovyan users      4498 Jun 19 20:36 depthi.idepth\n",
      "-rw-r--r-- 1 jovyan users   5720362 Jun 19 20:37 depths.ldepth.mean\n",
      "-rw-r--r-- 1 jovyan users   4183898 Jun 19 20:41 qual.lqual\n",
      "CHROM\tPOS\tQUAL\n",
      "Chr6\t1226\t1489.9\n",
      "Chr6\t1254\t860.98\n",
      "Chr6\t1268\t712.14\n",
      "Chr6\t1314\t402.88\n",
      "Chr6\t1589\t94.92\n",
      "Chr6\t1635\t196.87\n",
      "Chr6\t1778\t161.71\n",
      "Chr6\t1929\t1000.64\n",
      "Chr6\t2102\t198.31\n"
     ]
    }
   ],
   "source": [
    "%%bash\n",
    "ls -lrt\n",
    "head *qual"
   ]
  },
  {
   "cell_type": "markdown",
   "id": "5d6e6f7d-37f0-48c7-994c-0f624d957a43",
   "metadata": {},
   "source": [
    "\n",
    "__Calculate allele frequency__\n",
    "\n",
    "* --freq2 : outputs the frequencies without information about the alleles\n",
    "* --freq would return their identity. \n",
    "* --max-alleles 2 to exclude sites that have more than two alleles."
   ]
  },
  {
   "cell_type": "code",
   "execution_count": 118,
   "id": "c8d02f46-2fb0-462a-9077-49f1aa614f66",
   "metadata": {},
   "outputs": [
    {
     "name": "stderr",
     "output_type": "stream",
     "text": [
      "\n",
      "VCFtools - 0.1.16\n",
      "(C) Adam Auton and Anthony Marcketta 2009\n",
      "\n",
      "Parameters as interpreted:\n",
      "\t--gzvcf rice-CHR6.200000.vcf.gz\n",
      "\t--max-alleles 2\n",
      "\t--freq\n",
      "\t--out AF\n",
      "\n",
      "Using zlib version: 1.2.11\n",
      "Warning: Expected at least 2 parts in FORMAT entry: ID=PL,Number=G,Type=Integer,Description=\"Normalized, Phred-scaled likelihoods for genotypes as defined in the VCF specification\">\n",
      "Warning: Expected at least 2 parts in INFO entry: ID=AC,Number=A,Type=Integer,Description=\"Allele count in genotypes, for each ALT allele, in the same order as listed\">\n",
      "Warning: Expected at least 2 parts in INFO entry: ID=AC,Number=A,Type=Integer,Description=\"Allele count in genotypes, for each ALT allele, in the same order as listed\">\n",
      "Warning: Expected at least 2 parts in INFO entry: ID=AF,Number=A,Type=Float,Description=\"Allele Frequency, for each ALT allele, in the same order as listed\">\n",
      "Warning: Expected at least 2 parts in INFO entry: ID=AF,Number=A,Type=Float,Description=\"Allele Frequency, for each ALT allele, in the same order as listed\">\n",
      "Warning: Expected at least 2 parts in INFO entry: ID=MLEAC,Number=A,Type=Integer,Description=\"Maximum likelihood expectation (MLE) for the allele counts (not necessarily the same as the AC), for each ALT allele, in the same order as listed\">\n",
      "Warning: Expected at least 2 parts in INFO entry: ID=MLEAC,Number=A,Type=Integer,Description=\"Maximum likelihood expectation (MLE) for the allele counts (not necessarily the same as the AC), for each ALT allele, in the same order as listed\">\n",
      "Warning: Expected at least 2 parts in INFO entry: ID=MLEAF,Number=A,Type=Float,Description=\"Maximum likelihood expectation (MLE) for the allele frequency (not necessarily the same as the AF), for each ALT allele, in the same order as listed\">\n",
      "Warning: Expected at least 2 parts in INFO entry: ID=MLEAF,Number=A,Type=Float,Description=\"Maximum likelihood expectation (MLE) for the allele frequency (not necessarily the same as the AF), for each ALT allele, in the same order as listed\">\n",
      "Warning: Expected at least 2 parts in INFO entry: ID=RPA,Number=.,Type=Integer,Description=\"Number of times tandem repeat unit is repeated, for each allele (including reference)\">\n",
      "After filtering, kept 250 out of 250 Individuals\n",
      "Outputting Frequency Statistics...\n",
      "After filtering, kept 193027 out of a possible 200000 Sites\n",
      "Run Time = 14.00 seconds\n",
      "\n",
      "VCFtools - 0.1.16\n",
      "(C) Adam Auton and Anthony Marcketta 2009\n",
      "\n",
      "Parameters as interpreted:\n",
      "\t--gzvcf rice-CHR6.200000.vcf.gz\n",
      "\t--max-alleles 2\n",
      "\t--freq2\n",
      "\t--out AF2\n",
      "\n",
      "Using zlib version: 1.2.11\n",
      "Warning: Expected at least 2 parts in FORMAT entry: ID=PL,Number=G,Type=Integer,Description=\"Normalized, Phred-scaled likelihoods for genotypes as defined in the VCF specification\">\n",
      "Warning: Expected at least 2 parts in INFO entry: ID=AC,Number=A,Type=Integer,Description=\"Allele count in genotypes, for each ALT allele, in the same order as listed\">\n",
      "Warning: Expected at least 2 parts in INFO entry: ID=AC,Number=A,Type=Integer,Description=\"Allele count in genotypes, for each ALT allele, in the same order as listed\">\n",
      "Warning: Expected at least 2 parts in INFO entry: ID=AF,Number=A,Type=Float,Description=\"Allele Frequency, for each ALT allele, in the same order as listed\">\n",
      "Warning: Expected at least 2 parts in INFO entry: ID=AF,Number=A,Type=Float,Description=\"Allele Frequency, for each ALT allele, in the same order as listed\">\n",
      "Warning: Expected at least 2 parts in INFO entry: ID=MLEAC,Number=A,Type=Integer,Description=\"Maximum likelihood expectation (MLE) for the allele counts (not necessarily the same as the AC), for each ALT allele, in the same order as listed\">\n",
      "Warning: Expected at least 2 parts in INFO entry: ID=MLEAC,Number=A,Type=Integer,Description=\"Maximum likelihood expectation (MLE) for the allele counts (not necessarily the same as the AC), for each ALT allele, in the same order as listed\">\n",
      "Warning: Expected at least 2 parts in INFO entry: ID=MLEAF,Number=A,Type=Float,Description=\"Maximum likelihood expectation (MLE) for the allele frequency (not necessarily the same as the AF), for each ALT allele, in the same order as listed\">\n",
      "Warning: Expected at least 2 parts in INFO entry: ID=MLEAF,Number=A,Type=Float,Description=\"Maximum likelihood expectation (MLE) for the allele frequency (not necessarily the same as the AF), for each ALT allele, in the same order as listed\">\n",
      "Warning: Expected at least 2 parts in INFO entry: ID=RPA,Number=.,Type=Integer,Description=\"Number of times tandem repeat unit is repeated, for each allele (including reference)\">\n",
      "After filtering, kept 250 out of 250 Individuals\n",
      "Outputting Frequency Statistics...\n",
      "After filtering, kept 193027 out of a possible 200000 Sites\n",
      "Run Time = 15.00 seconds\n"
     ]
    },
    {
     "name": "stdout",
     "output_type": "stream",
     "text": [
      "total 270048\n",
      "-rw-r--r-- 1 jovyan users     24891 Jun 19 16:39 rice-CHR6.200000.vcf.gz.tbi\n",
      "-rw-r--r-- 1 jovyan users 253125332 Jun 19 16:39 rice-CHR6.200000.vcf.gz\n",
      "-rw-r--r-- 1 jovyan users         0 Jun 19 20:30 VCF_REAL.vcf.stat\n",
      "-rw-r--r-- 1 jovyan users     50465 Jun 19 20:31 rice-CHR6.200000.vcf.stat\n",
      "-rw-r--r-- 1 jovyan users      4498 Jun 19 20:36 depthi.idepth\n",
      "-rw-r--r-- 1 jovyan users   5720362 Jun 19 20:37 depths.ldepth.mean\n",
      "-rw-r--r-- 1 jovyan users   4183898 Jun 19 20:41 qual.lqual\n",
      "-rw-r--r-- 1 jovyan users   7118360 Jun 20 06:10 AF.frq\n",
      "-rw-r--r-- 1 jovyan users   6276310 Jun 20 06:11 AF2.frq\n",
      "==> AF2.frq <==\n",
      "CHROM\tPOS\tN_ALLELES\tN_CHR\t{FREQ}\n",
      "Chr6\t1226\t2\t110\t0\t1\n",
      "Chr6\t1254\t2\t96\t0.177083\t0.822917\n",
      "Chr6\t1268\t2\t92\t0.25\t0.75\n",
      "Chr6\t1314\t2\t56\t0.410714\t0.589286\n",
      "Chr6\t1589\t2\t8\t0\t1\n",
      "Chr6\t1635\t2\t14\t0\t1\n",
      "Chr6\t1778\t2\t16\t0.25\t0.75\n",
      "Chr6\t1929\t2\t24\t0.25\t0.75\n",
      "Chr6\t2102\t2\t36\t0.583333\t0.416667\n",
      "\n",
      "==> AF.frq <==\n",
      "CHROM\tPOS\tN_ALLELES\tN_CHR\t{ALLELE:FREQ}\n",
      "Chr6\t1226\t2\t110\tC:0\tG:1\n",
      "Chr6\t1254\t2\t96\tC:0.177083\tT:0.822917\n",
      "Chr6\t1268\t2\t92\tT:0.25\tC:0.75\n",
      "Chr6\t1314\t2\t56\tA:0.410714\tG:0.589286\n",
      "Chr6\t1589\t2\t8\tT:0\tC:1\n",
      "Chr6\t1635\t2\t14\tC:0\tT:1\n",
      "Chr6\t1778\t2\t16\tC:0.25\tA:0.75\n",
      "Chr6\t1929\t2\t24\tATCGTTGTCG:0.25\tA:0.75\n",
      "Chr6\t2102\t2\t36\tC:0.583333\tT:0.416667\n"
     ]
    }
   ],
   "source": [
    "%%bash\n",
    "vcftools --gzvcf rice-CHR6.200000.vcf.gz --freq --out AF --max-alleles 2\n",
    "vcftools --gzvcf rice-CHR6.200000.vcf.gz --freq2 --out AF2 --max-alleles 2\n",
    "ls -lrt\n",
    "head *.frq"
   ]
  },
  {
   "cell_type": "markdown",
   "id": "2de89286-b5c4-4c32-964e-45aca7ae12bc",
   "metadata": {},
   "source": [
    "### <span style=\"color: #4CACBC;\">Generating density plot QUAL & DEPTH<a class=\"anchor\" id=\"vcfplot\"></a></span> \n",
    "\n",
    "#### <span style=\"color: #4CACBC;\">Plotting quality per site<a class=\"anchor\" id=\"qualplot\"></a></span> "
   ]
  },
  {
   "cell_type": "code",
   "execution_count": 119,
   "id": "307877db-c85c-47de-a16f-6c38ab9e3e70",
   "metadata": {},
   "outputs": [
    {
     "name": "stdout",
     "output_type": "stream",
     "text": [
      "       CHROM       POS       QUAL\n",
      "0       Chr6      1226    1489.90\n",
      "1       Chr6      1254     860.98\n",
      "2       Chr6      1268     712.14\n",
      "3       Chr6      1314     402.88\n",
      "4       Chr6      1589      94.92\n",
      "...      ...       ...        ...\n",
      "199995  Chr6  31247304     642.96\n",
      "199996  Chr6  31247496     209.98\n",
      "199997  Chr6  31247528     105.57\n",
      "199998  Chr6  31247549  131262.00\n",
      "199999  Chr6  31247577      72.38\n",
      "\n",
      "[200000 rows x 3 columns]\n"
     ]
    },
    {
     "data": {
      "text/plain": [
       "count    2.000000e+05\n",
       "mean     5.235163e+04\n",
       "std      9.891222e+04\n",
       "min      3.000000e+01\n",
       "25%      3.927700e+02\n",
       "50%      2.598330e+03\n",
       "75%      4.708460e+04\n",
       "max      1.678550e+06\n",
       "Name: QUAL, dtype: float64"
      ]
     },
     "execution_count": 119,
     "metadata": {},
     "output_type": "execute_result"
    }
   ],
   "source": [
    "qual_file=\"qual.lqual\"\n",
    "df_qual = pd.read_csv(qual_file, index_col=False, sep=\"\\t\")\n",
    "print(df_qual)\n",
    "df_qual['QUAL'].describe()"
   ]
  },
  {
   "cell_type": "code",
   "execution_count": 115,
   "id": "c3dc4b15-7c35-4b40-acb7-30aeeece268b",
   "metadata": {},
   "outputs": [
    {
     "data": {
      "text/plain": [
       "<AxesSubplot:xlabel='QUAL', ylabel='Density'>"
      ]
     },
     "execution_count": 115,
     "metadata": {},
     "output_type": "execute_result"
    },
    {
     "data": {
      "image/png": "[encoded data removed]",
      "text/plain": [
       "<Figure size 432x288 with 1 Axes>"
      ]
     },
     "metadata": {
      "needs_background": "light"
     },
     "output_type": "display_data"
    }
   ],
   "source": [
    "# Plot with seaborn\n",
    "import matplotlib.pyplot as plt\n",
    "import seaborn as sns\n",
    "\n",
    "sns.kdeplot(x=\"QUAL\", data=df_qual)"
   ]
  },
  {
   "cell_type": "code",
   "execution_count": 122,
   "id": "2fed282d-9cc3-403b-b627-1f73e6047d4c",
   "metadata": {},
   "outputs": [
    {
     "data": {
      "text/plain": [
       "Text(0, 0.5, 'PUT A Y-AXIS LABEL')"
      ]
     },
     "execution_count": 122,
     "metadata": {},
     "output_type": "execute_result"
    },
    {
     "data": {
      "image/png": "[encoded data removed]",
      "text/plain": [
       "<Figure size 1080x576 with 1 Axes>"
      ]
     },
     "metadata": {
      "needs_background": "light"
     },
     "output_type": "display_data"
    }
   ],
   "source": [
    "# Plot with seaborn\n",
    "import matplotlib.pyplot as plt\n",
    "import seaborn as sns\n",
    "\n",
    "\n",
    "plt.figure(figsize = (15,8))\n",
    "ax=sns.kdeplot(x=\"QUAL\", data=df_qual[df_qual.QUAL<10000])\n",
    "ax.set_title(\"PUT A TITLE\")\n",
    "ax.set_xlabel(\"PUT A X-AXIS LABEL\")\n",
    "ax.set_ylabel(\"PUT A Y-AXIS LABEL\")"
   ]
  },
  {
   "cell_type": "markdown",
   "id": "ad84b027-b453-44d8-8f26-22bf372e1e53",
   "metadata": {},
   "source": [
    "#### <span style=\"color: #4CACBC;\">Plotting Mean depth per site<a class=\"anchor\" id=\"depthplot\"></a></span> "
   ]
  },
  {
   "cell_type": "code",
   "execution_count": 105,
   "id": "f4c5181c-f1fb-42b3-86a2-ddfc93218cbe",
   "metadata": {},
   "outputs": [
    {
     "name": "stdout",
     "output_type": "stream",
     "text": [
      "       CHROM       POS  MEAN_DEPTH   VAR_DEPTH\n",
      "0       Chr6      1226     1.65455    0.711785\n",
      "1       Chr6      1254     2.06250    2.315160\n",
      "2       Chr6      1268     2.15217    3.554110\n",
      "3       Chr6      1314     2.42857    3.439150\n",
      "4       Chr6      1589     1.25000    0.250000\n",
      "...      ...       ...         ...         ...\n",
      "199995  Chr6  31247304    10.80470  115.765000\n",
      "199996  Chr6  31247496     5.97674   31.632300\n",
      "199997  Chr6  31247528     7.35714   28.979300\n",
      "199998  Chr6  31247549    87.56400  946.022000\n",
      "199999  Chr6  31247577   248.94800    1.093670\n",
      "\n",
      "[200000 rows x 4 columns]\n"
     ]
    },
    {
     "data": {
      "text/html": [
       "<div>\n",
       "<style scoped>\n",
       "    .dataframe tbody tr th:only-of-type {\n",
       "        vertical-align: middle;\n",
       "    }\n",
       "\n",
       "    .dataframe tbody tr th {\n",
       "        vertical-align: top;\n",
       "    }\n",
       "\n",
       "    .dataframe thead th {\n",
       "        text-align: right;\n",
       "    }\n",
       "</style>\n",
       "<table border=\"1\" class=\"dataframe\">\n",
       "  <thead>\n",
       "    <tr style=\"text-align: right;\">\n",
       "      <th></th>\n",
       "      <th>POS</th>\n",
       "      <th>MEAN_DEPTH</th>\n",
       "      <th>VAR_DEPTH</th>\n",
       "    </tr>\n",
       "  </thead>\n",
       "  <tbody>\n",
       "    <tr>\n",
       "      <th>count</th>\n",
       "      <td>2.000000e+05</td>\n",
       "      <td>200000.000000</td>\n",
       "      <td>199820.000000</td>\n",
       "    </tr>\n",
       "    <tr>\n",
       "      <th>mean</th>\n",
       "      <td>1.564023e+07</td>\n",
       "      <td>22.808144</td>\n",
       "      <td>86.517654</td>\n",
       "    </tr>\n",
       "    <tr>\n",
       "      <th>std</th>\n",
       "      <td>8.301304e+06</td>\n",
       "      <td>20.553295</td>\n",
       "      <td>214.784320</td>\n",
       "    </tr>\n",
       "    <tr>\n",
       "      <th>min</th>\n",
       "      <td>1.226000e+03</td>\n",
       "      <td>1.000000</td>\n",
       "      <td>0.000000</td>\n",
       "    </tr>\n",
       "    <tr>\n",
       "      <th>25%</th>\n",
       "      <td>9.194011e+06</td>\n",
       "      <td>8.254960</td>\n",
       "      <td>18.035850</td>\n",
       "    </tr>\n",
       "    <tr>\n",
       "      <th>50%</th>\n",
       "      <td>1.546369e+07</td>\n",
       "      <td>22.060000</td>\n",
       "      <td>55.759600</td>\n",
       "    </tr>\n",
       "    <tr>\n",
       "      <th>75%</th>\n",
       "      <td>2.239793e+07</td>\n",
       "      <td>32.196000</td>\n",
       "      <td>83.481925</td>\n",
       "    </tr>\n",
       "    <tr>\n",
       "      <th>max</th>\n",
       "      <td>3.124758e+07</td>\n",
       "      <td>250.000000</td>\n",
       "      <td>11162.600000</td>\n",
       "    </tr>\n",
       "  </tbody>\n",
       "</table>\n",
       "</div>"
      ],
      "text/plain": [
       "                POS     MEAN_DEPTH      VAR_DEPTH\n",
       "count  2.000000e+05  200000.000000  199820.000000\n",
       "mean   1.564023e+07      22.808144      86.517654\n",
       "std    8.301304e+06      20.553295     214.784320\n",
       "min    1.226000e+03       1.000000       0.000000\n",
       "25%    9.194011e+06       8.254960      18.035850\n",
       "50%    1.546369e+07      22.060000      55.759600\n",
       "75%    2.239793e+07      32.196000      83.481925\n",
       "max    3.124758e+07     250.000000   11162.600000"
      ]
     },
     "execution_count": 105,
     "metadata": {},
     "output_type": "execute_result"
    }
   ],
   "source": [
    "depth_file=\"depths.ldepth.mean\"\n",
    "df_depth = pd.read_csv(depth_file, index_col=False, sep=\"\\t\")\n",
    "print(df_depth)\n",
    "df_depth.describe()"
   ]
  },
  {
   "cell_type": "code",
   "execution_count": 125,
   "id": "2aacd4ac-01d3-4d99-b64e-c9a68754211c",
   "metadata": {},
   "outputs": [
    {
     "data": {
      "text/plain": [
       "Text(0, 0.5, 'PUT A Y-AXIS LABEL')"
      ]
     },
     "execution_count": 125,
     "metadata": {},
     "output_type": "execute_result"
    },
    {
     "data": {
      "image/png": "[encoded data removed]",
      "text/plain": [
       "<Figure size 432x288 with 1 Axes>"
      ]
     },
     "metadata": {
      "needs_background": "light"
     },
     "output_type": "display_data"
    }
   ],
   "source": [
    "# Plot with seaborn\n",
    "import matplotlib.pyplot as plt\n",
    "import seaborn as sns\n",
    "\n",
    "ax=sns.kdeplot(x=\"MEAN_DEPTH\", data=df_depth)\n",
    "ax.set_xlim(1, 70)\n",
    "ax.set_title(\"PUT A TITLE\")\n",
    "ax.set_xlabel(\"PUT A X-AXIS LABEL\")\n",
    "ax.set_ylabel(\"PUT A Y-AXIS LABEL\")"
   ]
  },
  {
   "cell_type": "code",
   "execution_count": 126,
   "id": "5ddfc616-e990-4fce-a0bb-2d534445e8e8",
   "metadata": {},
   "outputs": [
    {
     "data": {
      "text/plain": [
       "Text(0, 0.5, 'PUT A Y-AXIS LABEL')"
      ]
     },
     "execution_count": 126,
     "metadata": {},
     "output_type": "execute_result"
    },
    {
     "data": {
      "image/png": "[encoded data removed]",
      "text/plain": [
       "<Figure size 432x288 with 1 Axes>"
      ]
     },
     "metadata": {
      "needs_background": "light"
     },
     "output_type": "display_data"
    }
   ],
   "source": [
    "# Plot with seaborn\n",
    "import matplotlib.pyplot as plt\n",
    "import seaborn as sns\n",
    "\n",
    "ax=sns.kdeplot(x=\"MEAN_DEPTH\", data=df_depth[df_depth.MEAN_DEPTH<100])\n",
    "ax.set_xlim(1, 70)\n",
    "ax.set_title(\"PUT A TITLE\")\n",
    "ax.set_xlabel(\"PUT A X-AXIS LABEL\")\n",
    "ax.set_ylabel(\"PUT A Y-AXIS LABEL\")"
   ]
  },
  {
   "cell_type": "markdown",
   "id": "788df901-4e83-4102-95c5-c097e6d72171",
   "metadata": {},
   "source": [
    "### <span style=\"color: #4CACBC;\">III - FILTERING VCF <a class=\"anchor\" id=\"vcffiltering\"></a></span> \n"
   ]
  },
  {
   "cell_type": "markdown",
   "id": "0ab0fde3-23e2-46c9-a54a-cd84c6960fc5",
   "metadata": {},
   "source": [
    "#### Which filters ?\n",
    "\n",
    "Here, we will apply on the vcf the following filters :\n",
    "\n",
    "* QUAL > 3000\n",
    "* DP > 10 and DP < 20000\n",
    "* Less than 3 SNPs into a window of 10pb\n",
    "\n",
    "The threshodl of each filter depends on the SNP analysis (sample number, sequencing depth).\n",
    "\n",
    "In a second step, according the following analysys (eg: population genomics), usually, we will apply other filters such as :\n",
    "* removing missing data\n",
    "* keeping only biallellic\n",
    "* heterozygosity\n",
    "    \n",
    "#### Select only the SNPs (and remove the INDELs) - `gatk variantFiltration`\n",
    "* Filter vcf to keep only SNPs\n",
    "* Check that the new vcf has been created\n",
    "* Get the number of polymorphisms in the new vcf file "
   ]
  },
  {
   "cell_type": "code",
   "execution_count": 142,
   "id": "e0c297d1-12f7-425a-8f80-6d36f823924d",
   "metadata": {},
   "outputs": [
    {
     "name": "stderr",
     "output_type": "stream",
     "text": [
      "Using GATK jar /opt/conda/share/gatk4-4.2.6.1-1/gatk-package-4.2.6.1-local.jar\n",
      "Running:\n",
      "    java -Dsamjdk.use_async_io_read_samtools=false -Dsamjdk.use_async_io_write_samtools=true -Dsamjdk.use_async_io_write_tribble=false -Dsamjdk.compression_level=2 -Xmx8G -Xms8G -jar /opt/conda/share/gatk4-4.2.6.1-1/gatk-package-4.2.6.1-local.jar SelectVariants -R genome-Osativa-MSU7.fa -V rice-CHR6.200000.vcf.gz -select-type SNP -O rice-CHR6.200000.onlySNP.vcf\n",
      "06:45:21.252 INFO  NativeLibraryLoader - Loading libgkl_compression.so from jar:file:/opt/conda/share/gatk4-4.2.6.1-1/gatk-package-4.2.6.1-local.jar!/com/intel/gkl/native/libgkl_compression.so\n",
      "06:45:21.420 INFO  SelectVariants - ------------------------------------------------------------\n",
      "06:45:21.420 INFO  SelectVariants - The Genome Analysis Toolkit (GATK) v4.2.6.1\n",
      "06:45:21.420 INFO  SelectVariants - For support and documentation go to https://software.broadinstitute.org/gatk/\n",
      "06:45:21.425 INFO  SelectVariants - Initializing engine\n",
      "06:45:21.631 INFO  FeatureManager - Using codec VCFCodec to read file file:///home/jovyan/work/VCF_REAL/rice-CHR6.200000.vcf.gz\n",
      "06:45:21.667 INFO  SelectVariants - Done initializing engine\n",
      "06:45:21.706 INFO  ProgressMeter - Starting traversal\n",
      "06:45:21.707 INFO  ProgressMeter -        Current Locus  Elapsed Minutes    Variants Processed  Variants/Minute\n",
      "06:45:31.718 INFO  ProgressMeter -        Chr6:24667171              0.2                147000         881118.9\n",
      "06:45:33.810 WARN  IntelInflater - Zero Bytes Written : 0\n",
      "06:45:33.811 INFO  ProgressMeter -        Chr6:31012502              0.2                176791         876359.9\n",
      "06:45:33.812 INFO  ProgressMeter - Traversal complete. Processed 176791 total variants in 0.2 minutes.\n",
      "06:45:33.828 INFO  SelectVariants - Shutting down engine\n",
      "[June 20, 2022 at 6:45:33 AM UTC] org.broadinstitute.hellbender.tools.walkers.variantutils.SelectVariants done. Elapsed time: 0.21 minutes.\n",
      "Runtime.totalMemory()=8589934592\n"
     ]
    }
   ],
   "source": [
    "%%bash\n",
    "gatk SelectVariants --java-options \"-Xmx8G -Xms8G\" -R genome-Osativa-MSU7.fa -V rice-CHR6.200000.vcf.gz -select-type SNP -O rice-CHR6.200000.onlySNP.vcf"
   ]
  },
  {
   "cell_type": "code",
   "execution_count": 137,
   "id": "a91a9c9e-6069-4543-afff-df4fdb07a0a9",
   "metadata": {},
   "outputs": [
    {
     "name": "stdout",
     "output_type": "stream",
     "text": [
      "total 1.6G\n",
      "-rw-r--r-- 1 jovyan users  25K Jun 19 16:39 rice-CHR6.200000.vcf.gz.tbi\n",
      "-rw-r--r-- 1 jovyan users 242M Jun 19 16:39 rice-CHR6.200000.vcf.gz\n",
      "-rw-r--r-- 1 jovyan users    0 Jun 19 20:30 VCF_REAL.vcf.stat\n",
      "-rw-r--r-- 1 jovyan users  50K Jun 19 20:31 rice-CHR6.200000.vcf.stat\n",
      "-rw-r--r-- 1 jovyan users 4.4K Jun 19 20:36 depthi.idepth\n",
      "-rw-r--r-- 1 jovyan users 5.5M Jun 19 20:37 depths.ldepth.mean\n",
      "-rw-r--r-- 1 jovyan users 4.0M Jun 19 20:41 qual.lqual\n",
      "-rw-r--r-- 1 jovyan users 6.8M Jun 20 06:10 AF.frq\n",
      "-rw-r--r-- 1 jovyan users 6.0M Jun 20 06:11 AF2.frq\n",
      "-rwxr-xr-x 1 jovyan users 5.2M Jun 20 06:19 all-gene.gff3\n",
      "-rwxr-xr-x 1 jovyan users 1.7K Jun 20 06:19 genome-Osativa-MSU7.dict\n",
      "-rwxr-xr-x 1 jovyan users  479 Jun 20 06:19 genome-Osativa-MSU7.fa.fai\n",
      "-rwxr-xr-x 1 jovyan users 365M Jun 20 06:19 genome-Osativa-MSU7.fa\n",
      "-rw-r--r-- 1 jovyan users 959M Jun 20 06:35 rice-CHR6.200000.onlySNP.vcf\n",
      "-rw-r--r-- 1 jovyan users 123K Jun 20 06:35 rice-CHR6.200000.onlySNP.vcf.idx\n",
      "# This file was produced by bcftools stats (1.10.2+htslib-1.10.2-3) and can be plotted using plot-vcfstats.\n",
      "# The command line was:\tbcftools stats  rice-CHR6.200000.onlySNP.vcf\n",
      "#\n",
      "# Definition of sets:\n",
      "# ID\t[2]id\t[3]tab-separated file names\n",
      "ID\t0\trice-CHR6.200000.onlySNP.vcf\n",
      "# SN, Summary numbers:\n",
      "#   number of records   .. number of data rows in the VCF\n",
      "#   number of no-ALTs   .. reference-only sites, ALT is either \".\" or identical to REF\n",
      "#   number of SNPs      .. number of rows with a SNP\n",
      "#   number of MNPs      .. number of rows with a MNP, such as CC>TT\n",
      "#   number of indels    .. number of rows with an indel\n",
      "#   number of others    .. number of rows with other type, for example a symbolic allele or\n",
      "#                          a complex substitution, such as ACT>TCGA\n",
      "#   number of multiallelic sites     .. number of rows with multiple alternate alleles\n",
      "#   number of multiallelic SNP sites .. number of rows with multiple alternate alleles, all SNPs\n",
      "# \n",
      "#   Note that rows containing multiple types will be counted multiple times, in each\n",
      "#   counter. For example, a row with a SNP and an indel increments both the SNP and\n",
      "#   the indel counter.\n",
      "# \n",
      "# SN\t[2]id\t[3]key\t[4]value\n",
      "SN\t0\tnumber of samples:\t250\n",
      "SN\t0\tnumber of records:\t176791\n",
      "SN\t0\tnumber of no-ALTs:\t0\n",
      "SN\t0\tnumber of SNPs:\t176791\n",
      "SN\t0\tnumber of MNPs:\t0\n",
      "SN\t0\tnumber of indels:\t0\n",
      "SN\t0\tnumber of others:\t0\n",
      "SN\t0\tnumber of multiallelic sites:\t4411\n",
      "SN\t0\tnumber of multiallelic SNP sites:\t4411\n",
      "# TSTV, transitions/transversions:\n",
      "# TSTV\t[2]id\t[3]ts\t[4]tv\t[5]ts/tv\t[6]ts (1st ALT)\t[7]tv (1st ALT)\t[8]ts/tv (1st ALT)\n",
      "TSTV\t0\t123165\t58101\t2.12\t121462\t55329\t2.20\n",
      "# SiS, Singleton stats:\n"
     ]
    }
   ],
   "source": [
    "%%bash\n",
    "ls -lrth\n",
    "bcftools stats rice-CHR6.200000.onlySNP.vcf | head -n35"
   ]
  },
  {
   "cell_type": "markdown",
   "id": "90e77c6a-3d4c-4d6e-bf30-60bfbe237765",
   "metadata": {},
   "source": [
    "#### Compress the vcf and generate the index of the compressed vcf - `tabix -p vcf vcf_file`"
   ]
  },
  {
   "cell_type": "code",
   "execution_count": 144,
   "id": "a2af6a39-3eac-40cc-bc0d-cff8cfa5f35f",
   "metadata": {},
   "outputs": [
    {
     "name": "stdout",
     "output_type": "stream",
     "text": [
      "AF2.frq\n",
      "AF.frq\n",
      "all-gene.gff3\n",
      "depthi.idepth\n",
      "depths.ldepth.mean\n",
      "genome-Osativa-MSU7.dict\n",
      "genome-Osativa-MSU7.fa\n",
      "genome-Osativa-MSU7.fa.fai\n",
      "qual.lqual\n",
      "rice-CHR6.200000.onlySNP.vcf.gz\n",
      "rice-CHR6.200000.onlySNP.vcf.idx\n",
      "rice-CHR6.200000.vcf.gz\n",
      "rice-CHR6.200000.vcf.gz.tbi\n",
      "rice-CHR6.200000.vcf.stat\n",
      "VCF_REAL.vcf.stat\n"
     ]
    }
   ],
   "source": [
    "%%bash\n",
    "bgzip rice-CHR6.200000.onlySNP.vcf\n",
    "ls -lrth"
   ]
  },
  {
   "cell_type": "code",
   "execution_count": 150,
   "id": "57232bd3-aa17-44d5-839f-380cc1e653b5",
   "metadata": {},
   "outputs": [
    {
     "name": "stdout",
     "output_type": "stream",
     "text": [
      "total 842M\n",
      "-rw-r--r-- 1 jovyan users  25K Jun 19 16:39 rice-CHR6.200000.vcf.gz.tbi\n",
      "-rw-r--r-- 1 jovyan users 242M Jun 19 16:39 rice-CHR6.200000.vcf.gz\n",
      "-rw-r--r-- 1 jovyan users    0 Jun 19 20:30 VCF_REAL.vcf.stat\n",
      "-rw-r--r-- 1 jovyan users  50K Jun 19 20:31 rice-CHR6.200000.vcf.stat\n",
      "-rw-r--r-- 1 jovyan users 4.4K Jun 19 20:36 depthi.idepth\n",
      "-rw-r--r-- 1 jovyan users 5.5M Jun 19 20:37 depths.ldepth.mean\n",
      "-rw-r--r-- 1 jovyan users 4.0M Jun 19 20:41 qual.lqual\n",
      "-rw-r--r-- 1 jovyan users 6.8M Jun 20 06:10 AF.frq\n",
      "-rw-r--r-- 1 jovyan users 6.0M Jun 20 06:11 AF2.frq\n",
      "-rwxr-xr-x 1 jovyan users 5.2M Jun 20 06:19 all-gene.gff3\n",
      "-rwxr-xr-x 1 jovyan users 1.7K Jun 20 06:19 genome-Osativa-MSU7.dict\n",
      "-rwxr-xr-x 1 jovyan users  479 Jun 20 06:19 genome-Osativa-MSU7.fa.fai\n",
      "-rwxr-xr-x 1 jovyan users 365M Jun 20 06:19 genome-Osativa-MSU7.fa\n",
      "-rw-r--r-- 1 jovyan users 123K Jun 20 06:45 rice-CHR6.200000.onlySNP.vcf.idx\n",
      "-rw-r--r-- 1 jovyan users 208M Jun 20 06:47 rice-CHR6.200000.onlySNP.vcf.gz\n",
      "-rw-r--r-- 1 jovyan users  25K Jun 20 06:50 rice-CHR6.200000.onlySNP.vcf.gz.tbi\n"
     ]
    }
   ],
   "source": [
    "%%bash\n",
    "tabix -f -p vcf rice-CHR6.200000.onlySNP.vcf.gz\n",
    "ls -lrth"
   ]
  },
  {
   "cell_type": "markdown",
   "id": "67d62c00-4c7d-47d2-8334-69c78d78bbb3",
   "metadata": {},
   "source": [
    "#### Applying filters on QUAL, DEPTH and CLUSTER SNPsSelect only the SNPs (and remove the INDELs) - `gatk variantFiltration`"
   ]
  },
  {
   "cell_type": "code",
   "execution_count": null,
   "id": "c360b424-da46-4580-8e06-d5dccf988025",
   "metadata": {},
   "outputs": [
    {
     "name": "stderr",
     "output_type": "stream",
     "text": [
      "Using GATK jar /opt/conda/share/gatk4-4.2.6.1-1/gatk-package-4.2.6.1-local.jar\n",
      "Running:\n",
      "    java -Dsamjdk.use_async_io_read_samtools=false -Dsamjdk.use_async_io_write_samtools=true -Dsamjdk.use_async_io_write_tribble=false -Dsamjdk.compression_level=2 -Xmx12G -Xms12G -jar /opt/conda/share/gatk4-4.2.6.1-1/gatk-package-4.2.6.1-local.jar VariantFiltration -R genome-Osativa-MSU7.fa -V rice-CHR6.200000.onlySNP.vcf.gz --filter-expression QUAL<200 --filter-name LOW_QUAL --filter-expression DP<10 --filter-name LOW_DP --cluster-size 3 --cluster-window-size 10 --filter-expression DP>20000 --filter-name HIGH-DP -O rice-CHR6.200000.filteredSNP.vcf\n",
      "06:58:50.339 INFO  NativeLibraryLoader - Loading libgkl_compression.so from jar:file:/opt/conda/share/gatk4-4.2.6.1-1/gatk-package-4.2.6.1-local.jar!/com/intel/gkl/native/libgkl_compression.so\n",
      "06:58:50.905 INFO  VariantFiltration - ------------------------------------------------------------\n",
      "06:58:50.906 INFO  VariantFiltration - The Genome Analysis Toolkit (GATK) v4.2.6.1\n",
      "06:58:50.906 INFO  VariantFiltration - For support and documentation go to https://software.broadinstitute.org/gatk/\n",
      "06:58:50.911 INFO  VariantFiltration - Initializing engine\n",
      "06:58:51.122 INFO  FeatureManager - Using codec VCFCodec to read file file:///home/jovyan/work/VCF_REAL/rice-CHR6.200000.onlySNP.vcf.gz\n",
      "06:58:51.157 INFO  VariantFiltration - Done initializing engine\n",
      "06:58:51.329 INFO  ProgressMeter - Starting traversal\n",
      "06:58:51.330 INFO  ProgressMeter -        Current Locus  Elapsed Minutes    Variants Processed  Variants/Minute\n",
      "06:59:08.813 INFO  ProgressMeter -          Chr6:130736              0.3                  2000           6864.2\n",
      "06:59:22.217 INFO  ProgressMeter -         Chr6:1097041              0.5                  6000          11655.4\n",
      "06:59:34.640 INFO  ProgressMeter -         Chr6:2113228              0.7                 10000          13853.6\n",
      "06:59:48.015 INFO  ProgressMeter -         Chr6:3104635              0.9                 14000          14819.0\n",
      "06:59:58.124 INFO  ProgressMeter -         Chr6:3748023              1.1                 17000          15270.8\n",
      "07:00:10.285 INFO  ProgressMeter -         Chr6:4654600              1.3                 21000          15958.5\n",
      "07:00:22.976 INFO  ProgressMeter -         Chr6:5534614              1.5                 25000          16367.3\n",
      "07:00:33.062 INFO  ProgressMeter -         Chr6:6140819              1.7                 28000          16514.0\n",
      "07:00:45.227 INFO  ProgressMeter -         Chr6:7082461              1.9                 32000          16857.3\n",
      "07:00:56.406 INFO  ProgressMeter -         Chr6:7657855              2.1                 35000          16789.8\n",
      "07:01:09.329 INFO  ProgressMeter -         Chr6:8514539              2.3                 39000          16956.8\n",
      "07:01:21.678 INFO  ProgressMeter -         Chr6:9014629              2.5                 42000          16761.1\n",
      "07:01:33.583 INFO  ProgressMeter -         Chr6:9526280              2.7                 45000          16640.7\n",
      "07:01:44.706 INFO  ProgressMeter -        Chr6:10094376              2.9                 48000          16611.3\n",
      "07:01:54.974 INFO  ProgressMeter -        Chr6:10639676              3.1                 51000          16662.7\n",
      "07:02:05.704 INFO  ProgressMeter -        Chr6:10872424              3.2                 53000          16360.2\n",
      "07:02:19.232 INFO  ProgressMeter -        Chr6:11356270              3.5                 56000          16161.5\n",
      "07:02:31.440 INFO  ProgressMeter -        Chr6:11860627              3.7                 59000          16082.9\n",
      "07:02:41.574 INFO  ProgressMeter -        Chr6:12097154              3.8                 61000          15896.2\n",
      "07:02:55.653 INFO  ProgressMeter -        Chr6:12581625              4.1                 64000          15716.9\n",
      "07:03:08.768 INFO  ProgressMeter -        Chr6:13004998              4.3                 67000          15615.4\n",
      "07:03:21.255 INFO  ProgressMeter -        Chr6:13511941              4.5                 70000          15559.9\n",
      "07:03:32.453 INFO  ProgressMeter -        Chr6:14029709              4.7                 73000          15580.4\n",
      "07:03:42.642 INFO  ProgressMeter -        Chr6:14282305              4.9                 75000          15447.4\n",
      "07:03:55.721 INFO  ProgressMeter -        Chr6:14512188              5.1                 77000          15177.9\n",
      "07:04:06.710 INFO  ProgressMeter -        Chr6:14727375              5.3                 79000          15029.5\n",
      "07:04:23.939 INFO  ProgressMeter -        Chr6:14865874              5.5                 81000          14611.8\n",
      "07:04:37.701 INFO  ProgressMeter -        Chr6:15040790              5.8                 83000          14377.6\n",
      "07:04:48.494 INFO  ProgressMeter -        Chr6:15242536              6.0                 85000          14279.2\n",
      "07:05:03.240 INFO  ProgressMeter -        Chr6:15403960              6.2                 87000          14035.7\n",
      "07:05:16.855 INFO  ProgressMeter -        Chr6:15451967              6.4                 88000          13695.6\n",
      "07:05:32.335 INFO  ProgressMeter -        Chr6:15484505              6.7                 89000          13316.5\n",
      "07:05:46.723 INFO  ProgressMeter -        Chr6:15687655              6.9                 91000          13144.2\n",
      "07:05:57.634 INFO  ProgressMeter -        Chr6:15987693              7.1                 93000          13089.3\n",
      "07:06:10.053 INFO  ProgressMeter -        Chr6:16169356              7.3                 95000          12992.3\n"
     ]
    }
   ],
   "source": [
    "%%bash\n",
    "gatk VariantFiltration --java-options \"-Xmx12G -Xms12G\" -R genome-Osativa-MSU7.fa -V rice-CHR6.200000.onlySNP.vcf.gz --filter-expression \"QUAL<200\" --filter-name \"LOW_QUAL\" --filter-expression \"DP<10\" --filter-name \"LOW_DP\"     --cluster-size 3 --cluster-window-size 10     --filter-expression \"DP>20000\" --filter-name \"HIGH-DP\" -O rice-CHR6.200000.filteredSNP.vcf"
   ]
  },
  {
   "cell_type": "code",
   "execution_count": null,
   "id": "1f399782-0233-4222-92f3-88eaef3c1ade",
   "metadata": {},
   "outputs": [],
   "source": [
    "ls -lrtht"
   ]
  },
  {
   "cell_type": "code",
   "execution_count": null,
   "id": "631e487c-9397-46ec-8022-f5a8cca2518a",
   "metadata": {},
   "outputs": [],
   "source": [
    "bgzip rice-CHR6.200000.onlySNP.vcf\n",
    "tabix -p vcf \n",
    "ls -lrtht"
   ]
  },
  {
   "cell_type": "markdown",
   "id": "850f66c5-a78a-448d-bbc2-12a485c3d1bc",
   "metadata": {},
   "source": [
    "#### _Commands to apply other filters_\n",
    "\n",
    "##### remove missing data if more than 5% of missing data at a site (12 samples over 228 samples) `vcftools`\n",
    "\n",
    "`vcftools --vcf input.vcf --max-missing-count 12 --remove-filtered-all --recode --recode-INFO-all  --out ouput.onlySNP.12na`\n",
    "\n",
    "##### keep SNPs with only 90% homzygous (222 samples)\n",
    "\n",
    "`cat input.vcf | java -jar SnpSift.jar filter \" (countHom( )> 222) \" > output.onlySNP.12na.recode.222homoz.vcf`\n",
    "\n",
    "##### keep only biallelic sites\n",
    "`vcftools --vcf input.vcf --min-alleles 2 --max-alleles 2 --remove-filtered-all --recode --recode-INFO-all --out output.onlySNP.filteredPASS.na.225.Homoz.biallelic`"
   ]
  },
  {
   "cell_type": "markdown",
   "id": "32a7a1f6-3537-4866-8bb6-8b9175dae0cd",
   "metadata": {},
   "source": [
    "### <span style=\"color: #4CACBC;\">IV - VCF ANNOTATION <a class=\"anchor\" id=\"vcffiltering\"></a></span> "
   ]
  },
  {
   "cell_type": "markdown",
   "id": "b95ddbb3-0a59-42cc-9882-ade334409ad1",
   "metadata": {
    "tags": []
   },
   "source": [
    "java -jar snpEff.jar -v -o statschr6.onlySNP.html rice6.1 input.vcf > output.snpeff.vcf"
   ]
  },
  {
   "cell_type": "code",
   "execution_count": null,
   "id": "164a843f-4e04-422c-9a50-8f1e3568d000",
   "metadata": {},
   "outputs": [],
   "source": []
  },
  {
   "cell_type": "code",
   "execution_count": null,
   "id": "03940a66-faa4-4fc1-8ae2-02f0b94b503c",
   "metadata": {},
   "outputs": [],
   "source": [
    "df_csv_stat[\"MAF\"]=df_csv_stat[['ALL1', 'ALL2']].min(axis=1)\n"
   ]
  },
  {
   "cell_type": "code",
   "execution_count": null,
   "id": "af806740-6437-48ba-918d-01c12796d9c6",
   "metadata": {},
   "outputs": [],
   "source": [
    "print(df_csv_stat[df_csv_stat.ALL1>0.70])"
   ]
  },
  {
   "cell_type": "code",
   "execution_count": null,
   "id": "27d0bd2e-3ad8-4c96-9c4b-539a2444d506",
   "metadata": {},
   "outputs": [],
   "source": [
    "# Plot with seaborn\n",
    "import matplotlib.pyplot as plt\n",
    "import seaborn as sns\n",
    "\n",
    "sns.kdeplot(x=\"MAF\", data=df_csv_stat)"
   ]
  },
  {
   "cell_type": "code",
   "execution_count": null,
   "id": "b19f286b-1f72-42fa-838b-52b9613d4be3",
   "metadata": {},
   "outputs": [],
   "source": []
  },
  {
   "cell_type": "code",
   "execution_count": null,
   "id": "9cbc9a99-85c7-4f6a-b40f-c4f9787d29ac",
   "metadata": {},
   "outputs": [],
   "source": []
  },
  {
   "cell_type": "code",
   "execution_count": null,
   "id": "594d2e56-0f21-4159-afe5-5deca0cfbd6a",
   "metadata": {},
   "outputs": [],
   "source": []
  },
  {
   "cell_type": "code",
   "execution_count": null,
   "id": "134c0b80-1e67-41e0-9f87-10fcdb675407",
   "metadata": {},
   "outputs": [],
   "source": []
  },
  {
   "cell_type": "code",
   "execution_count": null,
   "id": "b67c43d4-4e99-4713-ad43-ccaf7a6d0b11",
   "metadata": {},
   "outputs": [],
   "source": []
  },
  {
   "cell_type": "code",
   "execution_count": null,
   "id": "667146e7-752f-42ad-a285-57b4eaf7e68c",
   "metadata": {},
   "outputs": [],
   "source": []
  },
  {
   "cell_type": "code",
   "execution_count": null,
   "id": "96a4e8a2-f7ff-4a51-8e3d-33efe845e5ea",
   "metadata": {},
   "outputs": [],
   "source": []
  },
  {
   "cell_type": "code",
   "execution_count": null,
   "id": "85d1ab2b-4e85-456f-8a21-de22f131a03f",
   "metadata": {},
   "outputs": [],
   "source": []
  },
  {
   "cell_type": "code",
   "execution_count": null,
   "id": "accca443-7dcb-49a1-a034-892d2fd67d6c",
   "metadata": {},
   "outputs": [],
   "source": [
    "cd $vcf_dir"
   ]
  },
  {
   "cell_type": "code",
   "execution_count": null,
   "id": "36d5be26-9293-435f-bbb9-398f4e4c2f0a",
   "metadata": {},
   "outputs": [],
   "source": [
    "%%bash\n",
    "wget --no-check-certificat https://itrop.ird.fr/sv-training/out.vcf.gz"
   ]
  },
  {
   "cell_type": "code",
   "execution_count": null,
   "id": "c78db040-4532-4768-99d1-a7fc284ce8a6",
   "metadata": {},
   "outputs": [],
   "source": [
    "ls"
   ]
  },
  {
   "cell_type": "code",
   "execution_count": null,
   "id": "df076257-68f6-4ea8-b0a5-5e95187fe5bb",
   "metadata": {},
   "outputs": [],
   "source": [
    "%%bash\n",
    "zgrep -vc \"^#\" out.vcf.gz | head"
   ]
  },
  {
   "cell_type": "code",
   "execution_count": null,
   "id": "1cc36c6b-e375-4d6e-a9d3-fd3c4e87a04b",
   "metadata": {},
   "outputs": [],
   "source": [
    "%%bash\n",
    "REF=\"/home/jovyan/work/DATA/Clone10/referenceCorrect.fasta\"\n",
    "cd /home/jovyan/work/MAPPING-ILL/VCF/\n",
    "#tail -n 50 /home/jovyan/work/MAPPING-ILL/VCF/Clone1.g.vcf\n",
    "gatk CombineGVCFs -R $REF --variant Clone1.g.vcf --variant Clone2.g.vcf  -O final.vcf"
   ]
  },
  {
   "cell_type": "code",
   "execution_count": null,
   "id": "a4dd2089-45e3-49ed-8ae8-04e39ff1d1a1",
   "metadata": {},
   "outputs": [],
   "source": [
    "%%bash\n",
    "\n",
    "REF=\"/home/jovyan/work/DATA/Clone10/referenceCorrect.fasta\"\n",
    "cd /home/jovyan/work/MAPPING-ILL/VCF/\n",
    "ls -lrt\n",
    "head -n 1000 final.vcf | tail\n",
    "\n",
    "gatk --java-options \"-Xmx4g\" GenotypeGVCFs -R $REF -V final.vcf -O final.genotype.vcf"
   ]
  },
  {
   "cell_type": "code",
   "execution_count": null,
   "id": "30dfe980-5f74-4c8c-bf3d-73003fa7f388",
   "metadata": {},
   "outputs": [],
   "source": [
    "%%bash\n",
    "\n",
    "REF=\"/home/jovyan/work/DATA/Clone10/referenceCorrect.fasta\"\n",
    "cd /home/jovyan/work/MAPPING-ILL/VCF/\n",
    "ls -lrt\n",
    "head -n 1000 final.genotype.vcf | tail\n"
   ]
  },
  {
   "cell_type": "code",
   "execution_count": null,
   "id": "2c6cf2a9-05cb-4acf-a52f-f68e316942a8",
   "metadata": {},
   "outputs": [],
   "source": [
    "%%bash\n",
    "\n",
    "REF=\"/home/jovyan/work/DATA/Clone10/referenceCorrect.fasta\"\n",
    "VCF=home/jovyan/work/MAPPING-ILL/VCF/final.genotype.vcf\n",
    "cd /home/jovyan/work/MAPPING-ILL/VCF/f\n",
    "grep  -vc \"^#\" /\n",
    "\n",
    "bcftools stats /home/jovyan/work/MAPPING-ILL/VCF/final.genotype.vcf | head -n 50"
   ]
  },
  {
   "cell_type": "code",
   "execution_count": null,
   "id": "d15b0532-715d-41eb-9ed5-bff6320135b9",
   "metadata": {},
   "outputs": [],
   "source": [
    "eles, --freq would return their identity. We need to add max-alleles 2 to exclude sites that have more than two alleles.\n",
    "\n",
    "vcftools --gzvcf $SUBSET_VCF --freq2 --out $OUT --max-alleles 2"
   ]
  },
  {
   "cell_type": "code",
   "execution_count": null,
   "id": "b1bd8010-5100-4352-a3cd-1e361b59812e",
   "metadata": {},
   "outputs": [],
   "source": [
    "grep -vc \"^#\" out.vcf.gz"
   ]
  }
 ],
 "metadata": {
  "kernelspec": {
   "display_name": "Python 3 (ipykernel)",
   "language": "python",
   "name": "python3"
  },
  "language_info": {
   "codemirror_mode": {
    "name": "ipython",
    "version": 3
   },
   "file_extension": ".py",
   "mimetype": "text/x-python",
   "name": "python",
   "nbconvert_exporter": "python",
   "pygments_lexer": "ipython3",
   "version": "3.9.12"
  }
 },
 "nbformat": 4,
 "nbformat_minor": 5
}
