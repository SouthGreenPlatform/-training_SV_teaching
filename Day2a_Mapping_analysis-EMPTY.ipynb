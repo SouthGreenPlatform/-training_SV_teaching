{
 "cells": [
  {
   "cell_type": "markdown",
   "id": "d015209b-0d23-4c85-994c-79b3535c75a3",
   "metadata": {},
   "source": [
    "#### <span style=\"color:#grey\"> __Formation South Green 2022 - Structural Variants Detection by using short and long reads__ </span>\n",
    "\n",
    "# <span style=\"color:#006E7F\">  <center> __DAY 2 : How to analyze mapping results ?__ </center> </span>\n",
    "\n",
    "Created by C. Tranchant (DIADE-IRD), J. Orjuela (DIADE-IRD), F. Sabot (DIADE-IRD) and A. Dereeper (PHIM-IRD)\n",
    "\n",
    "***\n",
    "\n",
    "# <span style=\"color: #006E7F\">Table of contents</span>\n",
    "<a class=\"anchor\" id=\"home\"></a>\n",
    "\n",
    "[I - Get some basic mapping stats with samtools flagstat](#mappingstats)\n",
    "\n",
    "* [Run samtools flagstat](#flagstat)\n",
    "* [Samtools flagstat output](#flagstatoutput)\n",
    "* [Merge individual flagstat files into an unique file with python code](#multiflagstat) \n",
    "* [Plot mapping ratio per sample](#ratioplot)\n",
    "* [EXERCICE : DO THE SAME MANIP WITH MINIMAP2 RESULTS](#minimap)\n",
    "\n",
    "[II - Get some basic stats from vcf files](#statvcf) \n",
    "* [Count the number of variants with `bcftools stat`](#bcftools)\n",
    "* [Generating statistics from a VCF to determining how to set filters on it](#vcffilters)\n",
    "* [Generating density plot QUAL & DEPTH](#vcfplot) \n",
    "\n",
    "</span>\n",
    "\n",
    "***\n",
    "\n"
   ]
  },
  {
   "cell_type": "markdown",
   "id": "c65b4b47-c99c-4673-971d-c198e15b5a5d",
   "metadata": {},
   "source": [
    "## <span style=\"color:#006E7F\">__I - Get some basic mapping stats with samtools flagstat__ <a class=\"anchor\" id=\"mappingstats\"></span>  \n",
    "\n",
    "### <span style=\"color: #4CACBC;\"> First go into the directory that contains all the bam files and list the content of the directory</span>  \n",
    "\n",
    "As we will mainly launch python code to analyse mapping results, the kernel of this jupyter book is Python3. So we are going to add `%` to execute some specific linux commands or `%%bash`  to execute any linux command."
   ]
  },
  {
   "cell_type": "code",
   "execution_count": null,
   "id": "bd0dac23-2b56-4602-b8dc-a500011aa172",
   "metadata": {
    "tags": []
   },
   "outputs": [],
   "source": [
    "%cd /home/jovyan/work/MAPPING-ILL/\n",
    "%ls"
   ]
  },
  {
   "cell_type": "markdown",
   "id": "11a84023-ebeb-4440-9493-19be55d72726",
   "metadata": {},
   "source": [
    "### <span style=\"color: #4CACBC;\">Grouping the flagstat files previosly created</span>  \n",
    "\n",
    "* Create the subdirectory FLAGSTAT into the directory MAPPING_ILL\n",
    "* copy the flagstat files previously generated into this new directry"
   ]
  },
  {
   "cell_type": "code",
   "execution_count": null,
   "id": "f8ef1fde-6d6f-47d0-91e7-67f51d12d332",
   "metadata": {},
   "outputs": [],
   "source": [
    "%%bash\n"
   ]
  },
  {
   "cell_type": "markdown",
   "id": "ba4f80de-4eda-401b-a136-d2c46a6c0169",
   "metadata": {},
   "source": [
    "#### <span style=\"color: #4CACBC;\">Check that the flagstat files have been correctly copied</span>"
   ]
  },
  {
   "cell_type": "code",
   "execution_count": null,
   "id": "7de0a356-47a9-4960-82c8-84fae6eb44b7",
   "metadata": {},
   "outputs": [],
   "source": []
  },
  {
   "cell_type": "markdown",
   "id": "586e1e6c-e9d3-4aa7-8108-1a1c9a7f428c",
   "metadata": {},
   "source": [
    "### <span style=\"color: #4CACBC;\">Let's look the content of one flagstat file <a class=\"anchor\" id=\"flagstatoutput\"></span> "
   ]
  },
  {
   "cell_type": "code",
   "execution_count": null,
   "id": "6d18252b-0a2d-4d49-b620-186a8354006c",
   "metadata": {
    "tags": []
   },
   "outputs": [],
   "source": []
  },
  {
   "cell_type": "markdown",
   "id": "fb0f44f7-634f-491a-a470-7e62e6dff2d7",
   "metadata": {},
   "source": [
    "### <span style=\"color: #4CACBC;\">Merge individual flagstat files into an unique file with python code <a class=\"anchor\" id=\"multiflagstat\"></span> "
   ]
  },
  {
   "cell_type": "code",
   "execution_count": null,
   "id": "f3365afa-1224-4a91-82f0-605406771dda",
   "metadata": {},
   "outputs": [],
   "source": [
    "# IMPORT PYTHON PACKAGE USED BY THE CODE\n",
    "import os\n",
    "import pandas as pd\n",
    "\n",
    "# VARIABLE INITIALIZATION\n",
    "\n",
    "## NAME OF THE DIRECTORY THAT CONTAINS FLAGSTAT FILES\n",
    "flagstat_dir = \"/home/jovyan/work/MAPPING-ILL/FLAGSTAT\" #PUT THE DIRECTORY NAME THAT CONTAINS FLAGSTAT FILES \n",
    "\n",
    "## NAME OF THE FILE THAT WILL CONTAIN ALL THE FLAGSTAT RESULTATS\n",
    "stat_file = f\"{flagstat_dir}/all_stat.csv\"\n",
    "\n",
    "# PRINT THE CONTENT OF 2 PREVIOUS VARIABLES INITIALIZED\n",
    "print(\"DIRECTORY : \",flagstat_dir)\n",
    "print(\"FINAL STAT FILE : \",stat_file)\n"
   ]
  },
  {
   "cell_type": "code",
   "execution_count": null,
   "id": "8da626d7-fc37-409a-9308-9d81baf089d9",
   "metadata": {},
   "outputs": [],
   "source": [
    "# OPEN THE FINAL FILE IN WHICH WE PRINT SOME STATS EXTRACTED FROM EACH INDIVIDUAL FILE GENERATED BY SAMTOOLS FLAGSTAT\n",
    "with open(stat_file, 'w') as stat: \n",
    "    # WRITE A HEADER LINE IN OUR STAT FILE\n",
    "    header_line = \"sample,mapped,paired,unmapped\"\n",
    "    stat.write(header_line)\n",
    "    \n",
    "    # READING EACH FILE OF THE FLGSTAT DIRECTORY\n",
    "    for file in os.listdir(flagstat_dir):\n",
    "        # If flagstat is in name of file\n",
    "        filen = flagstat_dir + \"/\" + file\n",
    "        if \"flagstat\" in file:\n",
    "            # Extract sample name and save into a new variable newLine \n",
    "            new_line = f\"\\n{file.split('.')[0]},\"\n",
    "            # OPEN AND READS FLAGSTAT FILE\n",
    "            with open(filen, \"r\") as flagstat:\n",
    "                # read file line by line\n",
    "                for line in flagstat:\n",
    "                    # remove the line skipper at the endo of the line\n",
    "                    line = line.rstrip()              \n",
    "                    # Keep only line mapped, paired or singleton word\n",
    "                    if 'mapped (' in line or 'paired (' in line or 'singleton' in line:\n",
    "                        # get percentage value and save it into the varaible called perc\n",
    "                        perc = f\"{line.split('(')[1].split('%')[0]}\"\n",
    "                        new_line += f\"{perc},\"\n",
    "                # WRITE THE LINE ONCE THE FLAGSTAT FILE COMPLETELY READ\n",
    "                stat.write(new_line.strip(\",\"))"
   ]
  },
  {
   "cell_type": "markdown",
   "id": "eccefc94-20ef-4508-9ccf-d080f5f14288",
   "metadata": {
    "tags": []
   },
   "source": [
    "### <span style=\"color: #4CACBC;\">Display the content of the final stat file  <a class=\"anchor\" id=\"statfile\"></span> "
   ]
  },
  {
   "cell_type": "code",
   "execution_count": null,
   "id": "aff90309-8f07-49b2-88ce-8fe0c47fde20",
   "metadata": {},
   "outputs": [],
   "source": []
  },
  {
   "cell_type": "markdown",
   "id": "4a512002-2fe5-4172-9bc1-cab76a00c76d",
   "metadata": {},
   "source": [
    "### <span style=\"color: #4CACBC;\">Plot mapping ratio per sample <a class=\"anchor\" id=\"ratioplot\"></a></span> \n",
    "\n",
    "#### Load csv file into a panda datafrale\n"
   ]
  },
  {
   "cell_type": "code",
   "execution_count": null,
   "id": "4b87b0b6-e76c-4950-9b78-3ecd418f6704",
   "metadata": {},
   "outputs": [],
   "source": [
    "df_bam_stat = pd.read_csv(stat_file, index_col=False, sep=\",\")\n",
    "df_bam_stat"
   ]
  },
  {
   "cell_type": "markdown",
   "id": "cb1b6397-f6d2-4d27-9f85-1ee363a4b499",
   "metadata": {},
   "source": [
    "#### Basic stats"
   ]
  },
  {
   "cell_type": "code",
   "execution_count": null,
   "id": "0d111bd5-3966-4d48-8a49-8131654ca1f9",
   "metadata": {},
   "outputs": [],
   "source": [
    "# Je n'affiche que les valeurs de la colonne \"mapped\"\n",
    "print(df_bam_stat['mapped'])"
   ]
  },
  {
   "cell_type": "code",
   "execution_count": null,
   "id": "da8d2754-548d-494e-931e-d1e87d6334ac",
   "metadata": {},
   "outputs": [],
   "source": [
    "# J affiche la moyenne, min et max de cette colonne\n",
    "minimum = df_bam_stat[\"mapped\"].min()\n",
    "maximun = df_bam_stat[\"mapped\"].max()\n",
    "mean_flag = df_bam_stat[\"mapped\"].mean()\n",
    "\n",
    "print(\"\\n######## BASIC STATS\\n MAPPED\")       \n",
    "print(f\"\\t%min : {minimum}\\t %max : {maximun}\\t %mean : {mean_flag}\")\n"
   ]
  },
  {
   "cell_type": "markdown",
   "id": "a4161ec9-f649-4197-b307-3c5c25791f17",
   "metadata": {
    "tags": []
   },
   "source": [
    "#### Sort by clone name"
   ]
  },
  {
   "cell_type": "code",
   "execution_count": null,
   "id": "87b44f61-bf83-4a7f-8938-7de01f5b6c06",
   "metadata": {},
   "outputs": [],
   "source": [
    "df_bam_stat_sorted=df_bam_stat.sort_values(by=['sample'])\n",
    "df_bam_stat_sorted"
   ]
  },
  {
   "cell_type": "markdown",
   "id": "b241b330-3539-4720-9e90-07e7b19fda66",
   "metadata": {},
   "source": [
    "#### Your first plot with python"
   ]
  },
  {
   "cell_type": "code",
   "execution_count": null,
   "id": "213d0cd9-2c76-40dd-8843-486b99af7c9e",
   "metadata": {},
   "outputs": [],
   "source": [
    "# Plot with seaborn\n",
    "import matplotlib.pyplot as plt\n",
    "import seaborn as sns\n",
    "\n",
    "plt.figure(figsize = (15,8))\n",
    "sns.scatterplot(x=\"sample\",y=\"paired\", data=df_bam_stat_sorted)"
   ]
  },
  {
   "cell_type": "code",
   "execution_count": null,
   "id": "90db87ba-e830-4c7c-bd3c-5827cb43d637",
   "metadata": {},
   "outputs": [],
   "source": [
    "# Plot with seaborn\n",
    "import matplotlib.pyplot as plt\n",
    "import seaborn as sns\n",
    "\n",
    "plt.figure(figsize = (15,8))\n",
    "ax=sns.scatterplot(x=\"sample\",y=\"value\", hue='variable', data=pd.melt(df_bam_stat_sorted, 'sample'))\n",
    "ax.set_title(\"PUT YOUR TITLE\")\n",
    "ax.set_xlabel(\"PUT YOUR X-AXIS NAME\")\n",
    "ax.set_ylabel(\"PUT YOUY Y-AXIS NAME\")"
   ]
  },
  {
   "cell_type": "markdown",
   "id": "0e248d3c-c31e-4251-9192-260190cc5f62",
   "metadata": {},
   "source": [
    "### <span style=\"color: #4CACBC;\"> EXERCICE : DO THE SAME THING WITH MINIMAP2 RESULTS... or not<a class=\"anchor\" id=\"minimap\"></span> "
   ]
  },
  {
   "cell_type": "code",
   "execution_count": null,
   "id": "8257e0ba-c7ae-4193-815a-9449dec2766f",
   "metadata": {},
   "outputs": [],
   "source": []
  },
  {
   "cell_type": "code",
   "execution_count": null,
   "id": "d4120b59-c2e5-4c54-8787-a8f755fbbb70",
   "metadata": {},
   "outputs": [],
   "source": [
    "%%bash\n",
    "cd /home/jovyan/work/\n",
    "wget https://itrop.ird.fr/sv-training/VCF_REAL.tar.gz\n",
    "tar zxvf VCF_REAL.tar.gz\n",
    "rm VCF_REAL.tar.gz"
   ]
  },
  {
   "cell_type": "markdown",
   "id": "304d9ab0-294c-4307-8cb7-a14154fb10cb",
   "metadata": {},
   "source": [
    "### <span style=\"color: #4CACBC;\">First go into the directory that contains vcf file  </span> \n",
    "\n",
    "* List the content of this directory\n"
   ]
  },
  {
   "cell_type": "code",
   "execution_count": null,
   "id": "d0c0a6de-6fc7-48bf-ab3a-278590402d1c",
   "metadata": {},
   "outputs": [],
   "source": [
    "cd /home/jovyan/work/VCF_REAL/"
   ]
  },
  {
   "cell_type": "code",
   "execution_count": null,
   "id": "33b3039d-ef19-4766-af89-8e831266fca1",
   "metadata": {},
   "outputs": [],
   "source": [
    "ls"
   ]
  },
  {
   "cell_type": "markdown",
   "id": "aa5e1b2b-82f7-4710-b84f-06545badbfa9",
   "metadata": {},
   "source": [
    "### <span style=\"color: #4CACBC;\">Count the number of variants with `bcftools stat`<a class=\"anchor\" id=\"bcftools\"></a></span> \n",
    "\n",
    "* run the bcftools stats on the vcf file and save the result into the file `rice-CHR6.200000.vcf.stat`\n",
    "* check that the file have been correctly created and display the 35 first lines of this file\n",
    "* How many samples were used for this SNP analysis ?\n",
    "* How many SNPs were detected ?"
   ]
  },
  {
   "cell_type": "code",
   "execution_count": null,
   "id": "e005df0c-3ac1-4c29-930e-8c4cda3036a4",
   "metadata": {},
   "outputs": [],
   "source": [
    "%%bash\n",
    "bcftools stats rice-CHR6.200000.vcf.gz >  rice-CHR6.200000.vcf.stat"
   ]
  },
  {
   "cell_type": "code",
   "execution_count": null,
   "id": "6350543e-0c09-42fa-a4ac-9bb93d03f711",
   "metadata": {},
   "outputs": [],
   "source": [
    "%%bash\n",
    "head -n 35 rice-CHR6.200000.vcf.stat"
   ]
  },
  {
   "cell_type": "markdown",
   "id": "74b53089-03fd-4d0a-a710-712acb2c8268",
   "metadata": {},
   "source": [
    "### <span style=\"color: #4CACBC;\">Generating statistics from a VCF to determine how to set filters on it<a class=\"anchor\" id=\"vcffilters\"></a></span> `vcftools`\n",
    "\n",
    "We will generate more statistics from a VCF using vcftools (LINK MANUAL), a very useful and fast program for handling vcf files \n",
    "to easily calculate these statistics in order to better define filters we will apply and to get an idea of how to set such filtering thresholds. \n",
    "\n",
    "The main information we will consider are:\n",
    "* Depth: Usually, we filter SNP with a minimum and maximum depth. We use a minimum depth cutoffs to remove false positive calls and to keep higher quality calls too. \n",
    "A maximum cut off allow to remove regions with very, very high read depths such as repetitive regions.\n",
    "* Quality Genotype quality : With this filter, we should not trust any genotype with a Phred score below 20 which suggests a less than 99% accuracy.\n",
    "* Minor allele frequency MAF can cause big problems with SNP calls - and also inflate statistical estimates downstream. Ideally you want an idea of the distribution of your \n",
    "allelic frequencies but 0.05 to 0.10 is a reasonable cut-off. You should keep in mind however that some analyses, particularly demographic inference can be biased by MAF thresholds.\n",
    "* Missing data How much missing data are you willing to tolerate? It will depend on the study but typically any site with >25% missing data should be dropped.\n",
    "* biallelic, heterozygosity...\n",
    "\n",
    "In this training, we will just display quality and depth distribution... but you should do on each value filterd.\n",
    "\n",
    "#### <span style=\"color: #4CACBC;\">Mean depth per individual and per site<a class=\"anchor\" id=\"depthvcf\"></a></span> `--depth, --site-mean-depth`\n",
    "\n",
    "* run vcftool with the correct options\n",
    "* check that the files have been created and display the first lines"
   ]
  },
  {
   "cell_type": "code",
   "execution_count": null,
   "id": "f421cbdc-d195-4050-9b7e-a4dbb4b357ad",
   "metadata": {},
   "outputs": [],
   "source": [
    "%%bash\n",
    "vcftools --gzvcf rice-CHR6.200000.vcf.gz --depth --out depthi\n",
    "vcftools --gzvcf rice-CHR6.200000.vcf.gz --site-mean-depth --out depths"
   ]
  },
  {
   "cell_type": "code",
   "execution_count": null,
   "id": "fbaae264-89ce-4f6d-ac2c-d304521f9447",
   "metadata": {},
   "outputs": [],
   "source": [
    "%%bash\n",
    "ls -lrt\n",
    "head *depth*"
   ]
  },
  {
   "cell_type": "markdown",
   "id": "a9641f84-af45-4137-8f60-6016edd56596",
   "metadata": {},
   "source": [
    "#### <span style=\"color: #4CACBC;\">Extracting quality per site<a class=\"anchor\" id=\"depthvcf\"></a></span>  `--site-quality`\n",
    "\n",
    "* run vcftool with the correct options\n",
    "* check that the files have been created and display the first lines"
   ]
  },
  {
   "cell_type": "code",
   "execution_count": null,
   "id": "d16f68ef-956a-4385-917b-ad8285965021",
   "metadata": {},
   "outputs": [],
   "source": [
    "%%bash\n",
    "vcftools --gzvcf rice-CHR6.200000.vcf.gz  --site-quality --out qual"
   ]
  },
  {
   "cell_type": "code",
   "execution_count": null,
   "id": "861692d3-23ed-4848-893a-77981a00fef2",
   "metadata": {},
   "outputs": [],
   "source": [
    "%%bash\n",
    "ls -lrt\n",
    "head *qual"
   ]
  },
  {
   "cell_type": "markdown",
   "id": "5d6e6f7d-37f0-48c7-994c-0f624d957a43",
   "metadata": {},
   "source": [
    "\n",
    "__Calculate allele frequency__\n",
    "\n",
    "* --freq2 : outputs the frequencies without information about the alleles\n",
    "* --freq would return their identity. \n",
    "* --max-alleles 2 to exclude sites that have more than two alleles."
   ]
  },
  {
   "cell_type": "code",
   "execution_count": null,
   "id": "c8d02f46-2fb0-462a-9077-49f1aa614f66",
   "metadata": {},
   "outputs": [],
   "source": [
    "%%bash\n",
    "vcftools --gzvcf rice-CHR6.200000.vcf.gz --freq --out AF --max-alleles 2\n",
    "vcftools --gzvcf rice-CHR6.200000.vcf.gz --freq2 --out AF2 --max-alleles 2\n",
    "ls -lrt\n",
    "head *.frq"
   ]
  },
  {
   "cell_type": "markdown",
   "id": "2de89286-b5c4-4c32-964e-45aca7ae12bc",
   "metadata": {},
   "source": [
    "### <span style=\"color: #4CACBC;\">Generating density plot QUAL & DEPTH<a class=\"anchor\" id=\"vcfplot\"></a></span> \n",
    "\n",
    "#### <span style=\"color: #4CACBC;\">Plotting quality per site<a class=\"anchor\" id=\"qualplot\"></a></span> "
   ]
  },
  {
   "cell_type": "code",
   "execution_count": null,
   "id": "307877db-c85c-47de-a16f-6c38ab9e3e70",
   "metadata": {},
   "outputs": [],
   "source": [
    "qual_file=\"qual.lqual\"\n",
    "df_qual = pd.read_csv(qual_file, index_col=False, sep=\"\\t\")\n",
    "print(df_qual)\n",
    "df_qual['QUAL'].describe()"
   ]
  },
  {
   "cell_type": "code",
   "execution_count": null,
   "id": "c3dc4b15-7c35-4b40-acb7-30aeeece268b",
   "metadata": {},
   "outputs": [],
   "source": [
    "# Plot with seaborn\n",
    "import matplotlib.pyplot as plt\n",
    "import seaborn as sns\n",
    "\n",
    "sns.kdeplot(x=\"QUAL\", data=df_qual)"
   ]
  },
  {
   "cell_type": "code",
   "execution_count": null,
   "id": "2fed282d-9cc3-403b-b627-1f73e6047d4c",
   "metadata": {},
   "outputs": [],
   "source": [
    "# Plot with seaborn\n",
    "import matplotlib.pyplot as plt\n",
    "import seaborn as sns\n",
    "\n",
    "\n",
    "plt.figure(figsize = (15,8))\n",
    "ax=sns.kdeplot(x=\"QUAL\", data=df_qual[df_qual.QUAL<10000])\n",
    "ax.set_title(\"PUT A TITLE\")\n",
    "ax.set_xlabel(\"PUT A X-AXIS LABEL\")\n",
    "ax.set_ylabel(\"PUT A Y-AXIS LABEL\")"
   ]
  },
  {
   "cell_type": "markdown",
   "id": "ad84b027-b453-44d8-8f26-22bf372e1e53",
   "metadata": {},
   "source": [
    "#### <span style=\"color: #4CACBC;\">Plotting Mean depth per site<a class=\"anchor\" id=\"depthplot\"></a></span> "
   ]
  },
  {
   "cell_type": "code",
   "execution_count": null,
   "id": "f4c5181c-f1fb-42b3-86a2-ddfc93218cbe",
   "metadata": {},
   "outputs": [],
   "source": [
    "depth_file=\"depths.ldepth.mean\"\n",
    "df_depth = pd.read_csv(depth_file, index_col=False, sep=\"\\t\")\n",
    "print(df_depth)\n",
    "df_depth.describe()"
   ]
  },
  {
   "cell_type": "code",
   "execution_count": null,
   "id": "2aacd4ac-01d3-4d99-b64e-c9a68754211c",
   "metadata": {},
   "outputs": [],
   "source": [
    "# Plot with seaborn\n",
    "import matplotlib.pyplot as plt\n",
    "import seaborn as sns\n",
    "\n",
    "ax=sns.kdeplot(x=\"MEAN_DEPTH\", data=df_depth)\n",
    "ax.set_xlim(1, 70)\n",
    "ax.set_title(\"PUT A TITLE\")\n",
    "ax.set_xlabel(\"PUT A X-AXIS LABEL\")\n",
    "ax.set_ylabel(\"PUT A Y-AXIS LABEL\")"
   ]
  },
  {
   "cell_type": "code",
   "execution_count": null,
   "id": "5ddfc616-e990-4fce-a0bb-2d534445e8e8",
   "metadata": {},
   "outputs": [],
   "source": [
    "# Plot with seaborn\n",
    "import matplotlib.pyplot as plt\n",
    "import seaborn as sns\n",
    "\n",
    "ax=sns.kdeplot(x=\"MEAN_DEPTH\", data=df_depth[df_depth.MEAN_DEPTH<100])\n",
    "ax.set_xlim(1, 70)\n",
    "ax.set_title(\"PUT A TITLE\")\n",
    "ax.set_xlabel(\"PUT A X-AXIS LABEL\")\n",
    "ax.set_ylabel(\"PUT A Y-AXIS LABEL\")"
   ]
  },
  {
   "cell_type": "markdown",
   "id": "788df901-4e83-4102-95c5-c097e6d72171",
   "metadata": {},
   "source": [
    "### <span style=\"color: #4CACBC;\">III - FILTERING VCF <a class=\"anchor\" id=\"vcffiltering\"></a></span> \n"
   ]
  },
  {
   "cell_type": "markdown",
   "id": "0ab0fde3-23e2-46c9-a54a-cd84c6960fc5",
   "metadata": {},
   "source": [
    "#### Which filters ?\n",
    "\n",
    "Here, we will apply on the vcf the following filters :\n",
    "\n",
    "* QUAL > 3000\n",
    "* DP > 10 and DP < 20000\n",
    "* Less than 3 SNPs into a window of 10pb\n",
    "\n",
    "The threshodl of each filter depends on the SNP analysis (sample number, sequencing depth).\n",
    "\n",
    "In a second step, according the following analysys (eg: population genomics), usually, we will apply other filters such as :\n",
    "* removing missing data\n",
    "* keeping only biallellic\n",
    "* heterozygosity\n",
    "    \n",
    "#### Select only the SNPs (and remove the INDELs) - `gatk variantFiltration`\n",
    "* Filter vcf to keep only SNPs\n",
    "* Check that the new vcf has been created\n",
    "* Get the number of polymorphisms in the new vcf file "
   ]
  },
  {
   "cell_type": "code",
   "execution_count": null,
   "id": "e0c297d1-12f7-425a-8f80-6d36f823924d",
   "metadata": {},
   "outputs": [],
   "source": [
    "%%bash\n",
    "gatk SelectVariants --java-options \"-Xmx8G -Xms8G\" -R genome-Osativa-MSU7.fa -V rice-CHR6.200000.vcf.gz -select-type SNP -O rice-CHR6.200000.onlySNP.vcf"
   ]
  },
  {
   "cell_type": "code",
   "execution_count": null,
   "id": "a91a9c9e-6069-4543-afff-df4fdb07a0a9",
   "metadata": {},
   "outputs": [],
   "source": [
    "%%bash\n",
    "ls -lrth\n",
    "bcftools stats rice-CHR6.200000.onlySNP.vcf | head -n35"
   ]
  },
  {
   "cell_type": "markdown",
   "id": "90e77c6a-3d4c-4d6e-bf30-60bfbe237765",
   "metadata": {},
   "source": [
    "#### Compress the vcf and generate the index of the compressed vcf - `tabix -p vcf vcf_file`"
   ]
  },
  {
   "cell_type": "code",
   "execution_count": null,
   "id": "a2af6a39-3eac-40cc-bc0d-cff8cfa5f35f",
   "metadata": {},
   "outputs": [],
   "source": [
    "%%bash\n",
    "bgzip rice-CHR6.200000.onlySNP.vcf\n",
    "ls -lrth"
   ]
  },
  {
   "cell_type": "code",
   "execution_count": null,
   "id": "57232bd3-aa17-44d5-839f-380cc1e653b5",
   "metadata": {},
   "outputs": [],
   "source": [
    "%%bash\n",
    "tabix -f -p vcf rice-CHR6.200000.onlySNP.vcf.gz\n",
    "ls -lrth"
   ]
  },
  {
   "cell_type": "markdown",
   "id": "67d62c00-4c7d-47d2-8334-69c78d78bbb3",
   "metadata": {},
   "source": [
    "#### Applying filters on QUAL, DEPTH and CLUSTER SNPsSelect only the SNPs (and remove the INDELs) - `gatk variantFiltration`"
   ]
  },
  {
   "cell_type": "code",
   "execution_count": null,
   "id": "c360b424-da46-4580-8e06-d5dccf988025",
   "metadata": {},
   "outputs": [],
   "source": [
    "%%bash\n",
    "gatk VariantFiltration --java-options \"-Xmx12G -Xms12G\" -R genome-Osativa-MSU7.fa -V rice-CHR6.200000.onlySNP.vcf.gz --filter-expression \"QUAL<200\" --filter-name \"LOW_QUAL\" --filter-expression \"DP<10\" --filter-name \"LOW_DP\"     --cluster-size 3 --cluster-window-size 10     --filter-expression \"DP>20000\" --filter-name \"HIGH-DP\" -O rice-CHR6.200000.filteredSNP.vcf"
   ]
  },
  {
   "cell_type": "code",
   "execution_count": null,
   "id": "1f399782-0233-4222-92f3-88eaef3c1ade",
   "metadata": {},
   "outputs": [],
   "source": [
    "ls -lrtht"
   ]
  },
  {
   "cell_type": "code",
   "execution_count": null,
   "id": "631e487c-9397-46ec-8022-f5a8cca2518a",
   "metadata": {},
   "outputs": [],
   "source": [
    "%%bash\n",
    "bgzip rice-CHR6.200000.filteredSNP.vcf\n",
    "tabix -p vcf rice-CHR6.200000.filteredSNP.vcf.gz\n",
    "ls -lrtht"
   ]
  },
  {
   "cell_type": "code",
   "execution_count": null,
   "id": "6d3ce9eb-10ee-4f88-a402-4289f137c98c",
   "metadata": {},
   "outputs": [],
   "source": [
    "%%bash\n",
    "bcftools stats rice-CHR6.200000.filteredSNP.vcf.gz | head -n 35"
   ]
  },
  {
   "cell_type": "markdown",
   "id": "850f66c5-a78a-448d-bbc2-12a485c3d1bc",
   "metadata": {},
   "source": [
    "#### _Commands to apply other filters_\n",
    "\n",
    "##### remove missing data if more than 5% of missing data at a site (12 samples over 228 samples) `vcftools`\n",
    "\n",
    "`vcftools --vcf input.vcf --max-missing-count 12 --remove-filtered-all --recode --recode-INFO-all  --out ouput.onlySNP.12na`\n",
    "\n",
    "##### keep SNPs with only 90% homzygous (222 samples)\n",
    "\n",
    "`cat input.vcf | java -jar SnpSift.jar filter \" (countHom( )> 222) \" > output.onlySNP.12na.recode.222homoz.vcf`\n",
    "\n",
    "##### keep only biallelic sites\n",
    "`vcftools --vcf input.vcf --min-alleles 2 --max-alleles 2 --remove-filtered-all --recode --recode-INFO-all --out output.onlySNP.filteredPASS.na.225.Homoz.biallelic`"
   ]
  },
  {
   "cell_type": "markdown",
   "id": "32a7a1f6-3537-4866-8bb6-8b9175dae0cd",
   "metadata": {},
   "source": [
    "### <span style=\"color: #4CACBC;\">IV - VCF ANNOTATION <a class=\"anchor\" id=\"vcffiltering\"></a></span> "
   ]
  },
  {
   "cell_type": "markdown",
   "id": "b95ddbb3-0a59-42cc-9882-ade334409ad1",
   "metadata": {
    "tags": []
   },
   "source": [
    "java -jar snpEff.jar -v -o statschr6.onlySNP.html rice6.1 input.vcf > output.snpeff.vcf"
   ]
  },
  {
   "cell_type": "code",
   "execution_count": null,
   "id": "164a843f-4e04-422c-9a50-8f1e3568d000",
   "metadata": {},
   "outputs": [],
   "source": []
  },
  {
   "cell_type": "code",
   "execution_count": null,
   "id": "03940a66-faa4-4fc1-8ae2-02f0b94b503c",
   "metadata": {},
   "outputs": [],
   "source": [
    "df_csv_stat[\"MAF\"]=df_csv_stat[['ALL1', 'ALL2']].min(axis=1)\n"
   ]
  },
  {
   "cell_type": "code",
   "execution_count": null,
   "id": "af806740-6437-48ba-918d-01c12796d9c6",
   "metadata": {},
   "outputs": [],
   "source": [
    "print(df_csv_stat[df_csv_stat.ALL1>0.70])"
   ]
  },
  {
   "cell_type": "code",
   "execution_count": null,
   "id": "27d0bd2e-3ad8-4c96-9c4b-539a2444d506",
   "metadata": {},
   "outputs": [],
   "source": [
    "# Plot with seaborn\n",
    "import matplotlib.pyplot as plt\n",
    "import seaborn as sns\n",
    "\n",
    "sns.kdeplot(x=\"MAF\", data=df_csv_stat)"
   ]
  },
  {
   "cell_type": "code",
   "execution_count": null,
   "id": "b19f286b-1f72-42fa-838b-52b9613d4be3",
   "metadata": {},
   "outputs": [],
   "source": []
  },
  {
   "cell_type": "code",
   "execution_count": null,
   "id": "9cbc9a99-85c7-4f6a-b40f-c4f9787d29ac",
   "metadata": {},
   "outputs": [],
   "source": []
  },
  {
   "cell_type": "code",
   "execution_count": null,
   "id": "594d2e56-0f21-4159-afe5-5deca0cfbd6a",
   "metadata": {},
   "outputs": [],
   "source": []
  },
  {
   "cell_type": "code",
   "execution_count": null,
   "id": "134c0b80-1e67-41e0-9f87-10fcdb675407",
   "metadata": {},
   "outputs": [],
   "source": []
  },
  {
   "cell_type": "code",
   "execution_count": null,
   "id": "b67c43d4-4e99-4713-ad43-ccaf7a6d0b11",
   "metadata": {},
   "outputs": [],
   "source": []
  },
  {
   "cell_type": "code",
   "execution_count": null,
   "id": "667146e7-752f-42ad-a285-57b4eaf7e68c",
   "metadata": {},
   "outputs": [],
   "source": []
  },
  {
   "cell_type": "code",
   "execution_count": null,
   "id": "96a4e8a2-f7ff-4a51-8e3d-33efe845e5ea",
   "metadata": {},
   "outputs": [],
   "source": []
  },
  {
   "cell_type": "code",
   "execution_count": null,
   "id": "85d1ab2b-4e85-456f-8a21-de22f131a03f",
   "metadata": {},
   "outputs": [],
   "source": []
  },
  {
   "cell_type": "code",
   "execution_count": null,
   "id": "accca443-7dcb-49a1-a034-892d2fd67d6c",
   "metadata": {},
   "outputs": [],
   "source": [
    "cd $vcf_dir"
   ]
  },
  {
   "cell_type": "code",
   "execution_count": null,
   "id": "36d5be26-9293-435f-bbb9-398f4e4c2f0a",
   "metadata": {},
   "outputs": [],
   "source": [
    "%%bash\n",
    "wget --no-check-certificat https://itrop.ird.fr/sv-training/out.vcf.gz"
   ]
  },
  {
   "cell_type": "code",
   "execution_count": null,
   "id": "c78db040-4532-4768-99d1-a7fc284ce8a6",
   "metadata": {},
   "outputs": [],
   "source": [
    "ls"
   ]
  },
  {
   "cell_type": "code",
   "execution_count": null,
   "id": "df076257-68f6-4ea8-b0a5-5e95187fe5bb",
   "metadata": {},
   "outputs": [],
   "source": [
    "%%bash\n",
    "zgrep -vc \"^#\" out.vcf.gz | head"
   ]
  },
  {
   "cell_type": "code",
   "execution_count": null,
   "id": "1cc36c6b-e375-4d6e-a9d3-fd3c4e87a04b",
   "metadata": {},
   "outputs": [],
   "source": [
    "%%bash\n",
    "REF=\"/home/jovyan/work/DATA/Clone10/referenceCorrect.fasta\"\n",
    "cd /home/jovyan/work/MAPPING-ILL/VCF/\n",
    "#tail -n 50 /home/jovyan/work/MAPPING-ILL/VCF/Clone1.g.vcf\n",
    "gatk CombineGVCFs -R $REF --variant Clone1.g.vcf --variant Clone2.g.vcf  -O final.vcf"
   ]
  },
  {
   "cell_type": "code",
   "execution_count": null,
   "id": "a4dd2089-45e3-49ed-8ae8-04e39ff1d1a1",
   "metadata": {},
   "outputs": [],
   "source": [
    "%%bash\n",
    "\n",
    "REF=\"/home/jovyan/work/DATA/Clone10/referenceCorrect.fasta\"\n",
    "cd /home/jovyan/work/MAPPING-ILL/VCF/\n",
    "ls -lrt\n",
    "head -n 1000 final.vcf | tail\n",
    "\n",
    "gatk --java-options \"-Xmx4g\" GenotypeGVCFs -R $REF -V final.vcf -O final.genotype.vcf"
   ]
  },
  {
   "cell_type": "code",
   "execution_count": null,
   "id": "30dfe980-5f74-4c8c-bf3d-73003fa7f388",
   "metadata": {},
   "outputs": [],
   "source": [
    "%%bash\n",
    "\n",
    "REF=\"/home/jovyan/work/DATA/Clone10/referenceCorrect.fasta\"\n",
    "cd /home/jovyan/work/MAPPING-ILL/VCF/\n",
    "ls -lrt\n",
    "head -n 1000 final.genotype.vcf | tail\n"
   ]
  },
  {
   "cell_type": "code",
   "execution_count": null,
   "id": "2c6cf2a9-05cb-4acf-a52f-f68e316942a8",
   "metadata": {},
   "outputs": [],
   "source": [
    "%%bash\n",
    "\n",
    "REF=\"/home/jovyan/work/DATA/Clone10/referenceCorrect.fasta\"\n",
    "VCF=home/jovyan/work/MAPPING-ILL/VCF/final.genotype.vcf\n",
    "cd /home/jovyan/work/MAPPING-ILL/VCF/f\n",
    "grep  -vc \"^#\" /\n",
    "\n",
    "bcftools stats /home/jovyan/work/MAPPING-ILL/VCF/final.genotype.vcf | head -n 50"
   ]
  },
  {
   "cell_type": "code",
   "execution_count": null,
   "id": "d15b0532-715d-41eb-9ed5-bff6320135b9",
   "metadata": {},
   "outputs": [],
   "source": [
    "eles, --freq would return their identity. We need to add max-alleles 2 to exclude sites that have more than two alleles.\n",
    "\n",
    "vcftools --gzvcf $SUBSET_VCF --freq2 --out $OUT --max-alleles 2"
   ]
  },
  {
   "cell_type": "code",
   "execution_count": null,
   "id": "b1bd8010-5100-4352-a3cd-1e361b59812e",
   "metadata": {},
   "outputs": [],
   "source": [
    "grep -vc \"^#\" out.vcf.gz"
   ]
  }
 ],
 "metadata": {
  "kernelspec": {
   "display_name": "Python 3 (ipykernel)",
   "language": "python",
   "name": "python3"
  },
  "language_info": {
   "codemirror_mode": {
    "name": "ipython",
    "version": 3
   },
   "file_extension": ".py",
   "mimetype": "text/x-python",
   "name": "python",
   "nbconvert_exporter": "python",
   "pygments_lexer": "ipython3",
   "version": "3.9.12"
  }
 },
 "nbformat": 4,
 "nbformat_minor": 5
}
