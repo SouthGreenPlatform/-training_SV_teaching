{
 "cells": [
  {
   "cell_type": "markdown",
   "id": "d015209b-0d23-4c85-994c-79b3535c75a3",
   "metadata": {},
   "source": [
    "#### <span style=\"color:#grey\"> __Formation South Green 2022 - Structural Variants Detection by using short and long reads__ </span>\n",
    "\n",
    "# <span style=\"color:#006E7F\">  <center> __DAY 2 : How to analyze mapping results ?__ </center> </span>\n",
    "\n",
    "Created by C. Tranchant (DIADE-IRD), J. Orjuela (DIADE-IRD), F. Sabot (DIADE-IRD) and A. Dereeper (PHIM-IRD)\n",
    "\n",
    "***\n",
    "\n",
    "# <span style=\"color: #006E7F\">Table of contents</span>\n",
    "<a class=\"anchor\" id=\"home\"></a>\n",
    "\n",
    "[I - Get some basic mapping stats with samtools flagstat](#mappingstats)\n",
    "\n",
    "* [Run samtools flagstat](#flagstat)\n",
    "* [Samtools flagstat output](#flagstatoutput)\n",
    "* [Merge individual flagstat files into an unique file with python code](#multiflagstat) \n",
    "* [Plot mapping ratio per sample](#ratioplot)\n",
    "* [EXERCICE : DO THE SAME MANIP WITH MINIMAP2 RESULTS](#minimap)\n",
    "\n",
    "</span>\n",
    "\n",
    "***\n",
    "\n"
   ]
  },
  {
   "cell_type": "markdown",
   "id": "c65b4b47-c99c-4673-971d-c198e15b5a5d",
   "metadata": {},
   "source": [
    "## <span style=\"color:#006E7F\">__I - Get some basic mapping stats with samtools flagstat__ <a class=\"anchor\" id=\"mappingstats\"></span>  \n",
    "\n",
    "### <span style=\"color: #4CACBC;\"> First go into the directory that contains all the bam files</span>  \n",
    "\n",
    "As we will mainly launch python code to analyse mapping results, the kernel of this jupyter book is Python3. So we are going to add `%` to execute some specific linux commands or `%%bash`  to execute any linux command."
   ]
  },
  {
   "cell_type": "code",
   "execution_count": 1,
   "id": "bd0dac23-2b56-4602-b8dc-a500011aa172",
   "metadata": {
    "tags": []
   },
   "outputs": [
    {
     "name": "stdout",
     "output_type": "stream",
     "text": [
      "/home/jovyan/work/MAPPING-ILL\n",
      "\u001b[0m\u001b[01;34mBAM\u001b[0m/         \u001b[01;34mdirClone12\u001b[0m/  \u001b[01;34mdirClone16\u001b[0m/  \u001b[01;34mdirClone2\u001b[0m/   \u001b[01;34mdirClone5\u001b[0m/  \u001b[01;34mdirClone9\u001b[0m/\n",
      "\u001b[01;34mdirClone1\u001b[0m/   \u001b[01;34mdirClone13\u001b[0m/  \u001b[01;34mdirClone17\u001b[0m/  \u001b[01;34mdirClone20\u001b[0m/  \u001b[01;34mdirClone6\u001b[0m/\n",
      "\u001b[01;34mdirClone10\u001b[0m/  \u001b[01;34mdirClone14\u001b[0m/  \u001b[01;34mdirClone18\u001b[0m/  \u001b[01;34mdirClone3\u001b[0m/   \u001b[01;34mdirClone7\u001b[0m/\n",
      "\u001b[01;34mdirClone11\u001b[0m/  \u001b[01;34mdirClone15\u001b[0m/  \u001b[01;34mdirClone19\u001b[0m/  \u001b[01;34mdirClone4\u001b[0m/   \u001b[01;34mdirClone8\u001b[0m/\n"
     ]
    }
   ],
   "source": [
    "%cd /home/jovyan/work/MAPPING-ILL/\n",
    "%ls"
   ]
  },
  {
   "cell_type": "markdown",
   "id": "11a84023-ebeb-4440-9493-19be55d72726",
   "metadata": {},
   "source": [
    "### <span style=\"color: #4CACBC;\">Grouping the flagstat files previosly created</span>  \n",
    "\n",
    "* Create the subdirectory FLAGSTAT into the directory MAPPING_ILL\n",
    "* copy the flagstat files previously generated into this new directry"
   ]
  },
  {
   "cell_type": "code",
   "execution_count": 2,
   "id": "f8ef1fde-6d6f-47d0-91e7-67f51d12d332",
   "metadata": {},
   "outputs": [
    {
     "name": "stdout",
     "output_type": "stream",
     "text": [
      "/home/jovyan/work/MAPPING-ILL\n"
     ]
    }
   ],
   "source": [
    "%%bash\n",
    "pwd\n",
    "mkdir -p FLAGSTAT\n",
    "cp dir*/*flagstat FLAGSTAT"
   ]
  },
  {
   "cell_type": "markdown",
   "id": "ba4f80de-4eda-401b-a136-d2c46a6c0169",
   "metadata": {},
   "source": [
    "#### <span style=\"color: #4CACBC;\">Check that the flagstat files have been correctly copied</span>"
   ]
  },
  {
   "cell_type": "code",
   "execution_count": 3,
   "id": "7de0a356-47a9-4960-82c8-84fae6eb44b7",
   "metadata": {},
   "outputs": [
    {
     "name": "stdout",
     "output_type": "stream",
     "text": [
      "Clone10.flagstat  Clone15.flagstat  Clone1.flagstat   Clone5.flagstat\n",
      "Clone11.flagstat  Clone16.flagstat  Clone20.flagstat  Clone6.flagstat\n",
      "Clone12.flagstat  Clone17.flagstat  Clone2.flagstat   Clone7.flagstat\n",
      "Clone13.flagstat  Clone18.flagstat  Clone3.flagstat   Clone8.flagstat\n",
      "Clone14.flagstat  Clone19.flagstat  Clone4.flagstat   Clone9.flagstat\n"
     ]
    }
   ],
   "source": [
    "ls FLAGSTAT"
   ]
  },
  {
   "cell_type": "markdown",
   "id": "586e1e6c-e9d3-4aa7-8108-1a1c9a7f428c",
   "metadata": {},
   "source": [
    "### <span style=\"color: #4CACBC;\">Let's look the content of one flagstat file <a class=\"anchor\" id=\"flagstatoutput\"></span> "
   ]
  },
  {
   "cell_type": "code",
   "execution_count": 4,
   "id": "6d18252b-0a2d-4d49-b620-186a8354006c",
   "metadata": {
    "tags": []
   },
   "outputs": [
    {
     "name": "stdout",
     "output_type": "stream",
     "text": [
      "296107 + 0 in total (QC-passed reads + QC-failed reads)\n",
      "0 + 0 duplicates\n",
      "221301 + 0 mapped (74.74%:-nan%)\n",
      "296107 + 0 paired in sequencing\n",
      "148037 + 0 read1\n",
      "148070 + 0 read2\n",
      "218229 + 0 properly paired (73.70%:-nan%)\n",
      "219681 + 0 with itself and mate mapped\n",
      "1620 + 0 singletons (0.55%:-nan%)\n",
      "0 + 0 with mate mapped to a different chr\n",
      "0 + 0 with mate mapped to a different chr (mapQ>=5)\n"
     ]
    }
   ],
   "source": [
    "cat FLAGSTAT/Clone10*stat"
   ]
  },
  {
   "cell_type": "markdown",
   "id": "fb0f44f7-634f-491a-a470-7e62e6dff2d7",
   "metadata": {},
   "source": [
    "### <span style=\"color: #4CACBC;\">Merge individual flagstat files into an unique file with python code <a class=\"anchor\" id=\"multiflagstat\"></span> "
   ]
  },
  {
   "cell_type": "code",
   "execution_count": 5,
   "id": "f3365afa-1224-4a91-82f0-605406771dda",
   "metadata": {},
   "outputs": [
    {
     "name": "stdout",
     "output_type": "stream",
     "text": [
      "DIRECTORY :  /home/jovyan/work/MAPPING-ILL/FLAGSTAT\n",
      "FINAL STAT FILE :  /home/jovyan/work/MAPPING-ILL/FLAGSTAT/all_stat.csv\n"
     ]
    }
   ],
   "source": [
    "# IMPORT PYTHON PACKAGE USED BY THE CODE\n",
    "import os\n",
    "import pandas as pd\n",
    "\n",
    "# VARIABLE INITIALIZATION\n",
    "\n",
    "## NAME OF THE DIRECTORY THAT CONTAINS FLAGSTAT FILES\n",
    "flagstat_dir = \"/home/jovyan/work/MAPPING-ILL/FLAGSTAT\" #PUT THE DIRECTORY NAME THAT CONTAINS FLAGSTAT FILES \n",
    "\n",
    "## NAME OF THE FILE THAT WILL CONTAIN ALL THE FLAGSTAT RESULTATS\n",
    "stat_file = f\"{flagstat_dir}/all_stat.csv\"\n",
    "\n",
    "# PRINT THE CONTENT OF 2 PREVIOUS VARIABLES INITIALIZED\n",
    "print(\"DIRECTORY : \",flagstat_dir)\n",
    "print(\"FINAL STAT FILE : \",stat_file)\n"
   ]
  },
  {
   "cell_type": "code",
   "execution_count": 6,
   "id": "fa949611-0dd8-4ccd-b1b3-7689d496fdec",
   "metadata": {},
   "outputs": [
    {
     "data": {
      "text/plain": [
       "'/home/jovyan/work/MAPPING-ILL'"
      ]
     },
     "execution_count": 6,
     "metadata": {},
     "output_type": "execute_result"
    }
   ],
   "source": [
    "%pwd"
   ]
  },
  {
   "cell_type": "code",
   "execution_count": 7,
   "id": "8da626d7-fc37-409a-9308-9d81baf089d9",
   "metadata": {},
   "outputs": [],
   "source": [
    "# OPEN THE FINAL FILE IN WHICH WE PRINT SOME STATS EXTRACTED FROM EACH INDIVIDUAL FILE GENERATED BY SAMTOOLS FLAGSTAT\n",
    "with open(stat_file, 'w') as stat: \n",
    "    # WRITE A HEADER LINE IN OUR STAT FILE\n",
    "    header_line = \"sample,mapped,paired,unmapped\"\n",
    "    stat.write(header_line)\n",
    "    \n",
    "    # READING EACH FILE OF THE FLGSTAT DIRECTORY\n",
    "    for file in os.listdir(flagstat_dir):\n",
    "        # If flagstat is in name of file\n",
    "        filen = flagstat_dir + \"/\" + file\n",
    "        if \"flagstat\" in file:\n",
    "            # Extract sample name and save into a new variable newLine \n",
    "            new_line = f\"\\n{file.split('.')[0]},\"\n",
    "            # OPEN AND READS FLAGSTAT FILE\n",
    "            with open(filen, \"r\") as flagstat:\n",
    "                # read file line by line\n",
    "                for line in flagstat:\n",
    "                    # remove the line skipper at the endo of the line\n",
    "                    line = line.rstrip()              \n",
    "                    # Keep only line mapped, paired or singleton word\n",
    "                    if 'mapped (' in line or 'paired (' in line or 'singleton' in line:\n",
    "                        # get percentage value and save it into the varaible called perc\n",
    "                        perc = f\"{line.split('(')[1].split('%')[0]}\"\n",
    "                        new_line += f\"{perc},\"\n",
    "                # WRITE THE LINE ONCE THE FLAGSTAT FILE COMPLETELY READ\n",
    "                stat.write(new_line.strip(\",\"))"
   ]
  },
  {
   "cell_type": "markdown",
   "id": "eccefc94-20ef-4508-9ccf-d080f5f14288",
   "metadata": {
    "tags": []
   },
   "source": [
    "### <span style=\"color: #4CACBC;\">Display the content of the final stat file  <a class=\"anchor\" id=\"statfile\"></span> "
   ]
  },
  {
   "cell_type": "code",
   "execution_count": 8,
   "id": "aff90309-8f07-49b2-88ce-8fe0c47fde20",
   "metadata": {},
   "outputs": [
    {
     "name": "stdout",
     "output_type": "stream",
     "text": [
      "sample,mapped,paired,unmapped\n",
      "Clone9,80.41,79.70,0.49\n",
      "Clone1,100.00,100.00,0.00\n",
      "Clone20,76.84,72.97,0.53\n",
      "Clone6,85.92,85.49,0.41\n",
      "Clone3,100.00,100.00,0.00\n",
      "Clone16,75.52,66.81,0.43\n",
      "Clone7,65.75,64.94,0.77\n",
      "Clone2,100.00,100.00,0.00\n",
      "Clone10,74.74,73.70,0.55\n",
      "Clone15,73.85,68.41,0.50\n",
      "Clone17,76.06,72.69,0.52\n",
      "Clone19,74.50,71.10,0.52\n",
      "Clone12,73.02,71.07,0.58\n",
      "Clone18,72.39,69.05,0.50\n",
      "Clone5,89.23,89.00,0.22\n",
      "Clone11,75.20,73.85,0.53\n",
      "Clone13,78.18,75.93,0.53\n",
      "Clone4,99.56,99.53,0.01\n",
      "Clone14,78.03,74.84,0.55\n",
      "Clone8,49.62,48.40,1.14"
     ]
    }
   ],
   "source": [
    "%cat $stat_file"
   ]
  },
  {
   "cell_type": "markdown",
   "id": "4a512002-2fe5-4172-9bc1-cab76a00c76d",
   "metadata": {},
   "source": [
    "### <span style=\"color: #4CACBC;\">Plot mapping ratio per sample <a class=\"anchor\" id=\"ratioplot\"></a></span> \n",
    "\n",
    "#### Load csv file into a panda datafrale\n"
   ]
  },
  {
   "cell_type": "code",
   "execution_count": 9,
   "id": "4b87b0b6-e76c-4950-9b78-3ecd418f6704",
   "metadata": {},
   "outputs": [
    {
     "data": {
      "text/html": [
       "<div>\n",
       "<style scoped>\n",
       "    .dataframe tbody tr th:only-of-type {\n",
       "        vertical-align: middle;\n",
       "    }\n",
       "\n",
       "    .dataframe tbody tr th {\n",
       "        vertical-align: top;\n",
       "    }\n",
       "\n",
       "    .dataframe thead th {\n",
       "        text-align: right;\n",
       "    }\n",
       "</style>\n",
       "<table border=\"1\" class=\"dataframe\">\n",
       "  <thead>\n",
       "    <tr style=\"text-align: right;\">\n",
       "      <th></th>\n",
       "      <th>sample</th>\n",
       "      <th>mapped</th>\n",
       "      <th>paired</th>\n",
       "      <th>unmapped</th>\n",
       "    </tr>\n",
       "  </thead>\n",
       "  <tbody>\n",
       "    <tr>\n",
       "      <th>0</th>\n",
       "      <td>Clone9</td>\n",
       "      <td>80.41</td>\n",
       "      <td>79.70</td>\n",
       "      <td>0.49</td>\n",
       "    </tr>\n",
       "    <tr>\n",
       "      <th>1</th>\n",
       "      <td>Clone1</td>\n",
       "      <td>100.00</td>\n",
       "      <td>100.00</td>\n",
       "      <td>0.00</td>\n",
       "    </tr>\n",
       "    <tr>\n",
       "      <th>2</th>\n",
       "      <td>Clone20</td>\n",
       "      <td>76.84</td>\n",
       "      <td>72.97</td>\n",
       "      <td>0.53</td>\n",
       "    </tr>\n",
       "    <tr>\n",
       "      <th>3</th>\n",
       "      <td>Clone6</td>\n",
       "      <td>85.92</td>\n",
       "      <td>85.49</td>\n",
       "      <td>0.41</td>\n",
       "    </tr>\n",
       "    <tr>\n",
       "      <th>4</th>\n",
       "      <td>Clone3</td>\n",
       "      <td>100.00</td>\n",
       "      <td>100.00</td>\n",
       "      <td>0.00</td>\n",
       "    </tr>\n",
       "    <tr>\n",
       "      <th>5</th>\n",
       "      <td>Clone16</td>\n",
       "      <td>75.52</td>\n",
       "      <td>66.81</td>\n",
       "      <td>0.43</td>\n",
       "    </tr>\n",
       "    <tr>\n",
       "      <th>6</th>\n",
       "      <td>Clone7</td>\n",
       "      <td>65.75</td>\n",
       "      <td>64.94</td>\n",
       "      <td>0.77</td>\n",
       "    </tr>\n",
       "    <tr>\n",
       "      <th>7</th>\n",
       "      <td>Clone2</td>\n",
       "      <td>100.00</td>\n",
       "      <td>100.00</td>\n",
       "      <td>0.00</td>\n",
       "    </tr>\n",
       "    <tr>\n",
       "      <th>8</th>\n",
       "      <td>Clone10</td>\n",
       "      <td>74.74</td>\n",
       "      <td>73.70</td>\n",
       "      <td>0.55</td>\n",
       "    </tr>\n",
       "    <tr>\n",
       "      <th>9</th>\n",
       "      <td>Clone15</td>\n",
       "      <td>73.85</td>\n",
       "      <td>68.41</td>\n",
       "      <td>0.50</td>\n",
       "    </tr>\n",
       "    <tr>\n",
       "      <th>10</th>\n",
       "      <td>Clone17</td>\n",
       "      <td>76.06</td>\n",
       "      <td>72.69</td>\n",
       "      <td>0.52</td>\n",
       "    </tr>\n",
       "    <tr>\n",
       "      <th>11</th>\n",
       "      <td>Clone19</td>\n",
       "      <td>74.50</td>\n",
       "      <td>71.10</td>\n",
       "      <td>0.52</td>\n",
       "    </tr>\n",
       "    <tr>\n",
       "      <th>12</th>\n",
       "      <td>Clone12</td>\n",
       "      <td>73.02</td>\n",
       "      <td>71.07</td>\n",
       "      <td>0.58</td>\n",
       "    </tr>\n",
       "    <tr>\n",
       "      <th>13</th>\n",
       "      <td>Clone18</td>\n",
       "      <td>72.39</td>\n",
       "      <td>69.05</td>\n",
       "      <td>0.50</td>\n",
       "    </tr>\n",
       "    <tr>\n",
       "      <th>14</th>\n",
       "      <td>Clone5</td>\n",
       "      <td>89.23</td>\n",
       "      <td>89.00</td>\n",
       "      <td>0.22</td>\n",
       "    </tr>\n",
       "    <tr>\n",
       "      <th>15</th>\n",
       "      <td>Clone11</td>\n",
       "      <td>75.20</td>\n",
       "      <td>73.85</td>\n",
       "      <td>0.53</td>\n",
       "    </tr>\n",
       "    <tr>\n",
       "      <th>16</th>\n",
       "      <td>Clone13</td>\n",
       "      <td>78.18</td>\n",
       "      <td>75.93</td>\n",
       "      <td>0.53</td>\n",
       "    </tr>\n",
       "    <tr>\n",
       "      <th>17</th>\n",
       "      <td>Clone4</td>\n",
       "      <td>99.56</td>\n",
       "      <td>99.53</td>\n",
       "      <td>0.01</td>\n",
       "    </tr>\n",
       "    <tr>\n",
       "      <th>18</th>\n",
       "      <td>Clone14</td>\n",
       "      <td>78.03</td>\n",
       "      <td>74.84</td>\n",
       "      <td>0.55</td>\n",
       "    </tr>\n",
       "    <tr>\n",
       "      <th>19</th>\n",
       "      <td>Clone8</td>\n",
       "      <td>49.62</td>\n",
       "      <td>48.40</td>\n",
       "      <td>1.14</td>\n",
       "    </tr>\n",
       "  </tbody>\n",
       "</table>\n",
       "</div>"
      ],
      "text/plain": [
       "     sample  mapped  paired  unmapped\n",
       "0    Clone9   80.41   79.70      0.49\n",
       "1    Clone1  100.00  100.00      0.00\n",
       "2   Clone20   76.84   72.97      0.53\n",
       "3    Clone6   85.92   85.49      0.41\n",
       "4    Clone3  100.00  100.00      0.00\n",
       "5   Clone16   75.52   66.81      0.43\n",
       "6    Clone7   65.75   64.94      0.77\n",
       "7    Clone2  100.00  100.00      0.00\n",
       "8   Clone10   74.74   73.70      0.55\n",
       "9   Clone15   73.85   68.41      0.50\n",
       "10  Clone17   76.06   72.69      0.52\n",
       "11  Clone19   74.50   71.10      0.52\n",
       "12  Clone12   73.02   71.07      0.58\n",
       "13  Clone18   72.39   69.05      0.50\n",
       "14   Clone5   89.23   89.00      0.22\n",
       "15  Clone11   75.20   73.85      0.53\n",
       "16  Clone13   78.18   75.93      0.53\n",
       "17   Clone4   99.56   99.53      0.01\n",
       "18  Clone14   78.03   74.84      0.55\n",
       "19   Clone8   49.62   48.40      1.14"
      ]
     },
     "execution_count": 9,
     "metadata": {},
     "output_type": "execute_result"
    }
   ],
   "source": [
    "df_bam_stat = pd.read_csv(stat_file, index_col=False, sep=\",\")\n",
    "df_bam_stat"
   ]
  },
  {
   "cell_type": "markdown",
   "id": "cb1b6397-f6d2-4d27-9f85-1ee363a4b499",
   "metadata": {
    "tags": []
   },
   "source": [
    "#### Basic stats"
   ]
  },
  {
   "cell_type": "code",
   "execution_count": 13,
   "id": "0d111bd5-3966-4d48-8a49-8131654ca1f9",
   "metadata": {},
   "outputs": [
    {
     "name": "stdout",
     "output_type": "stream",
     "text": [
      "0      80.41\n",
      "1     100.00\n",
      "2      76.84\n",
      "3      85.92\n",
      "4     100.00\n",
      "5      75.52\n",
      "6      65.75\n",
      "7     100.00\n",
      "8      74.74\n",
      "9      73.85\n",
      "10     76.06\n",
      "11     74.50\n",
      "12     73.02\n",
      "13     72.39\n",
      "14     89.23\n",
      "15     75.20\n",
      "16     78.18\n",
      "17     99.56\n",
      "18     78.03\n",
      "19     49.62\n",
      "Name: mapped, dtype: float64\n"
     ]
    }
   ],
   "source": [
    "# Je n'affiche que les valeurs de la colonne \"mapped\"\n",
    "print(df_bam_stat['mapped'])"
   ]
  },
  {
   "cell_type": "code",
   "execution_count": 14,
   "id": "da8d2754-548d-494e-931e-d1e87d6334ac",
   "metadata": {},
   "outputs": [
    {
     "name": "stdout",
     "output_type": "stream",
     "text": [
      "\n",
      "######## BASIC STATS\n",
      " MAPPED\n",
      "\t%min : 49.62\t %max : 100.0\t %mean : 79.941\n"
     ]
    }
   ],
   "source": [
    "# J affiche la moyenne, min et max de cette colonne\n",
    "minimum = df_bam_stat[\"mapped\"].min()\n",
    "maximun = df_bam_stat[\"mapped\"].max()\n",
    "mean_flag = df_bam_stat[\"mapped\"].mean()\n",
    "\n",
    "print(\"\\n######## BASIC STATS\\n MAPPED\")       \n",
    "print(f\"\\t%min : {minimum}\\t %max : {maximun}\\t %mean : {mean_flag}\")\n"
   ]
  },
  {
   "cell_type": "markdown",
   "id": "34836741-81ac-4b8f-8067-f0e6192eb3c2",
   "metadata": {},
   "source": [
    "#### Sort by clone name"
   ]
  },
  {
   "cell_type": "code",
   "execution_count": 11,
   "id": "87b44f61-bf83-4a7f-8938-7de01f5b6c06",
   "metadata": {},
   "outputs": [
    {
     "data": {
      "text/html": [
       "<div>\n",
       "<style scoped>\n",
       "    .dataframe tbody tr th:only-of-type {\n",
       "        vertical-align: middle;\n",
       "    }\n",
       "\n",
       "    .dataframe tbody tr th {\n",
       "        vertical-align: top;\n",
       "    }\n",
       "\n",
       "    .dataframe thead th {\n",
       "        text-align: right;\n",
       "    }\n",
       "</style>\n",
       "<table border=\"1\" class=\"dataframe\">\n",
       "  <thead>\n",
       "    <tr style=\"text-align: right;\">\n",
       "      <th></th>\n",
       "      <th>sample</th>\n",
       "      <th>mapped</th>\n",
       "      <th>paired</th>\n",
       "      <th>unmapped</th>\n",
       "    </tr>\n",
       "  </thead>\n",
       "  <tbody>\n",
       "    <tr>\n",
       "      <th>1</th>\n",
       "      <td>Clone1</td>\n",
       "      <td>100.00</td>\n",
       "      <td>100.00</td>\n",
       "      <td>0.00</td>\n",
       "    </tr>\n",
       "    <tr>\n",
       "      <th>8</th>\n",
       "      <td>Clone10</td>\n",
       "      <td>74.74</td>\n",
       "      <td>73.70</td>\n",
       "      <td>0.55</td>\n",
       "    </tr>\n",
       "    <tr>\n",
       "      <th>15</th>\n",
       "      <td>Clone11</td>\n",
       "      <td>75.20</td>\n",
       "      <td>73.85</td>\n",
       "      <td>0.53</td>\n",
       "    </tr>\n",
       "    <tr>\n",
       "      <th>12</th>\n",
       "      <td>Clone12</td>\n",
       "      <td>73.02</td>\n",
       "      <td>71.07</td>\n",
       "      <td>0.58</td>\n",
       "    </tr>\n",
       "    <tr>\n",
       "      <th>16</th>\n",
       "      <td>Clone13</td>\n",
       "      <td>78.18</td>\n",
       "      <td>75.93</td>\n",
       "      <td>0.53</td>\n",
       "    </tr>\n",
       "    <tr>\n",
       "      <th>18</th>\n",
       "      <td>Clone14</td>\n",
       "      <td>78.03</td>\n",
       "      <td>74.84</td>\n",
       "      <td>0.55</td>\n",
       "    </tr>\n",
       "    <tr>\n",
       "      <th>9</th>\n",
       "      <td>Clone15</td>\n",
       "      <td>73.85</td>\n",
       "      <td>68.41</td>\n",
       "      <td>0.50</td>\n",
       "    </tr>\n",
       "    <tr>\n",
       "      <th>5</th>\n",
       "      <td>Clone16</td>\n",
       "      <td>75.52</td>\n",
       "      <td>66.81</td>\n",
       "      <td>0.43</td>\n",
       "    </tr>\n",
       "    <tr>\n",
       "      <th>10</th>\n",
       "      <td>Clone17</td>\n",
       "      <td>76.06</td>\n",
       "      <td>72.69</td>\n",
       "      <td>0.52</td>\n",
       "    </tr>\n",
       "    <tr>\n",
       "      <th>13</th>\n",
       "      <td>Clone18</td>\n",
       "      <td>72.39</td>\n",
       "      <td>69.05</td>\n",
       "      <td>0.50</td>\n",
       "    </tr>\n",
       "    <tr>\n",
       "      <th>11</th>\n",
       "      <td>Clone19</td>\n",
       "      <td>74.50</td>\n",
       "      <td>71.10</td>\n",
       "      <td>0.52</td>\n",
       "    </tr>\n",
       "    <tr>\n",
       "      <th>7</th>\n",
       "      <td>Clone2</td>\n",
       "      <td>100.00</td>\n",
       "      <td>100.00</td>\n",
       "      <td>0.00</td>\n",
       "    </tr>\n",
       "    <tr>\n",
       "      <th>2</th>\n",
       "      <td>Clone20</td>\n",
       "      <td>76.84</td>\n",
       "      <td>72.97</td>\n",
       "      <td>0.53</td>\n",
       "    </tr>\n",
       "    <tr>\n",
       "      <th>4</th>\n",
       "      <td>Clone3</td>\n",
       "      <td>100.00</td>\n",
       "      <td>100.00</td>\n",
       "      <td>0.00</td>\n",
       "    </tr>\n",
       "    <tr>\n",
       "      <th>17</th>\n",
       "      <td>Clone4</td>\n",
       "      <td>99.56</td>\n",
       "      <td>99.53</td>\n",
       "      <td>0.01</td>\n",
       "    </tr>\n",
       "    <tr>\n",
       "      <th>14</th>\n",
       "      <td>Clone5</td>\n",
       "      <td>89.23</td>\n",
       "      <td>89.00</td>\n",
       "      <td>0.22</td>\n",
       "    </tr>\n",
       "    <tr>\n",
       "      <th>3</th>\n",
       "      <td>Clone6</td>\n",
       "      <td>85.92</td>\n",
       "      <td>85.49</td>\n",
       "      <td>0.41</td>\n",
       "    </tr>\n",
       "    <tr>\n",
       "      <th>6</th>\n",
       "      <td>Clone7</td>\n",
       "      <td>65.75</td>\n",
       "      <td>64.94</td>\n",
       "      <td>0.77</td>\n",
       "    </tr>\n",
       "    <tr>\n",
       "      <th>19</th>\n",
       "      <td>Clone8</td>\n",
       "      <td>49.62</td>\n",
       "      <td>48.40</td>\n",
       "      <td>1.14</td>\n",
       "    </tr>\n",
       "    <tr>\n",
       "      <th>0</th>\n",
       "      <td>Clone9</td>\n",
       "      <td>80.41</td>\n",
       "      <td>79.70</td>\n",
       "      <td>0.49</td>\n",
       "    </tr>\n",
       "  </tbody>\n",
       "</table>\n",
       "</div>"
      ],
      "text/plain": [
       "     sample  mapped  paired  unmapped\n",
       "1    Clone1  100.00  100.00      0.00\n",
       "8   Clone10   74.74   73.70      0.55\n",
       "15  Clone11   75.20   73.85      0.53\n",
       "12  Clone12   73.02   71.07      0.58\n",
       "16  Clone13   78.18   75.93      0.53\n",
       "18  Clone14   78.03   74.84      0.55\n",
       "9   Clone15   73.85   68.41      0.50\n",
       "5   Clone16   75.52   66.81      0.43\n",
       "10  Clone17   76.06   72.69      0.52\n",
       "13  Clone18   72.39   69.05      0.50\n",
       "11  Clone19   74.50   71.10      0.52\n",
       "7    Clone2  100.00  100.00      0.00\n",
       "2   Clone20   76.84   72.97      0.53\n",
       "4    Clone3  100.00  100.00      0.00\n",
       "17   Clone4   99.56   99.53      0.01\n",
       "14   Clone5   89.23   89.00      0.22\n",
       "3    Clone6   85.92   85.49      0.41\n",
       "6    Clone7   65.75   64.94      0.77\n",
       "19   Clone8   49.62   48.40      1.14\n",
       "0    Clone9   80.41   79.70      0.49"
      ]
     },
     "execution_count": 11,
     "metadata": {},
     "output_type": "execute_result"
    }
   ],
   "source": [
    "df_bam_stat_sorted=df_bam_stat.sort_values(by=['sample'])\n",
    "df_bam_stat_sorted"
   ]
  },
  {
   "cell_type": "markdown",
   "id": "8a3b978c-fa7e-45f2-91c5-003d15b722c3",
   "metadata": {},
   "source": [
    "#### Your first plot with python"
   ]
  },
  {
   "cell_type": "code",
   "execution_count": 15,
   "id": "213d0cd9-2c76-40dd-8843-486b99af7c9e",
   "metadata": {
    "tags": []
   },
   "outputs": [
    {
     "data": {
      "text/plain": [
       "<AxesSubplot:xlabel='sample', ylabel='paired'>"
      ]
     },
     "execution_count": 15,
     "metadata": {},
     "output_type": "execute_result"
    },
    {
     "data": {
      "image/png": "[encoded data removed]",
      "text/plain": [
       "<Figure size 1080x576 with 1 Axes>"
      ]
     },
     "metadata": {
      "needs_background": "light"
     },
     "output_type": "display_data"
    }
   ],
   "source": [
    "# Plot with seaborn\n",
    "import matplotlib.pyplot as plt\n",
    "import seaborn as sns\n",
    "\n",
    "plt.figure(figsize = (15,8))\n",
    "sns.scatterplot(x=\"sample\",y=\"paired\", data=df_bam_stat_sorted)"
   ]
  },
  {
   "cell_type": "code",
   "execution_count": 17,
   "id": "90db87ba-e830-4c7c-bd3c-5827cb43d637",
   "metadata": {},
   "outputs": [
    {
     "data": {
      "text/plain": [
       "Text(0, 0.5, 'Mapping percentage')"
      ]
     },
     "execution_count": 17,
     "metadata": {},
     "output_type": "execute_result"
    },
    {
     "data": {
      "image/png": "[encoded data removed]",
      "text/plain": [
       "<Figure size 1080x576 with 1 Axes>"
      ]
     },
     "metadata": {
      "needs_background": "light"
     },
     "output_type": "display_data"
    }
   ],
   "source": [
    "# Plot with seaborn\n",
    "import matplotlib.pyplot as plt\n",
    "import seaborn as sns\n",
    "\n",
    "plt.figure(figsize = (15,8))\n",
    "ax=sns.scatterplot(x=\"sample\",y=\"value\", hue='variable', data=pd.melt(df_bam_stat_sorted, 'sample'))\n",
    "ax.set_title(\"scatterplot from mapping using clones \")\n",
    "ax.set_xlabel(\"Clones\")\n",
    "ax.set_ylabel(\"Mapping percentage\")"
   ]
  },
  {
   "cell_type": "markdown",
   "id": "0e248d3c-c31e-4251-9192-260190cc5f62",
   "metadata": {
    "tags": []
   },
   "source": [
    "### <span style=\"color: #4CACBC;\"> EXERCICE : DO THE SAME THING WITH MINIMAP2 RESULTS <a class=\"anchor\" id=\"minimap\"></span> "
   ]
  },
  {
   "cell_type": "code",
   "execution_count": null,
   "id": "8257e0ba-c7ae-4193-815a-9449dec2766f",
   "metadata": {},
   "outputs": [],
   "source": []
  }
 ],
 "metadata": {
  "kernelspec": {
   "display_name": "Python 3 (ipykernel)",
   "language": "python",
   "name": "python3"
  },
  "language_info": {
   "codemirror_mode": {
    "name": "ipython",
    "version": 3
   },
   "file_extension": ".py",
   "mimetype": "text/x-python",
   "name": "python",
   "nbconvert_exporter": "python",
   "pygments_lexer": "ipython3",
   "version": "3.9.12"
  }
 },
 "nbformat": 4,
 "nbformat_minor": 5
}
