{
 "cells": [
  {
   "cell_type": "markdown",
   "id": "6be1a832-ced2-4cfa-94bf-f23eb6558982",
   "metadata": {},
   "source": [
    "# <span style=\"color:green\">Formation South Green 2022</span> - Structural Variants Detection by using short reads \n",
    "\n",
    "# __DAY 2 : SNP calling__\n",
    "\n",
    "Created by C. Tranchant (DIADE-IRD), J. Orjuela (DIADE-IRD), F. Sabot (DIADE-IRD) and A. Dereeper (PHIM-IRD)\n",
    "\n",
    "\n",
    "***\n",
    "\n",
    "# <span style=\"color: #006E7F\">Table of contents</span>\n",
    "<a class=\"anchor\" id=\"home\"></a>\n",
    "\n",
    "[I - Preparing data](#data)\n",
    "\n",
    "[II - SNP CALLING USING `GATK`](#gatk) \n",
    "   * [HaplotypeCaller `GATK` for all clones](#HC2)\n",
    "   * [CombineGVCF `GATK`  ](#samtoolsview)\n",
    "   * [Compute the Genotypes  ](#combine)\n",
    "   * [Count the number of variants with `bcftools stat`  ](#bcftools)\n",
    " \n",
    "\n",
    "***"
   ]
  },
  {
   "cell_type": "markdown",
   "id": "895bacef-5993-46e5-ba43-86797d5a1ea0",
   "metadata": {},
   "source": [
    "# <span style=\"color:#006E7F\">__I - Preparing data__ <a class=\"anchor\" id=\"data\"></span>  \n",
    "\n",
    "### <span style=\"color: #4CACBC;\"> First create a dedicated folder to work</span>  \n"
   ]
  },
  {
   "cell_type": "code",
   "execution_count": null,
   "id": "fceac7fa-6c14-41f3-bccc-492edca10f06",
   "metadata": {},
   "outputs": [],
   "source": [
    "# go to work directory\n",
    "cd /home/jovyan/MAPPING_SR\n",
    "ls"
   ]
  },
  {
   "cell_type": "markdown",
   "id": "b7861d8a-56af-4ed9-8b46-3d5583931a6b",
   "metadata": {},
   "source": [
    "# <span style=\"color:#006E7F\">__II - SNP CALLING USING `bcftools`__ <a class=\"anchor\" id=\"gatk\"></span>  "
   ]
  },
  {
   "cell_type": "markdown",
   "id": "85dd67e1-6696-4c37-af1e-ca381a34fc68",
   "metadata": {},
   "source": [
    "###  <span style=\"color:#006E7F\">We are going to use only one clones to check is all is ok before run the whole of samples ! </span>  "
   ]
  },
  {
   "cell_type": "code",
   "execution_count": null,
   "id": "1eb6344c-a5f2-4e0e-a798-6f0fbfab8483",
   "metadata": {},
   "outputs": [],
   "source": [
    "# go to SR mapping results\n",
    "cd /home/jovyan/work/MAPPING-SR/"
   ]
  },
  {
   "cell_type": "code",
   "execution_count": null,
   "id": "9b436945-2f98-4662-85a2-da1dc1d904d7",
   "metadata": {
    "tags": []
   },
   "outputs": [],
   "source": [
    "ls /home/jovyan/work/MAPPING-SR/"
   ]
  },
  {
   "cell_type": "markdown",
   "id": "8836759d-5737-4dba-ae5f-cf81a1485a8b",
   "metadata": {},
   "source": [
    "## <span style=\"color:#006E7F\">Indexing reference with `samtools` and `GATK` <a class=\"anchor\" id=\"indexref\"></span>  "
   ]
  },
  {
   "cell_type": "code",
   "execution_count": null,
   "id": "9a944e78-53d4-44ea-93b8-9fc19b99219f",
   "metadata": {
    "tags": []
   },
   "outputs": [],
   "source": [
    "cd $REF_DIR\n",
    "samtools faidx $REF"
   ]
  },
  {
   "cell_type": "markdown",
   "id": "ddc481e5-9697-4106-a145-bb7d6183a4a0",
   "metadata": {},
   "source": [
    "## <span style=\"color:#006E7F\">SNP Calling for a Clone <a class=\"anchor\" id=\"HC\"></span>  "
   ]
  },
  {
   "cell_type": "code",
   "execution_count": null,
   "id": "d5e8e1eb-3d05-40a5-9957-021f83ed9965",
   "metadata": {
    "tags": []
   },
   "outputs": [],
   "source": [
    "# go to bam repertory\n",
    "cd /home/jovyan/work/MAPPING-ILL/dirClone${i}\n",
    "\n",
    "#https://wikis.utexas.edu/display/bioiteam/Single+Nucleotide+Variant+%28SNV%29+calling+Tutorial+GVA2021\n",
    "bcftools mpileup --annotate FORMAT/AD,FORMAT/ADF,FORMAT/ADR,FORMAT/DP,FORMAT/SP -O u -f ../SV_DATA/REF/reference.fasta Clone10.f2.paired.sorted.bam  Clone2.f2.paired.sorted.bam  Clone4.f2.paired.sorted.bam  Clone6.f2.paired.sorted.bam  Clone8.f2.paired.sorted.bam Clone1.f2.paired.sorted.bam   Clone3.f2.paired.sorted.bam  Clone5.f2.paired.sorted.bam  Clone7.f2.paired.sorted.bam  Clone9.f2.paired.sorted.bamam -o clone1-10.bcf\n",
    "bcftools call -v -c clone1-10.bcf > clone1-10.vcf"
   ]
  },
  {
   "cell_type": "code",
   "execution_count": null,
   "id": "b6301bbf-ce26-4bf5-8d84-14917f59fb70",
   "metadata": {},
   "outputs": [],
   "source": [
    "###"
   ]
  },
  {
   "cell_type": "code",
   "execution_count": null,
   "id": "d8ada194-7365-4886-9982-97c860842d64",
   "metadata": {},
   "outputs": [],
   "source": [
    "head Clone$i.g.vcf"
   ]
  },
  {
   "cell_type": "markdown",
   "id": "74813193-5d58-4a21-ac39-02233366c7f4",
   "metadata": {
    "tags": []
   },
   "source": [
    "## <span style=\"color:#006E7F\"> => Calling all samples on one raw VCF with correct BAM files<a class=\"anchor\" id=\"HCOK\"></span> "
   ]
  },
  {
   "cell_type": "code",
   "execution_count": null,
   "id": "39ce7d41-bdbc-40f9-8fbe-09eda8ce5f85",
   "metadata": {
    "tags": []
   },
   "outputs": [],
   "source": [
    "BAM_ILL=\"/home/jovyan/work/BAM_ILL\"\n",
    "ls $BAM_ILL"
   ]
  },
  {
   "cell_type": "code",
   "execution_count": null,
   "id": "fc1f5a57-96ff-412c-a866-f536314c1f36",
   "metadata": {},
   "outputs": [],
   "source": [
    "# create a work directory to SNP calling results\n",
    "mkdir -p /home/jovyan/work/VCF\n",
    "VCF_DIR=\"/home/jovyan/work/VCF\""
   ]
  },
  {
   "cell_type": "markdown",
   "id": "2a1a59ea-cd90-4533-a33d-17e1db77a17a",
   "metadata": {
    "tags": []
   },
   "source": [
    "## <span style=\"color:#006E7F\"> Markduplicates `GATK` for all clones <a class=\"anchor\" id=\"md2\"></span>  "
   ]
  },
  {
   "cell_type": "code",
   "execution_count": null,
   "id": "f16f3738-431c-44c7-a4f6-e4493f92a232",
   "metadata": {
    "tags": []
   },
   "outputs": [],
   "source": [
    "cd $BAM_ILL\n",
    "for i in ....."
   ]
  },
  {
   "cell_type": "markdown",
   "id": "0cbc9d7d-b059-47de-ba8d-2ab42d4c7774",
   "metadata": {},
   "source": [
    "## <span style=\"color:#006E7F\">HaplotypeCaller `GATK` for all clones <a class=\"anchor\" id=\"HC2\"></span>  \n"
   ]
  },
  {
   "cell_type": "code",
   "execution_count": null,
   "id": "0251d02d-1c88-4b9d-9f06-52f5cd2d841b",
   "metadata": {
    "tags": []
   },
   "outputs": [],
   "source": []
  },
  {
   "cell_type": "markdown",
   "id": "07a52085-ad7b-4833-b8c4-845085a2ff23",
   "metadata": {
    "tags": []
   },
   "source": [
    "## <span style=\"color:#006E7F\">CombineGVCF `GATK`<a class=\"anchor\" id=\"combine\"></span>  "
   ]
  },
  {
   "cell_type": "code",
   "execution_count": null,
   "id": "6afa0781-11db-4c1a-ad29-5d8c4dbe1efd",
   "metadata": {
    "tags": []
   },
   "outputs": [],
   "source": [
    "BAM_ILL=\"/home/jovyan/work/BAM_ILL\"\n",
    "VCF_DIR=\"/home/jovyan/work/VCF\"\n",
    "REF=\"/home/jovyan/work/SV_DATA/REF/reference.fasta\"\n",
    "\n",
    "# change of work directory\n",
    "cd $VCF_DIR\n",
    "# Loop to inflate the --variant option\n",
    "OPTION=\"\"\n",
    "for i in {1..20}\n",
    "do\n",
    "    OPTION=\"${OPTION} --variant Clone${i}.g.vcf\"\n",
    "done\n",
    "echo $OPTION\n",
    "# GATK\n",
    "gatk CombineGVCFs -R $REF $OPTION -O rawSNP.vcf"
   ]
  },
  {
   "cell_type": "markdown",
   "id": "71d2f82d-dfc9-45ef-bca4-c186c356b4fe",
   "metadata": {},
   "source": [
    "### <span style=\"color:#006E7F\">Have a Look to the vcf created by combineGVCF<a class=\"anchor\" id=\"combine\"></span> "
   ]
  },
  {
   "cell_type": "code",
   "execution_count": null,
   "id": "9dbd61ee-0e7d-4bda-bc26-bfeb0830193f",
   "metadata": {
    "tags": []
   },
   "outputs": [],
   "source": []
  },
  {
   "cell_type": "markdown",
   "id": "e2ec071c-36de-498a-bc4b-2099bd1308e4",
   "metadata": {},
   "source": [
    "## <span style=\"color:#006E7F\">Compute the Genotypes `GenotypeGVCFs` <a class=\"anchor\" id=\"geno\"></span> \n"
   ]
  },
  {
   "cell_type": "code",
   "execution_count": null,
   "id": "b6fbf4fe-d12f-4bf3-92b9-9aa446867e61",
   "metadata": {
    "tags": []
   },
   "outputs": [],
   "source": []
  },
  {
   "cell_type": "markdown",
   "id": "4629c532-f09c-4d1e-8e1d-9e58c78abc03",
   "metadata": {},
   "source": [
    "### <span style=\"color:#006E7F\">Have a Look to the vcf created by GenotypeGVCFs<a class=\"anchor\" id=\"combine\"></span> "
   ]
  },
  {
   "cell_type": "code",
   "execution_count": null,
   "id": "466b3284-5406-4701-b794-867e234c3c85",
   "metadata": {
    "tags": []
   },
   "outputs": [],
   "source": []
  }
 ],
 "metadata": {
  "kernelspec": {
   "display_name": "Bash",
   "language": "bash",
   "name": "bash"
  },
  "language_info": {
   "codemirror_mode": "shell",
   "file_extension": ".sh",
   "mimetype": "text/x-sh",
   "name": "bash"
  }
 },
 "nbformat": 4,
 "nbformat_minor": 5
}
