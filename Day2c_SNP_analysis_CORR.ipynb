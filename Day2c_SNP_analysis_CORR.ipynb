{
 "cells": [
  {
   "cell_type": "markdown",
   "id": "d015209b-0d23-4c85-994c-79b3535c75a3",
   "metadata": {},
   "source": [
    "#### <span style=\"color:#grey\"> __Formation South Green 2022 - Structural Variants Detection by using short and long reads__ </span>\n",
    "\n",
    "# <span style=\"color:#006E7F\">  <center> __DAY 2 : How to analyze vcf results ?__ </center> </span>\n",
    "\n",
    "Created by C. Tranchant (DIADE-IRD), J. Orjuela (DIADE-IRD), F. Sabot (DIADE-IRD) and A. Dereeper (PHIM-IRD)\n",
    "\n",
    "***\n",
    "\n",
    "# <span style=\"color: #006E7F\">Table of contents</span>\n",
    "<a class=\"anchor\" id=\"home\"></a>\n",
    "\n",
    "[I - Get some basic stats from vcf files](#statvcf)\n",
    "\n",
    "[II - FILTERING VCF](#vcffiltering)\n",
    "\n",
    "</span>\n",
    "\n",
    "***\n",
    "\n"
   ]
  },
  {
   "cell_type": "markdown",
   "id": "18a5bfca-2b96-49b1-bdc0-4d174f9f7c3e",
   "metadata": {},
   "source": [
    "## <span style=\"color:#006E7F\">__I. Get some basic stats from vcf files__ <a class=\"anchor\" id=\"statvcf\"></a></span> \n",
    "\n",
    "In this exercise, we are going to work with the whole vcf generated from the 20 clones.\n",
    "\n",
    "#### Firstly, download the directory that contains the vcf into the subdirectory `work` and decompress it\n",
    "link : https://itrop.ird.fr/sv-training/VCF_CLONES.tar.gz"
   ]
  },
  {
   "cell_type": "code",
   "execution_count": null,
   "id": "d4120b59-c2e5-4c54-8787-a8f755fbbb70",
   "metadata": {},
   "outputs": [],
   "source": [
    "%%bash\n",
    "cd /home/jovyan/work/\n",
    "wget https://itrop.ird.fr/sv-training/VCF_CLONES.tar.gz\n",
    "tar zxvf VCF_CLONES.tar.gz\n",
    "rm VCF_CLONES.tar.gz"
   ]
  },
  {
   "cell_type": "markdown",
   "id": "304d9ab0-294c-4307-8cb7-a14154fb10cb",
   "metadata": {},
   "source": [
    "### <span style=\"color: #4CACBC;\">First go into the directory that containsthe  vcf file to analyze  </span> \n",
    "\n",
    "* List the content of this directory\n"
   ]
  },
  {
   "cell_type": "code",
   "execution_count": 6,
   "id": "d0c0a6de-6fc7-48bf-ab3a-278590402d1c",
   "metadata": {},
   "outputs": [
    {
     "name": "stdout",
     "output_type": "stream",
     "text": [
      "/home/jovyan/work/VCF_CLONES\n"
     ]
    }
   ],
   "source": [
    "cd /home/jovyan/work/VCF_CLONES/"
   ]
  },
  {
   "cell_type": "code",
   "execution_count": 3,
   "id": "33b3039d-ef19-4766-af89-8e831266fca1",
   "metadata": {},
   "outputs": [
    {
     "name": "stdout",
     "output_type": "stream",
     "text": [
      "genome.txt  output.vcf  output.vcf.idx  rawSNP.vcf  rawSNP.vcf.idx\n"
     ]
    }
   ],
   "source": [
    "ls"
   ]
  },
  {
   "cell_type": "markdown",
   "id": "aa5e1b2b-82f7-4710-b84f-06545badbfa9",
   "metadata": {},
   "source": [
    "### <span style=\"color: #4CACBC;\">Count the number of variants with `bcftools stat`<a class=\"anchor\" id=\"bcftools\"></a></span> \n",
    "\n",
    "* run the bcftools stats on the vcf file and save the result into the file `rice-CHR6.200000.vcf.stat`\n",
    "* check that the file have been correctly created and display the 35 first lines of this file\n",
    "* How many samples were used for this SNP analysis ?\n",
    "* How many SNPs were detected ?"
   ]
  },
  {
   "cell_type": "code",
   "execution_count": 4,
   "id": "e005df0c-3ac1-4c29-930e-8c4cda3036a4",
   "metadata": {},
   "outputs": [],
   "source": [
    "%%bash\n",
    "bcftools stats output.vcf >  output.vcf.stat"
   ]
  },
  {
   "cell_type": "markdown",
   "id": "1d79f4a9-afaf-4b0a-9a4a-b3d46fcca1e0",
   "metadata": {},
   "source": [
    "#### Display the first lines of the stat file"
   ]
  },
  {
   "cell_type": "code",
   "execution_count": 5,
   "id": "6350543e-0c09-42fa-a4ac-9bb93d03f711",
   "metadata": {},
   "outputs": [
    {
     "name": "stdout",
     "output_type": "stream",
     "text": [
      "# This file was produced by bcftools stats (1.10.2+htslib-1.10.2-3) and can be plotted using plot-vcfstats.\n",
      "# The command line was:\tbcftools stats  output.vcf\n",
      "#\n",
      "# Definition of sets:\n",
      "# ID\t[2]id\t[3]tab-separated file names\n",
      "ID\t0\toutput.vcf\n",
      "# SN, Summary numbers:\n",
      "#   number of records   .. number of data rows in the VCF\n",
      "#   number of no-ALTs   .. reference-only sites, ALT is either \".\" or identical to REF\n",
      "#   number of SNPs      .. number of rows with a SNP\n",
      "#   number of MNPs      .. number of rows with a MNP, such as CC>TT\n",
      "#   number of indels    .. number of rows with an indel\n",
      "#   number of others    .. number of rows with other type, for example a symbolic allele or\n",
      "#                          a complex substitution, such as ACT>TCGA\n",
      "#   number of multiallelic sites     .. number of rows with multiple alternate alleles\n",
      "#   number of multiallelic SNP sites .. number of rows with multiple alternate alleles, all SNPs\n",
      "# \n",
      "#   Note that rows containing multiple types will be counted multiple times, in each\n",
      "#   counter. For example, a row with a SNP and an indel increments both the SNP and\n",
      "#   the indel counter.\n",
      "# \n",
      "# SN\t[2]id\t[3]key\t[4]value\n",
      "SN\t0\tnumber of samples:\t20\n",
      "SN\t0\tnumber of records:\t568240\n",
      "SN\t0\tnumber of no-ALTs:\t0\n",
      "SN\t0\tnumber of SNPs:\t564851\n",
      "SN\t0\tnumber of MNPs:\t0\n",
      "SN\t0\tnumber of indels:\t8428\n",
      "SN\t0\tnumber of others:\t0\n",
      "SN\t0\tnumber of multiallelic sites:\t167022\n",
      "SN\t0\tnumber of multiallelic SNP sites:\t156797\n",
      "# TSTV, transitions/transversions:\n",
      "# TSTV\t[2]id\t[3]ts\t[4]tv\t[5]ts/tv\t[6]ts (1st ALT)\t[7]tv (1st ALT)\t[8]ts/tv (1st ALT)\n",
      "TSTV\t0\t247090\t493302\t0.50\t187661\t375044\t0.50\n",
      "# SiS, Singleton stats:\n"
     ]
    }
   ],
   "source": [
    "%%bash\n",
    "head -n 35 output.vcf.stat"
   ]
  },
  {
   "cell_type": "markdown",
   "id": "74b53089-03fd-4d0a-a710-712acb2c8268",
   "metadata": {},
   "source": [
    "### <span style=\"color: #4CACBC;\">Generating statistics from a VCF to determine how to set filters on it<a class=\"anchor\" id=\"vcffilters\"></a></span> `vcftools`\n",
    "\n",
    "We will generate more statistics from a VCF using vcftools (LINK MANUAL), a very useful and fast program for handling vcf files \n",
    "to easily calculate these statistics in order to better define filters we will apply and to get an idea of how to set such filtering thresholds. \n",
    "\n",
    "The main information we will consider are:\n",
    "* Depth: Usually, we filter SNP with a minimum and maximum depth. We use a minimum depth cutoffs to remove false positive calls and to keep higher quality calls too. \n",
    "A maximum cut off allow to remove regions with very, very high read depths such as repetitive regions.\n",
    "* Quality Genotype quality : With this filter, we should not trust any genotype with a Phred score below 20 which suggests a less than 99% accuracy.\n",
    "* Minor allele frequency MAF can cause big problems with SNP calls - and also inflate statistical estimates downstream. Ideally you want an idea of the distribution of your \n",
    "allelic frequencies but 0.05 to 0.10 is a reasonable cut-off. You should keep in mind however that some analyses, particularly demographic inference can be biased by MAF thresholds.\n",
    "* Missing data How much missing data are you willing to tolerate? It will depend on the study but typically any site with >25% missing data should be dropped.\n",
    "* biallelic, heterozygosity...\n",
    "\n",
    "In this training, we will just display quality and depth distribution... but you should do on each value filterd.\n",
    "\n",
    "#### <span style=\"color: #4CACBC;\">Mean depth per individual and per site<a class=\"anchor\" id=\"depthvcf\"></a></span> `--depth, --site-mean-depth`\n",
    "\n",
    "* run vcftool with the correct options\n",
    "* check that the files have been created and display the first lines"
   ]
  },
  {
   "cell_type": "code",
   "execution_count": 7,
   "id": "f421cbdc-d195-4050-9b7e-a4dbb4b357ad",
   "metadata": {},
   "outputs": [
    {
     "name": "stderr",
     "output_type": "stream",
     "text": [
      "\n",
      "VCFtools - 0.1.16\n",
      "(C) Adam Auton and Anthony Marcketta 2009\n",
      "\n",
      "Parameters as interpreted:\n",
      "\t--vcf output.vcf\n",
      "\t--depth\n",
      "\t--out depthi\n",
      "\n",
      "Warning: Expected at least 2 parts in FORMAT entry: ID=PGT,Number=1,Type=String,Description=\"Physical phasing haplotype information, describing how the alternate alleles are phased in relation to one another; will always be heterozygous and is not intended to describe called alleles\">\n",
      "Warning: Expected at least 2 parts in FORMAT entry: ID=PID,Number=1,Type=String,Description=\"Physical phasing ID information, where each unique ID within a given sample (but not across samples) connects records within a phasing group\">\n",
      "Warning: Expected at least 2 parts in FORMAT entry: ID=PL,Number=G,Type=Integer,Description=\"Normalized, Phred-scaled likelihoods for genotypes as defined in the VCF specification\">\n",
      "Warning: Expected at least 2 parts in FORMAT entry: ID=RGQ,Number=1,Type=Integer,Description=\"Unconditional reference genotype confidence, encoded as a phred quality -10*log10 p(genotype call is wrong)\">\n",
      "Warning: Expected at least 2 parts in INFO entry: ID=AC,Number=A,Type=Integer,Description=\"Allele count in genotypes, for each ALT allele, in the same order as listed\">\n",
      "Warning: Expected at least 2 parts in INFO entry: ID=AC,Number=A,Type=Integer,Description=\"Allele count in genotypes, for each ALT allele, in the same order as listed\">\n",
      "Warning: Expected at least 2 parts in INFO entry: ID=AF,Number=A,Type=Float,Description=\"Allele Frequency, for each ALT allele, in the same order as listed\">\n",
      "Warning: Expected at least 2 parts in INFO entry: ID=AF,Number=A,Type=Float,Description=\"Allele Frequency, for each ALT allele, in the same order as listed\">\n",
      "Warning: Expected at least 2 parts in INFO entry: ID=MLEAC,Number=A,Type=Integer,Description=\"Maximum likelihood expectation (MLE) for the allele counts (not necessarily the same as the AC), for each ALT allele, in the same order as listed\">\n",
      "Warning: Expected at least 2 parts in INFO entry: ID=MLEAC,Number=A,Type=Integer,Description=\"Maximum likelihood expectation (MLE) for the allele counts (not necessarily the same as the AC), for each ALT allele, in the same order as listed\">\n",
      "Warning: Expected at least 2 parts in INFO entry: ID=MLEAF,Number=A,Type=Float,Description=\"Maximum likelihood expectation (MLE) for the allele frequency (not necessarily the same as the AF), for each ALT allele, in the same order as listed\">\n",
      "Warning: Expected at least 2 parts in INFO entry: ID=MLEAF,Number=A,Type=Float,Description=\"Maximum likelihood expectation (MLE) for the allele frequency (not necessarily the same as the AF), for each ALT allele, in the same order as listed\">\n",
      "After filtering, kept 20 out of 20 Individuals\n",
      "Outputting Mean Depth by Individual\n",
      "After filtering, kept 568240 out of a possible 568240 Sites\n",
      "Run Time = 4.00 seconds\n",
      "\n",
      "VCFtools - 0.1.16\n",
      "(C) Adam Auton and Anthony Marcketta 2009\n",
      "\n",
      "Parameters as interpreted:\n",
      "\t--vcf output.vcf\n",
      "\t--out depths\n",
      "\t--site-mean-depth\n",
      "\n",
      "Warning: Expected at least 2 parts in FORMAT entry: ID=PGT,Number=1,Type=String,Description=\"Physical phasing haplotype information, describing how the alternate alleles are phased in relation to one another; will always be heterozygous and is not intended to describe called alleles\">\n",
      "Warning: Expected at least 2 parts in FORMAT entry: ID=PID,Number=1,Type=String,Description=\"Physical phasing ID information, where each unique ID within a given sample (but not across samples) connects records within a phasing group\">\n",
      "Warning: Expected at least 2 parts in FORMAT entry: ID=PL,Number=G,Type=Integer,Description=\"Normalized, Phred-scaled likelihoods for genotypes as defined in the VCF specification\">\n",
      "Warning: Expected at least 2 parts in FORMAT entry: ID=RGQ,Number=1,Type=Integer,Description=\"Unconditional reference genotype confidence, encoded as a phred quality -10*log10 p(genotype call is wrong)\">\n",
      "Warning: Expected at least 2 parts in INFO entry: ID=AC,Number=A,Type=Integer,Description=\"Allele count in genotypes, for each ALT allele, in the same order as listed\">\n",
      "Warning: Expected at least 2 parts in INFO entry: ID=AC,Number=A,Type=Integer,Description=\"Allele count in genotypes, for each ALT allele, in the same order as listed\">\n",
      "Warning: Expected at least 2 parts in INFO entry: ID=AF,Number=A,Type=Float,Description=\"Allele Frequency, for each ALT allele, in the same order as listed\">\n",
      "Warning: Expected at least 2 parts in INFO entry: ID=AF,Number=A,Type=Float,Description=\"Allele Frequency, for each ALT allele, in the same order as listed\">\n",
      "Warning: Expected at least 2 parts in INFO entry: ID=MLEAC,Number=A,Type=Integer,Description=\"Maximum likelihood expectation (MLE) for the allele counts (not necessarily the same as the AC), for each ALT allele, in the same order as listed\">\n",
      "Warning: Expected at least 2 parts in INFO entry: ID=MLEAC,Number=A,Type=Integer,Description=\"Maximum likelihood expectation (MLE) for the allele counts (not necessarily the same as the AC), for each ALT allele, in the same order as listed\">\n",
      "Warning: Expected at least 2 parts in INFO entry: ID=MLEAF,Number=A,Type=Float,Description=\"Maximum likelihood expectation (MLE) for the allele frequency (not necessarily the same as the AF), for each ALT allele, in the same order as listed\">\n",
      "Warning: Expected at least 2 parts in INFO entry: ID=MLEAF,Number=A,Type=Float,Description=\"Maximum likelihood expectation (MLE) for the allele frequency (not necessarily the same as the AF), for each ALT allele, in the same order as listed\">\n",
      "After filtering, kept 20 out of 20 Individuals\n",
      "Outputting Depth for Each Site\n",
      "After filtering, kept 568240 out of a possible 568240 Sites\n",
      "Run Time = 7.00 seconds\n"
     ]
    }
   ],
   "source": [
    "%%bash\n",
    "vcftools --vcf output.vcf --depth --out depthi\n",
    "vcftools --vcf output.vcf --site-mean-depth --out depths"
   ]
  },
  {
   "cell_type": "markdown",
   "id": "1d5bd604-63a5-4577-93a2-0af7681bef12",
   "metadata": {},
   "source": [
    "#### Display the first lines of the files just created by vcftools"
   ]
  },
  {
   "cell_type": "code",
   "execution_count": 8,
   "id": "fbaae264-89ce-4f6d-ac2c-d304521f9447",
   "metadata": {},
   "outputs": [
    {
     "name": "stdout",
     "output_type": "stream",
     "text": [
      "total 1277076\n",
      "-rw-r----- 1 jovyan users    151798 Jun 17 09:46 output.vcf.idx\n",
      "-rw-r----- 1 jovyan users 792485101 Jun 17 09:49 rawSNP.vcf\n",
      "-rw-r----- 1 jovyan users        19 Jun 17 09:49 genome.txt\n",
      "-rw-r----- 1 jovyan users    238921 Jun 17 09:49 rawSNP.vcf.idx\n",
      "-rw-r----- 1 jovyan users 497636158 Jun 17 09:51 output.vcf\n",
      "-rw-r--r-- 1 jovyan users     40211 Jun 20 20:35 output.vcf.stat\n",
      "-rw-r--r-- 1 jovyan users       473 Jun 20 20:39 depthi.idepth\n",
      "-rw-r--r-- 1 jovyan users  17146658 Jun 20 20:39 depths.ldepth.mean\n",
      "==> depthi.idepth <==\n",
      "INDV\tN_SITES\tMEAN_DEPTH\n",
      "Clone1\t568240\t36.0589\n",
      "Clone10\t568236\t30.6221\n",
      "Clone11\t568239\t31.2727\n",
      "Clone12\t568230\t26.0382\n",
      "Clone13\t568240\t32.018\n",
      "Clone14\t568225\t31.6534\n",
      "Clone15\t568233\t31.1039\n",
      "Clone16\t568227\t31.5335\n",
      "Clone17\t568235\t32.4415\n",
      "\n",
      "==> depths.ldepth.mean <==\n",
      "CHROM\tPOS\tMEAN_DEPTH\tVAR_DEPTH\n",
      "Reference\t30\t4.75\t4.30263\n",
      "Reference\t36\t5.7\t5.27368\n",
      "Reference\t38\t5.9\t5.67368\n",
      "Reference\t39\t5.95\t5.62895\n",
      "Reference\t42\t6.6\t4.56842\n",
      "Reference\t45\t6.95\t3.94474\n",
      "Reference\t54\t8.05\t3.41842\n",
      "Reference\t58\t8.6\t3.41053\n",
      "Reference\t61\t8.85\t2.97632\n"
     ]
    }
   ],
   "source": [
    "%%bash\n",
    "ls -lrt\n",
    "head *depth*"
   ]
  },
  {
   "cell_type": "markdown",
   "id": "a9641f84-af45-4137-8f60-6016edd56596",
   "metadata": {},
   "source": [
    "#### <span style=\"color: #4CACBC;\">Extracting quality per site<a class=\"anchor\" id=\"depthvcf\"></a></span>  `--site-quality`\n",
    "\n",
    "* run vcftool with the correct options\n",
    "* check that the files have been created and display the first lines"
   ]
  },
  {
   "cell_type": "code",
   "execution_count": 9,
   "id": "d16f68ef-956a-4385-917b-ad8285965021",
   "metadata": {},
   "outputs": [
    {
     "name": "stderr",
     "output_type": "stream",
     "text": [
      "\n",
      "VCFtools - 0.1.16\n",
      "(C) Adam Auton and Anthony Marcketta 2009\n",
      "\n",
      "Parameters as interpreted:\n",
      "\t--vcf output.vcf\n",
      "\t--out qual\n",
      "\t--site-quality\n",
      "\n",
      "Warning: Expected at least 2 parts in FORMAT entry: ID=PGT,Number=1,Type=String,Description=\"Physical phasing haplotype information, describing how the alternate alleles are phased in relation to one another; will always be heterozygous and is not intended to describe called alleles\">\n",
      "Warning: Expected at least 2 parts in FORMAT entry: ID=PID,Number=1,Type=String,Description=\"Physical phasing ID information, where each unique ID within a given sample (but not across samples) connects records within a phasing group\">\n",
      "Warning: Expected at least 2 parts in FORMAT entry: ID=PL,Number=G,Type=Integer,Description=\"Normalized, Phred-scaled likelihoods for genotypes as defined in the VCF specification\">\n",
      "Warning: Expected at least 2 parts in FORMAT entry: ID=RGQ,Number=1,Type=Integer,Description=\"Unconditional reference genotype confidence, encoded as a phred quality -10*log10 p(genotype call is wrong)\">\n",
      "Warning: Expected at least 2 parts in INFO entry: ID=AC,Number=A,Type=Integer,Description=\"Allele count in genotypes, for each ALT allele, in the same order as listed\">\n",
      "Warning: Expected at least 2 parts in INFO entry: ID=AC,Number=A,Type=Integer,Description=\"Allele count in genotypes, for each ALT allele, in the same order as listed\">\n",
      "Warning: Expected at least 2 parts in INFO entry: ID=AF,Number=A,Type=Float,Description=\"Allele Frequency, for each ALT allele, in the same order as listed\">\n",
      "Warning: Expected at least 2 parts in INFO entry: ID=AF,Number=A,Type=Float,Description=\"Allele Frequency, for each ALT allele, in the same order as listed\">\n",
      "Warning: Expected at least 2 parts in INFO entry: ID=MLEAC,Number=A,Type=Integer,Description=\"Maximum likelihood expectation (MLE) for the allele counts (not necessarily the same as the AC), for each ALT allele, in the same order as listed\">\n",
      "Warning: Expected at least 2 parts in INFO entry: ID=MLEAC,Number=A,Type=Integer,Description=\"Maximum likelihood expectation (MLE) for the allele counts (not necessarily the same as the AC), for each ALT allele, in the same order as listed\">\n",
      "Warning: Expected at least 2 parts in INFO entry: ID=MLEAF,Number=A,Type=Float,Description=\"Maximum likelihood expectation (MLE) for the allele frequency (not necessarily the same as the AF), for each ALT allele, in the same order as listed\">\n",
      "Warning: Expected at least 2 parts in INFO entry: ID=MLEAF,Number=A,Type=Float,Description=\"Maximum likelihood expectation (MLE) for the allele frequency (not necessarily the same as the AF), for each ALT allele, in the same order as listed\">\n",
      "After filtering, kept 20 out of 20 Individuals\n",
      "Outputting Quality for Each Site\n",
      "After filtering, kept 568240 out of a possible 568240 Sites\n",
      "Run Time = 4.00 seconds\n"
     ]
    }
   ],
   "source": [
    "%%bash\n",
    "vcftools --vcf output.vcf  --site-quality --out qual"
   ]
  },
  {
   "cell_type": "markdown",
   "id": "bf7e3619-df35-4f8a-a7f4-0c490d69a7b7",
   "metadata": {},
   "source": [
    "#### Display the first lines of the file just created by vcftools"
   ]
  },
  {
   "cell_type": "code",
   "execution_count": 10,
   "id": "861692d3-23ed-4848-893a-77981a00fef2",
   "metadata": {},
   "outputs": [
    {
     "name": "stdout",
     "output_type": "stream",
     "text": [
      "total 1290848\n",
      "-rw-r----- 1 jovyan users    151798 Jun 17 09:46 output.vcf.idx\n",
      "-rw-r----- 1 jovyan users 792485101 Jun 17 09:49 rawSNP.vcf\n",
      "-rw-r----- 1 jovyan users        19 Jun 17 09:49 genome.txt\n",
      "-rw-r----- 1 jovyan users    238921 Jun 17 09:49 rawSNP.vcf.idx\n",
      "-rw-r----- 1 jovyan users 497636158 Jun 17 09:51 output.vcf\n",
      "-rw-r--r-- 1 jovyan users     40211 Jun 20 20:35 output.vcf.stat\n",
      "-rw-r--r-- 1 jovyan users       473 Jun 20 20:39 depthi.idepth\n",
      "-rw-r--r-- 1 jovyan users  17146658 Jun 20 20:39 depths.ldepth.mean\n",
      "-rw-r--r-- 1 jovyan users  14102265 Jun 20 20:39 qual.lqual\n",
      "CHROM\tPOS\tQUAL\n",
      "Reference\t30\t66.89\n",
      "Reference\t36\t200.62\n",
      "Reference\t38\t114.16\n",
      "Reference\t39\t91.7\n",
      "Reference\t42\t318.58\n",
      "Reference\t45\t113.02\n",
      "Reference\t54\t333.4\n",
      "Reference\t58\t1001.62\n",
      "Reference\t61\t422.5\n"
     ]
    }
   ],
   "source": [
    "%%bash\n",
    "ls -lrt\n",
    "head *qual"
   ]
  },
  {
   "cell_type": "markdown",
   "id": "5d6e6f7d-37f0-48c7-994c-0f624d957a43",
   "metadata": {},
   "source": [
    "\n",
    "__Calculate allele frequency__\n",
    "\n",
    "* --freq2 : outputs the frequencies without information about the alleles\n",
    "* --freq would return their identity. \n",
    "* --max-alleles 2 to exclude sites that have more than two alleles."
   ]
  },
  {
   "cell_type": "code",
   "execution_count": 11,
   "id": "c8d02f46-2fb0-462a-9077-49f1aa614f66",
   "metadata": {},
   "outputs": [
    {
     "name": "stderr",
     "output_type": "stream",
     "text": [
      "\n",
      "VCFtools - 0.1.16\n",
      "(C) Adam Auton and Anthony Marcketta 2009\n",
      "\n",
      "Parameters as interpreted:\n",
      "\t--vcf output.vcf\n",
      "\t--max-alleles 2\n",
      "\t--freq\n",
      "\t--out AF\n",
      "\n",
      "Warning: Expected at least 2 parts in FORMAT entry: ID=PGT,Number=1,Type=String,Description=\"Physical phasing haplotype information, describing how the alternate alleles are phased in relation to one another; will always be heterozygous and is not intended to describe called alleles\">\n",
      "Warning: Expected at least 2 parts in FORMAT entry: ID=PID,Number=1,Type=String,Description=\"Physical phasing ID information, where each unique ID within a given sample (but not across samples) connects records within a phasing group\">\n",
      "Warning: Expected at least 2 parts in FORMAT entry: ID=PL,Number=G,Type=Integer,Description=\"Normalized, Phred-scaled likelihoods for genotypes as defined in the VCF specification\">\n",
      "Warning: Expected at least 2 parts in FORMAT entry: ID=RGQ,Number=1,Type=Integer,Description=\"Unconditional reference genotype confidence, encoded as a phred quality -10*log10 p(genotype call is wrong)\">\n",
      "Warning: Expected at least 2 parts in INFO entry: ID=AC,Number=A,Type=Integer,Description=\"Allele count in genotypes, for each ALT allele, in the same order as listed\">\n",
      "Warning: Expected at least 2 parts in INFO entry: ID=AC,Number=A,Type=Integer,Description=\"Allele count in genotypes, for each ALT allele, in the same order as listed\">\n",
      "Warning: Expected at least 2 parts in INFO entry: ID=AF,Number=A,Type=Float,Description=\"Allele Frequency, for each ALT allele, in the same order as listed\">\n",
      "Warning: Expected at least 2 parts in INFO entry: ID=AF,Number=A,Type=Float,Description=\"Allele Frequency, for each ALT allele, in the same order as listed\">\n",
      "Warning: Expected at least 2 parts in INFO entry: ID=MLEAC,Number=A,Type=Integer,Description=\"Maximum likelihood expectation (MLE) for the allele counts (not necessarily the same as the AC), for each ALT allele, in the same order as listed\">\n",
      "Warning: Expected at least 2 parts in INFO entry: ID=MLEAC,Number=A,Type=Integer,Description=\"Maximum likelihood expectation (MLE) for the allele counts (not necessarily the same as the AC), for each ALT allele, in the same order as listed\">\n",
      "Warning: Expected at least 2 parts in INFO entry: ID=MLEAF,Number=A,Type=Float,Description=\"Maximum likelihood expectation (MLE) for the allele frequency (not necessarily the same as the AF), for each ALT allele, in the same order as listed\">\n",
      "Warning: Expected at least 2 parts in INFO entry: ID=MLEAF,Number=A,Type=Float,Description=\"Maximum likelihood expectation (MLE) for the allele frequency (not necessarily the same as the AF), for each ALT allele, in the same order as listed\">\n",
      "After filtering, kept 20 out of 20 Individuals\n",
      "Outputting Frequency Statistics...\n",
      "After filtering, kept 401218 out of a possible 568240 Sites\n",
      "Run Time = 5.00 seconds\n",
      "\n",
      "VCFtools - 0.1.16\n",
      "(C) Adam Auton and Anthony Marcketta 2009\n",
      "\n",
      "Parameters as interpreted:\n",
      "\t--vcf output.vcf\n",
      "\t--max-alleles 2\n",
      "\t--freq2\n",
      "\t--out AF2\n",
      "\n",
      "Warning: Expected at least 2 parts in FORMAT entry: ID=PGT,Number=1,Type=String,Description=\"Physical phasing haplotype information, describing how the alternate alleles are phased in relation to one another; will always be heterozygous and is not intended to describe called alleles\">\n",
      "Warning: Expected at least 2 parts in FORMAT entry: ID=PID,Number=1,Type=String,Description=\"Physical phasing ID information, where each unique ID within a given sample (but not across samples) connects records within a phasing group\">\n",
      "Warning: Expected at least 2 parts in FORMAT entry: ID=PL,Number=G,Type=Integer,Description=\"Normalized, Phred-scaled likelihoods for genotypes as defined in the VCF specification\">\n",
      "Warning: Expected at least 2 parts in FORMAT entry: ID=RGQ,Number=1,Type=Integer,Description=\"Unconditional reference genotype confidence, encoded as a phred quality -10*log10 p(genotype call is wrong)\">\n",
      "Warning: Expected at least 2 parts in INFO entry: ID=AC,Number=A,Type=Integer,Description=\"Allele count in genotypes, for each ALT allele, in the same order as listed\">\n",
      "Warning: Expected at least 2 parts in INFO entry: ID=AC,Number=A,Type=Integer,Description=\"Allele count in genotypes, for each ALT allele, in the same order as listed\">\n",
      "Warning: Expected at least 2 parts in INFO entry: ID=AF,Number=A,Type=Float,Description=\"Allele Frequency, for each ALT allele, in the same order as listed\">\n",
      "Warning: Expected at least 2 parts in INFO entry: ID=AF,Number=A,Type=Float,Description=\"Allele Frequency, for each ALT allele, in the same order as listed\">\n",
      "Warning: Expected at least 2 parts in INFO entry: ID=MLEAC,Number=A,Type=Integer,Description=\"Maximum likelihood expectation (MLE) for the allele counts (not necessarily the same as the AC), for each ALT allele, in the same order as listed\">\n",
      "Warning: Expected at least 2 parts in INFO entry: ID=MLEAC,Number=A,Type=Integer,Description=\"Maximum likelihood expectation (MLE) for the allele counts (not necessarily the same as the AC), for each ALT allele, in the same order as listed\">\n",
      "Warning: Expected at least 2 parts in INFO entry: ID=MLEAF,Number=A,Type=Float,Description=\"Maximum likelihood expectation (MLE) for the allele frequency (not necessarily the same as the AF), for each ALT allele, in the same order as listed\">\n",
      "Warning: Expected at least 2 parts in INFO entry: ID=MLEAF,Number=A,Type=Float,Description=\"Maximum likelihood expectation (MLE) for the allele frequency (not necessarily the same as the AF), for each ALT allele, in the same order as listed\">\n",
      "After filtering, kept 20 out of 20 Individuals\n",
      "Outputting Frequency Statistics...\n",
      "After filtering, kept 401218 out of a possible 568240 Sites\n",
      "Run Time = 4.00 seconds\n"
     ]
    },
    {
     "name": "stdout",
     "output_type": "stream",
     "text": [
      "total 1323152\n",
      "-rw-r----- 1 jovyan users    151798 Jun 17 09:46 output.vcf.idx\n",
      "-rw-r----- 1 jovyan users 792485101 Jun 17 09:49 rawSNP.vcf\n",
      "-rw-r----- 1 jovyan users        19 Jun 17 09:49 genome.txt\n",
      "-rw-r----- 1 jovyan users    238921 Jun 17 09:49 rawSNP.vcf.idx\n",
      "-rw-r----- 1 jovyan users 497636158 Jun 17 09:51 output.vcf\n",
      "-rw-r--r-- 1 jovyan users     40211 Jun 20 20:35 output.vcf.stat\n",
      "-rw-r--r-- 1 jovyan users       473 Jun 20 20:39 depthi.idepth\n",
      "-rw-r--r-- 1 jovyan users  17146658 Jun 20 20:39 depths.ldepth.mean\n",
      "-rw-r--r-- 1 jovyan users  14102265 Jun 20 20:39 qual.lqual\n",
      "-rw-r--r-- 1 jovyan users  17346823 Jun 20 20:40 AF.frq\n",
      "-rw-r--r-- 1 jovyan users  15727473 Jun 20 20:40 AF2.frq\n",
      "==> AF2.frq <==\n",
      "CHROM\tPOS\tN_ALLELES\tN_CHR\t{FREQ}\n",
      "Reference\t30\t2\t36\t0.944444\t0.0555556\n",
      "Reference\t36\t2\t36\t0.944444\t0.0555556\n",
      "Reference\t38\t2\t36\t0.944444\t0.0555556\n",
      "Reference\t39\t2\t38\t0.947368\t0.0526316\n",
      "Reference\t42\t2\t38\t0.947368\t0.0526316\n",
      "Reference\t45\t2\t40\t0.95\t0.05\n",
      "Reference\t54\t2\t38\t0.947368\t0.0526316\n",
      "Reference\t58\t2\t38\t0.842105\t0.157895\n",
      "Reference\t61\t2\t40\t0.95\t0.05\n",
      "\n",
      "==> AF.frq <==\n",
      "CHROM\tPOS\tN_ALLELES\tN_CHR\t{ALLELE:FREQ}\n",
      "Reference\t30\t2\t36\tT:0.944444\tG:0.0555556\n",
      "Reference\t36\t2\t36\tC:0.944444\tA:0.0555556\n",
      "Reference\t38\t2\t36\tT:0.944444\tG:0.0555556\n",
      "Reference\t39\t2\t38\tC:0.947368\tA:0.0526316\n",
      "Reference\t42\t2\t38\tT:0.947368\tG:0.0526316\n",
      "Reference\t45\t2\t40\tC:0.95\tA:0.05\n",
      "Reference\t54\t2\t38\tC:0.947368\tG:0.0526316\n",
      "Reference\t58\t2\t38\tT:0.842105\tA:0.157895\n",
      "Reference\t61\t2\t40\tC:0.95\tA:0.05\n"
     ]
    }
   ],
   "source": [
    "%%bash\n",
    "vcftools --vcf output.vcf --freq --out AF --max-alleles 2\n",
    "vcftools --vcf output.vcf --freq2 --out AF2 --max-alleles 2\n",
    "ls -lrt\n",
    "head *.frq"
   ]
  },
  {
   "cell_type": "markdown",
   "id": "2de89286-b5c4-4c32-964e-45aca7ae12bc",
   "metadata": {},
   "source": [
    "### <span style=\"color: #4CACBC;\">Generating density plot QUAL & DEPTH<a class=\"anchor\" id=\"vcfplot\"></a></span> \n",
    "\n",
    "#### <span style=\"color: #4CACBC;\">Plotting quality per site<a class=\"anchor\" id=\"qualplot\"></a></span> "
   ]
  },
  {
   "cell_type": "code",
   "execution_count": 13,
   "id": "307877db-c85c-47de-a16f-6c38ab9e3e70",
   "metadata": {},
   "outputs": [
    {
     "name": "stdout",
     "output_type": "stream",
     "text": [
      "            CHROM     POS    QUAL\n",
      "0       Reference      30   66.89\n",
      "1       Reference      36  200.62\n",
      "2       Reference      38  114.16\n",
      "3       Reference      39   91.70\n",
      "4       Reference      42  318.58\n",
      "...           ...     ...     ...\n",
      "568235  Reference  999983  166.58\n",
      "568236  Reference  999985   84.98\n",
      "568237  Reference  999987  135.96\n",
      "568238  Reference  999990   97.25\n",
      "568239  Reference  999993  142.96\n",
      "\n",
      "[568240 rows x 3 columns]\n"
     ]
    },
    {
     "data": {
      "text/plain": [
       "count    568240.000000\n",
       "mean       2581.014661\n",
       "std        1376.167200\n",
       "min          30.030000\n",
       "25%        1639.830000\n",
       "50%        1997.840000\n",
       "75%        3434.790000\n",
       "max       14705.700000\n",
       "Name: QUAL, dtype: float64"
      ]
     },
     "execution_count": 13,
     "metadata": {},
     "output_type": "execute_result"
    }
   ],
   "source": [
    "import os\n",
    "import pandas as pd\n",
    "\n",
    "qual_file=\"qual.lqual\"\n",
    "df_qual = pd.read_csv(qual_file, index_col=False, sep=\"\\t\")\n",
    "print(df_qual)\n",
    "df_qual['QUAL'].describe()"
   ]
  },
  {
   "cell_type": "code",
   "execution_count": 14,
   "id": "c3dc4b15-7c35-4b40-acb7-30aeeece268b",
   "metadata": {},
   "outputs": [
    {
     "data": {
      "text/plain": [
       "<AxesSubplot:xlabel='QUAL', ylabel='Density'>"
      ]
     },
     "execution_count": 14,
     "metadata": {},
     "output_type": "execute_result"
    },
    {
     "data": {
      "image/png": "[encoded data removed]",
      "text/plain": [
       "<Figure size 432x288 with 1 Axes>"
      ]
     },
     "metadata": {
      "needs_background": "light"
     },
     "output_type": "display_data"
    }
   ],
   "source": [
    "# Plot with seaborn\n",
    "import matplotlib.pyplot as plt\n",
    "import seaborn as sns\n",
    "\n",
    "sns.kdeplot(x=\"QUAL\", data=df_qual)"
   ]
  },
  {
   "cell_type": "code",
   "execution_count": 122,
   "id": "2fed282d-9cc3-403b-b627-1f73e6047d4c",
   "metadata": {},
   "outputs": [
    {
     "data": {
      "text/plain": [
       "Text(0, 0.5, 'PUT A Y-AXIS LABEL')"
      ]
     },
     "execution_count": 122,
     "metadata": {},
     "output_type": "execute_result"
    },
    {
     "data": {
      "image/png": "[encoded data removed]",
      "text/plain": [
       "<Figure size 1080x576 with 1 Axes>"
      ]
     },
     "metadata": {
      "needs_background": "light"
     },
     "output_type": "display_data"
    }
   ],
   "source": [
    "# Plot with seaborn\n",
    "import matplotlib.pyplot as plt\n",
    "import seaborn as sns\n",
    "\n",
    "\n",
    "plt.figure(figsize = (15,8))\n",
    "ax=sns.kdeplot(x=\"QUAL\", data=df_qual[df_qual.QUAL<10000])\n",
    "ax.set_title(\"PUT A TITLE\")\n",
    "ax.set_xlabel(\"PUT A X-AXIS LABEL\")\n",
    "ax.set_ylabel(\"PUT A Y-AXIS LABEL\")"
   ]
  },
  {
   "cell_type": "markdown",
   "id": "ad84b027-b453-44d8-8f26-22bf372e1e53",
   "metadata": {},
   "source": [
    "#### <span style=\"color: #4CACBC;\">Plotting Mean depth per site<a class=\"anchor\" id=\"depthplot\"></a></span> "
   ]
  },
  {
   "cell_type": "code",
   "execution_count": 15,
   "id": "f4c5181c-f1fb-42b3-86a2-ddfc93218cbe",
   "metadata": {},
   "outputs": [
    {
     "name": "stdout",
     "output_type": "stream",
     "text": [
      "            CHROM     POS  MEAN_DEPTH  VAR_DEPTH\n",
      "0       Reference      30        4.75   4.302630\n",
      "1       Reference      36        5.70   5.273680\n",
      "2       Reference      38        5.90   5.673680\n",
      "3       Reference      39        5.95   5.628950\n",
      "4       Reference      42        6.60   4.568420\n",
      "...           ...     ...         ...        ...\n",
      "568235  Reference  999983        1.85   3.923680\n",
      "568236  Reference  999985        1.35   3.713160\n",
      "568237  Reference  999987        0.35   0.765789\n",
      "568238  Reference  999990        0.20   0.378947\n",
      "568239  Reference  999993        0.15   0.450000\n",
      "\n",
      "[568240 rows x 4 columns]\n"
     ]
    },
    {
     "data": {
      "text/html": [
       "<div>\n",
       "<style scoped>\n",
       "    .dataframe tbody tr th:only-of-type {\n",
       "        vertical-align: middle;\n",
       "    }\n",
       "\n",
       "    .dataframe tbody tr th {\n",
       "        vertical-align: top;\n",
       "    }\n",
       "\n",
       "    .dataframe thead th {\n",
       "        text-align: right;\n",
       "    }\n",
       "</style>\n",
       "<table border=\"1\" class=\"dataframe\">\n",
       "  <thead>\n",
       "    <tr style=\"text-align: right;\">\n",
       "      <th></th>\n",
       "      <th>POS</th>\n",
       "      <th>MEAN_DEPTH</th>\n",
       "      <th>VAR_DEPTH</th>\n",
       "    </tr>\n",
       "  </thead>\n",
       "  <tbody>\n",
       "    <tr>\n",
       "      <th>count</th>\n",
       "      <td>568240.000000</td>\n",
       "      <td>568240.000000</td>\n",
       "      <td>568240.000000</td>\n",
       "    </tr>\n",
       "    <tr>\n",
       "      <th>mean</th>\n",
       "      <td>508603.855019</td>\n",
       "      <td>33.484068</td>\n",
       "      <td>183.429022</td>\n",
       "    </tr>\n",
       "    <tr>\n",
       "      <th>std</th>\n",
       "      <td>297048.514479</td>\n",
       "      <td>4.305675</td>\n",
       "      <td>128.256867</td>\n",
       "    </tr>\n",
       "    <tr>\n",
       "      <th>min</th>\n",
       "      <td>30.000000</td>\n",
       "      <td>0.100000</td>\n",
       "      <td>0.094737</td>\n",
       "    </tr>\n",
       "    <tr>\n",
       "      <th>25%</th>\n",
       "      <td>227415.750000</td>\n",
       "      <td>31.700000</td>\n",
       "      <td>108.095000</td>\n",
       "    </tr>\n",
       "    <tr>\n",
       "      <th>50%</th>\n",
       "      <td>534353.000000</td>\n",
       "      <td>33.900000</td>\n",
       "      <td>170.029000</td>\n",
       "    </tr>\n",
       "    <tr>\n",
       "      <th>75%</th>\n",
       "      <td>765228.250000</td>\n",
       "      <td>36.050000</td>\n",
       "      <td>227.945000</td>\n",
       "    </tr>\n",
       "    <tr>\n",
       "      <th>max</th>\n",
       "      <td>999993.000000</td>\n",
       "      <td>49.050000</td>\n",
       "      <td>2491.250000</td>\n",
       "    </tr>\n",
       "  </tbody>\n",
       "</table>\n",
       "</div>"
      ],
      "text/plain": [
       "                 POS     MEAN_DEPTH      VAR_DEPTH\n",
       "count  568240.000000  568240.000000  568240.000000\n",
       "mean   508603.855019      33.484068     183.429022\n",
       "std    297048.514479       4.305675     128.256867\n",
       "min        30.000000       0.100000       0.094737\n",
       "25%    227415.750000      31.700000     108.095000\n",
       "50%    534353.000000      33.900000     170.029000\n",
       "75%    765228.250000      36.050000     227.945000\n",
       "max    999993.000000      49.050000    2491.250000"
      ]
     },
     "execution_count": 15,
     "metadata": {},
     "output_type": "execute_result"
    }
   ],
   "source": [
    "depth_file=\"depths.ldepth.mean\"\n",
    "df_depth = pd.read_csv(depth_file, index_col=False, sep=\"\\t\")\n",
    "print(df_depth)\n",
    "df_depth.describe()"
   ]
  },
  {
   "cell_type": "code",
   "execution_count": 125,
   "id": "2aacd4ac-01d3-4d99-b64e-c9a68754211c",
   "metadata": {},
   "outputs": [
    {
     "data": {
      "text/plain": [
       "Text(0, 0.5, 'PUT A Y-AXIS LABEL')"
      ]
     },
     "execution_count": 125,
     "metadata": {},
     "output_type": "execute_result"
    },
    {
     "data": {
      "image/png": "[encoded data removed]",
      "text/plain": [
       "<Figure size 432x288 with 1 Axes>"
      ]
     },
     "metadata": {
      "needs_background": "light"
     },
     "output_type": "display_data"
    }
   ],
   "source": [
    "# Plot with seaborn\n",
    "import matplotlib.pyplot as plt\n",
    "import seaborn as sns\n",
    "\n",
    "ax=sns.kdeplot(x=\"MEAN_DEPTH\", data=df_depth)\n",
    "ax.set_xlim(1, 70)\n",
    "ax.set_title(\"PUT A TITLE\")\n",
    "ax.set_xlabel(\"PUT A X-AXIS LABEL\")\n",
    "ax.set_ylabel(\"PUT A Y-AXIS LABEL\")"
   ]
  },
  {
   "cell_type": "code",
   "execution_count": 17,
   "id": "5ddfc616-e990-4fce-a0bb-2d534445e8e8",
   "metadata": {},
   "outputs": [
    {
     "data": {
      "text/plain": [
       "Text(0, 0.5, 'PUT A Y-AXIS LABEL')"
      ]
     },
     "execution_count": 17,
     "metadata": {},
     "output_type": "execute_result"
    },
    {
     "data": {
      "image/png": "[encoded data removed]",
      "text/plain": [
       "<Figure size 432x288 with 1 Axes>"
      ]
     },
     "metadata": {
      "needs_background": "light"
     },
     "output_type": "display_data"
    }
   ],
   "source": [
    "# Plot with seaborn\n",
    "import matplotlib.pyplot as plt\n",
    "import seaborn as sns\n",
    "\n",
    "ax=sns.kdeplot(x=\"MEAN_DEPTH\", data=df_depth[df_depth.MEAN_DEPTH<50])\n",
    "ax.set_xlim(1, 50)\n",
    "ax.set_title(\"PUT A TITLE\")\n",
    "ax.set_xlabel(\"PUT A X-AXIS LABEL\")\n",
    "ax.set_ylabel(\"PUT A Y-AXIS LABEL\")"
   ]
  },
  {
   "cell_type": "markdown",
   "id": "788df901-4e83-4102-95c5-c097e6d72171",
   "metadata": {},
   "source": [
    "### <span style=\"color: #4CACBC;\">III - FILTERING VCF <a class=\"anchor\" id=\"vcffiltering\"></a></span> \n"
   ]
  },
  {
   "cell_type": "markdown",
   "id": "0ab0fde3-23e2-46c9-a54a-cd84c6960fc5",
   "metadata": {},
   "source": [
    "#### Which filters ?\n",
    "\n",
    "Here, we will apply on the vcf the following filters :\n",
    "\n",
    "* QUAL > 300\n",
    "* DP > 30 and DP < 400\n",
    "* Less than 3 SNPs into a window of 10pb\n",
    "\n",
    "The threshodl of each filter depends on the SNP analysis (sample number, sequencing depth).\n",
    "\n",
    "In a second step, according the following analysys (eg: population genomics), usually, we will apply other filters such as :\n",
    "* removing missing data\n",
    "* keeping only biallellic\n",
    "* heterozygosity\n",
    "    \n",
    "#### Select only the SNPs (and remove the INDELs) - `gatk variantFiltration`\n",
    "* Filter vcf to keep only SNPs\n",
    "* Check that the new vcf has been created\n",
    "* Get the number of polymorphisms in the new vcf file "
   ]
  },
  {
   "cell_type": "code",
   "execution_count": 18,
   "id": "e0c297d1-12f7-425a-8f80-6d36f823924d",
   "metadata": {},
   "outputs": [
    {
     "name": "stderr",
     "output_type": "stream",
     "text": [
      "Using GATK jar /opt/conda/share/gatk4-4.2.6.1-1/gatk-package-4.2.6.1-local.jar\n",
      "Running:\n",
      "    java -Dsamjdk.use_async_io_read_samtools=false -Dsamjdk.use_async_io_write_samtools=true -Dsamjdk.use_async_io_write_tribble=false -Dsamjdk.compression_level=2 -Xmx8G -Xms8G -jar /opt/conda/share/gatk4-4.2.6.1-1/gatk-package-4.2.6.1-local.jar SelectVariants -R /home/jovyan/work/SV_DATA/REF/reference.fasta -V output.vcf -select-type SNP -O output.onlySNP.vcf\n",
      "20:46:06.685 INFO  NativeLibraryLoader - Loading libgkl_compression.so from jar:file:/opt/conda/share/gatk4-4.2.6.1-1/gatk-package-4.2.6.1-local.jar!/com/intel/gkl/native/libgkl_compression.so\n",
      "20:46:07.263 INFO  SelectVariants - ------------------------------------------------------------\n",
      "20:46:07.264 INFO  SelectVariants - The Genome Analysis Toolkit (GATK) v4.2.6.1\n",
      "20:46:07.264 INFO  SelectVariants - For support and documentation go to https://software.broadinstitute.org/gatk/\n",
      "20:46:11.547 INFO  SelectVariants - Initializing engine\n",
      "20:46:12.050 INFO  FeatureManager - Using codec VCFCodec to read file file:///home/jovyan/work/VCF_CLONES/output.vcf\n",
      "20:46:12.116 INFO  SelectVariants - Done initializing engine\n",
      "20:46:12.154 INFO  ProgressMeter - Starting traversal\n",
      "20:46:12.154 INFO  ProgressMeter -        Current Locus  Elapsed Minutes    Variants Processed  Variants/Minute\n",
      "20:46:22.156 INFO  ProgressMeter -     Reference:760148              0.2                417000        2501499.7\n",
      "20:46:24.180 INFO  ProgressMeter -     Reference:998645              0.2                559812        2793008.5\n",
      "20:46:24.180 INFO  ProgressMeter - Traversal complete. Processed 559812 total variants in 0.2 minutes.\n",
      "20:46:24.196 INFO  SelectVariants - Shutting down engine\n",
      "[June 20, 2022 8:46:24 PM UTC] org.broadinstitute.hellbender.tools.walkers.variantutils.SelectVariants done. Elapsed time: 0.29 minutes.\n",
      "Runtime.totalMemory()=8565817344\n"
     ]
    }
   ],
   "source": [
    "%%bash\n",
    "gatk SelectVariants --java-options \"-Xmx8G -Xms8G\" -R /home/jovyan/work/SV_DATA/REF/reference.fasta -V output.vcf -select-type SNP -O output.onlySNP.vcf"
   ]
  },
  {
   "cell_type": "markdown",
   "id": "f0e51c8f-ab8a-4f86-88a7-404d663552d5",
   "metadata": {},
   "source": [
    "#### Get the SNP count of this new vcf file"
   ]
  },
  {
   "cell_type": "code",
   "execution_count": 19,
   "id": "a91a9c9e-6069-4543-afff-df4fdb07a0a9",
   "metadata": {},
   "outputs": [
    {
     "name": "stdout",
     "output_type": "stream",
     "text": [
      "total 1.8G\n",
      "-rw-r----- 1 jovyan users 149K Jun 17 09:46 output.vcf.idx\n",
      "-rw-r----- 1 jovyan users 756M Jun 17 09:49 rawSNP.vcf\n",
      "-rw-r----- 1 jovyan users   19 Jun 17 09:49 genome.txt\n",
      "-rw-r----- 1 jovyan users 234K Jun 17 09:49 rawSNP.vcf.idx\n",
      "-rw-r----- 1 jovyan users 475M Jun 17 09:51 output.vcf\n",
      "-rw-r--r-- 1 jovyan users  40K Jun 20 20:35 output.vcf.stat\n",
      "-rw-r--r-- 1 jovyan users  473 Jun 20 20:39 depthi.idepth\n",
      "-rw-r--r-- 1 jovyan users  17M Jun 20 20:39 depths.ldepth.mean\n",
      "-rw-r--r-- 1 jovyan users  14M Jun 20 20:39 qual.lqual\n",
      "-rw-r--r-- 1 jovyan users  17M Jun 20 20:40 AF.frq\n",
      "-rw-r--r-- 1 jovyan users  15M Jun 20 20:40 AF2.frq\n",
      "-rw-r--r-- 1 jovyan users 467M Jun 20 20:46 output.onlySNP.vcf\n",
      "-rw-r--r-- 1 jovyan users 147K Jun 20 20:46 output.onlySNP.vcf.idx\n",
      "# This file was produced by bcftools stats (1.10.2+htslib-1.10.2-3) and can be plotted using plot-vcfstats.\n",
      "# The command line was:\tbcftools stats  output.onlySNP.vcf\n",
      "#\n",
      "# Definition of sets:\n",
      "# ID\t[2]id\t[3]tab-separated file names\n",
      "ID\t0\toutput.onlySNP.vcf\n",
      "# SN, Summary numbers:\n",
      "#   number of records   .. number of data rows in the VCF\n",
      "#   number of no-ALTs   .. reference-only sites, ALT is either \".\" or identical to REF\n",
      "#   number of SNPs      .. number of rows with a SNP\n",
      "#   number of MNPs      .. number of rows with a MNP, such as CC>TT\n",
      "#   number of indels    .. number of rows with an indel\n",
      "#   number of others    .. number of rows with other type, for example a symbolic allele or\n",
      "#                          a complex substitution, such as ACT>TCGA\n",
      "#   number of multiallelic sites     .. number of rows with multiple alternate alleles\n",
      "#   number of multiallelic SNP sites .. number of rows with multiple alternate alleles, all SNPs\n",
      "# \n",
      "#   Note that rows containing multiple types will be counted multiple times, in each\n",
      "#   counter. For example, a row with a SNP and an indel increments both the SNP and\n",
      "#   the indel counter.\n",
      "# \n",
      "# SN\t[2]id\t[3]key\t[4]value\n",
      "SN\t0\tnumber of samples:\t20\n",
      "SN\t0\tnumber of records:\t559812\n",
      "SN\t0\tnumber of no-ALTs:\t0\n",
      "SN\t0\tnumber of SNPs:\t559812\n",
      "SN\t0\tnumber of MNPs:\t0\n",
      "SN\t0\tnumber of indels:\t0\n",
      "SN\t0\tnumber of others:\t0\n",
      "SN\t0\tnumber of multiallelic sites:\t161928\n",
      "SN\t0\tnumber of multiallelic SNP sites:\t156797\n",
      "# TSTV, transitions/transversions:\n",
      "# TSTV\t[2]id\t[3]ts\t[4]tv\t[5]ts/tv\t[6]ts (1st ALT)\t[7]tv (1st ALT)\t[8]ts/tv (1st ALT)\n",
      "TSTV\t0\t244929\t488971\t0.50\t186662\t373108\t0.50\n",
      "# SiS, Singleton stats:\n"
     ]
    }
   ],
   "source": [
    "%%bash\n",
    "ls -lrth\n",
    "bcftools stats output.onlySNP.vcf | head -n35"
   ]
  },
  {
   "cell_type": "markdown",
   "id": "90e77c6a-3d4c-4d6e-bf30-60bfbe237765",
   "metadata": {},
   "source": [
    "#### Compress the vcf and generate the index of the compressed vcf - `tabix -p vcf vcf_file`"
   ]
  },
  {
   "cell_type": "code",
   "execution_count": 8,
   "id": "a2af6a39-3eac-40cc-bc0d-cff8cfa5f35f",
   "metadata": {},
   "outputs": [
    {
     "name": "stderr",
     "output_type": "stream",
     "text": [
      "[bgzip] No such file or directory: output.onlySNP.vcf\n"
     ]
    },
    {
     "name": "stdout",
     "output_type": "stream",
     "text": [
      "total 1.4G\n",
      "-rw-r----- 1 jovyan users 149K Jun 17 09:46 output.vcf.idx\n",
      "-rw-r----- 1 jovyan users 756M Jun 17 09:49 rawSNP.vcf\n",
      "-rw-r----- 1 jovyan users   19 Jun 17 09:49 genome.txt\n",
      "-rw-r----- 1 jovyan users 234K Jun 17 09:49 rawSNP.vcf.idx\n",
      "-rw-r----- 1 jovyan users 475M Jun 17 09:51 output.vcf\n",
      "-rw-r--r-- 1 jovyan users  40K Jun 20 20:35 output.vcf.stat\n",
      "-rw-r--r-- 1 jovyan users  473 Jun 20 20:39 depthi.idepth\n",
      "-rw-r--r-- 1 jovyan users  17M Jun 20 20:39 depths.ldepth.mean\n",
      "-rw-r--r-- 1 jovyan users  14M Jun 20 20:39 qual.lqual\n",
      "-rw-r--r-- 1 jovyan users  17M Jun 20 20:40 AF.frq\n",
      "-rw-r--r-- 1 jovyan users  15M Jun 20 20:40 AF2.frq\n",
      "-rw-r--r-- 1 jovyan users 147K Jun 20 20:46 output.onlySNP.vcf.idx\n",
      "-rw-r--r-- 1 jovyan users  50M Jun 20 20:46 output.onlySNP.vcf.gz\n",
      "-rw-r--r-- 1 jovyan users  830 Jun 20 20:47 output.onlySNP.vcf.gz.tbi\n",
      "-rw-r--r-- 1 jovyan users  52M Jun 20 21:23 output.filteredSNP.vcf\n"
     ]
    }
   ],
   "source": [
    "%%bash\n",
    "bgzip output.onlySNP.vcf\n",
    "ls -lrth"
   ]
  },
  {
   "cell_type": "code",
   "execution_count": 9,
   "id": "57232bd3-aa17-44d5-839f-380cc1e653b5",
   "metadata": {},
   "outputs": [
    {
     "name": "stdout",
     "output_type": "stream",
     "text": [
      "total 1.4G\n",
      "-rw-r----- 1 jovyan users 149K Jun 17 09:46 output.vcf.idx\n",
      "-rw-r----- 1 jovyan users 756M Jun 17 09:49 rawSNP.vcf\n",
      "-rw-r----- 1 jovyan users   19 Jun 17 09:49 genome.txt\n",
      "-rw-r----- 1 jovyan users 234K Jun 17 09:49 rawSNP.vcf.idx\n",
      "-rw-r----- 1 jovyan users 475M Jun 17 09:51 output.vcf\n",
      "-rw-r--r-- 1 jovyan users  40K Jun 20 20:35 output.vcf.stat\n",
      "-rw-r--r-- 1 jovyan users  473 Jun 20 20:39 depthi.idepth\n",
      "-rw-r--r-- 1 jovyan users  17M Jun 20 20:39 depths.ldepth.mean\n",
      "-rw-r--r-- 1 jovyan users  14M Jun 20 20:39 qual.lqual\n",
      "-rw-r--r-- 1 jovyan users  17M Jun 20 20:40 AF.frq\n",
      "-rw-r--r-- 1 jovyan users  15M Jun 20 20:40 AF2.frq\n",
      "-rw-r--r-- 1 jovyan users 147K Jun 20 20:46 output.onlySNP.vcf.idx\n",
      "-rw-r--r-- 1 jovyan users  50M Jun 20 20:46 output.onlySNP.vcf.gz\n",
      "-rw-r--r-- 1 jovyan users  53M Jun 20 21:23 output.filteredSNP.vcf\n",
      "-rw-r--r-- 1 jovyan users  830 Jun 20 21:23 output.onlySNP.vcf.gz.tbi\n"
     ]
    }
   ],
   "source": [
    "%%bash\n",
    "tabix -f -p vcf output.onlySNP.vcf.gz\n",
    "ls -lrth"
   ]
  },
  {
   "cell_type": "markdown",
   "id": "67d62c00-4c7d-47d2-8334-69c78d78bbb3",
   "metadata": {},
   "source": [
    "#### Applying filters on QUAL, DEPTH and CLUSTER SNPsSelect only the SNPs (and remove the INDELs) - `gatk variantFiltration`\n",
    "\n",
    "Be careful, it miss one filter in the following command"
   ]
  },
  {
   "cell_type": "code",
   "execution_count": null,
   "id": "c360b424-da46-4580-8e06-d5dccf988025",
   "metadata": {},
   "outputs": [
    {
     "name": "stderr",
     "output_type": "stream",
     "text": [
      "Using GATK jar /opt/conda/share/gatk4-4.2.6.1-1/gatk-package-4.2.6.1-local.jar\n",
      "Running:\n",
      "    java -Dsamjdk.use_async_io_read_samtools=false -Dsamjdk.use_async_io_write_samtools=true -Dsamjdk.use_async_io_write_tribble=false -Dsamjdk.compression_level=2 -Xmx12G -Xms12G -jar /opt/conda/share/gatk4-4.2.6.1-1/gatk-package-4.2.6.1-local.jar VariantFiltration -R /home/jovyan/work/SV_DATA/REF/reference.fasta -V output.onlySNP.vcf.gz --filter-expression QUAL<300 --filter-name LOW_QUAL --filter-expression DP<30 --filter-name LOW_DP --filter-expression DP>40 --filter-name HIGH_DP --cluster-size 3 --cluster-window-size 10 -O output.filteredSNP.vcf\n",
      "21:23:38.386 INFO  NativeLibraryLoader - Loading libgkl_compression.so from jar:file:/opt/conda/share/gatk4-4.2.6.1-1/gatk-package-4.2.6.1-local.jar!/com/intel/gkl/native/libgkl_compression.so\n",
      "21:23:38.579 INFO  VariantFiltration - ------------------------------------------------------------\n",
      "21:23:38.579 INFO  VariantFiltration - The Genome Analysis Toolkit (GATK) v4.2.6.1\n",
      "21:23:38.580 INFO  VariantFiltration - For support and documentation go to https://software.broadinstitute.org/gatk/\n",
      "21:23:38.588 INFO  VariantFiltration - Initializing engine\n",
      "21:23:39.109 INFO  FeatureManager - Using codec VCFCodec to read file file:///home/jovyan/work/VCF_CLONES/output.onlySNP.vcf.gz\n",
      "21:23:39.143 INFO  VariantFiltration - Done initializing engine\n",
      "21:23:39.239 INFO  ProgressMeter - Starting traversal\n",
      "21:23:39.239 INFO  ProgressMeter -        Current Locus  Elapsed Minutes    Variants Processed  Variants/Minute\n",
      "21:23:59.187 INFO  ProgressMeter -       Reference:3154              0.3                  2000           6015.6\n",
      "21:24:20.901 INFO  ProgressMeter -       Reference:4765              0.7                  3000           4320.5\n",
      "21:24:50.043 INFO  ProgressMeter -       Reference:6326              1.2                  4000           3389.6\n",
      "21:25:26.606 INFO  ProgressMeter -       Reference:7868              1.8                  5000           2794.2\n",
      "21:26:11.363 INFO  ProgressMeter -       Reference:9421              2.5                  6000           2366.5\n",
      "21:27:06.877 INFO  ProgressMeter -      Reference:11021              3.5                  7000           2022.8\n",
      "21:28:06.188 INFO  ProgressMeter -      Reference:12722              4.4                  8000           1798.1\n",
      "21:29:13.009 INFO  ProgressMeter -      Reference:14441              5.6                  9000           1617.9\n",
      "21:30:27.406 INFO  ProgressMeter -      Reference:16221              6.8                 10000           1470.0\n",
      "21:30:39.230 INFO  ProgressMeter -      Reference:17920              7.0                 11000           1571.5\n",
      "21:30:49.835 INFO  ProgressMeter -      Reference:19543              7.2                 12000           1672.1\n",
      "21:31:09.679 INFO  ProgressMeter -      Reference:21162              7.5                 13000           1731.6\n",
      "21:31:35.211 INFO  ProgressMeter -      Reference:22899              7.9                 14000           1764.8\n",
      "21:32:10.691 INFO  ProgressMeter -      Reference:24588              8.5                 15000           1759.7\n",
      "21:32:51.273 INFO  ProgressMeter -      Reference:26124              9.2                 16000           1739.0\n",
      "21:33:40.141 INFO  ProgressMeter -      Reference:27709             10.0                 17000           1697.4\n",
      "21:34:38.023 INFO  ProgressMeter -      Reference:29388             11.0                 18000           1639.4\n",
      "21:35:43.062 INFO  ProgressMeter -      Reference:31046             12.1                 19000           1575.0\n"
     ]
    }
   ],
   "source": [
    "%%bash\n",
    "gatk VariantFiltration --java-options \"-Xmx12G -Xms12G\" -R /home/jovyan/work/SV_DATA/REF/reference.fasta  -V output.onlySNP.vcf.gz --filter-expression \"QUAL<300\" --filter-name \"LOW_QUAL\" --filter-expression \"DP<30\" --filter-name \"LOW_DP\"    --filter-expression \"DP>40\" --filter-name \"HIGH_DP\"  --cluster-size 3 --cluster-window-size 10  -O output.filteredSNP.vcf"
   ]
  },
  {
   "cell_type": "code",
   "execution_count": null,
   "id": "1f399782-0233-4222-92f3-88eaef3c1ade",
   "metadata": {},
   "outputs": [],
   "source": [
    "ls -lrtht"
   ]
  },
  {
   "cell_type": "code",
   "execution_count": 2,
   "id": "631e487c-9397-46ec-8022-f5a8cca2518a",
   "metadata": {},
   "outputs": [
    {
     "name": "stderr",
     "output_type": "stream",
     "text": [
      "[bgzip] No such file or directory: output.filteredSNP.vcf\n",
      "tbx_index_build failed: output.filteredSNP.vcf.gz\n"
     ]
    },
    {
     "name": "stdout",
     "output_type": "stream",
     "text": [
      "total 876K\n",
      "-rw-r--r-- 1 jovyan users 1.3K Jun 20 14:44 README.md\n",
      "-rw-r--r-- 1 jovyan users  14K Jun 20 14:44 Day4_SV_genome.ipynb\n",
      "-rw-r--r-- 1 jovyan users  12K Jun 20 14:44 Day3b_Variants_structuraux_CORR.ipynb\n",
      "-rw-r--r-- 1 jovyan users  19K Jun 20 17:03 Day1_Mapping_Practice_EMPTY.ipynb\n",
      "-rw-r--r-- 1 jovyan users  61K Jun 20 17:04 Day1_Mapping_Practice_CORR.ipynb\n",
      "-rw-r--r-- 1 jovyan users  13K Jun 20 17:35 Day2b_Appel_variants_SNP_EMPTY.ipynb\n",
      "-rw-r--r-- 1 jovyan users  72K Jun 20 20:21 Day2a_Mapping_analysis_CORR.ipynb\n",
      "-rw-r--r-- 1 jovyan users  11K Jun 20 20:23 Day2a_Mapping_analysis-EMPTY.ipynb\n",
      "-rw-r--r-- 1 jovyan users 302K Jun 20 21:02 Day2b_Appel_variants_SNP_CORR.ipynb\n",
      "-rw-r--r-- 1 jovyan users  21K Jun 20 21:19 Day2c_SNP_analysis_EMPTY.ipynb\n",
      "-rw-r--r-- 1 jovyan users 329K Jun 20 21:20 Day2c_SNP_analysis_CORR.ipynb\n"
     ]
    }
   ],
   "source": [
    "%%bash\n",
    "bgzip output.filteredSNP.vcf\n",
    "tabix -p vcf output.filteredSNP.vcf.gz\n",
    "ls -lrtht"
   ]
  },
  {
   "cell_type": "code",
   "execution_count": null,
   "id": "6d3ce9eb-10ee-4f88-a402-4289f137c98c",
   "metadata": {},
   "outputs": [],
   "source": [
    "%%bash\n",
    "bcftools stats output.filteredSNP.vcf.gz | head -n 35"
   ]
  },
  {
   "cell_type": "markdown",
   "id": "850f66c5-a78a-448d-bbc2-12a485c3d1bc",
   "metadata": {},
   "source": [
    "#### _Commands to apply other filters_\n",
    "\n",
    "##### remove missing data if more than 5% of missing data at a site (12 samples over 228 samples) `vcftools`\n",
    "\n",
    "`vcftools --vcf input.vcf --max-missing-count 12 --remove-filtered-all --recode --recode-INFO-all  --out ouput.onlySNP.12na`\n",
    "\n",
    "##### keep SNPs with only 90% homzygous (222 samples)\n",
    "\n",
    "`cat input.vcf | java -jar SnpSift.jar filter \" (countHom( )> 222) \" > output.onlySNP.12na.recode.222homoz.vcf`\n",
    "\n",
    "##### keep only biallelic sites\n",
    "`vcftools --vcf input.vcf --min-alleles 2 --max-alleles 2 --remove-filtered-all --recode --recode-INFO-all --out output.onlySNP.filteredPASS.na.225.Homoz.biallelic`"
   ]
  },
  {
   "cell_type": "markdown",
   "id": "32a7a1f6-3537-4866-8bb6-8b9175dae0cd",
   "metadata": {},
   "source": [
    "### <span style=\"color: #4CACBC;\">IV - VCF ANNOTATION <a class=\"anchor\" id=\"vcffiltering\"></a></span> "
   ]
  },
  {
   "cell_type": "markdown",
   "id": "b95ddbb3-0a59-42cc-9882-ade334409ad1",
   "metadata": {
    "tags": []
   },
   "source": [
    "java -jar snpEff.jar -v -o statschr6.onlySNP.html rice6.1 input.vcf > output.snpeff.vcf"
   ]
  },
  {
   "cell_type": "markdown",
   "id": "c318abee-7dcd-4ad4-9981-7ebac9eb164f",
   "metadata": {
    "tags": []
   },
   "source": [
    "## <span style=\"color:#006E7F\">V - Compute the SNP density along the chromosomes<a class=\"anchor\" id=\"density\"></span>  "
   ]
  },
  {
   "cell_type": "code",
   "execution_count": null,
   "id": "471c9e7d-48fc-4c83-a212-9ecc6d9cfa8a",
   "metadata": {},
   "outputs": [],
   "source": [
    "echo -e \"Reference\\t1000000\\n\" > genome.txt\n",
    "bedtools genomecov -bga -split -i output.vcf -g genome.txt > density.csv"
   ]
  },
  {
   "cell_type": "code",
   "execution_count": null,
   "id": "5780d9da-0550-48bc-a34d-8d16b324ceca",
   "metadata": {
    "tags": []
   },
   "outputs": [],
   "source": [
    "head density.csv"
   ]
  }
 ],
 "metadata": {
  "kernelspec": {
   "display_name": "Python 3 (ipykernel)",
   "language": "python",
   "name": "python3"
  },
  "language_info": {
   "codemirror_mode": {
    "name": "ipython",
    "version": 3
   },
   "file_extension": ".py",
   "mimetype": "text/x-python",
   "name": "python",
   "nbconvert_exporter": "python",
   "pygments_lexer": "ipython3",
   "version": "3.9.12"
  }
 },
 "nbformat": 4,
 "nbformat_minor": 5
}
