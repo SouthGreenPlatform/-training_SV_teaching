{
 "cells": [
  {
   "cell_type": "markdown",
   "id": "2f09a11c",
   "metadata": {},
   "source": [
    "# <span style=\"color:green\">Formation South Green 2022</span> - Structural Variants Detection by using short and long reads \n",
    "\n",
    "# __DAY 3 : Structural variant calling__\n",
    "\n",
    "Created by C. Tranchant (DIADE-IRD), J. Orjuela (DIADE-IRD), F. Sabot (DIADE-IRD) and A. Dereeper (PHIM-IRD)\n",
    "\n"
   ]
  },
  {
   "cell_type": "markdown",
   "id": "c635381f-17de-41d5-abfa-60d81bca626b",
   "metadata": {},
   "source": [
    "# Structural variation with Breakdance (SR)\n"
   ]
  },
  {
   "cell_type": "markdown",
   "id": "de5be5a8-28e1-420a-b9da-dad8dd5121c5",
   "metadata": {},
   "source": [
    "To run BreakDancer, first use `bam2cfg.pl` to prepare the required config file."
   ]
  },
  {
   "cell_type": "markdown",
   "id": "aeb1cfe2-4833-45f8-bd91-20ea82b963c4",
   "metadata": {},
   "source": [
    "First of all, create a list of bam files"
   ]
  },
  {
   "cell_type": "code",
   "execution_count": 102,
   "id": "84017eae-ff41-47d6-beff-970306e6ee7f",
   "metadata": {},
   "outputs": [],
   "source": [
    "mkdir -p ~/work/BREAKDANCER/;\n",
    "cd ~/work/BREAKDANCER/;\n",
    "realpath /home/jovyan/work/MAPPING-ILL/dirClone*/*SORTED.bam > bam_files.txt"
   ]
  },
  {
   "cell_type": "markdown",
   "id": "09bcc14f-e73e-4161-8609-2955f36cbcbc",
   "metadata": {},
   "source": [
    "ls"
   ]
  },
  {
   "cell_type": "code",
   "execution_count": 103,
   "id": "18ae3020-5b30-48ef-bea5-81b5653950e1",
   "metadata": {},
   "outputs": [
    {
     "name": "stdout",
     "output_type": "stream",
     "text": [
      "/home/jovyan/work/MAPPING-ILL/dirClone10/Clone10.SORTED.bam\n",
      "/home/jovyan/work/MAPPING-ILL/dirClone11/Clone11.SORTED.bam\n",
      "/home/jovyan/work/MAPPING-ILL/dirClone12/Clone12.SORTED.bam\n",
      "/home/jovyan/work/MAPPING-ILL/dirClone13/Clone13.SORTED.bam\n",
      "/home/jovyan/work/MAPPING-ILL/dirClone14/Clone14.SORTED.bam\n",
      "/home/jovyan/work/MAPPING-ILL/dirClone15/Clone15.SORTED.bam\n",
      "/home/jovyan/work/MAPPING-ILL/dirClone16/Clone16.SORTED.bam\n",
      "/home/jovyan/work/MAPPING-ILL/dirClone17/Clone17.SORTED.bam\n",
      "/home/jovyan/work/MAPPING-ILL/dirClone18/Clone18.SORTED.bam\n",
      "/home/jovyan/work/MAPPING-ILL/dirClone19/Clone19.SORTED.bam\n",
      "/home/jovyan/work/MAPPING-ILL/dirClone1/Clone1.SORTED.bam\n",
      "/home/jovyan/work/MAPPING-ILL/dirClone20/Clone20.SORTED.bam\n",
      "/home/jovyan/work/MAPPING-ILL/dirClone2/Clone2.SORTED.bam\n",
      "/home/jovyan/work/MAPPING-ILL/dirClone3/Clone3.SORTED.bam\n",
      "/home/jovyan/work/MAPPING-ILL/dirClone4/Clone4.SORTED.bam\n",
      "/home/jovyan/work/MAPPING-ILL/dirClone5/Clone5.SORTED.bam\n",
      "/home/jovyan/work/MAPPING-ILL/dirClone6/Clone6.SORTED.bam\n",
      "/home/jovyan/work/MAPPING-ILL/dirClone7/Clone7.SORTED.bam\n",
      "/home/jovyan/work/MAPPING-ILL/dirClone8/Clone8.SORTED.bam\n",
      "/home/jovyan/work/MAPPING-ILL/dirClone9/Clone9.SORTED.bam\n"
     ]
    }
   ],
   "source": [
    "cat bam_files.txt"
   ]
  },
  {
   "cell_type": "code",
   "execution_count": 105,
   "id": "50312ee1-e8d1-45d3-a61d-f08388213ba7",
   "metadata": {},
   "outputs": [
    {
     "name": "stdout",
     "output_type": "stream",
     "text": [
      "[Sun Jun 19 16:44:18 2022 /opt/conda/bin/bam2cfg.pl] Processing bam: bam_files.txt\n",
      "[bam_header_read] EOF marker is absent. The input is probably truncated.\n",
      "[bam_header_read] invalid BAM binary header (this is not a BAM file).\n",
      "[main_samview] fail to read the header from \"bam_files.txt\".\n",
      "[Sun Jun 19 16:44:18 2022 /opt/conda/bin/bam2cfg.pl] Closing BAM file\n",
      "[Sun Jun 19 16:44:18 2022 /opt/conda/bin/bam2cfg.pl] Send TERM signal for 149317\n",
      "[Sun Jun 19 16:44:20 2022 /opt/conda/bin/bam2cfg.pl] samtools pid process 149317 is still there...\n",
      "[Sun Jun 19 16:44:20 2022 /opt/conda/bin/bam2cfg.pl] invoking kill -9 on 149317 ...\n",
      "[Sun Jun 19 16:44:20 2022 /opt/conda/bin/bam2cfg.pl] Closing samtools process : 149317\n"
     ]
    }
   ],
   "source": [
    "bam2cfg.pl bam_files.txt \n",
    "#breakdancer_options"
   ]
  },
  {
   "cell_type": "markdown",
   "id": "c9998362-7cd2-4db3-8e06-0163f83c1d7a",
   "metadata": {},
   "source": [
    "Then run BreakDancer on the config"
   ]
  },
  {
   "cell_type": "code",
   "execution_count": 106,
   "id": "f3750540-9703-4897-9227-6130b668bd3e",
   "metadata": {},
   "outputs": [
    {
     "name": "stdout",
     "output_type": "stream",
     "text": [
      "Error: no bams files in config file!\n"
     ]
    },
    {
     "ename": "",
     "evalue": "1",
     "output_type": "error",
     "traceback": []
    }
   ],
   "source": [
    "breakdancer-max config_file.cfg"
   ]
  },
  {
   "cell_type": "code",
   "execution_count": null,
   "id": "4bf95204-3f94-4eb7-b275-17ad3f7305f3",
   "metadata": {},
   "outputs": [],
   "source": []
  },
  {
   "cell_type": "markdown",
   "id": "3d07c5cc",
   "metadata": {
    "tags": []
   },
   "source": [
    "# Structural variation with Sniffles (LR)\n",
    "\n",
    "Sniffles is a structural variation caller using third generation sequencing (PacBio or Oxford Nanopore).\n",
    "\n",
    "It detects all types of SVs (10bp+) using evidence from split-read alignments, high-mismatch regions, and coverage analysis."
   ]
  },
  {
   "cell_type": "markdown",
   "id": "f8c89ab9-5da9-4c48-9a20-083bbc3f4760",
   "metadata": {},
   "source": [
    "## Prepare data"
   ]
  },
  {
   "cell_type": "code",
   "execution_count": 41,
   "id": "13474807-c0f2-4d71-ac85-aae834302073",
   "metadata": {},
   "outputs": [],
   "source": [
    "# create SNIFFLES folder\n",
    "mkdir -p /home/jovyan/work/SNIFFLES/\n",
    "cd /home/jovyan/work/SNIFFLES/\n",
    "\n",
    "# declare your Clone\n",
    "CLONE=\"Clone10\"\n",
    "\n",
    "# declare reference path\n",
    "REF=\"/home/jovyan/work/SV_DATA/REF/reference.fasta\""
   ]
  },
  {
   "cell_type": "code",
   "execution_count": 42,
   "id": "e8800be2-1812-43b9-9e43-77aaadbbed3a",
   "metadata": {},
   "outputs": [
    {
     "name": "stdout",
     "output_type": "stream",
     "text": [
      "Clone10.fastq.gz  Clone15.fastq.gz  Clone1.fastq.gz   Clone5.fastq.gz\n",
      "Clone11.fastq.gz  Clone16.fastq.gz  Clone20.fastq.gz  Clone6.fastq.gz\n",
      "Clone12.fastq.gz  Clone17.fastq.gz  Clone2.fastq.gz   Clone7.fastq.gz\n",
      "Clone13.fastq.gz  Clone18.fastq.gz  Clone3.fastq.gz   Clone8.fastq.gz\n",
      "Clone14.fastq.gz  Clone19.fastq.gz  Clone4.fastq.gz   Clone9.fastq.gz\n"
     ]
    }
   ],
   "source": [
    "# check reads ONT from Clones\n",
    "ONT=/home/jovyan/work/SV_DATA/LONG_READS\n",
    "ls $ONT\n"
   ]
  },
  {
   "cell_type": "markdown",
   "id": "9e172e4a-4c5b-4c84-bdfe-1c13c2d586bd",
   "metadata": {
    "tags": []
   },
   "source": [
    "# 1. SV detection for all CLONES"
   ]
  },
  {
   "cell_type": "code",
   "execution_count": 43,
   "id": "ab00d43f-029c-4d9f-bf74-71815def6b3d",
   "metadata": {},
   "outputs": [],
   "source": [
    "cd /home/jovyan/work/MAPPING-ONT/BAM"
   ]
  },
  {
   "cell_type": "code",
   "execution_count": 44,
   "id": "a8dc93fc-8ae1-4a78-a1a3-00e01b5cfad7",
   "metadata": {},
   "outputs": [
    {
     "name": "stdout",
     "output_type": "stream",
     "text": [
      "Clone10_ONT_SORTED.bam  Clone17_ONT_SORTED.bam  Clone4_ONT_SORTED.bam\n",
      "Clone11_ONT_SORTED.bam  Clone18_ONT_SORTED.bam  Clone5_ONT_SORTED.bam\n",
      "Clone12_ONT_SORTED.bam  Clone19_ONT_SORTED.bam  Clone6_ONT_SORTED.bam\n",
      "Clone13_ONT_SORTED.bam  Clone1_ONT_SORTED.bam   Clone7_ONT_SORTED.bam\n",
      "Clone14_ONT_SORTED.bam  Clone20_ONT_SORTED.bam  Clone8_ONT_SORTED.bam\n",
      "Clone15_ONT_SORTED.bam  Clone2_ONT_SORTED.bam   Clone9_ONT_SORTED.bam\n",
      "Clone16_ONT_SORTED.bam  Clone3_ONT_SORTED.bam\n"
     ]
    }
   ],
   "source": [
    "ls"
   ]
  },
  {
   "cell_type": "code",
   "execution_count": 45,
   "id": "6cfc6884-3c04-49dd-a51a-17abca4cdedc",
   "metadata": {},
   "outputs": [],
   "source": [
    "#wget --no-check-certificat -rm -nH --cut-dirs=1 --reject=\"index.html*\" wget https://itrop.ird.fr/sv-training/BAM_ONT.tar.gz\n",
    "#tar zxvf BAM_ONT.tar.gz\n",
    "#BAM_ONT=\"/home/jovyan/work/BAM_ONT\"\n",
    "#rm BAM_ONT.tar.gz\n",
    "#ls $BAM_ONT"
   ]
  },
  {
   "cell_type": "markdown",
   "id": "25b04776-4eba-45ad-8e19-a75827465cf0",
   "metadata": {},
   "source": [
    "### Obtain calls for each samples"
   ]
  },
  {
   "cell_type": "markdown",
   "id": "fbe8c131-5f5e-4156-8817-37a0c1c343ab",
   "metadata": {},
   "source": [
    "## SNIFFLES"
   ]
  },
  {
   "cell_type": "code",
   "execution_count": 46,
   "id": "ea080741-d309-483d-824b-7ccd75b6ac64",
   "metadata": {
    "collapsed": true,
    "jupyter": {
     "outputs_hidden": true
    },
    "tags": []
   },
   "outputs": [
    {
     "name": "stdout",
     "output_type": "stream",
     "text": [
      "============ Clone2==============\n",
      "Running Sniffles2, build 2.0.6\n",
      "  Run Mode: call_sample\n",
      "  Start on: 2022/06/17 16:47:39\n",
      "  Working dir: /home/jovyan/work/MAPPING-ONT/BAM\n",
      "  Used command: /opt/conda/bin/sniffles -i Clone2_ONT_SORTED.bam -v /home/jovyan/work/SNIFFLES/Clone2_SV.vcf --allow-overwrite\n",
      "==============================\n",
      "Opening for reading: Clone2_ONT_SORTED.bam\n",
      "Opening for writing: /home/jovyan/work/SNIFFLES/Clone2_SV.vcf (single-sample, sorted)\n",
      "\n",
      "Analyzing 9085 alignments total...\n",
      "\n",
      "9085/9085 alignments processed (100%, 1834/s); 1/1 tasks done; parallel 0/4; 1 SVs. \n",
      "Took 4.95s.\n",
      "\n",
      "Done.\n",
      "Wrote 1 called SVs to /home/jovyan/work/SNIFFLES/Clone2_SV.vcf (single-sample, sorted)\n",
      "============ Clone4==============\n",
      "Running Sniffles2, build 2.0.6\n",
      "  Run Mode: call_sample\n",
      "  Start on: 2022/06/17 16:47:46\n",
      "  Working dir: /home/jovyan/work/MAPPING-ONT/BAM\n",
      "  Used command: /opt/conda/bin/sniffles -i Clone4_ONT_SORTED.bam -v /home/jovyan/work/SNIFFLES/Clone4_SV.vcf --allow-overwrite\n",
      "==============================\n",
      "Opening for reading: Clone4_ONT_SORTED.bam\n",
      "Opening for writing: /home/jovyan/work/SNIFFLES/Clone4_SV.vcf (single-sample, sorted)\n",
      "\n",
      "Analyzing 9087 alignments total...\n",
      "\n",
      "9087/9087 alignments processed (100%, 1817/s); 1/1 tasks done; parallel 0/4; 1 SVs. \n",
      "Took 5.00s.\n",
      "\n",
      "Done.\n",
      "Wrote 1 called SVs to /home/jovyan/work/SNIFFLES/Clone4_SV.vcf (single-sample, sorted)\n",
      "============ Clone6==============\n",
      "Running Sniffles2, build 2.0.6\n",
      "  Run Mode: call_sample\n",
      "  Start on: 2022/06/17 16:47:53\n",
      "  Working dir: /home/jovyan/work/MAPPING-ONT/BAM\n",
      "  Used command: /opt/conda/bin/sniffles -i Clone6_ONT_SORTED.bam -v /home/jovyan/work/SNIFFLES/Clone6_SV.vcf --allow-overwrite\n",
      "==============================\n",
      "Opening for reading: Clone6_ONT_SORTED.bam\n",
      "Opening for writing: /home/jovyan/work/SNIFFLES/Clone6_SV.vcf (single-sample, sorted)\n",
      "\n",
      "Analyzing 10237 alignments total...\n",
      "\n",
      "10237/10237 alignments processed (100%, 1822/s); 1/1 tasks done; parallel 0/4; 18 SVs. \n",
      "Took 5.62s.\n",
      "\n",
      "Done.\n",
      "Wrote 18 called SVs to /home/jovyan/work/SNIFFLES/Clone6_SV.vcf (single-sample, sorted)\n",
      "============ Clone8==============\n",
      "Running Sniffles2, build 2.0.6\n",
      "  Run Mode: call_sample\n",
      "  Start on: 2022/06/17 16:48:02\n",
      "  Working dir: /home/jovyan/work/MAPPING-ONT/BAM\n",
      "  Used command: /opt/conda/bin/sniffles -i Clone8_ONT_SORTED.bam -v /home/jovyan/work/SNIFFLES/Clone8_SV.vcf --allow-overwrite\n",
      "==============================\n",
      "Opening for reading: Clone8_ONT_SORTED.bam\n",
      "Opening for writing: /home/jovyan/work/SNIFFLES/Clone8_SV.vcf (single-sample, sorted)\n",
      "\n",
      "Analyzing 15864 alignments total...\n",
      "\n",
      "15864/15864 alignments processed (100%, 2066/s); 1/1 tasks done; parallel 0/4; 37 SVs. \n",
      "Took 7.68s.\n",
      "\n",
      "Done.\n",
      "Wrote 37 called SVs to /home/jovyan/work/SNIFFLES/Clone8_SV.vcf (single-sample, sorted)\n",
      "============ Clone10==============\n",
      "Running Sniffles2, build 2.0.6\n",
      "  Run Mode: call_sample\n",
      "  Start on: 2022/06/17 16:48:12\n",
      "  Working dir: /home/jovyan/work/MAPPING-ONT/BAM\n",
      "  Used command: /opt/conda/bin/sniffles -i Clone10_ONT_SORTED.bam -v /home/jovyan/work/SNIFFLES/Clone10_SV.vcf --allow-overwrite\n",
      "==============================\n",
      "Opening for reading: Clone10_ONT_SORTED.bam\n",
      "Opening for writing: /home/jovyan/work/SNIFFLES/Clone10_SV.vcf (single-sample, sorted)\n",
      "\n",
      "Analyzing 9281 alignments total...\n",
      "\n",
      "9281/9281 alignments processed (100%, 1912/s); 1/1 tasks done; parallel 0/4; 25 SVs. \n",
      "Took 4.85s.\n",
      "\n",
      "Done.\n",
      "Wrote 25 called SVs to /home/jovyan/work/SNIFFLES/Clone10_SV.vcf (single-sample, sorted)\n",
      "============ Clone12==============\n",
      "Running Sniffles2, build 2.0.6\n",
      "  Run Mode: call_sample\n",
      "  Start on: 2022/06/17 16:48:18\n",
      "  Working dir: /home/jovyan/work/MAPPING-ONT/BAM\n",
      "  Used command: /opt/conda/bin/sniffles -i Clone12_ONT_SORTED.bam -v /home/jovyan/work/SNIFFLES/Clone12_SV.vcf --allow-overwrite\n",
      "==============================\n",
      "Opening for reading: Clone12_ONT_SORTED.bam\n",
      "Opening for writing: /home/jovyan/work/SNIFFLES/Clone12_SV.vcf (single-sample, sorted)\n",
      "\n",
      "Analyzing 8197 alignments total...\n",
      "\n",
      "8197/8197 alignments processed (100%, 1774/s); 1/1 tasks done; parallel 0/4; 38 SVs. \n",
      "Took 4.62s.\n",
      "\n",
      "Done.\n",
      "Wrote 38 called SVs to /home/jovyan/work/SNIFFLES/Clone12_SV.vcf (single-sample, sorted)\n",
      "============ Clone14==============\n",
      "Running Sniffles2, build 2.0.6\n",
      "  Run Mode: call_sample\n",
      "  Start on: 2022/06/17 16:48:25\n",
      "  Working dir: /home/jovyan/work/MAPPING-ONT/BAM\n",
      "  Used command: /opt/conda/bin/sniffles -i Clone14_ONT_SORTED.bam -v /home/jovyan/work/SNIFFLES/Clone14_SV.vcf --allow-overwrite\n",
      "==============================\n",
      "Opening for reading: Clone14_ONT_SORTED.bam\n",
      "Opening for writing: /home/jovyan/work/SNIFFLES/Clone14_SV.vcf (single-sample, sorted)\n",
      "\n",
      "Analyzing 9454 alignments total...\n",
      "\n",
      "9454/9454 alignments processed (100%, 1813/s); 1/1 tasks done; parallel 0/4; 77 SVs. \n",
      "Took 5.21s.\n",
      "\n",
      "Done.\n",
      "Wrote 77 called SVs to /home/jovyan/work/SNIFFLES/Clone14_SV.vcf (single-sample, sorted)\n",
      "============ Clone16==============\n",
      "Running Sniffles2, build 2.0.6\n",
      "  Run Mode: call_sample\n",
      "  Start on: 2022/06/17 16:48:32\n",
      "  Working dir: /home/jovyan/work/MAPPING-ONT/BAM\n",
      "  Used command: /opt/conda/bin/sniffles -i Clone16_ONT_SORTED.bam -v /home/jovyan/work/SNIFFLES/Clone16_SV.vcf --allow-overwrite\n",
      "==============================\n",
      "Opening for reading: Clone16_ONT_SORTED.bam\n",
      "Opening for writing: /home/jovyan/work/SNIFFLES/Clone16_SV.vcf (single-sample, sorted)\n",
      "\n",
      "Analyzing 10562 alignments total...\n",
      "\n",
      "10562/10562 alignments processed (100%, 1728/s); 1/1 tasks done; parallel 0/4; 240 SVs. \n",
      "Took 6.11s.\n",
      "\n",
      "Done.\n",
      "Wrote 240 called SVs to /home/jovyan/work/SNIFFLES/Clone16_SV.vcf (single-sample, sorted)\n",
      "============ Clone18==============\n",
      "Running Sniffles2, build 2.0.6\n",
      "  Run Mode: call_sample\n",
      "  Start on: 2022/06/17 16:48:41\n",
      "  Working dir: /home/jovyan/work/MAPPING-ONT/BAM\n",
      "  Used command: /opt/conda/bin/sniffles -i Clone18_ONT_SORTED.bam -v /home/jovyan/work/SNIFFLES/Clone18_SV.vcf --allow-overwrite\n",
      "==============================\n",
      "Opening for reading: Clone18_ONT_SORTED.bam\n",
      "Opening for writing: /home/jovyan/work/SNIFFLES/Clone18_SV.vcf (single-sample, sorted)\n",
      "\n",
      "Analyzing 9242 alignments total...\n",
      "\n",
      "9242/9242 alignments processed (100%, 1996/s); 1/1 tasks done; parallel 0/4; 84 SVs. \n",
      "Took 4.63s.\n",
      "\n",
      "Done.\n",
      "Wrote 84 called SVs to /home/jovyan/work/SNIFFLES/Clone18_SV.vcf (single-sample, sorted)\n",
      "============ Clone20==============\n",
      "Running Sniffles2, build 2.0.6\n",
      "  Run Mode: call_sample\n",
      "  Start on: 2022/06/17 16:48:47\n",
      "  Working dir: /home/jovyan/work/MAPPING-ONT/BAM\n",
      "  Used command: /opt/conda/bin/sniffles -i Clone20_ONT_SORTED.bam -v /home/jovyan/work/SNIFFLES/Clone20_SV.vcf --allow-overwrite\n",
      "==============================\n",
      "Opening for reading: Clone20_ONT_SORTED.bam\n",
      "Opening for writing: /home/jovyan/work/SNIFFLES/Clone20_SV.vcf (single-sample, sorted)\n",
      "\n",
      "Analyzing 9233 alignments total...\n",
      "\n",
      "9233/9233 alignments processed (100%, 1731/s); 1/1 tasks done; parallel 0/4; 91 SVs. \n",
      "Took 5.33s.\n",
      "\n",
      "Done.\n",
      "Wrote 91 called SVs to /home/jovyan/work/SNIFFLES/Clone20_SV.vcf (single-sample, sorted)\n",
      "\n",
      "real\t0m0.000s\n",
      "user\t0m0.000s\n",
      "sys\t0m0.000s\n"
     ]
    }
   ],
   "source": [
    "cd /home/jovyan/work/MAPPING-ONT/BAM/\n",
    "\n",
    "for i in {2,4,6,8,10,12,14,16,18,20}\n",
    "    do\n",
    "        echo \"============ Clone${i}==============\";\n",
    "        samtools index Clone${i}_ONT_SORTED.bam\n",
    "        sniffles -i Clone${i}_ONT_SORTED.bam -v /home/jovyan/work/SNIFFLES/Clone${i}_SV.vcf --allow-overwrite\n",
    "    done\n",
    "time\n"
   ]
  },
  {
   "cell_type": "markdown",
   "id": "8fb4bc4d-1841-4aa7-906b-b6ad3548e03d",
   "metadata": {},
   "source": [
    "### Count the number of variations"
   ]
  },
  {
   "cell_type": "code",
   "execution_count": 47,
   "id": "367a047d-cef9-487e-b496-be2a76554131",
   "metadata": {},
   "outputs": [
    {
     "name": "stdout",
     "output_type": "stream",
     "text": [
      "Clone2\n",
      "1\n",
      "Clone4\n",
      "1\n",
      "Clone6\n",
      "18\n",
      "Clone8\n",
      "37\n",
      "Clone10\n",
      "25\n",
      "Clone12\n",
      "38\n",
      "Clone14\n",
      "77\n",
      "Clone16\n",
      "240\n",
      "Clone18\n",
      "84\n",
      "Clone20\n",
      "91\n"
     ]
    }
   ],
   "source": [
    "cd  /home/jovyan/work/SNIFFLES/\n",
    "\n",
    "for i in {2,4,6,8,10,12,14,16,18,20}\n",
    "    do\n",
    "        echo \"Clone${i}\";\n",
    "        grep -v \"#\" Clone${i}_SV.vcf | wc -l\n",
    "    done"
   ]
  },
  {
   "cell_type": "markdown",
   "id": "2eb9c407-7623-4f4d-a301-bdf34359ae58",
   "metadata": {
    "tags": []
   },
   "source": [
    "# 2. Merge all the vcf files across all samples \n"
   ]
  },
  {
   "cell_type": "markdown",
   "id": "6479a06d-7cdc-434f-9397-7df84c57efe3",
   "metadata": {},
   "source": [
    "Check the sniffles website https://github.com/fritzsedlazeck/Sniffles/ an its wiki for more details"
   ]
  },
  {
   "cell_type": "code",
   "execution_count": 51,
   "id": "20b379af-3057-48a2-bcf0-11eead7c2cb7",
   "metadata": {},
   "outputs": [
    {
     "name": "stdout",
     "output_type": "stream",
     "text": [
      "Could not find conda environment: survivor\n",
      "You can list all discoverable environments with `conda info --envs`.\n",
      "\n",
      "bash: SURVIVOR: command not found\n"
     ]
    }
   ],
   "source": [
    "cd  /home/jovyan/work/SNIFFLES/\n",
    "\n",
    "# Put all file paths over all vcf files together\n",
    "ls *SV.vcf > vcf_raw_calls.txt\n",
    "\n",
    "# We call SURVIVOR to merge these into one vcf file\n",
    "conda activate survivor\n",
    "SURVIVOR merge vcf_raw_calls.txt 1000 1 1 -1 -1 -1 merged_SURVIVOR_1kDist.vcf\n",
    "conda deactivate"
   ]
  },
  {
   "cell_type": "markdown",
   "id": "e73a58a9-2f58-4574-94a7-9a11fc8b2bca",
   "metadata": {},
   "source": [
    "This will generate one VCF file for all the samples, but we lack the information \n",
    "\n",
    "If a SV identified in one sample but not in the other is really absent."
   ]
  },
  {
   "cell_type": "markdown",
   "id": "54a53b91-1d29-46ae-aa67-3bd13bb490fa",
   "metadata": {},
   "source": [
    "# 3. Force call all the SVs across all the samples\n",
    "\n",
    "Next we run Sniffles again across all the samples similar to this :"
   ]
  },
  {
   "cell_type": "code",
   "execution_count": null,
   "id": "3ed8841c-ecf1-4fc6-9343-aca1aedb1fca",
   "metadata": {
    "tags": []
   },
   "outputs": [],
   "source": [
    "cd /home/jovyan/work/MAPPING-ONT/BAM/\n",
    "\n",
    "for i in {2,4,6,8,10,12,14,16,18,20}\n",
    "    do\n",
    "        echo -e \"\\n========== REMapping Clone$i======== \\n\";\n",
    "        sniffles Clone${i}_SORTED.bam -v /home/jovyan/work/SNIFFLES/Clone${i}_SV.gt.vcf --Ivcf /home/jovyan/work/SNIFFLES/merged_SURVIVOR_1kDist.vcf\n",
    "    done\n"
   ]
  },
  {
   "cell_type": "markdown",
   "id": "4d5da771-38eb-4ab7-a7df-68e92fcff80b",
   "metadata": {},
   "source": [
    "The previous command might have triggered a segmentation fault\n",
    "You can download the results with the following command:"
   ]
  },
  {
   "cell_type": "code",
   "execution_count": null,
   "id": "b0458adb-14aa-4b5a-a3ad-e0bc250261ab",
   "metadata": {},
   "outputs": [],
   "source": [
    "wget --no-check-certificat -rm -nH --cut-dirs=1 --reject=\"index.html*\" https://itrop.ird.fr/ont-training/SNIFFLES.tar.gz\n",
    "tar -xzf SNIFFLES.tar.gz"
   ]
  },
  {
   "cell_type": "code",
   "execution_count": null,
   "id": "83daea67-7430-47df-ba3b-50fa770fc4f4",
   "metadata": {},
   "outputs": [],
   "source": [
    "#Put all file paths over all new vcf files together\n",
    "cd  /home/jovyan/work/SNIFFLES/\n",
    "ls *SV.gt.vcf > vcf_gt_calls.txt\n",
    "\n",
    "# relauch survivor to merge vcf again and finally obtain now a fully genotyped multisample vcf\n",
    "conda activate survivor\n",
    "SURVIVOR merge vcf_gt_calls.txt 1000 1 1 -1 -1 -1 merged_gt_SURVIVOR_1kDist.vcf\n",
    "conda deactivate\n",
    "\n",
    "# The -1 for the minimum SV caller is necessary to obtain all calls even if they might be 0/0 in all samples."
   ]
  },
  {
   "cell_type": "markdown",
   "id": "2c885731-9eea-4e20-8e41-643f766637b0",
   "metadata": {
    "tags": []
   },
   "source": [
    "# Have a look on the VCF file"
   ]
  },
  {
   "cell_type": "code",
   "execution_count": null,
   "id": "b1deb0bb-3b0d-44b3-9428-d9a78632b30d",
   "metadata": {},
   "outputs": [],
   "source": [
    "head -n 100 merged_gt_SURVIVOR_1kDist.vcf | tail -n 5"
   ]
  },
  {
   "cell_type": "markdown",
   "id": "795c7bdb-dfd3-4fb0-9f4e-452a8f3c6bca",
   "metadata": {},
   "source": [
    "Now, you can plotting proportion of SV in all sample for VCF for example"
   ]
  }
 ],
 "metadata": {
  "kernelspec": {
   "display_name": "Bash",
   "language": "bash",
   "name": "bash"
  },
  "language_info": {
   "codemirror_mode": "shell",
   "file_extension": ".sh",
   "mimetype": "text/x-sh",
   "name": "bash"
  }
 },
 "nbformat": 4,
 "nbformat_minor": 5
}
