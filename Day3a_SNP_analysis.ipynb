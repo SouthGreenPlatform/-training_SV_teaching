{
 "cells": [
  {
   "cell_type": "markdown",
   "id": "22cccec7-858e-4e84-b967-feb1b5f78a58",
   "metadata": {},
   "source": [
    "# Get SNP file and calculate some statistics\n",
    "\n",
    "This tutorial is based on a SNP dataset extracted from the 3000 Rice genome project. For limiting time of computation, we restricted the dataset to chr1 for 60 individuals (30 indica and 30 japonica)."
   ]
  },
  {
   "cell_type": "markdown",
   "id": "a6cc1899-bc1b-4fea-be70-e99215262875",
   "metadata": {},
   "source": [
    "#### Create a new directory 'rice3k' for this analysis"
   ]
  },
  {
   "cell_type": "code",
   "execution_count": 1,
   "id": "32811024-37fe-4ba5-8e10-14ab39258995",
   "metadata": {},
   "outputs": [
    {
     "name": "stdout",
     "output_type": "stream",
     "text": [
      "mkdir: cannot create directory ‘/home/jovyan/rice3k’: File exists\n"
     ]
    }
   ],
   "source": [
    "mkdir /home/jovyan/rice3k\n",
    "cd /home/jovyan/rice3k"
   ]
  },
  {
   "cell_type": "markdown",
   "id": "c5ec4d29-ba38-4169-a6c7-85a357f3165e",
   "metadata": {},
   "source": [
    "#### Download the VCF dataset\n",
    "\n",
    "The wget command allows to download any dataset available on the web, through a URL"
   ]
  },
  {
   "cell_type": "code",
   "execution_count": 2,
   "id": "f064e29b-09e7-4f52-9457-b49a16603947",
   "metadata": {},
   "outputs": [
    {
     "name": "stdout",
     "output_type": "stream",
     "text": [
      "--2022-09-07 13:28:13--  https://itrop.ird.fr/sv-training/out.vcf.gz\n",
      "Resolving itrop.ird.fr (itrop.ird.fr)... 91.203.35.184\n",
      "Connecting to itrop.ird.fr (itrop.ird.fr)|91.203.35.184|:443... connected.\n",
      "HTTP request sent, awaiting response... 200 OK\n",
      "Length: 1678691 (1.6M) [application/x-gzip]\n",
      "Saving to: ‘out.vcf.gz’\n",
      "\n",
      "out.vcf.gz          100%[===================>]   1.60M  --.-KB/s    in 0.1s    \n",
      "\n",
      "2022-09-07 13:28:14 (15.0 MB/s) - ‘out.vcf.gz’ saved [1678691/1678691]\n",
      "\n"
     ]
    }
   ],
   "source": [
    "wget https://itrop.ird.fr/sv-training/out.vcf.gz"
   ]
  },
  {
   "cell_type": "markdown",
   "id": "b9a54074-b723-445c-a0a2-d1eff1d6e5ce",
   "metadata": {},
   "source": [
    "#### Some statistics about SNPs\n",
    "\n",
    "Count the number of variants with `bcftools stat`\n",
    "- Run the bcftools stats on the vcf file and save the result into the file `SNP_statistics.txt`\n",
    "- How many samples were used for this SNP analysis ?\n",
    "- How many SNPs were detected ? Is there any other easy way to identify the number of variants in VCF file?\n",
    "- What is the ratio transition/transversion?"
   ]
  },
  {
   "cell_type": "code",
   "execution_count": 4,
   "id": "87c53599-84ff-45e5-a864-17e525195f47",
   "metadata": {},
   "outputs": [],
   "source": [
    "bcftools stats out.vcf.gz >SNP_statistics.txt"
   ]
  },
  {
   "cell_type": "markdown",
   "id": "63693f73-e998-4760-b16e-bcfe54f193c9",
   "metadata": {},
   "source": [
    "#### Calculate allele frequency\n",
    "\n",
    "Calculate allele frequency of each position using `vcftools`\n",
    "\n",
    "--freq2 : outputs the frequencies without information about the alleles\n",
    "\n",
    "--freq would return their identity\n",
    "\n",
    "--max-alleles 2 to exclude sites that have more than two alleles.\n",
    "\n",
    "Compare outputs between these two options"
   ]
  },
  {
   "cell_type": "code",
   "execution_count": 9,
   "id": "385b8d15-74fb-43e5-a028-be94c1df3e74",
   "metadata": {
    "collapsed": true,
    "jupyter": {
     "outputs_hidden": true
    },
    "tags": []
   },
   "outputs": [
    {
     "name": "stdout",
     "output_type": "stream",
     "text": [
      "\n",
      "VCFtools - 0.1.16\n",
      "(C) Adam Auton and Anthony Marcketta 2009\n",
      "\n",
      "Parameters as interpreted:\n",
      "\t--gzvcf out.vcf.gz\n",
      "\t--max-alleles 2\n",
      "\t--freq\n",
      "\t--out AF\n",
      "\n",
      "Using zlib version: 1.2.11\n",
      "Warning: Expected at least 2 parts in INFO entry: ID=PR,Number=0,Type=Flag,Description=\"Provisional reference allele, may not be based on real reference genome\">\n",
      "After filtering, kept 60 out of 60 Individuals\n",
      "Outputting Frequency Statistics...\n",
      "After filtering, kept 119202 out of a possible 119202 Sites\n",
      "Run Time = 2.00 seconds\n"
     ]
    }
   ],
   "source": [
    "vcftools --gzvcf out.vcf.gz --freq --out AF --max-alleles 2"
   ]
  },
  {
   "cell_type": "code",
   "execution_count": 8,
   "id": "08048370-ec73-445d-81ae-73aaecc27736",
   "metadata": {
    "collapsed": true,
    "jupyter": {
     "outputs_hidden": true
    },
    "tags": []
   },
   "outputs": [
    {
     "name": "stdout",
     "output_type": "stream",
     "text": [
      "\n",
      "VCFtools - 0.1.16\n",
      "(C) Adam Auton and Anthony Marcketta 2009\n",
      "\n",
      "Parameters as interpreted:\n",
      "\t--gzvcf out.vcf.gz\n",
      "\t--max-alleles 2\n",
      "\t--freq2\n",
      "\t--out AF2\n",
      "\n",
      "Using zlib version: 1.2.11\n",
      "Warning: Expected at least 2 parts in INFO entry: ID=PR,Number=0,Type=Flag,Description=\"Provisional reference allele, may not be based on real reference genome\">\n",
      "After filtering, kept 60 out of 60 Individuals\n",
      "Outputting Frequency Statistics...\n",
      "After filtering, kept 119202 out of a possible 119202 Sites\n",
      "Run Time = 2.00 seconds\n"
     ]
    }
   ],
   "source": [
    "vcftools --gzvcf out.vcf.gz --freq2 --out AF2 --max-alleles 2"
   ]
  },
  {
   "cell_type": "markdown",
   "id": "b3da2123-57ce-4f64-978c-e1063a63d03c",
   "metadata": {},
   "source": [
    "# Annotate your SNPs"
   ]
  },
  {
   "cell_type": "markdown",
   "id": "e56bef7e-fa28-4fd6-b8ee-216d065e1efe",
   "metadata": {},
   "source": [
    "### Install and configure snpEff"
   ]
  },
  {
   "cell_type": "markdown",
   "id": "5f0353eb-6417-4485-88f9-d2e0a45551eb",
   "metadata": {},
   "source": [
    "We will use `snpEff` software to perform SNP annotation. \n",
    "\n",
    "SNP annotation consists of predicting the effects of genetic variants on genes and proteins (such as amino acid changes).\n",
    "\n",
    "First, download and unzip the snpEff archive."
   ]
  },
  {
   "cell_type": "code",
   "execution_count": 2,
   "id": "b0e3df5a-1405-47a0-b305-1da1c5b4ca8a",
   "metadata": {
    "collapsed": true,
    "jupyter": {
     "outputs_hidden": true
    },
    "tags": []
   },
   "outputs": [
    {
     "name": "stdout",
     "output_type": "stream",
     "text": [
      "--2022-09-07 14:33:39--  https://netix.dl.sourceforge.net/project/snpeff/snpEff_v4_3t_core.zip\n",
      "Resolving netix.dl.sourceforge.net (netix.dl.sourceforge.net)... 87.121.121.2\n",
      "Connecting to netix.dl.sourceforge.net (netix.dl.sourceforge.net)|87.121.121.2|:443... connected.\n",
      "HTTP request sent, awaiting response... 200 OK\n",
      "Length: 69708122 (66M) [application/octet-stream]\n",
      "Saving to: ‘snpEff_v4_3t_core.zip’\n",
      "\n",
      "snpEff_v4_3t_core.z 100%[===================>]  66.48M  40.1MB/s    in 1.7s    \n",
      "\n",
      "2022-09-07 14:33:41 (40.1 MB/s) - ‘snpEff_v4_3t_core.zip’ saved [69708122/69708122]\n",
      "\n",
      "Archive:  snpEff_v4_3t_core.zip\n",
      "   creating: snpEff/\n",
      "   creating: snpEff/galaxy/\n",
      "  inflating: snpEff/galaxy/snpEff.xml  \n",
      "  inflating: snpEff/galaxy/snpSift_caseControl.xml  \n",
      "  inflating: snpEff/galaxy/snpEff_download.xml  \n",
      "  inflating: snpEff/galaxy/snpEffWrapper.pl  \n",
      "  inflating: snpEff/galaxy/snpSift_filter.xml  \n",
      "  inflating: snpEff/galaxy/snpSift_int.xml  \n",
      "  inflating: snpEff/galaxy/snpSift_annotate.xml  \n",
      "  inflating: snpEff/galaxy/snpSiftWrapper.pl  \n",
      "  inflating: snpEff/galaxy/tool_dependencies.xml  \n",
      "   creating: snpEff/galaxy/tool-data/\n",
      "  inflating: snpEff/galaxy/tool-data/snpEff_genomes.loc  \n",
      "  inflating: snpEff/galaxy/tool-data/snpEff_genomes.loc.sample  \n",
      "  inflating: snpEff/galaxy/tool_conf.xml  \n",
      "   creating: snpEff/scripts/\n",
      "  inflating: snpEff/scripts/countColumns.py  \n",
      "  inflating: snpEff/scripts/vcfAnnFirst.py  \n",
      "  inflating: snpEff/scripts/join.pl  \n",
      "  inflating: snpEff/scripts/txt2vcf.py  \n",
      "  inflating: snpEff/scripts/fastqSplit.pl  \n",
      "  inflating: snpEff/scripts/cgShore.sh  \n",
      "  inflating: snpEff/scripts/annotate_demo_GATK.sh  \n",
      "  inflating: snpEff/scripts/vcfInfoOnePerLine.pl  \n",
      "  inflating: snpEff/scripts/fasta2tab.pl  \n",
      "  inflating: snpEff/scripts/vcfOnlyAlts.pl  \n",
      "  inflating: snpEff/scripts/ped2vcf.py  \n",
      "  inflating: snpEff/scripts/vcfReduceGenotypes.pl  \n",
      "  inflating: snpEff/scripts/transpose.pl  \n",
      "  inflating: snpEff/scripts/1kg.sh   \n",
      "  inflating: snpEff/scripts/splitChr.pl  \n",
      "  inflating: snpEff/scripts/snpSift_filter_sample_to_number.pl  \n",
      "  inflating: snpEff/scripts/plotLabel.pl  \n",
      "  inflating: snpEff/scripts/filterBy.py  \n",
      "  inflating: snpEff/scripts/plotMA.pl  \n",
      "  inflating: snpEff/scripts/sam2fastq.pl  \n",
      "  inflating: snpEff/scripts/vcfEffHighest.ORI.py  \n",
      "  inflating: snpEff/scripts/swapCols.pl  \n",
      "  inflating: snpEff/scripts/wigSplit.pl  \n",
      "  inflating: snpEff/scripts/queue.pl  \n",
      "  inflating: snpEff/scripts/nextProt_filter.pl  \n",
      "  inflating: snpEff/scripts/uniqCount.pl  \n",
      "  inflating: snpEff/scripts/snpEff   \n",
      "  inflating: snpEff/scripts/vcfBareBones.pl  \n",
      "  inflating: snpEff/scripts/plotXY.pl  \n",
      "  inflating: snpEff/scripts/plotQQsubsample.pl  \n",
      "  inflating: snpEff/scripts/joinSnpEff.pl  \n",
      "  inflating: snpEff/scripts/gffRemovePhase.pl  \n",
      "  inflating: snpEff/scripts/fastaSplit.pl  \n",
      "  inflating: snpEff/scripts/buildDbNcbi.sh  \n",
      "   creating: snpEff/scripts/gsa/\n",
      "  inflating: snpEff/scripts/gsa/pvalue_correction_scoreCount_min10.sh  \n",
      "  inflating: snpEff/scripts/gsa/bayesFactor_correction_scoreCount.sh  \n",
      "  inflating: snpEff/scripts/gsa/geneSetOverlap.sort.txt  \n",
      "  inflating: snpEff/scripts/gsa/pvalue_correction_scoreCount.r  \n",
      "  inflating: snpEff/scripts/gsa/bayesFactor_correction_scoreCount_max10.sh  \n",
      "  inflating: snpEff/scripts/gsa/geneSetOverlap.py  \n",
      "  inflating: snpEff/scripts/gsa/pvalue_correction_scoreCount.sh  \n",
      "  inflating: snpEff/scripts/gsa/create_sets.bds  \n",
      "  inflating: snpEff/scripts/gsa/checkGeneNames.py  \n",
      "  inflating: snpEff/scripts/gsa/geneSetsGtex.py  \n",
      "  inflating: snpEff/scripts/gsa/bayesFactor_correction_scoreCount.r  \n",
      "  inflating: snpEff/scripts/uniqCut.pl  \n",
      "  inflating: snpEff/scripts/plot.pl  \n",
      "  inflating: snpEff/scripts/cgShore.pl  \n",
      "  inflating: snpEff/scripts/plotQQ.pl  \n",
      "  inflating: snpEff/scripts/fastaSample.pl  \n",
      "  inflating: snpEff/scripts/vcfFilterSamples.pl  \n",
      "  inflating: snpEff/scripts/isutf8.py  \n",
      "  inflating: snpEff/scripts/db.pl    \n",
      "  inflating: snpEff/scripts/vcfEffOnePerLine.pl  \n",
      "  inflating: snpEff/scripts/plotSmoothScatter.pl  \n",
      "  inflating: snpEff/scripts/make_dbNSFP.sh  \n",
      "  inflating: snpEff/scripts/bedEffOnePerLine.pl  \n",
      "  inflating: snpEff/scripts/plotHistogram.pl  \n",
      "  inflating: snpEff/scripts/sortLine.py  \n",
      "  inflating: snpEff/scripts/annotate_demo.sh  \n",
      "  inflating: snpEff/scripts/txt2fa.pl  \n",
      "  inflating: snpEff/scripts/statsNum.pl  \n",
      "  inflating: snpEff/scripts/vcfRefCorrect.py  \n",
      "  inflating: snpEff/scripts/extractSequences.pl  \n",
      "  inflating: snpEff/snpEff.config    \n",
      "  inflating: snpEff/SnpSift.jar      \n",
      "  inflating: snpEff/snpEff.jar       \n",
      "   creating: snpEff/examples/\n",
      "  inflating: snpEff/examples/test.chr22.vcf  \n",
      "  inflating: snpEff/examples/samples_cancer.txt  \n",
      "  inflating: snpEff/examples/samples_cancer_one.txt  \n",
      "  inflating: snpEff/examples/cancer_pedigree.vcf  \n",
      "  inflating: snpEff/examples/test.chr22.ann.filter_missense.vcf  \n",
      "  inflating: snpEff/examples/variants_1.ann.vcf  \n",
      "  inflating: snpEff/examples/cancer.vcf  \n",
      "  inflating: snpEff/examples/test.1KG.vcf  \n",
      "  inflating: snpEff/examples/intervals.bed  \n",
      "  inflating: snpEff/examples/test.chr22.ann.one_per_line.txt  \n",
      "  inflating: snpEff/examples/variants_2.vcf  \n",
      "  inflating: snpEff/examples/cancer.eff.vcf  \n",
      "  inflating: snpEff/examples/1kg.head_chr1.filtered.vcf.gz  \n",
      "  inflating: snpEff/examples/test.chr22.ann.filter_missense_any.vcf  \n",
      "  inflating: snpEff/examples/1kg.head_chr1.vcf.gz  \n",
      "  inflating: snpEff/examples/test.chr22.ann.vcf  \n",
      "  inflating: snpEff/examples/test.ann.vcf  \n",
      "  inflating: snpEff/examples/examples.sh  \n",
      "  inflating: snpEff/examples/my_annotations.bed  \n",
      " extracting: snpEff/examples/test.vcf  \n",
      "  inflating: snpEff/examples/test.chr22.ann.filter_missense_first.vcf  \n",
      "  inflating: snpEff/examples/test.chr22.ann.txt  \n",
      "  inflating: snpEff/examples/test.chr22.ann.filter_missense_any_TRMT2A.vcf  \n",
      "  inflating: snpEff/examples/cancer.ann.vcf  \n",
      "  inflating: snpEff/examples/variants_1.vcf  \n",
      "  inflating: snpEff/examples/example_motif.vcf  \n",
      "  inflating: snpEff/examples/cancer_pedigree.ann.vcf  \n",
      "  inflating: snpEff/examples/test.1KG.ann_encode.vcf  \n",
      "  inflating: snpEff/examples/file.vcf  \n",
      "  inflating: snpEff/examples/variants_2.ann.vcf  \n",
      "  inflating: snpEff/examples/test.1KG.ann_reg.vcf  \n",
      "replace clinEff/clinEff.config? [y]es, [n]o, [A]ll, [N]one, [r]ename: "
     ]
    }
   ],
   "source": [
    "wget https://netix.dl.sourceforge.net/project/snpeff/snpEff_v4_3t_core.zip\n",
    "unzip snpEff_v4_3t_core.zip"
   ]
  },
  {
   "cell_type": "markdown",
   "id": "4bcd86e9-2367-442c-b4a6-dfa05554b439",
   "metadata": {},
   "source": [
    "#### Look at the different genomes available for Rice"
   ]
  },
  {
   "cell_type": "markdown",
   "id": "557364e1-31ac-4b0e-bdaa-e704a1aafe2e",
   "metadata": {},
   "source": [
    "In order to annotate a VCF file, the program needs to know the location of genes in the genome on which the SNP are positionned.\n",
    "\n",
    "First, we will have to configure a new database corresponding to Oryza sativa Nipponbare (used as reference to generate the VCF file)"
   ]
  },
  {
   "cell_type": "code",
   "execution_count": 4,
   "id": "d4d0c59f-3502-4763-9c3b-4d45420596ca",
   "metadata": {
    "tags": []
   },
   "outputs": [
    {
     "name": "stdout",
     "output_type": "stream",
     "text": [
      "\u001b[01;31m\u001b[KOryza\u001b[m\u001b[K_barthii                                               \t\u001b[01;31m\u001b[KOryza\u001b[m\u001b[K_barthii                                               \t          \tENSEMBL_BFMPP_32_268          \thttp://downloads.sourceforge.net/project/snpeff/databases/v4_3/snpEff_v4_3_ENSEMBL_BFMPP_32_268.zip\n",
      "\u001b[01;31m\u001b[KOryza\u001b[m\u001b[K_brachyantha                                           \t\u001b[01;31m\u001b[KOryza\u001b[m\u001b[K_brachyantha                                           \t          \tENSEMBL_BFMPP_32_268          \thttp://downloads.sourceforge.net/project/snpeff/databases/v4_3/snpEff_v4_3_ENSEMBL_BFMPP_32_268.zip\n",
      "\u001b[01;31m\u001b[KOryza\u001b[m\u001b[K_glaberrima                                            \t\u001b[01;31m\u001b[KOryza\u001b[m\u001b[K_glaberrima                                            \t          \tENSEMBL_BFMPP_32_268          \thttp://downloads.sourceforge.net/project/snpeff/databases/v4_3/snpEff_v4_3_ENSEMBL_BFMPP_32_268.zip\n",
      "\u001b[01;31m\u001b[KOryza\u001b[m\u001b[K_glumaepatula                                          \t\u001b[01;31m\u001b[KOryza\u001b[m\u001b[K_glumaepatula                                          \t          \tENSEMBL_BFMPP_32_268          \thttp://downloads.sourceforge.net/project/snpeff/databases/v4_3/snpEff_v4_3_ENSEMBL_BFMPP_32_268.zip\n",
      "\u001b[01;31m\u001b[KOryza\u001b[m\u001b[K_indica                                                \t\u001b[01;31m\u001b[KOryza\u001b[m\u001b[K_indica                                                \t          \tENSEMBL_BFMPP_32_268          \thttp://downloads.sourceforge.net/project/snpeff/databases/v4_3/snpEff_v4_3_ENSEMBL_BFMPP_32_268.zip\n",
      "\u001b[01;31m\u001b[KOryza\u001b[m\u001b[K_longistaminata                                        \t\u001b[01;31m\u001b[KOryza\u001b[m\u001b[K_longistaminata                                        \t          \tENSEMBL_BFMPP_32_268          \thttp://downloads.sourceforge.net/project/snpeff/databases/v4_3/snpEff_v4_3_ENSEMBL_BFMPP_32_268.zip\n",
      "\u001b[01;31m\u001b[KOryza\u001b[m\u001b[K_meridionalis                                          \t\u001b[01;31m\u001b[KOryza\u001b[m\u001b[K_meridionalis                                          \t          \tENSEMBL_BFMPP_32_268          \thttp://downloads.sourceforge.net/project/snpeff/databases/v4_3/snpEff_v4_3_ENSEMBL_BFMPP_32_268.zip\n",
      "\u001b[01;31m\u001b[KOryza\u001b[m\u001b[K_nivara                                                \t\u001b[01;31m\u001b[KOryza\u001b[m\u001b[K_nivara                                                \t          \tENSEMBL_BFMPP_32_268          \thttp://downloads.sourceforge.net/project/snpeff/databases/v4_3/snpEff_v4_3_ENSEMBL_BFMPP_32_268.zip\n",
      "\u001b[01;31m\u001b[KOryza\u001b[m\u001b[K_punctata                                              \t\u001b[01;31m\u001b[KOryza\u001b[m\u001b[K_punctata                                              \t          \tENSEMBL_BFMPP_32_268          \thttp://downloads.sourceforge.net/project/snpeff/databases/v4_3/snpEff_v4_3_ENSEMBL_BFMPP_32_268.zip\n",
      "\u001b[01;31m\u001b[KOryza\u001b[m\u001b[K_rufipogon                                             \t\u001b[01;31m\u001b[KOryza\u001b[m\u001b[K_rufipogon                                             \t          \tENSEMBL_BFMPP_32_268          \thttp://downloads.sourceforge.net/project/snpeff/databases/v4_3/snpEff_v4_3_ENSEMBL_BFMPP_32_268.zip\n",
      "\u001b[01;31m\u001b[KOryza\u001b[m\u001b[K_sativa                                                \t\u001b[01;31m\u001b[KOryza\u001b[m\u001b[K_sativa                                                \t          \tENSEMBL_BFMPP_32_268          \thttp://downloads.sourceforge.net/project/snpeff/databases/v4_3/snpEff_v4_3_ENSEMBL_BFMPP_32_268.zip\n"
     ]
    }
   ],
   "source": [
    "java -jar snpEff/snpEff.jar databases | grep Oryza"
   ]
  },
  {
   "cell_type": "markdown",
   "id": "08fcc877-8ad7-44b3-93ee-8780fbf48b25",
   "metadata": {},
   "source": [
    "#### Download database for Rice (oryza_sativa)"
   ]
  },
  {
   "cell_type": "markdown",
   "id": "93f67972-2ace-4d4a-99db-d227003ac425",
   "metadata": {},
   "source": [
    "The download of a new genome and its annotation may take a while"
   ]
  },
  {
   "cell_type": "code",
   "execution_count": 6,
   "id": "930ce26f-5aa9-42a6-966c-84103d85bd2b",
   "metadata": {},
   "outputs": [],
   "source": [
    "java -jar snpEff/snpEff.jar download Oryza_sativa"
   ]
  },
  {
   "cell_type": "markdown",
   "id": "c7e89695-19de-4582-b5d8-2d1bb91abe03",
   "metadata": {},
   "source": [
    "Let's have a look to the files that have been retrieved. What are they?"
   ]
  },
  {
   "cell_type": "markdown",
   "id": "dc81336f-5379-4d59-b64e-bdfbb499a6d6",
   "metadata": {},
   "source": [
    "#### Annotate the VCF variant file (using the Rice genome)"
   ]
  },
  {
   "cell_type": "code",
   "execution_count": 13,
   "id": "5d7772c1-7095-453c-8e66-f0394412f91c",
   "metadata": {},
   "outputs": [],
   "source": [
    "java -jar snpEff/snpEff.jar eff Oryza_sativa out.vcf.gz >out.annotated.vcf"
   ]
  },
  {
   "cell_type": "markdown",
   "id": "48b7d104-28c0-4633-9377-14fd397ae3da",
   "metadata": {},
   "source": [
    "Look the new annotated VCF file, to see how the variants were annotated."
   ]
  },
  {
   "cell_type": "markdown",
   "id": "d9b30fce-9500-4041-8f3e-a2cd92c540e9",
   "metadata": {},
   "source": [
    "#### Look at the resulting HTML snpEff output"
   ]
  },
  {
   "cell_type": "markdown",
   "id": "fe14f0bb-13bc-4b56-8fc3-1fc647d45241",
   "metadata": {},
   "source": [
    "<img src=\"snpeff_output.png\" align=\"center\" width=\"70%\" style=\"display: block; margin: auto;\"/> "
   ]
  },
  {
   "cell_type": "markdown",
   "id": "b34f7f1f-e20a-43a6-9049-697db68bba50",
   "metadata": {},
   "source": [
    "# Play with SNPs and genotyping information"
   ]
  },
  {
   "cell_type": "markdown",
   "id": "2bcee8b0-5ad2-4fb7-8fed-534f758c985f",
   "metadata": {},
   "source": [
    "#### Install Plink software"
   ]
  },
  {
   "cell_type": "code",
   "execution_count": 8,
   "id": "92f8c8fd-459d-4003-b2e6-2e1adc963839",
   "metadata": {},
   "outputs": [
    {
     "name": "stdout",
     "output_type": "stream",
     "text": [
      "--2022-09-07 15:21:30--  https://s3.amazonaws.com/plink1-assets/plink_linux_x86_64_20220402.zip\n",
      "Resolving s3.amazonaws.com (s3.amazonaws.com)... 52.217.36.102\n",
      "Connecting to s3.amazonaws.com (s3.amazonaws.com)|52.217.36.102|:443... connected.\n",
      "HTTP request sent, awaiting response... 200 OK\n",
      "Length: 8948563 (8.5M) [application/zip]\n",
      "Saving to: ‘plink_linux_x86_64_20220402.zip’\n",
      "\n",
      "plink_linux_x86_64_ 100%[===================>]   8.53M  9.86MB/s    in 0.9s    \n",
      "\n",
      "2022-09-07 15:21:32 (9.86 MB/s) - ‘plink_linux_x86_64_20220402.zip’ saved [8948563/8948563]\n",
      "\n",
      "Archive:  plink_linux_x86_64_20220402.zip\n",
      "  inflating: plink                   \n",
      "  inflating: LICENSE                 \n",
      "  inflating: toy.ped                 \n",
      "  inflating: toy.map                 \n",
      "  inflating: prettify                \n"
     ]
    }
   ],
   "source": [
    "cd /home/jovyan/rice3k\n",
    "wget https://s3.amazonaws.com/plink1-assets/plink_linux_x86_64_20220402.zip\n",
    "unzip plink_linux_x86_64_20220402.zip"
   ]
  },
  {
   "cell_type": "markdown",
   "id": "166a31b8-3d7f-4a59-b67c-b4521b7de5c6",
   "metadata": {},
   "source": [
    "#### Evaluate level of missing data (by sample, by positions)"
   ]
  },
  {
   "cell_type": "code",
   "execution_count": 9,
   "id": "76dde4d8-b5ef-470a-a0b5-315b3ece8e09",
   "metadata": {
    "collapsed": true,
    "jupyter": {
     "outputs_hidden": true
    },
    "tags": []
   },
   "outputs": [
    {
     "name": "stdout",
     "output_type": "stream",
     "text": [
      "PLINK v1.90b6.26 64-bit (2 Apr 2022)           www.cog-genomics.org/plink/1.9/\n",
      "(C) 2005-2022 Shaun Purcell, Christopher Chang   GNU General Public License v3\n",
      "Logging to plink.log.\n",
      "Options in effect:\n",
      "  --missing\n",
      "  --vcf out.vcf.gz\n",
      "\n",
      "3933 MB RAM detected; reserving 1966 MB for main workspace.\n",
      "--vcf: plink-temporary.bed + plink-temporary.bim + plink-temporary.fam written.\n",
      "119202 variants loaded from .bim file.\n",
      "60 people (0 males, 0 females, 60 ambiguous) loaded from .fam.\n",
      "Ambiguous sex IDs written to plink.nosex .\n",
      "Using 1 thread.\n",
      "Before main variant filters, 60 founders and 0 nonfounders present.\n",
      "Calculating allele frequencies... 10111213141516171819202122232425262728293031323334353637383940414243444546474849505152535455565758596061626364656667686970717273747576777879808182838485868788899091929394959697989 done.\n",
      "Total genotyping rate is 0.986788.\n",
      "--missing: Sample missing data report written to plink.imiss, and variant-based\n",
      "missing data report written to plink.lmiss.\n"
     ]
    }
   ],
   "source": [
    "./plink -vcf out.vcf.gz --missing"
   ]
  },
  {
   "cell_type": "markdown",
   "id": "3c26eb97-d3cd-4876-b5bc-6ff34b18e1fe",
   "metadata": {},
   "source": [
    "##### Plink generates 2 files. What information do they contain?"
   ]
  },
  {
   "cell_type": "code",
   "execution_count": 10,
   "id": "813698a2-8dc5-48de-95cd-f6ca3e7c8b69",
   "metadata": {},
   "outputs": [],
   "source": [
    "awk -F \" \" {'print $1\"\\t\"$4'} plink.imiss | sort -n -k2 >missing.txt"
   ]
  },
  {
   "cell_type": "code",
   "execution_count": 11,
   "id": "99670e80-4bbf-43fd-ad66-962b2a43a6bd",
   "metadata": {
    "tags": []
   },
   "outputs": [
    {
     "name": "stdout",
     "output_type": "stream",
     "text": [
      "             FID              IID MISS_PHENO   N_MISS   N_GENO   F_MISS\n",
      "            B009             B009          Y      380   119202 0.003188\n",
      "            B010             B010          Y      385   119202  0.00323\n",
      "            B015             B015          Y       47   119202 0.0003943\n",
      "            B024             B024          Y      344   119202 0.002886\n",
      "            B059             B059          Y      914   119202 0.007668\n",
      "            B060             B060          Y      811   119202 0.006804\n",
      "            B061             B061          Y      431   119202 0.003616\n",
      "            B062             B062          Y     1250   119202  0.01049\n",
      "            B063             B063          Y      183   119202 0.001535\n"
     ]
    }
   ],
   "source": [
    "head plink.imiss"
   ]
  },
  {
   "cell_type": "code",
   "execution_count": 12,
   "id": "7a371ed0-bb2d-4f1f-b3de-ba3eb6300e7f",
   "metadata": {},
   "outputs": [
    {
     "name": "stdout",
     "output_type": "stream",
     "text": [
      " CHR        SNP   N_MISS   N_GENO   F_MISS\n",
      "   1       1579        0       60        0\n",
      "   1       1695        0       60        0\n",
      "   1       1708        0       60        0\n",
      "   1       1748        1       60  0.01667\n",
      "   1       1794        1       60  0.01667\n",
      "   1       1872        0       60        0\n",
      "   1       1948        1       60  0.01667\n",
      "   1       1953        1       60  0.01667\n",
      "   1       2065        1       60  0.01667\n"
     ]
    }
   ],
   "source": [
    "head plink.lmiss"
   ]
  },
  {
   "cell_type": "markdown",
   "id": "b82256ba-75e2-4cc6-b1fc-d854494d8605",
   "metadata": {},
   "source": [
    "#### Distribution of missing levels across positions"
   ]
  },
  {
   "cell_type": "markdown",
   "id": "894790ac-2699-4a85-a98e-ea5e9d619ac8",
   "metadata": {},
   "source": [
    "Using a `awk` command, very usefull for filtering tabulated file, we will extract positions (column 2) and the number of missing individuals for each position (column 3)"
   ]
  },
  {
   "cell_type": "code",
   "execution_count": 13,
   "id": "68dcde17-7231-4c1f-9af8-be6a42ce02ad",
   "metadata": {},
   "outputs": [],
   "source": [
    "awk -F \" \" {'print $1\"_\"$2\"\\t\"$3'} plink.lmiss >missing_by_snp.txt"
   ]
  },
  {
   "cell_type": "markdown",
   "id": "335c96c1-e56b-4a75-ad0a-0e663d3a192e",
   "metadata": {},
   "source": [
    "A short python script, using the pandas module, enables to display the distribution of missing data as an histogram. "
   ]
  },
  {
   "cell_type": "code",
   "execution_count": 5,
   "id": "13c66d80-f924-4fdf-a0e3-cd2dd8bc65a0",
   "metadata": {},
   "outputs": [
    {
     "data": {
      "text/plain": [
       "array([[<AxesSubplot:title={'center':'N_MISS'}>]], dtype=object)"
      ]
     },
     "execution_count": 5,
     "metadata": {},
     "output_type": "execute_result"
    },
    {
     "data": {
      "image/png": "[encoded data removed]",
      "text/plain": [
       "<Figure size 432x288 with 1 Axes>"
      ]
     },
     "metadata": {
      "needs_background": "light"
     },
     "output_type": "display_data"
    }
   ],
   "source": [
    "import pandas as pd\n",
    "  \n",
    "df = pd.read_table('/home/jovyan/rice3k/missing_by_snp.txt',delimiter='\\t')\n",
    "\n",
    "df.hist(column='N_MISS',bins=6)"
   ]
  },
  {
   "cell_type": "markdown",
   "id": "6730a383-bc5f-455d-9d5d-8d655cd60aba",
   "metadata": {},
   "source": [
    "#### Generate PCA using genotyping information contained in VCF"
   ]
  },
  {
   "cell_type": "markdown",
   "id": "7435e6e0-e31f-4a1f-acce-7de4d185e8c0",
   "metadata": {},
   "source": [
    "`Plink` alllows to create a PCA (principal components analysis) of samples, so that we can easily evaluate genetic distance between samples. \n",
    "\n",
    "This will generate a matrix of coordinates in the different component. By default, it provides the first 20 principal components of the variance-standardized relationship matrix. We will focus only the first 3 axes for subsequent visualization (`--pca 3`)"
   ]
  },
  {
   "cell_type": "code",
   "execution_count": 2,
   "id": "3ceba829-fd6d-44dc-8ab9-e09e73ced765",
   "metadata": {
    "collapsed": true,
    "jupyter": {
     "outputs_hidden": true
    },
    "tags": []
   },
   "outputs": [
    {
     "name": "stdout",
     "output_type": "stream",
     "text": [
      "PLINK v1.90b6.26 64-bit (2 Apr 2022)           www.cog-genomics.org/plink/1.9/\n",
      "(C) 2005-2022 Shaun Purcell, Christopher Chang   GNU General Public License v3\n",
      "Logging to plink.log.\n",
      "Options in effect:\n",
      "  --cluster\n",
      "  --matrix\n",
      "  --pca 3\n",
      "  --vcf out.vcf.gz\n",
      "\n",
      "Note: --matrix flag deprecated.  Migrate to \"--distance ibs flat-missing\",\n",
      "\"--r2 square\", etc.\n",
      "3933 MB RAM detected; reserving 1966 MB for main workspace.\n",
      "--vcf: plink-temporary.bed + plink-temporary.bim + plink-temporary.fam written.\n",
      "119202 variants loaded from .bim file.\n",
      "60 people (0 males, 0 females, 60 ambiguous) loaded from .fam.\n",
      "Ambiguous sex IDs written to plink.nosex .\n",
      "Using 1 thread.\n",
      "Before main variant filters, 60 founders and 0 nonfounders present.\n",
      "Calculating allele frequencies... 10111213141516171819202122232425262728293031323334353637383940414243444546474849505152535455565758596061626364656667686970717273747576777879808182838485868788899091929394959697989 done.\n",
      "Total genotyping rate is 0.986788.\n",
      "119202 variants and 60 people pass filters and QC.\n",
      "Note: No phenotypes present.\n",
      "Relationship matrix calculation complete.\n",
      "--pca: Results saved to plink.eigenval and plink.eigenvec .\n",
      "Distance matrix calculation complete.\n",
      "IBS matrix written to plink.mibs , and IDs to plink.mibs.id .\n",
      "Clustering... done.                        \n",
      "Cluster solution written to plink.cluster1 , plink.cluster2 , and04143454648505153555658606163656668707173757678808183858688909193959698100%\n",
      "plink.cluster3 .\n"
     ]
    }
   ],
   "source": [
    "cd /home/jovyan/rice3k\n",
    "./plink -vcf out.vcf.gz --cluster --matrix --pca 3"
   ]
  },
  {
   "cell_type": "markdown",
   "id": "83c47325-bb2b-4e27-a60e-5f881e352ef7",
   "metadata": {},
   "source": [
    "#### Visualize PCA (using Pandas)"
   ]
  },
  {
   "cell_type": "markdown",
   "id": "eeb23d0b-5d21-493f-b57e-9530ffda5930",
   "metadata": {},
   "source": [
    "With simple bash commands (`awk`), we first format a matrix dataset for Pandas, including names of sample in the first colum and coordinates X and Y. We can redirect the command to a new file called `pca.txt`."
   ]
  },
  {
   "cell_type": "code",
   "execution_count": 3,
   "id": "dd0f6500-7bb4-481b-a7cc-505ae6efb967",
   "metadata": {},
   "outputs": [],
   "source": [
    "echo \"Samples PCA1 PCA2\" >pca.txt\n",
    "awk -F \" \" {'print $1\" \"$3\" \"$4'}  plink.eigenvec >>pca.txt"
   ]
  },
  {
   "cell_type": "markdown",
   "id": "53cb7f98-09fb-4c86-a8ea-a30768333687",
   "metadata": {},
   "source": [
    "##### Download the metadata files"
   ]
  },
  {
   "cell_type": "markdown",
   "id": "c24c2aff-9091-492d-9059-27257b58d7c7",
   "metadata": {},
   "source": [
    "In a second step, we want to add the genetic group information of each of the samples.\n",
    "To do so, we need to download metadata file (available here https://sniplay.southgreen.fr/examples/3K_RGP.accessions.txt) and merge it (with python) to the `pca.txt` file."
   ]
  },
  {
   "cell_type": "code",
   "execution_count": 4,
   "id": "c2d73669-5590-4c06-979a-256f906baa74",
   "metadata": {},
   "outputs": [
    {
     "name": "stdout",
     "output_type": "stream",
     "text": [
      "--2022-09-08 06:23:37--  https://sniplay.southgreen.fr/examples/3K_RGP.accessions.txt\n",
      "Resolving sniplay.southgreen.fr (sniplay.southgreen.fr)... 193.51.117.74\n",
      "Connecting to sniplay.southgreen.fr (sniplay.southgreen.fr)|193.51.117.74|:443... connected.\n",
      "HTTP request sent, awaiting response... 200 OK\n",
      "Length: 57858 (57K) [text/plain]\n",
      "Saving to: ‘3K_RGP.accessions.txt’\n",
      "\n",
      "3K_RGP.accessions.t 100%[===================>]  56.50K  --.-KB/s    in 0.01s   \n",
      "\n",
      "2022-09-08 06:23:38 (4.61 MB/s) - ‘3K_RGP.accessions.txt’ saved [57858/57858]\n",
      "\n"
     ]
    }
   ],
   "source": [
    "wget https://sniplay.southgreen.fr/examples/3K_RGP.accessions.txt"
   ]
  },
  {
   "cell_type": "markdown",
   "id": "4531bdcd-dd78-4d5e-a713-0a13b6698ce0",
   "metadata": {},
   "source": [
    "##### Use python/pandas to visualise (switch to python kernel)"
   ]
  },
  {
   "cell_type": "markdown",
   "id": "47ef6717-8a8c-4298-84f0-864c465254de",
   "metadata": {},
   "source": [
    "With a simple python script using the pandas library, we can merge the pca matrix with the metadata file (using `inner join` on the common field called \"Samples\" found in the two files to be joinned). \n",
    "\n",
    "Using the `plot.scatter` function, we can visualize the pca and colorize samples according to their genetic group (indica=ind1A in red, japx in green).\n",
    "\n",
    "Do not forget to switch to python kernell"
   ]
  },
  {
   "cell_type": "code",
   "execution_count": 2,
   "id": "12f1897e-717a-470e-afe3-c6d9065634c0",
   "metadata": {
    "tags": []
   },
   "outputs": [
    {
     "data": {
      "text/plain": [
       "<AxesSubplot:xlabel='PCA1', ylabel='PCA2'>"
      ]
     },
     "execution_count": 2,
     "metadata": {},
     "output_type": "execute_result"
    },
    {
     "data": {
      "image/png": "[encoded data removed]",
      "text/plain": [
       "<Figure size 432x288 with 1 Axes>"
      ]
     },
     "metadata": {
      "needs_background": "light"
     },
     "output_type": "display_data"
    }
   ],
   "source": [
    "import pandas as pd\n",
    "  \n",
    "df1 = pd.read_table('/home/jovyan/rice3k/pca.txt',delimiter=' ')\n",
    "\n",
    "df2 = pd.read_table('/home/jovyan/rice3k/3K_RGP.accessions.txt',delimiter=';')\n",
    "\n",
    "df_cd = pd.merge(df1, df2, how='inner', left_on = 'Samples', right_on = '3K_DNA_IRIS_UNIQUE_ID')\n",
    "\n",
    "#print(df_cd)\n",
    "df_cd.to_csv('/home/jovyan/rice3k/groups', index=False)\n",
    "colors = {'ind1A':'red', 'japx':'green'}\n",
    "df_cd.plot.scatter(x='PCA1', y='PCA2',c= df_cd['TYPE'].map(colors),cmap='viridis')\n"
   ]
  },
  {
   "cell_type": "markdown",
   "id": "e061574e-c916-43b6-985a-074b9755245d",
   "metadata": {},
   "source": [
    "#### SNP density along chromosome"
   ]
  },
  {
   "cell_type": "markdown",
   "id": "ded41a88-fa9b-40cf-9520-315695071ec6",
   "metadata": {},
   "source": [
    "We will make use of `vcftools` to calculate the density of variants along the chromosome 1 of Japonica rice, in sliding windows. To do so, we will set a 100kb sliding window to the option `--SNPdensity`"
   ]
  },
  {
   "cell_type": "code",
   "execution_count": 2,
   "id": "32b1e1e9-31c3-4dfc-8357-22483627a6f5",
   "metadata": {},
   "outputs": [
    {
     "name": "stdout",
     "output_type": "stream",
     "text": [
      "\n",
      "VCFtools - 0.1.16\n",
      "(C) Adam Auton and Anthony Marcketta 2009\n",
      "\n",
      "Parameters as interpreted:\n",
      "\t--gzvcf out.vcf.gz\n",
      "\t--SNPdensity 100000\n",
      "\n",
      "Using zlib version: 1.2.11\n",
      "Warning: Expected at least 2 parts in INFO entry: ID=PR,Number=0,Type=Flag,Description=\"Provisional reference allele, may not be based on real reference genome\">\n",
      "After filtering, kept 60 out of 60 Individuals\n",
      "Outputting SNP density\n",
      "After filtering, kept 119202 out of a possible 119202 Sites\n",
      "Run Time = 0.00 seconds\n"
     ]
    }
   ],
   "source": [
    "cd /home/jovyan/rice3k\n",
    "vcftools --gzvcf out.vcf.gz --SNPdensity 100000"
   ]
  },
  {
   "cell_type": "code",
   "execution_count": 3,
   "id": "4e42e7ed-1e3a-46c3-8408-b2c465ccadc3",
   "metadata": {},
   "outputs": [
    {
     "name": "stdout",
     "output_type": "stream",
     "text": [
      "CHROM\tBIN_START\tSNP_COUNT\tVARIANTS/KB\n",
      "1\t0\t382\t3.82\n",
      "1\t100000\t268\t2.68\n",
      "1\t200000\t145\t1.45\n",
      "1\t300000\t129\t1.29\n",
      "1\t400000\t277\t2.77\n",
      "1\t500000\t262\t2.62\n",
      "1\t600000\t117\t1.17\n",
      "1\t700000\t355\t3.55\n",
      "1\t800000\t9\t0.09\n"
     ]
    }
   ],
   "source": [
    "head out.snpden"
   ]
  },
  {
   "cell_type": "markdown",
   "id": "7841da73-b41c-4a7b-894c-a3422849d4a6",
   "metadata": {},
   "source": [
    "### Visualize SNP density using Circos\n",
    "\n",
    "Be carefull, this version of Circos requires to be located in the circos directory\n",
    "\n",
    "Install Circos and go in the Circos directory to run it"
   ]
  },
  {
   "cell_type": "markdown",
   "id": "38f58e3a-38ef-4e94-bee1-f1a515ba20ea",
   "metadata": {},
   "source": [
    "##### Install Circos in the terminal by typing these commands\n",
    "\n",
    "cd ~\n",
    "\n",
    "git clone https://github.com/vigsterkr/circos.git\n",
    "\n",
    "cd circos\n",
    "\n",
    "./install-unix\n",
    "\n",
    "conda create -n circos -c bioconda perl-config-general perl-gd perl-math-bezier perl-math-round perl-math-vecstat perl-params-validate perl-readonly perl-set-intspan"
   ]
  },
  {
   "cell_type": "markdown",
   "id": "a03b5b15-4a82-44e9-8fbe-d4001e50f4d0",
   "metadata": {},
   "source": [
    "#### Generate input file for circos"
   ]
  },
  {
   "cell_type": "markdown",
   "id": "501ba393-a6cf-4791-928c-c76c72755eba",
   "metadata": {},
   "source": [
    "With a simple bash command (`awk`), create the input data file for Circos for visualzation of line plot (space separated format: chr start end value). The file must be named `density.tyxt`"
   ]
  },
  {
   "cell_type": "code",
   "execution_count": 4,
   "id": "ae2bb848-0072-448e-9ba0-088ad5201818",
   "metadata": {},
   "outputs": [],
   "source": [
    "cd /home/jovyan/rice3k\n",
    "awk {'print $1\" \"$2\" \"$2\" \"$3'} out.snpden | grep -v BIN_START >density.txt"
   ]
  },
  {
   "cell_type": "markdown",
   "id": "af3f863e-9f59-455d-9565-04b54453adcd",
   "metadata": {},
   "source": [
    "Go to the Circos directory and download an example of circos configuration file available at https://sniplay.southgreen.fr/examples/circos1.conf"
   ]
  },
  {
   "cell_type": "code",
   "execution_count": 5,
   "id": "4b2c78bc-f366-4e28-8891-df78cba8481e",
   "metadata": {},
   "outputs": [
    {
     "name": "stdout",
     "output_type": "stream",
     "text": [
      "--2022-09-08 07:43:33--  https://sniplay.southgreen.fr/examples/circos1.conf\n",
      "Resolving sniplay.southgreen.fr (sniplay.southgreen.fr)... 193.51.117.74\n",
      "Connecting to sniplay.southgreen.fr (sniplay.southgreen.fr)|193.51.117.74|:443... connected.\n",
      "HTTP request sent, awaiting response... 200 OK\n",
      "Length: 1893 (1.8K) [text/plain]\n",
      "Saving to: ‘circos1.conf’\n",
      "\n",
      "circos1.conf        100%[===================>]   1.85K  --.-KB/s    in 0s      \n",
      "\n",
      "2022-09-08 07:43:34 (7.62 MB/s) - ‘circos1.conf’ saved [1893/1893]\n",
      "\n"
     ]
    }
   ],
   "source": [
    "cd ~/circos\n",
    "wget https://sniplay.southgreen.fr/examples/circos1.conf"
   ]
  },
  {
   "cell_type": "markdown",
   "id": "ced98bbb-539d-4c92-8613-071834c4cfa0",
   "metadata": {},
   "source": [
    "##### Create a karyotype file indicating the lengths and names of chromosomes\n",
    "\n",
    "Try to guess the length of the chromosome1 to indicate in the karyotype file. For instance by using the `tail` command on `density.txt` file"
   ]
  },
  {
   "cell_type": "code",
   "execution_count": 11,
   "id": "100841d7-d789-427e-ba68-ec34023a9667",
   "metadata": {},
   "outputs": [
    {
     "name": "stdout",
     "output_type": "stream",
     "text": [
      "1 43200000 43200000 101\n"
     ]
    }
   ],
   "source": [
    "tail -1 /home/jovyan/rice3k/density.txt"
   ]
  },
  {
   "cell_type": "markdown",
   "id": "b7f91a0d-bd09-43fc-8906-30b41121e663",
   "metadata": {},
   "source": [
    "Write into a karyotype file called `karyotype.txt`, the size and color of the chromosome 1."
   ]
  },
  {
   "cell_type": "code",
   "execution_count": 15,
   "id": "b4c47e17-a3ce-40ee-8c42-d6b6966d3c2c",
   "metadata": {},
   "outputs": [],
   "source": [
    "cd /home/jovyan/rice3k\n",
    "echo \"chr - 1 1 0 43200000 black\" >karyotype.txt"
   ]
  },
  {
   "cell_type": "markdown",
   "id": "d6156df2-3998-474f-bbbf-80eb2438b32f",
   "metadata": {},
   "source": [
    "##### Edit the Circos configuration file to adapt the data file names. And run Circos as follows:"
   ]
  },
  {
   "cell_type": "markdown",
   "id": "aed24621-2784-4d87-9157-95eb39a0a9ba",
   "metadata": {},
   "source": [
    "Activate the conda environnement for Circos before running circos"
   ]
  },
  {
   "cell_type": "code",
   "execution_count": 16,
   "id": "aa3409f8-94e7-46af-a247-6a9d1b229f0d",
   "metadata": {},
   "outputs": [
    {
     "name": "stdout",
     "output_type": "stream",
     "text": [
      "(circos) debug: using configuration file input circos1.conf\n",
      "debuglib: using configuration input circos1.conf\n",
      "debuglib: loading configuration from file circos1.conf\n",
      "debugload: using file from argument circos1.conf\n",
      "debugfile: looking for configuration file circos1.conf\n",
      "debugfile: found configuration file circos1.conf\n",
      "zoomregion ideogram 0 chr 1         0  43200000 scale  1.00 absolutescale  1.00\n",
      "registering tag 1\n",
      "ideogramspacing 1 1 1 1 1080.000025\n",
      "ideogramreport   0     1   0     1      0.000  43200.000  43200.001       0.000       0.000 r 1350 1340 1350 10\n",
      "drawing ticks 1 radius 1350 type absolute spacing 1000000\n",
      "drawing ticks 1 radius 1350 type absolute spacing 100000\n",
      "drawing plot type histogram at z-depth 0\n",
      "created image at ./circos.png\n",
      "(circos) "
     ]
    }
   ],
   "source": [
    "cd ~/circos\n",
    "conda activate circos\n",
    "bin/circos --conf circos1.conf\n",
    "conda deactivate"
   ]
  },
  {
   "cell_type": "markdown",
   "id": "f1d19fbc-4e4e-4d18-ae61-3ccb3001eb39",
   "metadata": {},
   "source": [
    "### Comparison of populations using FST"
   ]
  },
  {
   "cell_type": "markdown",
   "id": "95f295c3-aac8-4a01-90bd-31e8f14d944d",
   "metadata": {},
   "source": [
    "FST is an index that reflect the level of differenciation between populations. We will calculate FST values for each variant in order to know if they can dissociate specific alleles of the two population ind1B and japx.\n",
    "\n",
    "Using `grep` and `awk`, create two distinct file (called `pop1` and `pop2`) listing the names of accessions that are assigned to each group"
   ]
  },
  {
   "cell_type": "code",
   "execution_count": 9,
   "id": "969ee4ec-888b-45e8-baed-9edec54cb0f5",
   "metadata": {},
   "outputs": [],
   "source": [
    "cd /home/jovyan/rice3k\n",
    "grep ind1A 3K_RGP.accessions.txt | awk -F \";\" {'print $1'} >pop1\n",
    "grep japx 3K_RGP.accessions.txt | awk -F \";\" {'print $1'} >pop2"
   ]
  },
  {
   "cell_type": "markdown",
   "id": "0bcf271c-c5cc-4f90-a4b1-b14892daf293",
   "metadata": {},
   "source": [
    "We will use `vcftools` for the calculation of FST. It can be calculated by specifying population files to the option `--weir-fst-pop`"
   ]
  },
  {
   "cell_type": "code",
   "execution_count": 10,
   "id": "11440162-3c0e-4ea9-bc77-6722d2e5c0b0",
   "metadata": {},
   "outputs": [
    {
     "name": "stdout",
     "output_type": "stream",
     "text": [
      "\n",
      "VCFtools - 0.1.16\n",
      "(C) Adam Auton and Anthony Marcketta 2009\n",
      "\n",
      "Parameters as interpreted:\n",
      "\t--gzvcf out.vcf.gz\n",
      "\t--weir-fst-pop pop1\n",
      "\t--weir-fst-pop pop2\n",
      "\t--keep pop1\n",
      "\t--keep pop2\n",
      "\n",
      "Using zlib version: 1.2.11\n",
      "Warning: Expected at least 2 parts in INFO entry: ID=PR,Number=0,Type=Flag,Description=\"Provisional reference allele, may not be based on real reference genome\">\n",
      "Keeping individuals in 'keep' list\n",
      "After filtering, kept 60 out of 60 Individuals\n",
      "Outputting Weir and Cockerham Fst estimates.\n",
      "Weir and Cockerham mean Fst estimate: 0.46204\n",
      "Weir and Cockerham weighted Fst estimate: 0.6612\n",
      "After filtering, kept 119202 out of a possible 119202 Sites\n",
      "Run Time = 2.00 seconds\n"
     ]
    }
   ],
   "source": [
    "vcftools --gzvcf out.vcf.gz --weir-fst-pop pop1 --weir-fst-pop pop2"
   ]
  },
  {
   "cell_type": "code",
   "execution_count": 5,
   "id": "3760e19d-5a53-4582-a315-a875c526f2ba",
   "metadata": {},
   "outputs": [
    {
     "name": "stdout",
     "output_type": "stream",
     "text": [
      "1\t43254106\t0.649498\n",
      "1\t43254132\t0.748866\n",
      "1\t43254181\t0.560328\n",
      "1\t43254300\t0.286511\n",
      "1\t43254513\t0.445836\n",
      "1\t43255505\t0.141379\n",
      "1\t43255617\t0.141379\n",
      "1\t43269402\t0.582643\n",
      "1\t43269449\t0.255167\n",
      "1\t43269550\t0.35192\n"
     ]
    }
   ],
   "source": [
    "tail out.weir.fst"
   ]
  },
  {
   "cell_type": "markdown",
   "id": "a025f830-1f6d-4d1e-a5e5-88ad008b6a64",
   "metadata": {},
   "source": [
    "Now, we want to look at the average of FST by sliding window along the chromosome, in order to detect potential regions showing a high level of differenciation between the two genetic groups. \n",
    "\n",
    "We can use the option `--fst-window-size` and define a 100kb size of window."
   ]
  },
  {
   "cell_type": "code",
   "execution_count": 11,
   "id": "9511a323-e87f-400d-be04-78f8ce1543e9",
   "metadata": {},
   "outputs": [
    {
     "name": "stdout",
     "output_type": "stream",
     "text": [
      "\n",
      "VCFtools - 0.1.16\n",
      "(C) Adam Auton and Anthony Marcketta 2009\n",
      "\n",
      "Parameters as interpreted:\n",
      "\t--gzvcf out.vcf.gz\n",
      "\t--fst-window-size 100000\n",
      "\t--weir-fst-pop pop1\n",
      "\t--weir-fst-pop pop2\n",
      "\t--keep pop1\n",
      "\t--keep pop2\n",
      "\n",
      "Using zlib version: 1.2.11\n",
      "Warning: Expected at least 2 parts in INFO entry: ID=PR,Number=0,Type=Flag,Description=\"Provisional reference allele, may not be based on real reference genome\">\n",
      "Keeping individuals in 'keep' list\n",
      "After filtering, kept 60 out of 60 Individuals\n",
      "Outputting Windowed Weir and Cockerham Fst estimates.\n",
      "Weir and Cockerham mean Fst estimate: 0.46204\n",
      "Weir and Cockerham weighted Fst estimate: 0.6612\n",
      "After filtering, kept 119202 out of a possible 119202 Sites\n",
      "Run Time = 2.00 seconds\n"
     ]
    }
   ],
   "source": [
    "vcftools --gzvcf out.vcf.gz --weir-fst-pop pop1 --weir-fst-pop pop2 --fst-window-size 100000"
   ]
  },
  {
   "cell_type": "code",
   "execution_count": 12,
   "id": "5d5ce094-d237-412b-932d-1e30a85a6854",
   "metadata": {},
   "outputs": [
    {
     "name": "stdout",
     "output_type": "stream",
     "text": [
      "CHROM\tBIN_START\tBIN_END\tN_VARIANTS\tWEIGHTED_FST\tMEAN_FST\n",
      "1\t1\t100000\t382\t0.622881\t0.549616\n",
      "1\t100001\t200000\t268\t0.603637\t0.491764\n",
      "1\t200001\t300000\t145\t0.780704\t0.611452\n",
      "1\t300001\t400000\t129\t0.88753\t0.774335\n",
      "1\t400001\t500000\t277\t0.815848\t0.711635\n",
      "1\t500001\t600000\t262\t0.744546\t0.59308\n",
      "1\t600001\t700000\t117\t0.743666\t0.601746\n",
      "1\t700001\t800000\t355\t0.310809\t0.282787\n",
      "1\t800001\t900000\t9\t0.47269\t0.300306\n"
     ]
    }
   ],
   "source": [
    "head out.windowed.weir.fst"
   ]
  },
  {
   "cell_type": "code",
   "execution_count": 14,
   "id": "2d189cc1-7696-4d71-b416-ca5cb4c20131",
   "metadata": {
    "collapsed": true,
    "jupyter": {
     "outputs_hidden": true
    },
    "tags": []
   },
   "outputs": [
    {
     "name": "stdout",
     "output_type": "stream",
     "text": [
      "(circos) (circos) (circos) "
     ]
    },
    {
     "ename": "",
     "evalue": "1",
     "output_type": "error",
     "traceback": []
    }
   ],
   "source": [
    "cd ~\n",
    "awk {'print $1\" \"$2\" \"$2\" \"$3'} out.weir.fst | grep -v FST >fst.txt\n",
    "awk {'print $1\" \"$2\" \"$2\" \"$6'} out.windowed.weir.fst | grep -v FST >fst_window.txt"
   ]
  },
  {
   "cell_type": "code",
   "execution_count": null,
   "id": "9b400e09-5673-4119-b3c2-f08bcbe9cb4f",
   "metadata": {},
   "outputs": [],
   "source": [
    "conda activate circos"
   ]
  },
  {
   "cell_type": "markdown",
   "id": "b71eb968-3535-4fbe-a93a-cb9168fd90f4",
   "metadata": {},
   "source": [
    "#### Add a new track in Circos for FST means in sliding windows\n",
    "\n",
    "Modify the Circos configuration file"
   ]
  },
  {
   "cell_type": "code",
   "execution_count": 35,
   "id": "dfa6d2cc-350a-433b-9ddd-2fc21c07f2ec",
   "metadata": {},
   "outputs": [
    {
     "name": "stdout",
     "output_type": "stream",
     "text": [
      "(circos) debug: using configuration file input circos1.conf\n",
      "debuglib: using configuration input circos1.conf\n",
      "debuglib: loading configuration from file circos1.conf\n",
      "debugload: using file from argument circos1.conf\n",
      "debugfile: looking for configuration file circos1.conf\n",
      "debugfile: found configuration file circos1.conf\n",
      "zoomregion ideogram 0 chr 1         0  46000000 scale  1.00 absolutescale  1.00\n",
      "registering tag 1\n",
      "ideogramspacing 1 1 1 1 1150.000025\n",
      "ideogramreport   0     1   0     1      0.000  46000.000  46000.001       0.000       0.000 r 1350 1340 1350 10\n",
      "drawing ticks 1 radius 1350 type absolute spacing 1000000\n",
      "drawing ticks 1 radius 1350 type absolute spacing 100000\n",
      "drawing plot type histogram at z-depth 0\n",
      "drawing plot type line at z-depth 0\n",
      "drawing plot type line at z-depth 0\n",
      "drawing plot type histogram at z-depth 0\n",
      "created image at ./circos.png\n",
      "(circos) "
     ]
    },
    {
     "ename": "",
     "evalue": "1",
     "output_type": "error",
     "traceback": []
    }
   ],
   "source": [
    "cd ~/circos\n",
    "bin/circos -conf circos1.conf"
   ]
  },
  {
   "cell_type": "markdown",
   "id": "31bfde0a-aae3-4823-b579-d8a620b8d70a",
   "metadata": {},
   "source": [
    "#### Compare SNP density between the 2 phylogroups"
   ]
  },
  {
   "cell_type": "code",
   "execution_count": 29,
   "id": "78c193ea-c821-489c-9c47-d410657c6c7a",
   "metadata": {},
   "outputs": [
    {
     "name": "stdout",
     "output_type": "stream",
     "text": [
      "(circos) \n",
      "VCFtools - 0.1.16\n",
      "(C) Adam Auton and Anthony Marcketta 2009\n",
      "\n",
      "Parameters as interpreted:\n",
      "\t--gzvcf out.vcf.gz\n",
      "\t--keep pop1\n",
      "\t--recode-INFO-all\n",
      "\t--maf 0.01\n",
      "\t--out pop1\n",
      "\t--recode\n",
      "\n",
      "Using zlib version: 1.2.11\n",
      "Warning: Expected at least 2 parts in INFO entry: ID=PR,Number=0,Type=Flag,Description=\"Provisional reference allele, may not be based on real reference genome\">\n",
      "Keeping individuals in 'keep' list\n",
      "After filtering, kept 30 out of 60 Individuals\n",
      "Outputting VCF file...\n",
      "After filtering, kept 82263 out of a possible 119202 Sites\n",
      "Run Time = 3.00 seconds\n",
      "(circos) \n",
      "VCFtools - 0.1.16\n",
      "(C) Adam Auton and Anthony Marcketta 2009\n",
      "\n",
      "Parameters as interpreted:\n",
      "\t--gzvcf out.vcf.gz\n",
      "\t--keep pop2\n",
      "\t--recode-INFO-all\n",
      "\t--maf 0.01\n",
      "\t--out pop2\n",
      "\t--recode\n",
      "\n",
      "Using zlib version: 1.2.11\n",
      "Warning: Expected at least 2 parts in INFO entry: ID=PR,Number=0,Type=Flag,Description=\"Provisional reference allele, may not be based on real reference genome\">\n",
      "Keeping individuals in 'keep' list\n",
      "After filtering, kept 30 out of 60 Individuals\n",
      "Outputting VCF file...\n",
      "After filtering, kept 97253 out of a possible 119202 Sites\n",
      "Run Time = 2.00 seconds\n",
      "(circos) "
     ]
    },
    {
     "ename": "",
     "evalue": "1",
     "output_type": "error",
     "traceback": []
    }
   ],
   "source": [
    "cd ~\n",
    "vcftools --keep pop1 --gzvcf out.vcf.gz --out pop1 --recode --recode-INFO-all --maf 0.01\n",
    "vcftools --keep pop2 --gzvcf out.vcf.gz --out pop2 --recode --recode-INFO-all --maf 0.01"
   ]
  },
  {
   "cell_type": "code",
   "execution_count": 32,
   "id": "8ab759f1-15bc-4c23-8ad2-d821501f173e",
   "metadata": {},
   "outputs": [
    {
     "name": "stdout",
     "output_type": "stream",
     "text": [
      "\n",
      "VCFtools - 0.1.16\n",
      "(C) Adam Auton and Anthony Marcketta 2009\n",
      "\n",
      "Parameters as interpreted:\n",
      "\t--gzvcf pop1.recode.vcf\n",
      "\t--out pop1\n",
      "\t--SNPdensity 100000\n",
      "\n",
      "Using zlib version: 1.2.11\n",
      "Warning: Expected at least 2 parts in INFO entry: ID=PR,Number=0,Type=Flag,Description=\"Provisional reference allele, may not be based on real reference genome\">\n",
      "After filtering, kept 30 out of 30 Individuals\n",
      "Outputting SNP density\n",
      "After filtering, kept 82263 out of a possible 82263 Sites\n",
      "Run Time = 0.00 seconds\n",
      "(circos) \n",
      "VCFtools - 0.1.16\n",
      "(C) Adam Auton and Anthony Marcketta 2009\n",
      "\n",
      "Parameters as interpreted:\n",
      "\t--gzvcf pop2.recode.vcf\n",
      "\t--out pop2\n",
      "\t--SNPdensity 100000\n",
      "\n",
      "Using zlib version: 1.2.11\n",
      "Warning: Expected at least 2 parts in INFO entry: ID=PR,Number=0,Type=Flag,Description=\"Provisional reference allele, may not be based on real reference genome\">\n",
      "After filtering, kept 30 out of 30 Individuals\n",
      "Outputting SNP density\n",
      "After filtering, kept 97253 out of a possible 97253 Sites\n",
      "Run Time = 1.00 seconds\n",
      "(circos) "
     ]
    },
    {
     "ename": "",
     "evalue": "1",
     "output_type": "error",
     "traceback": []
    }
   ],
   "source": [
    "vcftools --gzvcf pop1.recode.vcf --SNPdensity 100000 --out pop1\n",
    "vcftools --gzvcf pop2.recode.vcf --SNPdensity 100000 --out pop2"
   ]
  },
  {
   "cell_type": "code",
   "execution_count": 33,
   "id": "968895f3-13b3-4f77-a163-f389ccf3b62b",
   "metadata": {},
   "outputs": [
    {
     "name": "stdout",
     "output_type": "stream",
     "text": [
      "(circos) (circos) "
     ]
    },
    {
     "ename": "",
     "evalue": "1",
     "output_type": "error",
     "traceback": []
    }
   ],
   "source": [
    "awk {'print $1\" \"$2\" \"$2\" \"$3'} pop1.snpden | grep -v BIN_START >pop1.density.txt\n",
    "awk {'print $1\" \"$2\" \"$2\" \"$3'} pop2.snpden | grep -v BIN_START >pop2.density.txt"
   ]
  },
  {
   "cell_type": "markdown",
   "id": "d793ef56-3c04-4992-8781-d3cf8b227e2b",
   "metadata": {},
   "source": [
    "#### Add a new track in Circos for SNP density for the 2 populations in the same track\n",
    "\n",
    "Modify the Circos configuration file (add the type line for this)"
   ]
  },
  {
   "cell_type": "markdown",
   "id": "33227c09-e983-4c7e-b333-54107c404f13",
   "metadata": {
    "tags": []
   },
   "source": [
    "<img src=\"circos.png\" align=\"center\" width=\"70%\" style=\"display: block; margin: auto;\"/> "
   ]
  },
  {
   "cell_type": "markdown",
   "id": "7f3ab966-5dba-4641-9afe-98707f0f7631",
   "metadata": {},
   "source": [
    "#### Calculate the ratio transition/transversion (using vcftools option --TsTv)"
   ]
  }
 ],
 "metadata": {
  "kernelspec": {
   "display_name": "Bash",
   "language": "bash",
   "name": "bash"
  },
  "language_info": {
   "codemirror_mode": "shell",
   "file_extension": ".sh",
   "mimetype": "text/x-sh",
   "name": "bash"
  },
  "toc-showcode": true
 },
 "nbformat": 4,
 "nbformat_minor": 5
}
