{
 "cells": [
  {
   "cell_type": "markdown",
   "id": "d015209b-0d23-4c85-994c-79b3535c75a3",
   "metadata": {},
   "source": [
    "#### <span style=\"color:#grey\"> __Formation South Green 2022 - Structural Variants Detection by using short and long reads__ </span>\n",
    "\n",
    "# <span style=\"color:#006E7F\">  <center> __DAY 4 : How to identify large variants using whole-genome assemblies ?__ </center> </span>\n",
    "\n",
    "Created by C. Tranchant (DIADE-IRD), J. Orjuela (DIADE-IRD), F. Sabot (DIADE-IRD) and A. Dereeper (PHIM-IRD)\n",
    "\n",
    "***\n",
    "\n",
    "# <span style=\"color: #006E7F\">Table of contents</span>\n",
    "<a class=\"anchor\" id=\"home\"></a>\n",
    "\n",
    "[I - using nucmer,assemblytics](#SVassemblytics)\n",
    "\n",
    "* [Run minimap2](#minimap)\n",
    "* [Run syri](#syri)\n",
    "\n",
    "[II - using minimap2, syri](#SVsyri)\n",
    "\n",
    "* [Run minimap2](#minimap)\n",
    "* [Run syri](#syri)\n",
    "\n",
    "* Comparison\n",
    "\n",
    "</span>\n",
    "\n",
    "***\n",
    "\n"
   ]
  },
  {
   "cell_type": "markdown",
   "id": "a61499d9-a943-4628-a3c2-d622c86db2af",
   "metadata": {},
   "source": [
    "## <span style=\"color:#006E7F\">__0 - Preparing working environment__ <a class=\"anchor\" id=\"work\"></a></span>  \n",
    "\n",
    "### <span style=\"color: #4CACBC;\"> Create the working directory /work/day4-SV</span>  "
   ]
  },
  {
   "cell_type": "code",
   "execution_count": 12,
   "id": "aaf97983-70d6-4774-a4fa-cc76f7b5dd92",
   "metadata": {},
   "outputs": [],
   "source": [
    "mkdir -p /home/jovyan/work/day4-WGA-SV\n",
    "cd /home/jovyan/work/day4-WGA-SV\n",
    "ls"
   ]
  },
  {
   "cell_type": "markdown",
   "id": "e448f0aa-b72b-4376-8309-72ab7c58e907",
   "metadata": {},
   "source": [
    "### <span style=\"color: #4CACBC;\"> Download two genomes</span>  "
   ]
  },
  {
   "cell_type": "code",
   "execution_count": 13,
   "id": "fe0fdf17-568f-4073-b34b-19c98abb8458",
   "metadata": {},
   "outputs": [
    {
     "name": "stdout",
     "output_type": "stream",
     "text": [
      "--2022-06-17 12:48:25--  https://itrop.ird.fr/sv-training/Assemblies.tar.gz\n",
      "Resolving itrop.ird.fr (itrop.ird.fr)... 91.203.35.184\n",
      "Connecting to itrop.ird.fr (itrop.ird.fr)|91.203.35.184|:443... connected.\n",
      "HTTP request sent, awaiting response... 200 OK\n",
      "Length: 9150274 (8.7M) [application/x-gzip]\n",
      "Saving to: ‘Assemblies.tar.gz’\n",
      "\n",
      "Assemblies.tar.gz   100%[===================>]   8.73M  37.3MB/s    in 0.2s    \n",
      "\n",
      "2022-06-17 12:48:25 (37.3 MB/s) - ‘Assemblies.tar.gz’ saved [9150274/9150274]\n",
      "\n",
      "Assemblies/\n",
      "Assemblies/assembly-stats.txt\n",
      "Assemblies/A8_assembly.fasta\n",
      "Assemblies/5417_assembly.fasta\n"
     ]
    }
   ],
   "source": [
    "wget https://itrop.ird.fr/sv-training/Assemblies.tar.gz\n",
    "tar xvf Assemblies.tar.gz && rm Assemblies.tar.gz"
   ]
  },
  {
   "cell_type": "code",
   "execution_count": 14,
   "id": "30ab0113-1538-469a-963c-420ed1714979",
   "metadata": {},
   "outputs": [
    {
     "name": "stdout",
     "output_type": "stream",
     "text": [
      ".:\n",
      "Assemblies\n",
      "\n",
      "./Assemblies:\n",
      "5417_assembly.fasta  A8_assembly.fasta  assembly-stats.txt\n"
     ]
    }
   ],
   "source": [
    "ls -R"
   ]
  },
  {
   "cell_type": "markdown",
   "id": "c65b4b47-c99c-4673-971d-c198e15b5a5d",
   "metadata": {},
   "source": [
    "## <span style=\"color:#006E7F\">__I - Using nucmer, assemblytics__ <a class=\"anchor\" id=\"SVassemblytics\"></a></span>  \n",
    "\n",
    "### <span style=\"color: #4CACBC;\"> Initialization of two variables \"genome\"</span>  \n"
   ]
  },
  {
   "cell_type": "code",
   "execution_count": 1,
   "id": "ac73f4e0-50c7-443d-a093-beb2cfb8751a",
   "metadata": {},
   "outputs": [],
   "source": [
    "dir_genome=\"/home/jovyan/work/day4-WGA-SV/\"\n",
    "reference_assembly=$dir_genome\"Assemblies/A8_assembly.fasta\"\n",
    "query_assembly=$dir_genome\"Assemblies/5417_assembly.fasta\""
   ]
  },
  {
   "cell_type": "markdown",
   "id": "f8ff0702-daa3-4f01-9cf6-3ee6f3bbf241",
   "metadata": {},
   "source": [
    "### <span style=\"color: #4CACBC;\"> Create the working directory for SYRI analysis</span>  "
   ]
  },
  {
   "cell_type": "code",
   "execution_count": 2,
   "id": "4c68f032-e621-4b91-b3f8-1ec2882e01ec",
   "metadata": {},
   "outputs": [],
   "source": [
    "dir_SV=$dir_genome\"SYRI/\"\n",
    "mkdir -p $dir_SV\n",
    "cd $dir_SV"
   ]
  },
  {
   "cell_type": "markdown",
   "id": "76322897-1433-4230-8d2b-499823a37b01",
   "metadata": {},
   "source": [
    "### <span style=\"color: #4CACBC;\"> Aligning genomes using `Nucmer` <a class=\"anchor\" id=\"nucmer\"></a></span>  \n",
    "\n",
    "__Alignement of the two genomes__"
   ]
  },
  {
   "cell_type": "code",
   "execution_count": 42,
   "id": "bac7fd8e-c4f9-4c6c-a156-d3e94934e485",
   "metadata": {},
   "outputs": [
    {
     "name": "stdout",
     "output_type": "stream",
     "text": [
      "1: PREPARING DATA\n",
      "2,3: RUNNING mummer AND CREATING CLUSTERS\n",
      "# reading input file \"out.ntref\" of length 15306200\n",
      "# construct suffix tree for sequence of length 15306200\n",
      "# (maximum reference length is 2305843009213693948)\n",
      "# (maximum query length is 18446744073709551615)\n",
      "# process 153062 characters per dot\n",
      "#...................................................................................................\n",
      "# CONSTRUCTIONTIME /opt/conda/opt/mummer-3.23/mummer out.ntref 12.36\n",
      "# reading input file \"/home/jovyan/work/day4-WGA-SV/Assemblies/5417_assembly.fasta\" of length 15276944\n",
      "# matching query-file \"/home/jovyan/work/day4-WGA-SV/Assemblies/5417_assembly.fasta\"\n",
      "# against subject-file \"out.ntref\"\n",
      "# COMPLETETIME /opt/conda/opt/mummer-3.23/mummer out.ntref 48.16\n",
      "# SPACE /opt/conda/opt/mummer-3.23/mummer out.ntref 29.56\n",
      "4: FINISHING DATA\n"
     ]
    }
   ],
   "source": [
    "nucmer --maxmatch $reference_assembly $query_assembly"
   ]
  },
  {
   "cell_type": "code",
   "execution_count": 43,
   "id": "ee2ba7af-8b94-4df3-8412-928d6b421234",
   "metadata": {},
   "outputs": [
    {
     "name": "stdout",
     "output_type": "stream",
     "text": [
      "total 1788\n",
      "-rw-r--r-- 1 jovyan users 1829452 Jun 17 13:08 out.delta\n"
     ]
    }
   ],
   "source": [
    "ls -lrt"
   ]
  },
  {
   "cell_type": "markdown",
   "id": "7e004fdf-f6a8-4512-b86c-cc74ed85705b",
   "metadata": {},
   "source": [
    "__Filtering nucmer results__\n",
    "\n",
    "Remove small and lower quality alignments\n"
   ]
  },
  {
   "cell_type": "code",
   "execution_count": 44,
   "id": "11b64fb3-6ead-4c47-85e6-6a5fa4049924",
   "metadata": {},
   "outputs": [],
   "source": [
    "delta-filter -m -i 90 -l 100 out.delta > out.filtered.delta"
   ]
  },
  {
   "cell_type": "code",
   "execution_count": 48,
   "id": "467c1f2e-62d3-477b-b549-6de9c0f46619",
   "metadata": {},
   "outputs": [
    {
     "name": "stdout",
     "output_type": "stream",
     "text": [
      "total 2540\n",
      "-rw-r--r-- 1 jovyan users 1829452 Jun 17 13:08 out.delta\n",
      "-rw-r--r-- 1 jovyan users  667061 Jun 17 13:08 out.filtered.delta\n",
      "-rw-r--r-- 1 jovyan users  100931 Jun 17 13:08 out.filtered.coords\n"
     ]
    }
   ],
   "source": [
    "ls -lrt"
   ]
  },
  {
   "cell_type": "code",
   "execution_count": 45,
   "id": "f9eb2b0f-f716-413e-ae14-76e70541e011",
   "metadata": {},
   "outputs": [],
   "source": [
    "show-coords -THrd out.filtered.delta > out.filtered.coords"
   ]
  },
  {
   "cell_type": "code",
   "execution_count": 49,
   "id": "f34fceb2-a76e-41be-8a69-cf59e97564aa",
   "metadata": {},
   "outputs": [
    {
     "name": "stdout",
     "output_type": "stream",
     "text": [
      "total 2540\n",
      "-rw-r--r-- 1 jovyan users 1829452 Jun 17 13:08 out.delta\n",
      "-rw-r--r-- 1 jovyan users  667061 Jun 17 13:08 out.filtered.delta\n",
      "-rw-r--r-- 1 jovyan users  100931 Jun 17 13:08 out.filtered.coords\n"
     ]
    }
   ],
   "source": [
    "ls -lrt"
   ]
  },
  {
   "cell_type": "markdown",
   "id": "0c84c259-cdc7-422e-9c7f-cc09838418c9",
   "metadata": {},
   "source": [
    "### <span style=\"color: #4CACBC;\"> SV calling using syri <a class=\"anchor\" id=\"siri\"></a></span>  "
   ]
  },
  {
   "cell_type": "code",
   "execution_count": 4,
   "id": "fda3a8b2-7768-4775-bbff-ba67b551d5ea",
   "metadata": {},
   "outputs": [
    {
     "name": "stdout",
     "output_type": "stream",
     "text": [
      "Finished syri\n"
     ]
    }
   ],
   "source": [
    "syri -c out.filtered.coords -d out.filtered.delta -r $reference_assembly -q $query_assembly"
   ]
  },
  {
   "cell_type": "code",
   "execution_count": 14,
   "id": "a3f88d52-7edc-4d2c-a652-9ce1ac5531b9",
   "metadata": {},
   "outputs": [
    {
     "name": "stdout",
     "output_type": "stream",
     "text": [
      "out.delta            plotsr.pdf      syri.log      syri.vcf\n",
      "out.filtered.coords  plotsr_pos.txt  syri.out      tracks.txt\n",
      "out.filtered.delta   SNPs.bed        syri.summary\n"
     ]
    }
   ],
   "source": [
    "ls"
   ]
  },
  {
   "cell_type": "code",
   "execution_count": 15,
   "id": "0fdcb7c6-d698-482c-b2a1-6d8f5f2b60e2",
   "metadata": {},
   "outputs": [
    {
     "name": "stdout",
     "output_type": "stream",
     "text": [
      "#Structural annotations\n",
      "#Variation_type\tCount\tLength_ref\tLength_qry\n",
      "Syntenic regions\t197\t14079055\t14107736\n",
      "Inversions\t32\t397553\t259052\n",
      "Translocations\t93\t91312\t90081\n",
      "Duplications (reference)\t152\t79812\t-\n",
      "Duplications (query)\t161\t-\t83493\n",
      "Not aligned (reference)\t372\t667759\t-\n",
      "Not aligned (query)\t413\t-\t738403\n",
      "\n",
      "\n",
      "#Sequence annotations\n",
      "#Variation_type\tCount\tLength_ref\tLength_qry\n",
      "SNPs\t239492\t239492\t239492\n",
      "Insertions\t31092\t-\t114022\n",
      "Deletions\t38036\t119894\t-\n",
      "Copygains\t32\t-\t13466\n",
      "Copylosses\t28\t17778\t-\n",
      "Highly diverged\t707\t487347\t383289\n",
      "Tandem repeats\t23\t8965\t10360\n"
     ]
    }
   ],
   "source": [
    "cat syri.summary"
   ]
  },
  {
   "cell_type": "code",
   "execution_count": 17,
   "id": "6de3d0f9-2198-4c0f-b813-6b4d3e41ab3c",
   "metadata": {},
   "outputs": [
    {
     "name": "stdout",
     "output_type": "stream",
     "text": [
      "##fileformat=VCFv4.3\n",
      "##fileDate=20220617\n",
      "##source=syri\n",
      "##ALT=<ID=SYN,Description=\"Syntenic region\">\n",
      "##ALT=<ID=INV,Description=\"Inversion\">\n",
      "##ALT=<ID=TRANS,Description=\"Translocation\">\n",
      "##ALT=<ID=INVTR,Description=\"Inverted Translocation\">\n",
      "##ALT=<ID=DUP,Description=\"Duplication\">\n",
      "##ALT=<ID=INVDP,Description=\"Inverted Duplication\">\n",
      "##ALT=<ID=SYNAL,Description=\"Syntenic alignment\">\n"
     ]
    }
   ],
   "source": [
    "head syri.vcf"
   ]
  },
  {
   "cell_type": "markdown",
   "id": "b6825e0b-9260-4fe7-be3e-c410f7fd92ba",
   "metadata": {},
   "source": [
    "### <span style=\"color: #4CACBC;\"> Extracting all SNP from syri  <a class=\"anchor\" id=\"siri\"></a></span>  "
   ]
  },
  {
   "cell_type": "code",
   "execution_count": 7,
   "id": "e3ecf3d7-a4b2-4d7b-85fa-a32b0ee60ede",
   "metadata": {},
   "outputs": [],
   "source": [
    "cat syri.out | grep SNP | cut -f 1,2 > a\n",
    "cat syri.out | grep SNP | cut -f 4,5 > b\n",
    "cat syri.out | grep SNP | cut -f 3 > c\n",
    "awk '{ print $1+1 }' c > d\n",
    "paste a d c > SNPs.bed\n",
    "rm a b c d\n"
   ]
  },
  {
   "cell_type": "code",
   "execution_count": 8,
   "id": "9ae51f46-f320-43ba-a20b-81f93d569c2d",
   "metadata": {},
   "outputs": [],
   "source": [
    "echo -e $reference_assembly'\\t ref' >> plotsr_pos.txt\n",
    "echo -e $query_assembly'\\t query' >> plotsr_pos.txt\n"
   ]
  },
  {
   "cell_type": "code",
   "execution_count": 13,
   "id": "96ffd3a6-6bf7-41da-a78c-84219fe96878",
   "metadata": {},
   "outputs": [
    {
     "name": "stdout",
     "output_type": "stream",
     "text": [
      "Plotsr - WARNING - Plot plotsr.pdf generated.\n",
      "Finished\n"
     ]
    }
   ],
   "source": [
    "plotsr --sr syri.out --genomes plotsr_pos.txt -s 500 -o plotsr.pdf -H 8 -W 5"
   ]
  },
  {
   "cell_type": "code",
   "execution_count": null,
   "id": "56158f66-bc6d-4919-8ca8-7dd726473eb6",
   "metadata": {},
   "outputs": [],
   "source": []
  },
  {
   "cell_type": "code",
   "execution_count": null,
   "id": "f81e3493-204c-4678-8048-beebfe7cd27b",
   "metadata": {},
   "outputs": [],
   "source": []
  },
  {
   "cell_type": "code",
   "execution_count": null,
   "id": "9f148408-e46c-435f-b86b-443468e902c1",
   "metadata": {},
   "outputs": [],
   "source": []
  }
 ],
 "metadata": {
  "kernelspec": {
   "display_name": "Bash",
   "language": "bash",
   "name": "bash"
  },
  "language_info": {
   "codemirror_mode": "shell",
   "file_extension": ".sh",
   "mimetype": "text/x-sh",
   "name": "bash"
  }
 },
 "nbformat": 4,
 "nbformat_minor": 5
}
